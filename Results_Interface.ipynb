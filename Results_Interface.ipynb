{
  "nbformat": 4,
  "nbformat_minor": 0,
  "metadata": {
    "colab": {
      "name": "Results Interface.ipynb",
      "provenance": [],
      "collapsed_sections": [
        "9yoKGNZp96ow",
        "d8p_qkug8dG9",
        "u31zujkJFVO3",
        "N1hUNc27nWbD",
        "dRzlQVCknF2V",
        "X3pw_mB4nLUV",
        "uSvNJBp6FiMN",
        "DS5V7eqrIUDL",
        "_RfQUy5LIffe",
        "y6BB2a7eIffe",
        "usgKYkdj5To7",
        "LMaTexHVJ_a8",
        "VpjgiSXN77p-",
        "mnCgZvIC9FHu",
        "uAsLP9Tw99PN",
        "ZA_heqmEKDuO",
        "9quxwE8oKDuR",
        "alPxwniCKDuT",
        "MdduPh73LpzR",
        "1zF2qdkhA61h",
        "9Sado7zGA61j",
        "YeeZLF1AA61k",
        "7Ux9JcnKLu-C",
        "nMPthbufNv62",
        "LIfKNBu8L18F",
        "vQPslHoQL18H",
        "RyLx9_rbL18I",
        "j7FzLcftN1Db",
        "4BUsuVAbOu7y",
        "QqDer30QQoTl",
        "geSm0X4qQoTm",
        "oqqv6DwuQoTn",
        "zaeMlodZTi2P",
        "KCZhm166Ti2X",
        "hS_0-o-cTi2Y",
        "HdmK9W1MTi2Z",
        "KwJnOI_bRvPi"
      ],
      "toc_visible": true,
      "authorship_tag": "ABX9TyOGe1/eNBUpfunYOvQAr/oy",
      "include_colab_link": true
    },
    "kernelspec": {
      "name": "python3",
      "display_name": "Python 3"
    },
    "language_info": {
      "name": "python"
    }
  },
  "cells": [
    {
      "cell_type": "markdown",
      "metadata": {
        "id": "view-in-github",
        "colab_type": "text"
      },
      "source": [
        "<a href=\"https://colab.research.google.com/github/EIanovski/WelfareManipulation/blob/master/Results_Interface.ipynb\" target=\"_parent\"><img src=\"https://colab.research.google.com/assets/colab-badge.svg\" alt=\"Open In Colab\"/></a>"
      ]
    },
    {
      "cell_type": "code",
      "source": [
        "#Run if the data is stored on Google Drive.\n",
        "\n",
        "from google.colab import drive\n",
        "drive.mount('/content/drive')"
      ],
      "metadata": {
        "id": "brqcAzt8lZTd"
      },
      "execution_count": null,
      "outputs": []
    },
    {
      "cell_type": "code",
      "metadata": {
        "id": "uJLpqiV1aj8t"
      },
      "source": [
        "import pylab as plt\n",
        "import numpy as np\n",
        "\n",
        "#Point to where you keep the data\n",
        "path_to_data = '/content/drive/MyDrive/results/'\n",
        "\n",
        "rule_colours = {\n",
        "    \"Nash\" : \"aquamarine\",\n",
        "    \"Geometric0p5\" : \"midnightblue\",\n",
        "    \"Geometric0p65\" : \"blue\",\n",
        "    \"Geometric0p8\" : \"royalblue\",\n",
        "    \"5Borda\" : \"palegreen\",\n",
        "    \"QuarterBorda\" : \"lawngreen\",\n",
        "    \"HalfBorda\" : \"darkolivegreen\",\n",
        "    \"Borda\" : \"darkgreen\",\n",
        "    \"Geometric1p2\" : \"gold\",\n",
        "    \"Geometric1p5\" : \"orange\",\n",
        "    \"Geometric2\" : \"orangered\",\n",
        "    \"Plurality\" : \"indianred\",\n",
        "    \"5Approval\" : \"crimson\",\n",
        "    \"QuarterApproval\" : \"darkmagenta\",\n",
        "    \"HalfApproval\" : \"maroon\",\n",
        "}\n",
        "\n",
        "def rule_name_and_strategy(rule):\n",
        "  if rule.endswith(\"Sincere\"):\n",
        "    return rule[:-7], \"Sincere\"\n",
        "  else:\n",
        "    return rule[:-5], \"Manip\"\n",
        "\n",
        "def read_from_file(file_name):\n",
        "  axis = []\n",
        "  data = []\n",
        "  f = open(file_name)\n",
        "  for line in f:\n",
        "    tokens = line.split(\" \")\n",
        "    axis.append(int(tokens[0]))\n",
        "    data.append(float(tokens[1]))\n",
        "  return axis, data\n",
        "\n",
        "def form_file_suffix(iterations, fixed_axis, no_fix, culture, utility):\n",
        "  return \"_iterations=\"+str(iterations)+\"_\"+fixed_axis+\"=\"+str(no_fix)+\"_\"+culture+\"_\"+utility+\"_utility\"\n",
        "\n",
        "def visualise(scenario, rules, title, truncate_bottom = False, truncate_top = False):\n",
        "  fig = plt.figure(figsize=(15,10))\n",
        "  ax = fig.add_subplot(1,1,1)\n",
        "\n",
        "  for rule in rules:\n",
        "    file_name = rule + scenario\n",
        "    file_name = path_to_data + file_name\n",
        "    axis, data = read_from_file(file_name)\n",
        "    if truncate_top:\n",
        "      axis = axis[:truncate_top]\n",
        "      data = data[:truncate_top]\n",
        "    if truncate_bottom:\n",
        "      axis = axis[truncate_bottom:]\n",
        "      data = data[truncate_bottom:]\n",
        "    name, strat = rule_name_and_strategy(rule)\n",
        "\n",
        "    ax.plot(axis, data, color = rule_colours[name], linestyle = \"-\" if strat == \"Manip\" else \"--\", label=rule, linewidth=2)\n",
        "  ax.legend()\n",
        "  minor_ticks = np.arange(axis[0], axis[-1], 5)\n",
        "  ax.set_xticks(minor_ticks)\n",
        "  ax.grid(which='both')\n",
        "  ax.set_title(title)\n",
        "\n",
        "\n"
      ],
      "execution_count": null,
      "outputs": []
    },
    {
      "cell_type": "markdown",
      "source": [
        "# IC"
      ],
      "metadata": {
        "id": "d8p_qkug8dG9"
      }
    },
    {
      "cell_type": "markdown",
      "source": [
        "## Fixed n"
      ],
      "metadata": {
        "id": "u31zujkJFVO3"
      }
    },
    {
      "cell_type": "markdown",
      "source": [
        "### IC Borda"
      ],
      "metadata": {
        "id": "N1hUNc27nWbD"
      }
    },
    {
      "cell_type": "code",
      "source": [
        "current_scenario = form_file_suffix(10**4, \"Voters\", 10, \"IC\", \"Borda\")\n",
        "desired_rules = [\n",
        "                 \"Geometric0p8Sincere\",\n",
        "                 \"Geometric0p8Manip\",\n",
        "                 \"Geometric0p5Sincere\",\n",
        "                 \"Geometric0p5Manip\",\n",
        "                 \"Geometric0p65Sincere\",\n",
        "                 \"Geometric0p65Manip\",\n",
        "                 \"BordaSincere\",\n",
        "                 \"BordaManip\",\n",
        "                 \"NashSincere\",\n",
        "                 \"NashManip\",\n",
        "                 ]\n",
        "\n",
        "visualise(current_scenario, desired_rules, 'Borda utility, concave rules, IC, n = 10')"
      ],
      "metadata": {
        "id": "hURLHnbBh-_1"
      },
      "execution_count": null,
      "outputs": []
    },
    {
      "cell_type": "code",
      "source": [
        "current_scenario = form_file_suffix(10**4, \"Voters\", 10, \"IC\", \"Borda\")\n",
        "desired_rules = [\"Geometric1p2Sincere\",\n",
        "                 \"Geometric1p2Manip\",\n",
        "                 \"PluralitySincere\",\n",
        "                 \"PluralityManip\",\n",
        "                 \"Geometric1p5Sincere\",\n",
        "                 \"Geometric1p5Manip\",\n",
        "                 \"Geometric2Sincere\",\n",
        "                 \"Geometric2Manip\",\n",
        "                 \"BordaSincere\",\n",
        "                 \"BordaManip\",]\n",
        "\n",
        "visualise(current_scenario, desired_rules, 'Borda utility, convex rules , IC, n = 10')"
      ],
      "metadata": {
        "id": "JZj_KQAI3lwF"
      },
      "execution_count": null,
      "outputs": []
    },
    {
      "cell_type": "code",
      "source": [
        "current_scenario = form_file_suffix(10**4, \"Voters\", 10, \"IC\", \"Borda\")\n",
        "desired_rules = [\"5ApprovalSincere\",\n",
        "                 \"5ApprovalManip\",\n",
        "                 \"PluralitySincere\",\n",
        "                 \"PluralityManip\",\n",
        "                 \"HalfApprovalSincere\",\n",
        "                 \"HalfApprovalManip\",\n",
        "                 \"QuarterApprovalSincere\",\n",
        "                 \"QuarterApprovalManip\"]\n",
        "visualise(current_scenario, desired_rules, 'Borda utility, approval family, IC, n = 10')"
      ],
      "metadata": {
        "id": "Ni7Pid8lkEFH"
      },
      "execution_count": null,
      "outputs": []
    },
    {
      "cell_type": "code",
      "source": [
        "current_scenario = form_file_suffix(10**4, \"Voters\", 10, \"IC\", \"Borda\")\n",
        "desired_rules = [\"5BordaSincere\",\n",
        "                 \"5BordaManip\",\n",
        "                 \"BordaSincere\",\n",
        "                 \"BordaManip\",\n",
        "                 \"PluralitySincere\",\n",
        "                 \"PluralityManip\",\n",
        "                 \"HalfBordaSincere\",\n",
        "                 \"HalfBordaManip\",\n",
        "                 \"QuarterBordaSincere\",\n",
        "                 \"QuarterBordaManip\",\n",
        "                 ]\n",
        "visualise(current_scenario, desired_rules, 'Borda utility, Borda family, IC, n = 10')"
      ],
      "metadata": {
        "id": "WcBOW-oc_WpD"
      },
      "execution_count": null,
      "outputs": []
    },
    {
      "cell_type": "code",
      "source": [
        "current_scenario = form_file_suffix(10**4, \"Voters\", 10, \"IC\", \"Borda\")\n",
        "desired_rules = [\"Geometric1p2Sincere\",\n",
        "                 \"Geometric1p2Manip\",\n",
        "                 \"PluralitySincere\",\n",
        "                 \"PluralityManip\",\n",
        "                 \"HalfApprovalSincere\",\n",
        "                 \"HalfApprovalManip\",\n",
        "                 \"HalfBordaSincere\",\n",
        "                 \"HalfBordaManip\",\n",
        "                 \"Geometric0p8Sincere\",\n",
        "                 \"Geometric0p8Manip\"]\n",
        "\n",
        "visualise(current_scenario, desired_rules, 'Borda utility, interesting rules, IC, n = 10')"
      ],
      "metadata": {
        "id": "MSKQlvMQmLBB"
      },
      "execution_count": null,
      "outputs": []
    },
    {
      "cell_type": "markdown",
      "source": [
        "### IC Rawls"
      ],
      "metadata": {
        "id": "dRzlQVCknF2V"
      }
    },
    {
      "cell_type": "code",
      "source": [
        "current_scenario = form_file_suffix(10**4, \"Voters\", 10, \"IC\", \"Rawls\")\n",
        "desired_rules = [\n",
        "                 \"Geometric0p8Sincere\",\n",
        "                 \"Geometric0p8Manip\",\n",
        "                 \"Geometric0p5Sincere\",\n",
        "                 \"Geometric0p5Manip\",\n",
        "                 \"Geometric0p65Sincere\",\n",
        "                 \"Geometric0p65Manip\",\n",
        "                 \"BordaSincere\",\n",
        "                 \"BordaManip\",\n",
        "                 \"NashSincere\",\n",
        "                 \"NashManip\",]\n",
        "\n",
        "visualise(current_scenario, desired_rules, 'Rawls utility, concave rules, IC, n = 10')"
      ],
      "metadata": {
        "id": "3IYof2UflDNb"
      },
      "execution_count": null,
      "outputs": []
    },
    {
      "cell_type": "code",
      "source": [
        "current_scenario = form_file_suffix(10**4, \"Voters\", 10, \"IC\", \"Rawls\")\n",
        "desired_rules = [\"Geometric1p2Sincere\",\n",
        "                 \"Geometric1p2Manip\",\n",
        "                 \"PluralitySincere\",\n",
        "                 \"PluralityManip\",\n",
        "                 \"Geometric1p5Sincere\",\n",
        "                 \"Geometric1p5Manip\",\n",
        "                 \"Geometric2Sincere\",\n",
        "                 \"Geometric2Manip\",\n",
        "                 \"BordaSincere\",\n",
        "                 \"BordaManip\",]\n",
        "\n",
        "visualise(current_scenario, desired_rules, 'Rawls utility, convex rules , IC, n = 10')"
      ],
      "metadata": {
        "id": "iDADZNArnCOL"
      },
      "execution_count": null,
      "outputs": []
    },
    {
      "cell_type": "code",
      "source": [
        "current_scenario = form_file_suffix(10**4, \"Voters\", 10, \"IC\", \"Rawls\")\n",
        "desired_rules = [\"5ApprovalSincere\",\n",
        "                 \"5ApprovalManip\",\n",
        "                 \"PluralitySincere\",\n",
        "                 \"PluralityManip\",\n",
        "                 \"HalfApprovalSincere\",\n",
        "                 \"HalfApprovalManip\",\n",
        "                 \"QuarterApprovalSincere\",\n",
        "                 \"QuarterApprovalManip\"]\n",
        "visualise(current_scenario, desired_rules, 'Rawls utility, approval family, IC, n = 10')"
      ],
      "metadata": {
        "id": "hZ57C_k7_3RQ"
      },
      "execution_count": null,
      "outputs": []
    },
    {
      "cell_type": "code",
      "source": [
        "current_scenario = form_file_suffix(10**4, \"Voters\", 10, \"IC\", \"Rawls\")\n",
        "desired_rules = [\"5BordaSincere\",\n",
        "                 \"5BordaManip\",\n",
        "                 \"BordaSincere\",\n",
        "                 \"BordaManip\",\n",
        "                 \"PluralitySincere\",\n",
        "                 \"PluralityManip\",\n",
        "                 \"HalfBordaSincere\",\n",
        "                 \"HalfBordaManip\",\n",
        "                 \"QuarterBordaSincere\",\n",
        "                 \"QuarterBordaManip\",\n",
        "                 ]\n",
        "visualise(current_scenario, desired_rules, 'Rawls utility, Borda family, IC, n = 10')"
      ],
      "metadata": {
        "id": "K7pCVJG5_6fD"
      },
      "execution_count": null,
      "outputs": []
    },
    {
      "cell_type": "code",
      "source": [
        "current_scenario = form_file_suffix(10**4, \"Voters\", 10, \"IC\", \"Rawls\")\n",
        "desired_rules = [\"Geometric1p2Sincere\",\n",
        "                 \"Geometric1p2Manip\",\n",
        "                 \"Geometric0p5Sincere\",\n",
        "                 \"Geometric0p5Manip\",\n",
        "                 \"BordaSincere\",\n",
        "                 \"BordaManip\",\n",
        "                 \"HalfApprovalSincere\",\n",
        "                 \"HalfApprovalManip\",\n",
        "                 \"PluralitySincere\",\n",
        "                 \"PluralityManip\",]\n",
        "visualise(current_scenario, desired_rules, 'Rawls utility, interesting rules, IC, n = 10')"
      ],
      "metadata": {
        "id": "7OnY7Opsnq7g"
      },
      "execution_count": null,
      "outputs": []
    },
    {
      "cell_type": "markdown",
      "source": [
        "### IC Nash"
      ],
      "metadata": {
        "id": "X3pw_mB4nLUV"
      }
    },
    {
      "cell_type": "code",
      "source": [
        "current_scenario = form_file_suffix(10**4, \"Voters\", 10, \"IC\", \"Nash\")\n",
        "desired_rules = [\n",
        "                 \"Geometric0p8Sincere\",\n",
        "                 \"Geometric0p8Manip\",\n",
        "                 \"Geometric0p5Sincere\",\n",
        "                 \"Geometric0p5Manip\",\n",
        "                 \"Geometric0p65Sincere\",\n",
        "                 \"Geometric0p65Manip\",\n",
        "                 \"BordaSincere\",\n",
        "                 \"BordaManip\",\n",
        "                 \"NashSincere\",\n",
        "                 \"NashManip\",]\n",
        "\n",
        "visualise(current_scenario, desired_rules, 'Nash utility, concave rules, IC, n = 10')"
      ],
      "metadata": {
        "id": "jFiZtabkob0x"
      },
      "execution_count": null,
      "outputs": []
    },
    {
      "cell_type": "code",
      "source": [
        "current_scenario = form_file_suffix(10**4, \"Voters\", 10, \"IC\", \"Nash\")\n",
        "desired_rules = [\"Geometric1p2Sincere\",\n",
        "                 \"Geometric1p2Manip\",\n",
        "                 \"PluralitySincere\",\n",
        "                 \"PluralityManip\",\n",
        "                 \"Geometric1p5Sincere\",\n",
        "                 \"Geometric1p5Manip\",\n",
        "                 \"Geometric2Sincere\",\n",
        "                 \"Geometric2Manip\",\n",
        "                 \"BordaSincere\",\n",
        "                 \"BordaManip\",]\n",
        "\n",
        "visualise(current_scenario, desired_rules, 'Nash utility, convex rules , IC, n = 10')"
      ],
      "metadata": {
        "id": "NdQCvBbQomAD"
      },
      "execution_count": null,
      "outputs": []
    },
    {
      "cell_type": "code",
      "source": [
        "current_scenario = form_file_suffix(10**4, \"Voters\", 10, \"IC\", \"Nash\")\n",
        "desired_rules = [\"5ApprovalSincere\",\n",
        "                 \"5ApprovalManip\",\n",
        "                 \"PluralitySincere\",\n",
        "                 \"PluralityManip\",\n",
        "                 \"HalfApprovalSincere\",\n",
        "                 \"HalfApprovalManip\",\n",
        "                 \"QuarterApprovalSincere\",\n",
        "                 \"QuarterApprovalManip\"]\n",
        "visualise(current_scenario, desired_rules, 'Nash utility, approval family, IC, n = 10')"
      ],
      "metadata": {
        "id": "x1GN3kDNBVZ5"
      },
      "execution_count": null,
      "outputs": []
    },
    {
      "cell_type": "code",
      "source": [
        "current_scenario = form_file_suffix(10**4, \"Voters\", 10, \"IC\", \"Nash\")\n",
        "desired_rules = [\"5BordaSincere\",\n",
        "                 \"5BordaManip\",\n",
        "                 \"BordaSincere\",\n",
        "                 \"BordaManip\",\n",
        "                 \"PluralitySincere\",\n",
        "                 \"PluralityManip\",\n",
        "                 \"HalfBordaSincere\",\n",
        "                 \"HalfBordaManip\",\n",
        "                 \"QuarterBordaSincere\",\n",
        "                 \"QuarterBordaManip\",\n",
        "                 ]\n",
        "visualise(current_scenario, desired_rules, 'Nash utility, Borda family, IC, n = 10')"
      ],
      "metadata": {
        "id": "HyEgMZ75BZP1"
      },
      "execution_count": null,
      "outputs": []
    },
    {
      "cell_type": "code",
      "source": [
        "current_scenario = form_file_suffix(10**4, \"Voters\", 10, \"IC\", \"Nash\")\n",
        "desired_rules = [\"NashSincere\",\n",
        "                 \"NashManip\",\n",
        "                 \"Geometric1p2Sincere\",\n",
        "                 \"Geometric1p2Manip\",\n",
        "                 \"BordaSincere\",\n",
        "                 \"BordaManip\",\n",
        "                 \"HalfApprovalSincere\",\n",
        "                 \"HalfApprovalManip\",\n",
        "                 \"PluralitySincere\",\n",
        "                 \"PluralityManip\",]\n",
        "visualise(current_scenario, desired_rules, 'Nash utility, interesting rules, IC, n = 10')"
      ],
      "metadata": {
        "id": "IY7QnMvLpRva"
      },
      "execution_count": null,
      "outputs": []
    },
    {
      "cell_type": "markdown",
      "source": [
        "## Fixed m"
      ],
      "metadata": {
        "id": "uSvNJBp6FiMN"
      }
    },
    {
      "cell_type": "markdown",
      "source": [
        "### IC Borda"
      ],
      "metadata": {
        "id": "BzKZEoqAFiMO"
      }
    },
    {
      "cell_type": "code",
      "source": [
        "current_scenario = form_file_suffix(10**4, \"Candidates\", 10, \"IC\", \"Borda\")\n",
        "desired_rules = [\n",
        "                 \"Geometric0p8Sincere\",\n",
        "                 \"Geometric0p8Manip\",\n",
        "                 \"Geometric0p5Sincere\",\n",
        "                 \"Geometric0p5Manip\",\n",
        "                 \"Geometric0p65Sincere\",\n",
        "                 \"Geometric0p65Manip\",\n",
        "                 \"BordaSincere\",\n",
        "                 \"BordaManip\",\n",
        "                 \"NashSincere\",\n",
        "                 \"NashManip\",]\n",
        "\n",
        "visualise(current_scenario, desired_rules, 'Borda utility, concave rules, IC, m = 10', truncate_top=20)"
      ],
      "metadata": {
        "id": "rfUcFpytFiMP"
      },
      "execution_count": null,
      "outputs": []
    },
    {
      "cell_type": "code",
      "source": [
        "current_scenario = form_file_suffix(10**4, \"Candidates\", 10, \"IC\", \"Borda\")\n",
        "desired_rules = [\"Geometric1p2Sincere\",\n",
        "                 \"Geometric1p2Manip\",\n",
        "                 \"PluralitySincere\",\n",
        "                 \"PluralityManip\",\n",
        "                 \"Geometric1p5Sincere\",\n",
        "                 \"Geometric1p5Manip\",\n",
        "                 \"Geometric2Sincere\",\n",
        "                 \"Geometric2Manip\",\n",
        "                 \"BordaSincere\",\n",
        "                 \"BordaManip\",]\n",
        "\n",
        "visualise(current_scenario, desired_rules, 'Borda utility, convex rules , IC, m = 10', truncate_top=20)"
      ],
      "metadata": {
        "id": "JSbHanm2FiMP"
      },
      "execution_count": null,
      "outputs": []
    },
    {
      "cell_type": "code",
      "source": [
        "current_scenario = form_file_suffix(10**4, \"Candidates\", 10, \"IC\", \"Borda\")\n",
        "desired_rules = [\"5ApprovalSincere\",\n",
        "                 \"5ApprovalManip\",\n",
        "                 \"5BordaSincere\",\n",
        "                 \"5BordaManip\",\n",
        "                 \"BordaSincere\",\n",
        "                 \"BordaManip\",\n",
        "                 \"PluralitySincere\",\n",
        "                 \"PluralityManip\",]\n",
        "visualise(current_scenario, desired_rules, 'Borda utility, abdriged rules, IC, m = 10', truncate_top=20)"
      ],
      "metadata": {
        "id": "T9eY-zPBFiMQ"
      },
      "execution_count": null,
      "outputs": []
    },
    {
      "cell_type": "code",
      "source": [
        "current_scenario = form_file_suffix(10**4, \"Candidates\", 10, \"IC\", \"Borda\")\n",
        "desired_rules = [\"Geometric1p2Sincere\",\n",
        "                 \"Geometric1p2Manip\",\n",
        "                 \"PluralitySincere\",\n",
        "                 \"PluralityManip\",\n",
        "                 \"Geometric0p8Sincere\",\n",
        "                 \"Geometric0p8Manip\",\n",
        "                 \"BordaSincere\",\n",
        "                 \"BordaManip\",]\n",
        "\n",
        "visualise(current_scenario, desired_rules, 'Borda utility, interesting rules, IC, m = 10', truncate_top=20)"
      ],
      "metadata": {
        "id": "UGQLpqn_FiMQ"
      },
      "execution_count": null,
      "outputs": []
    },
    {
      "cell_type": "markdown",
      "source": [
        "### IC Rawls"
      ],
      "metadata": {
        "id": "6vEq2IyjFiMR"
      }
    },
    {
      "cell_type": "code",
      "source": [
        "current_scenario = form_file_suffix(10**4, \"Candidates\", 10, \"IC\", \"Rawls\")\n",
        "desired_rules = [\n",
        "                 \"Geometric0p8Sincere\",\n",
        "                 \"Geometric0p8Manip\",\n",
        "                 \"Geometric0p5Sincere\",\n",
        "                 \"Geometric0p5Manip\",\n",
        "                 \"Geometric0p65Sincere\",\n",
        "                 \"Geometric0p65Manip\",\n",
        "                 \"BordaSincere\",\n",
        "                 \"BordaManip\",\n",
        "                 \"NashSincere\",\n",
        "                 \"NashManip\",]\n",
        "\n",
        "visualise(current_scenario, desired_rules, 'Rawls utility, concave rules, IC, m = 10', truncate_top=20)"
      ],
      "metadata": {
        "id": "77JgI8-3FiMR"
      },
      "execution_count": null,
      "outputs": []
    },
    {
      "cell_type": "code",
      "source": [
        "current_scenario = form_file_suffix(10**4, \"Candidates\", 10, \"IC\", \"Rawls\")\n",
        "desired_rules = [\"Geometric1p2Sincere\",\n",
        "                 \"Geometric1p2Manip\",\n",
        "                 \"PluralitySincere\",\n",
        "                 \"PluralityManip\",\n",
        "                 \"Geometric1p5Sincere\",\n",
        "                 \"Geometric1p5Manip\",\n",
        "                 \"Geometric2Sincere\",\n",
        "                 \"Geometric2Manip\",\n",
        "                 \"BordaSincere\",\n",
        "                 \"BordaManip\",]\n",
        "\n",
        "visualise(current_scenario, desired_rules, 'Rawls utility, convex rules , IC, m = 10', truncate_top=20)"
      ],
      "metadata": {
        "id": "eIAR8rbdFiMR"
      },
      "execution_count": null,
      "outputs": []
    },
    {
      "cell_type": "code",
      "source": [
        "current_scenario = form_file_suffix(10**4, \"Candidates\", 10, \"IC\", \"Rawls\")\n",
        "desired_rules = [\"5ApprovalSincere\",\n",
        "                 \"5ApprovalManip\",\n",
        "                 \"5BordaSincere\",\n",
        "                 \"5BordaManip\",\n",
        "                 \"BordaSincere\",\n",
        "                 \"BordaManip\",\n",
        "                 \"PluralitySincere\",\n",
        "                 \"PluralityManip\",]\n",
        "visualise(current_scenario, desired_rules, 'Rawls utility, abdriged rules, IC, m = 10', truncate_top=20)"
      ],
      "metadata": {
        "id": "8-Kmf2tgFiMR"
      },
      "execution_count": null,
      "outputs": []
    },
    {
      "cell_type": "code",
      "source": [
        "current_scenario = form_file_suffix(10**4, \"Candidates\", 10, \"IC\", \"Rawls\")\n",
        "desired_rules = [\"Geometric1p2Sincere\",\n",
        "                 \"Geometric1p2Manip\",\n",
        "                 \"Geometric0p5Sincere\",\n",
        "                 \"Geometric0p5Manip\",\n",
        "                 \"BordaSincere\",\n",
        "                 \"BordaManip\",\n",
        "                 \"PluralitySincere\",\n",
        "                 \"PluralityManip\",]\n",
        "visualise(current_scenario, desired_rules, 'Rawls utility, interesting rules, IC, m = 10', truncate_top=20)"
      ],
      "metadata": {
        "id": "62omyZXMFiMS"
      },
      "execution_count": null,
      "outputs": []
    },
    {
      "cell_type": "markdown",
      "source": [
        "### IC Nash"
      ],
      "metadata": {
        "id": "fVWSfw17FiMS"
      }
    },
    {
      "cell_type": "code",
      "source": [
        "current_scenario = form_file_suffix(10**4, \"Candidates\", 10, \"IC\", \"Nash\")\n",
        "desired_rules = [\n",
        "                 \"Geometric0p8Sincere\",\n",
        "                 \"Geometric0p8Manip\",\n",
        "                 \"Geometric0p5Sincere\",\n",
        "                 \"Geometric0p5Manip\",\n",
        "                 \"Geometric0p65Sincere\",\n",
        "                 \"Geometric0p65Manip\",\n",
        "                 \"BordaSincere\",\n",
        "                 \"BordaManip\",\n",
        "                 \"NashSincere\",\n",
        "                 \"NashManip\",]\n",
        "\n",
        "visualise(current_scenario, desired_rules, 'Nash utility, concave rules, IC, m = 10', truncate_top=20)"
      ],
      "metadata": {
        "id": "kZSaX4GDFiMS"
      },
      "execution_count": null,
      "outputs": []
    },
    {
      "cell_type": "code",
      "source": [
        "current_scenario = form_file_suffix(10**4, \"Candidates\", 10, \"IC\", \"Nash\")\n",
        "desired_rules = [\"Geometric1p2Sincere\",\n",
        "                 \"Geometric1p2Manip\",\n",
        "                 \"PluralitySincere\",\n",
        "                 \"PluralityManip\",\n",
        "                 \"Geometric1p5Sincere\",\n",
        "                 \"Geometric1p5Manip\",\n",
        "                 \"Geometric2Sincere\",\n",
        "                 \"Geometric2Manip\",\n",
        "                 \"BordaSincere\",\n",
        "                 \"BordaManip\",]\n",
        "\n",
        "visualise(current_scenario, desired_rules, 'Nash utility, convex rules , IC, m = 10', truncate_top=20)"
      ],
      "metadata": {
        "id": "85i-7V6QFiMT"
      },
      "execution_count": null,
      "outputs": []
    },
    {
      "cell_type": "code",
      "source": [
        "current_scenario = form_file_suffix(10**4, \"Candidates\", 10, \"IC\", \"Nash\")\n",
        "desired_rules = [\"5ApprovalSincere\",\n",
        "                 \"5ApprovalManip\",\n",
        "                 \"5BordaSincere\",\n",
        "                 \"5BordaManip\",\n",
        "                 \"BordaSincere\",\n",
        "                 \"BordaManip\",\n",
        "                 \"PluralitySincere\",\n",
        "                 \"PluralityManip\",]\n",
        "visualise(current_scenario, desired_rules, 'Nash utility, abdriged rules, IC, m = 10', truncate_top=20)"
      ],
      "metadata": {
        "id": "XO6pjuy2FiMT"
      },
      "execution_count": null,
      "outputs": []
    },
    {
      "cell_type": "code",
      "source": [
        "current_scenario = form_file_suffix(10**4, \"Candidates\", 10, \"IC\", \"Nash\")\n",
        "desired_rules = [\"Geometric0p5Sincere\",\n",
        "                 \"Geometric0p5Manip\",\n",
        "                 \"Geometric1p2Sincere\",\n",
        "                 \"Geometric1p2Manip\",\n",
        "                 \"BordaSincere\",\n",
        "                 \"BordaManip\",\n",
        "                 \"PluralitySincere\",\n",
        "                 \"PluralityManip\",]\n",
        "visualise(current_scenario, desired_rules, 'Nash utility, interesting rules, IC, m = 10', truncate_top=20)"
      ],
      "metadata": {
        "id": "uTJryJGNFiMU"
      },
      "execution_count": null,
      "outputs": []
    },
    {
      "cell_type": "markdown",
      "source": [
        "# 1D Euclidean"
      ],
      "metadata": {
        "id": "c51mi_MN8KIC"
      }
    },
    {
      "cell_type": "markdown",
      "source": [
        "## Fixed n"
      ],
      "metadata": {
        "id": "DS5V7eqrIUDL"
      }
    },
    {
      "cell_type": "markdown",
      "source": [
        "### 1D Euclidean Borda"
      ],
      "metadata": {
        "id": "oM3tqh6lnQVv"
      }
    },
    {
      "cell_type": "code",
      "source": [
        "current_scenario = form_file_suffix(10**4, \"Voters\", 10, \"EuclideanOne\", \"Borda\")\n",
        "desired_rules = [\n",
        "                 \"Geometric0p8Sincere\",\n",
        "                 \"Geometric0p8Manip\",\n",
        "                 \"Geometric0p5Sincere\",\n",
        "                 \"Geometric0p5Manip\",\n",
        "                 \"Geometric0p65Sincere\",\n",
        "                 \"Geometric0p65Manip\",\n",
        "                 \"BordaSincere\",\n",
        "                 \"BordaManip\",\n",
        "                 \"NashSincere\",\n",
        "                 \"NashManip\",]\n",
        "\n",
        "visualise(current_scenario, desired_rules, 'Borda utility, concave rules, 1D Euclidean, n = 10')"
      ],
      "metadata": {
        "id": "lu2B9GGomADT"
      },
      "execution_count": null,
      "outputs": []
    },
    {
      "cell_type": "code",
      "source": [
        "current_scenario = form_file_suffix(10**4, \"Voters\", 10, \"EuclideanOne\", \"Borda\")\n",
        "desired_rules = [\"Geometric1p2Sincere\",\n",
        "                 \"Geometric1p2Manip\",\n",
        "                 \"PluralitySincere\",\n",
        "                 \"PluralityManip\",\n",
        "                 \"Geometric1p5Sincere\",\n",
        "                 \"Geometric1p5Manip\",\n",
        "                 \"Geometric2Sincere\",\n",
        "                 \"Geometric2Manip\",\n",
        "                 \"BordaSincere\",\n",
        "                 \"BordaManip\",]\n",
        "\n",
        "visualise(current_scenario, desired_rules, 'Borda utility, convex rules , 1d Euclidean, n = 10')"
      ],
      "metadata": {
        "id": "7UUuojyAnboX"
      },
      "execution_count": null,
      "outputs": []
    },
    {
      "cell_type": "code",
      "source": [
        "current_scenario = form_file_suffix(10**4, \"Voters\", 10, \"EuclideanOne\", \"Borda\")\n",
        "desired_rules = [\"5ApprovalSincere\",\n",
        "                 \"5ApprovalManip\",\n",
        "                 \"PluralitySincere\",\n",
        "                 \"PluralityManip\",\n",
        "                 \"HalfApprovalSincere\",\n",
        "                 \"HalfApprovalManip\",\n",
        "                 \"QuarterApprovalSincere\",\n",
        "                 \"QuarterApprovalManip\"]\n",
        "visualise(current_scenario, desired_rules, 'Borda utility, approval family, 1D Euclidean, n = 10')"
      ],
      "metadata": {
        "id": "nQY0tercEbGk"
      },
      "execution_count": null,
      "outputs": []
    },
    {
      "cell_type": "code",
      "source": [
        "current_scenario = form_file_suffix(10**4, \"Voters\", 10, \"EuclideanOne\", \"Borda\")\n",
        "desired_rules = [\"5BordaSincere\",\n",
        "                 \"5BordaManip\",\n",
        "                 \"BordaSincere\",\n",
        "                 \"BordaManip\",\n",
        "                 \"PluralitySincere\",\n",
        "                 \"PluralityManip\",\n",
        "                 \"HalfBordaSincere\",\n",
        "                 \"HalfBordaManip\",\n",
        "                 \"QuarterBordaSincere\",\n",
        "                 \"QuarterBordaManip\",\n",
        "                 ]\n",
        "visualise(current_scenario, desired_rules, 'Borda utility, Borda family, 1D Euclidean, n = 10')"
      ],
      "metadata": {
        "id": "sbb1pNveEePb"
      },
      "execution_count": null,
      "outputs": []
    },
    {
      "cell_type": "code",
      "source": [
        "current_scenario = form_file_suffix(10**4, \"Voters\", 10, \"EuclideanOne\", \"Borda\")\n",
        "desired_rules = [\"HalfApprovalSincere\",\n",
        "                 \"HalfApprovalManip\",\n",
        "                 \"NashSincere\",\n",
        "                 \"NashManip\",\n",
        "                 \"BordaSincere\",\n",
        "                 \"BordaManip\",\n",
        "                 \"Geometric1p2Sincere\",\n",
        "                 \"Geometric1p2Manip\",\n",
        "]\n",
        "visualise(current_scenario, desired_rules, 'Borda utility, interesting rules, 1D Euclidean, n = 10')"
      ],
      "metadata": {
        "id": "nCvhsf6SoNzN"
      },
      "execution_count": null,
      "outputs": []
    },
    {
      "cell_type": "markdown",
      "source": [
        "### 1D Euclidean Rawls"
      ],
      "metadata": {
        "id": "JkvAtWlUo7-s"
      }
    },
    {
      "cell_type": "code",
      "source": [
        "current_scenario = form_file_suffix(10**4, \"Voters\", 10, \"EuclideanOne\", \"Rawls\")\n",
        "desired_rules = [\n",
        "                 \"Geometric0p8Sincere\",\n",
        "                 \"Geometric0p8Manip\",\n",
        "                 \"Geometric0p5Sincere\",\n",
        "                 \"Geometric0p5Manip\",\n",
        "                 \"Geometric0p65Sincere\",\n",
        "                 \"Geometric0p65Manip\",\n",
        "                 \"BordaSincere\",\n",
        "                 \"BordaManip\",\n",
        "                 \"NashSincere\",\n",
        "                 \"NashManip\",\n",
        "]\n",
        "\n",
        "visualise(current_scenario, desired_rules, 'Rawls utility, concave rules, 1D Euclidean, n = 10')"
      ],
      "metadata": {
        "id": "Ek6IRzhwo7on"
      },
      "execution_count": null,
      "outputs": []
    },
    {
      "cell_type": "code",
      "source": [
        "current_scenario = form_file_suffix(10**4, \"Voters\", 10, \"EuclideanOne\", \"Rawls\")\n",
        "desired_rules = [\"Geometric1p2Sincere\",\n",
        "                 \"Geometric1p2Manip\",\n",
        "                 \"PluralitySincere\",\n",
        "                 \"PluralityManip\",\n",
        "                 \"Geometric1p5Sincere\",\n",
        "                 \"Geometric1p5Manip\",\n",
        "                 \"Geometric2Sincere\",\n",
        "                 \"Geometric2Manip\",\n",
        "                 \"BordaSincere\",\n",
        "                 \"BordaManip\",]\n",
        "\n",
        "visualise(current_scenario, desired_rules, 'Rawls utility, convex rules , 1D Euclidean, n = 10')"
      ],
      "metadata": {
        "id": "kmjJbXVhpafn"
      },
      "execution_count": null,
      "outputs": []
    },
    {
      "cell_type": "code",
      "source": [
        "current_scenario = form_file_suffix(10**4, \"Voters\", 10, \"EuclideanOne\", \"Rawls\")\n",
        "desired_rules = [\"5ApprovalSincere\",\n",
        "                 \"5ApprovalManip\",\n",
        "                 \"PluralitySincere\",\n",
        "                 \"PluralityManip\",\n",
        "                 \"HalfApprovalSincere\",\n",
        "                 \"HalfApprovalManip\",\n",
        "                 \"QuarterApprovalSincere\",\n",
        "                 \"QuarterApprovalManip\"]\n",
        "visualise(current_scenario, desired_rules, 'Rawls utility, approval family, 1D Euclidean, n = 10')"
      ],
      "metadata": {
        "id": "wkLweC0LFKNo"
      },
      "execution_count": null,
      "outputs": []
    },
    {
      "cell_type": "code",
      "source": [
        "current_scenario = form_file_suffix(10**4, \"Voters\", 10, \"EuclideanOne\", \"Rawls\")\n",
        "desired_rules = [\"5BordaSincere\",\n",
        "                 \"5BordaManip\",\n",
        "                 \"BordaSincere\",\n",
        "                 \"BordaManip\",\n",
        "                 \"PluralitySincere\",\n",
        "                 \"PluralityManip\",\n",
        "                 \"HalfBordaSincere\",\n",
        "                 \"HalfBordaManip\",\n",
        "                 \"QuarterBordaSincere\",\n",
        "                 \"QuarterBordaManip\",\n",
        "                 ]\n",
        "visualise(current_scenario, desired_rules, 'Rawls utility, Borda family, 1D Euclidean, n = 10')"
      ],
      "metadata": {
        "id": "dBGrSdTvFOfS"
      },
      "execution_count": null,
      "outputs": []
    },
    {
      "cell_type": "code",
      "source": [
        "current_scenario = form_file_suffix(10**4, \"Voters\", 10, \"EuclideanOne\", \"Rawls\")\n",
        "desired_rules = [\"Geometric1p2Sincere\",\n",
        "                 \"Geometric1p2Manip\",\n",
        "                 \"Geometric0p5Sincere\",\n",
        "                 \"Geometric0p5Manip\",\n",
        "                 \"BordaSincere\",\n",
        "                 \"BordaManip\",\n",
        "                 \"PluralitySincere\",\n",
        "                 \"PluralityManip\",\n",
        "                 \"HalfApprovalSincere\",\n",
        "                 \"HalfApprovalManip\"]\n",
        "visualise(current_scenario, desired_rules, 'Rawls utility, interesting rules, 1D Euclidean, n = 10')"
      ],
      "metadata": {
        "id": "IQZT7ibE8p5a"
      },
      "execution_count": null,
      "outputs": []
    },
    {
      "cell_type": "markdown",
      "source": [
        "### 1D Euclidean Nash"
      ],
      "metadata": {
        "id": "LwCgQH_V4fvv"
      }
    },
    {
      "cell_type": "code",
      "source": [
        "current_scenario = form_file_suffix(10**4, \"Voters\", 10, \"EuclideanOne\", \"Nash\")\n",
        "desired_rules = [\n",
        "                 \"Geometric0p8Sincere\",\n",
        "                 \"Geometric0p8Manip\",\n",
        "                 \"Geometric0p5Sincere\",\n",
        "                 \"Geometric0p5Manip\",\n",
        "                 \"Geometric0p65Sincere\",\n",
        "                 \"Geometric0p65Manip\",\n",
        "                 \"BordaSincere\",\n",
        "                 \"BordaManip\",\n",
        "                 \"NashSincere\",\n",
        "                 \"NashManip\",]\n",
        "\n",
        "visualise(current_scenario, desired_rules, 'Nash utility, concave rules, 1D Euclidean, n = 10')"
      ],
      "metadata": {
        "id": "JagoS8SI447e"
      },
      "execution_count": null,
      "outputs": []
    },
    {
      "cell_type": "code",
      "source": [
        "current_scenario = form_file_suffix(10**4, \"Voters\", 10, \"EuclideanOne\", \"Nash\")\n",
        "desired_rules = [\"Geometric1p2Sincere\",\n",
        "                 \"Geometric1p2Manip\",\n",
        "                 \"PluralitySincere\",\n",
        "                 \"PluralityManip\",\n",
        "                 \"Geometric1p5Sincere\",\n",
        "                 \"Geometric1p5Manip\",\n",
        "                 \"Geometric2Sincere\",\n",
        "                 \"Geometric2Manip\",\n",
        "                 \"BordaSincere\",\n",
        "                 \"BordaManip\",]\n",
        "\n",
        "visualise(current_scenario, desired_rules, 'Nash utility, convex rules , 1D Euclidean, n = 10')"
      ],
      "metadata": {
        "id": "IZlYBiI35CfT"
      },
      "execution_count": null,
      "outputs": []
    },
    {
      "cell_type": "code",
      "source": [
        "current_scenario = form_file_suffix(10**4, \"Voters\", 10, \"EuclideanOne\", \"Nash\")\n",
        "desired_rules = [\"5ApprovalSincere\",\n",
        "                 \"5ApprovalManip\",\n",
        "                 \"PluralitySincere\",\n",
        "                 \"PluralityManip\",\n",
        "                 \"HalfApprovalSincere\",\n",
        "                 \"HalfApprovalManip\",\n",
        "                 \"QuarterApprovalSincere\",\n",
        "                 \"QuarterApprovalManip\"]\n",
        "visualise(current_scenario, desired_rules, 'Nash utility, approval family, 1D Euclidean, n = 10')"
      ],
      "metadata": {
        "id": "UpSEmHoEF0lf"
      },
      "execution_count": null,
      "outputs": []
    },
    {
      "cell_type": "code",
      "source": [
        "current_scenario = form_file_suffix(10**4, \"Voters\", 10, \"EuclideanOne\", \"Nash\")\n",
        "desired_rules = [\"5BordaSincere\",\n",
        "                 \"5BordaManip\",\n",
        "                 \"BordaSincere\",\n",
        "                 \"BordaManip\",\n",
        "                 \"PluralitySincere\",\n",
        "                 \"PluralityManip\",\n",
        "                 \"HalfBordaSincere\",\n",
        "                 \"HalfBordaManip\",\n",
        "                 \"QuarterBordaSincere\",\n",
        "                 \"QuarterBordaManip\",\n",
        "                 ]\n",
        "visualise(current_scenario, desired_rules, 'Nash utility, Borda family, 1D Euclidean, n = 10')"
      ],
      "metadata": {
        "id": "RZ8OXTNMF3rG"
      },
      "execution_count": null,
      "outputs": []
    },
    {
      "cell_type": "code",
      "source": [
        "current_scenario = form_file_suffix(10**4, \"Voters\", 10, \"EuclideanOne\", \"Nash\")\n",
        "desired_rules = [\"NashSincere\",\n",
        "                 \"NashManip\",\n",
        "                 \"Geometric1p2Sincere\",\n",
        "                 \"Geometric1p2Manip\",\n",
        "                 \"BordaSincere\",\n",
        "                 \"BordaManip\",\n",
        "                 \"HalfApprovalSincere\",\n",
        "                 \"HalfApprovalManip\"]\n",
        "visualise(current_scenario, desired_rules, 'Nash utility, interesting rules, 1D Euclidean, n = 10', truncate_bottom=1)"
      ],
      "metadata": {
        "id": "l9lphpZy5Pwy"
      },
      "execution_count": null,
      "outputs": []
    },
    {
      "cell_type": "markdown",
      "source": [
        "## Fixed m"
      ],
      "metadata": {
        "id": "_RfQUy5LIffe"
      }
    },
    {
      "cell_type": "markdown",
      "source": [
        "### 1D Euclidean Borda"
      ],
      "metadata": {
        "id": "y6BB2a7eIffe"
      }
    },
    {
      "cell_type": "code",
      "source": [
        "current_scenario = form_file_suffix(10**4, \"Candidates\", 10, \"EuclideanOne\", \"Borda\")\n",
        "desired_rules = [\n",
        "                 \"Geometric0p8Sincere\",\n",
        "                 \"Geometric0p8Manip\",\n",
        "                 \"Geometric0p5Sincere\",\n",
        "                 \"Geometric0p5Manip\",\n",
        "                 \"Geometric0p65Sincere\",\n",
        "                 \"Geometric0p65Manip\",\n",
        "                 \"BordaSincere\",\n",
        "                 \"BordaManip\",\n",
        "                 \"NashSincere\",\n",
        "                 \"NashManip\",]\n",
        "\n",
        "visualise(current_scenario, desired_rules, 'Borda utility, concave rules, 1D Euclidean, m = 10', truncate_top=20)"
      ],
      "metadata": {
        "id": "STZ28TDNIfff"
      },
      "execution_count": null,
      "outputs": []
    },
    {
      "cell_type": "code",
      "source": [
        "current_scenario = form_file_suffix(10**4, \"Candidates\", 10, \"EuclideanOne\", \"Borda\")\n",
        "desired_rules = [\"Geometric1p2Sincere\",\n",
        "                 \"Geometric1p2Manip\",\n",
        "                 \"PluralitySincere\",\n",
        "                 \"PluralityManip\",\n",
        "                 \"Geometric1p5Sincere\",\n",
        "                 \"Geometric1p5Manip\",\n",
        "                 \"Geometric2Sincere\",\n",
        "                 \"Geometric2Manip\",\n",
        "                 \"BordaSincere\",\n",
        "                 \"BordaManip\",]\n",
        "\n",
        "visualise(current_scenario, desired_rules, 'Borda utility, convex rules , 1d Euclidean, m = 10', truncate_top=20)"
      ],
      "metadata": {
        "id": "P6l_krVgIffg"
      },
      "execution_count": null,
      "outputs": []
    },
    {
      "cell_type": "code",
      "source": [
        "current_scenario = form_file_suffix(10**4, \"Candidates\", 10, \"EuclideanOne\", \"Borda\")\n",
        "desired_rules = [\"5ApprovalSincere\",\n",
        "                 \"5ApprovalManip\",\n",
        "                 \"5BordaSincere\",\n",
        "                 \"5BordaManip\",\n",
        "                 \"BordaSincere\",\n",
        "                 \"BordaManip\",\n",
        "                 \"PluralitySincere\",\n",
        "                 \"PluralityManip\",]\n",
        "visualise(current_scenario, desired_rules, 'Borda utility, abdriged rules, 1D Euclidean, m = 10', truncate_top=20)"
      ],
      "metadata": {
        "id": "MWVhPJBwIffg"
      },
      "execution_count": null,
      "outputs": []
    },
    {
      "cell_type": "code",
      "source": [
        "current_scenario = form_file_suffix(10**4, \"Candidates\", 10, \"EuclideanOne\", \"Borda\")\n",
        "desired_rules = [\"5ApprovalSincere\",\n",
        "                 \"5ApprovalManip\",\n",
        "                 \"Geometric0p8Sincere\",\n",
        "                 \"Geometric0p8Manip\",\n",
        "                 \"BordaSincere\",\n",
        "                 \"BordaManip\",\n",
        "                 \"Geometric1p2Sincere\",\n",
        "                 \"Geometric1p2Manip\",\n",
        "]\n",
        "visualise(current_scenario, desired_rules, 'Borda utility, interesting rules, 1D Euclidean, m = 10', truncate_top=20)"
      ],
      "metadata": {
        "id": "eLwNNamZIffh"
      },
      "execution_count": null,
      "outputs": []
    },
    {
      "cell_type": "markdown",
      "source": [
        "### 1D Euclidean Rawls"
      ],
      "metadata": {
        "id": "kCQ4mAi7Iffh"
      }
    },
    {
      "cell_type": "code",
      "source": [
        "current_scenario = form_file_suffix(10**4, \"Candidates\", 10, \"EuclideanOne\", \"Rawls\")\n",
        "desired_rules = [\n",
        "                 \"Geometric0p8Sincere\",\n",
        "                 \"Geometric0p8Manip\",\n",
        "                 \"Geometric0p5Sincere\",\n",
        "                 \"Geometric0p5Manip\",\n",
        "                 \"Geometric0p65Sincere\",\n",
        "                 \"Geometric0p65Manip\",\n",
        "                 \"BordaSincere\",\n",
        "                 \"BordaManip\",\n",
        "                 \"NashSincere\",\n",
        "                 \"NashManip\",]\n",
        "\n",
        "visualise(current_scenario, desired_rules, 'Rawls utility, concave rules, 1D Euclidean, m = 10', truncate_top=40)"
      ],
      "metadata": {
        "id": "R7veawNbIffh"
      },
      "execution_count": null,
      "outputs": []
    },
    {
      "cell_type": "code",
      "source": [
        "current_scenario = form_file_suffix(10**4, \"Candidates\", 10, \"EuclideanOne\", \"Rawls\")\n",
        "desired_rules = [\"Geometric1p2Sincere\",\n",
        "                 \"Geometric1p2Manip\",\n",
        "                 \"PluralitySincere\",\n",
        "                 \"PluralityManip\",\n",
        "                 \"Geometric1p5Sincere\",\n",
        "                 \"Geometric1p5Manip\",\n",
        "                 \"Geometric2Sincere\",\n",
        "                 \"Geometric2Manip\",\n",
        "                 \"BordaSincere\",\n",
        "                 \"BordaManip\",]\n",
        "\n",
        "visualise(current_scenario, desired_rules, 'Rawls utility, convex rules , 1D Euclidean, m = 10', truncate_top=40)"
      ],
      "metadata": {
        "id": "vxZgaMcKIffi"
      },
      "execution_count": null,
      "outputs": []
    },
    {
      "cell_type": "code",
      "source": [
        "current_scenario = form_file_suffix(10**4, \"Candidates\", 10, \"EuclideanOne\", \"Rawls\")\n",
        "desired_rules = [\"5ApprovalSincere\",\n",
        "                 \"5ApprovalManip\",\n",
        "                 \"5BordaSincere\",\n",
        "                 \"5BordaManip\",\n",
        "                 \"BordaSincere\",\n",
        "                 \"BordaManip\",\n",
        "                 \"PluralitySincere\",\n",
        "                 \"PluralityManip\",]\n",
        "visualise(current_scenario, desired_rules, 'Rawls utility, abdriged rules, 1D Euclidean, m = 10', truncate_top=40)"
      ],
      "metadata": {
        "id": "nCljyV8WIffi"
      },
      "execution_count": null,
      "outputs": []
    },
    {
      "cell_type": "code",
      "source": [
        "current_scenario = form_file_suffix(10**4, \"Candidates\", 10, \"EuclideanOne\", \"Rawls\")\n",
        "desired_rules = [\"5ApprovalSincere\",\n",
        "                 \"5ApprovalManip\",\n",
        "                 \"Geometric1p2Sincere\",\n",
        "                 \"Geometric1p2Manip\",\n",
        "                 \"Geometric0p5Sincere\",\n",
        "                 \"Geometric0p5Manip\",\n",
        "                 \"BordaSincere\",\n",
        "                 \"BordaManip\",\n",
        "                 \"PluralitySincere\",\n",
        "                 \"PluralityManip\",]\n",
        "visualise(current_scenario, desired_rules, 'Rawls utility, interesting rules, 1D Euclidean, m = 10', truncate_top=40)"
      ],
      "metadata": {
        "id": "LAuiHEVAIffi"
      },
      "execution_count": null,
      "outputs": []
    },
    {
      "cell_type": "markdown",
      "source": [
        "### 1D Euclidean Nash"
      ],
      "metadata": {
        "id": "SknIus9VIffj"
      }
    },
    {
      "cell_type": "code",
      "source": [
        "current_scenario = form_file_suffix(10**4, \"Candidates\", 10, \"EuclideanOne\", \"Nash\")\n",
        "desired_rules = [\n",
        "                 \"Geometric0p8Sincere\",\n",
        "                 \"Geometric0p8Manip\",\n",
        "                 \"Geometric0p5Sincere\",\n",
        "                 \"Geometric0p5Manip\",\n",
        "                 \"Geometric0p65Sincere\",\n",
        "                 \"Geometric0p65Manip\",\n",
        "                 \"BordaSincere\",\n",
        "                 \"BordaManip\",\n",
        "                 \"NashSincere\",\n",
        "                 \"NashManip\",]\n",
        "\n",
        "visualise(current_scenario, desired_rules, 'Nash utility, concave rules, 1D Euclidean, m = 10', truncate_top=30)"
      ],
      "metadata": {
        "id": "ZH0z76ECIffj"
      },
      "execution_count": null,
      "outputs": []
    },
    {
      "cell_type": "code",
      "source": [
        "current_scenario = form_file_suffix(10**4, \"Candidates\", 10, \"EuclideanOne\", \"Nash\")\n",
        "desired_rules = [\"Geometric1p2Sincere\",\n",
        "                 \"Geometric1p2Manip\",\n",
        "                 \"PluralitySincere\",\n",
        "                 \"PluralityManip\",\n",
        "                 \"Geometric1p5Sincere\",\n",
        "                 \"Geometric1p5Manip\",\n",
        "                 \"Geometric2Sincere\",\n",
        "                 \"Geometric2Manip\",\n",
        "                 \"BordaSincere\",\n",
        "                 \"BordaManip\",]\n",
        "\n",
        "visualise(current_scenario, desired_rules, 'Nash utility, convex rules , 1D Euclidean, m = 10', truncate_top=30)"
      ],
      "metadata": {
        "id": "2U-pctSqIffj"
      },
      "execution_count": null,
      "outputs": []
    },
    {
      "cell_type": "code",
      "source": [
        "current_scenario = form_file_suffix(10**4, \"Candidates\", 10, \"EuclideanOne\", \"Nash\")\n",
        "desired_rules = [\"5ApprovalSincere\",\n",
        "                 \"5ApprovalManip\",\n",
        "                 \"5BordaSincere\",\n",
        "                 \"5BordaManip\",\n",
        "                 \"BordaSincere\",\n",
        "                 \"BordaManip\",\n",
        "                 \"PluralitySincere\",\n",
        "                 \"PluralityManip\",]\n",
        "visualise(current_scenario, desired_rules, 'Nash utility, abdriged rules, 1D Euclidean, m = 10', truncate_top=30)"
      ],
      "metadata": {
        "id": "mZ28SKxlIffk"
      },
      "execution_count": null,
      "outputs": []
    },
    {
      "cell_type": "code",
      "source": [
        "current_scenario = form_file_suffix(10**4, \"Candidates\", 10, \"EuclideanOne\", \"Nash\")\n",
        "desired_rules = [\"5ApprovalSincere\",\n",
        "                 \"5ApprovalManip\",\n",
        "                 \"Geometric0p8Sincere\",\n",
        "                 \"Geometric0p8Manip\",\n",
        "                 \"Geometric1p2Sincere\",\n",
        "                 \"Geometric1p2Manip\",\n",
        "                 \"BordaSincere\",\n",
        "                 \"BordaManip\",\n",
        "                 \"PluralitySincere\",\n",
        "                 \"PluralityManip\",]\n",
        "visualise(current_scenario, desired_rules, 'Nash utility, interesting rules, 1D Euclidean, m = 10', truncate_top=30)"
      ],
      "metadata": {
        "id": "ZzgCNDiWIffk"
      },
      "execution_count": null,
      "outputs": []
    },
    {
      "cell_type": "markdown",
      "source": [
        "# 2D Euclidean\n"
      ],
      "metadata": {
        "id": "usgKYkdj5To7"
      }
    },
    {
      "cell_type": "markdown",
      "source": [
        "## Fixed n"
      ],
      "metadata": {
        "id": "LMaTexHVJ_a8"
      }
    },
    {
      "cell_type": "markdown",
      "source": [
        "### 2D Euclidean, Borda"
      ],
      "metadata": {
        "id": "VpjgiSXN77p-"
      }
    },
    {
      "cell_type": "code",
      "source": [
        "current_scenario = form_file_suffix(10**4, \"Voters\", 10, \"EuclideanTwo\", \"Borda\")\n",
        "desired_rules = [\n",
        "                 \"Geometric0p8Sincere\",\n",
        "                 \"Geometric0p8Manip\",\n",
        "                 \"Geometric0p5Sincere\",\n",
        "                 \"Geometric0p5Manip\",\n",
        "                 \"Geometric0p65Sincere\",\n",
        "                 \"Geometric0p65Manip\",\n",
        "                 \"BordaSincere\",\n",
        "                 \"BordaManip\",\n",
        "                 \"NashSincere\",\n",
        "                 \"NashManip\",]\n",
        "\n",
        "visualise(current_scenario, desired_rules, 'Borda utility, concave rules, 2D Euclidean, n = 10')"
      ],
      "metadata": {
        "id": "l6kM9CZ97Uqw"
      },
      "execution_count": null,
      "outputs": []
    },
    {
      "cell_type": "code",
      "source": [
        "current_scenario = form_file_suffix(10**4, \"Voters\", 10, \"EuclideanTwo\", \"Borda\")\n",
        "desired_rules = [\"Geometric1p2Sincere\",\n",
        "                 \"Geometric1p2Manip\",\n",
        "                 \"PluralitySincere\",\n",
        "                 \"PluralityManip\",\n",
        "                 \"Geometric1p5Sincere\",\n",
        "                 \"Geometric1p5Manip\",\n",
        "                 \"Geometric2Sincere\",\n",
        "                 \"Geometric2Manip\",\n",
        "                 \"BordaSincere\",\n",
        "                 \"BordaManip\",]\n",
        "\n",
        "visualise(current_scenario, desired_rules, 'Borda utility, convex rules , 2D Euclidean, n = 10')"
      ],
      "metadata": {
        "id": "MUe70t9m7YaS"
      },
      "execution_count": null,
      "outputs": []
    },
    {
      "cell_type": "code",
      "source": [
        "current_scenario = form_file_suffix(10**4, \"Voters\", 10, \"EuclideanTwo\", \"Borda\")\n",
        "desired_rules = [\"5ApprovalSincere\",\n",
        "                 \"5ApprovalManip\",\n",
        "                 \"PluralitySincere\",\n",
        "                 \"PluralityManip\",\n",
        "                 \"HalfApprovalSincere\",\n",
        "                 \"HalfApprovalManip\",\n",
        "                 \"QuarterApprovalSincere\",\n",
        "                 \"QuarterApprovalManip\"]\n",
        "visualise(current_scenario, desired_rules, 'Borda utility, approval family, 2D Euclidean, n = 10')"
      ],
      "metadata": {
        "id": "SlgQ-iUpwoaq"
      },
      "execution_count": null,
      "outputs": []
    },
    {
      "cell_type": "code",
      "source": [
        "current_scenario = form_file_suffix(10**4, \"Voters\", 10, \"EuclideanTwo\", \"Borda\")\n",
        "desired_rules = [\"5BordaSincere\",\n",
        "                 \"5BordaManip\",\n",
        "                 \"BordaSincere\",\n",
        "                 \"BordaManip\",\n",
        "                 \"PluralitySincere\",\n",
        "                 \"PluralityManip\",\n",
        "                 \"HalfBordaSincere\",\n",
        "                 \"HalfBordaManip\",\n",
        "                 \"QuarterBordaSincere\",\n",
        "                 \"QuarterBordaManip\",\n",
        "                 ]\n",
        "visualise(current_scenario, desired_rules, 'Borda utility, Borda family, 2D Euclidean, n = 10')"
      ],
      "metadata": {
        "id": "C1TaDilPwwF4"
      },
      "execution_count": null,
      "outputs": []
    },
    {
      "cell_type": "code",
      "source": [
        "current_scenario = form_file_suffix(10**4, \"Voters\", 10, \"EuclideanTwo\", \"Borda\")\n",
        "desired_rules = [\"Geometric0p8Sincere\",\n",
        "                 \"Geometric0p8Manip\",\n",
        "                 \"Geometric1p2Sincere\",\n",
        "                 \"Geometric1p2Manip\",\n",
        "                 \"BordaSincere\",\n",
        "                 \"BordaManip\",\n",
        "                 \"HalfApprovalSincere\",\n",
        "                 \"HalfApprovalManip\",]\n",
        "visualise(current_scenario, desired_rules, 'Borda utility, interesting rules, 2D Euclidean, n = 10')"
      ],
      "metadata": {
        "id": "P2mx6oYL72Ig"
      },
      "execution_count": null,
      "outputs": []
    },
    {
      "cell_type": "markdown",
      "source": [
        "### 2D Euclidean, Rawls"
      ],
      "metadata": {
        "id": "mnCgZvIC9FHu"
      }
    },
    {
      "cell_type": "code",
      "source": [
        "current_scenario = form_file_suffix(10**4, \"Voters\", 10, \"EuclideanTwo\", \"Rawls\")\n",
        "desired_rules = [\n",
        "                 \"Geometric0p8Sincere\",\n",
        "                 \"Geometric0p8Manip\",\n",
        "                 \"Geometric0p5Sincere\",\n",
        "                 \"Geometric0p5Manip\",\n",
        "                 \"Geometric0p65Sincere\",\n",
        "                 \"Geometric0p65Manip\",\n",
        "                 \"BordaSincere\",\n",
        "                 \"BordaManip\",\n",
        "                 \"NashSincere\",\n",
        "                 \"NashManip\",]\n",
        "\n",
        "visualise(current_scenario, desired_rules, 'Rawls utility, concave rules, 2D Euclidean, n = 10')"
      ],
      "metadata": {
        "id": "32Mx8W039V1F"
      },
      "execution_count": null,
      "outputs": []
    },
    {
      "cell_type": "code",
      "source": [
        "current_scenario = form_file_suffix(10**4, \"Voters\", 10, \"EuclideanTwo\", \"Rawls\")\n",
        "desired_rules = [\"Geometric1p2Sincere\",\n",
        "                 \"Geometric1p2Manip\",\n",
        "                 \"PluralitySincere\",\n",
        "                 \"PluralityManip\",\n",
        "                 \"Geometric1p5Sincere\",\n",
        "                 \"Geometric1p5Manip\",\n",
        "                 \"Geometric2Sincere\",\n",
        "                 \"Geometric2Manip\",\n",
        "                 \"BordaSincere\",\n",
        "                 \"BordaManip\",]\n",
        "\n",
        "visualise(current_scenario, desired_rules, 'Rawls utility, convex rules , 2D Euclidean, n = 10')"
      ],
      "metadata": {
        "id": "BxIhngud9V1G"
      },
      "execution_count": null,
      "outputs": []
    },
    {
      "cell_type": "code",
      "source": [
        "current_scenario = form_file_suffix(10**4, \"Voters\", 10, \"EuclideanTwo\", \"Rawls\")\n",
        "desired_rules = [\"5ApprovalSincere\",\n",
        "                 \"5ApprovalManip\",\n",
        "                 \"PluralitySincere\",\n",
        "                 \"PluralityManip\",\n",
        "                 \"HalfApprovalSincere\",\n",
        "                 \"HalfApprovalManip\",\n",
        "                 \"QuarterApprovalSincere\",\n",
        "                 \"QuarterApprovalManip\"]\n",
        "visualise(current_scenario, desired_rules, 'Rawls utility, approval family, 2D Euclidean, n = 10')"
      ],
      "metadata": {
        "id": "Cl3bNIOTkEld"
      },
      "execution_count": null,
      "outputs": []
    },
    {
      "cell_type": "code",
      "source": [
        "current_scenario = form_file_suffix(10**4, \"Voters\", 10, \"EuclideanTwo\", \"Rawls\")\n",
        "desired_rules = [\"5BordaSincere\",\n",
        "                 \"5BordaManip\",\n",
        "                 \"BordaSincere\",\n",
        "                 \"BordaManip\",\n",
        "                 \"PluralitySincere\",\n",
        "                 \"PluralityManip\",\n",
        "                 \"HalfBordaSincere\",\n",
        "                 \"HalfBordaManip\",\n",
        "                 \"QuarterBordaSincere\",\n",
        "                 \"QuarterBordaManip\",\n",
        "                 ]\n",
        "visualise(current_scenario, desired_rules, 'Rawls utility, Borda family, 2D Euclidean, n = 10')"
      ],
      "metadata": {
        "id": "p66g1HcTkHb1"
      },
      "execution_count": null,
      "outputs": []
    },
    {
      "cell_type": "code",
      "source": [
        "current_scenario = form_file_suffix(10**4, \"Voters\", 10, \"EuclideanTwo\", \"Rawls\")\n",
        "desired_rules = [\"Geometric1p2Sincere\",\n",
        "                 \"Geometric1p2Manip\",\n",
        "                 \"Geometric0p8Sincere\",\n",
        "                 \"Geometric0p5Manip\",\n",
        "                 \"BordaSincere\",\n",
        "                 \"BordaManip\",\n",
        "                 \"PluralitySincere\",\n",
        "                 \"PluralityManip\",\n",
        "                 \"HalfApprovalSincere\",\n",
        "                 \"HalfApprovalManip\"]\n",
        "visualise(current_scenario, desired_rules, 'Rawls utility, interesting rules, 2D Euclidean, n = 10')"
      ],
      "metadata": {
        "id": "n04dB6fe9V1H"
      },
      "execution_count": null,
      "outputs": []
    },
    {
      "cell_type": "markdown",
      "source": [
        "### 2D Euclidean Nash"
      ],
      "metadata": {
        "id": "uAsLP9Tw99PN"
      }
    },
    {
      "cell_type": "code",
      "source": [
        "current_scenario = form_file_suffix(10**4, \"Voters\", 10, \"EuclideanTwo\", \"Nash\")\n",
        "desired_rules = [\n",
        "                 \"Geometric0p8Sincere\",\n",
        "                 \"Geometric0p8Manip\",\n",
        "                 \"Geometric0p5Sincere\",\n",
        "                 \"Geometric0p5Manip\",\n",
        "                 \"Geometric0p65Sincere\",\n",
        "                 \"Geometric0p65Manip\",\n",
        "                 \"BordaSincere\",\n",
        "                 \"BordaManip\",\n",
        "                 \"NashSincere\",\n",
        "                 \"NashManip\",]\n",
        "\n",
        "visualise(current_scenario, desired_rules, 'Nash utility, concave rules, 2D Euclidean, n = 10')"
      ],
      "metadata": {
        "id": "fY4YPApf99PO"
      },
      "execution_count": null,
      "outputs": []
    },
    {
      "cell_type": "code",
      "source": [
        "current_scenario = form_file_suffix(10**4, \"Voters\", 10, \"EuclideanTwo\", \"Nash\")\n",
        "desired_rules = [\"Geometric1p2Sincere\",\n",
        "                 \"Geometric1p2Manip\",\n",
        "                 \"PluralitySincere\",\n",
        "                 \"PluralityManip\",\n",
        "                 \"Geometric1p5Sincere\",\n",
        "                 \"Geometric1p5Manip\",\n",
        "                 \"Geometric2Sincere\",\n",
        "                 \"Geometric2Manip\",\n",
        "                 \"BordaSincere\",\n",
        "                 \"BordaManip\",]\n",
        "\n",
        "visualise(current_scenario, desired_rules, 'Nash utility, convex rules , 2D Euclidean, n = 10')"
      ],
      "metadata": {
        "id": "Q7ZS8B0J99PP"
      },
      "execution_count": null,
      "outputs": []
    },
    {
      "cell_type": "code",
      "source": [
        "current_scenario = form_file_suffix(10**4, \"Voters\", 10, \"EuclideanTwo\", \"Nash\")\n",
        "desired_rules = [\"5ApprovalSincere\",\n",
        "                 \"5ApprovalManip\",\n",
        "                 \"PluralitySincere\",\n",
        "                 \"PluralityManip\",\n",
        "                 \"HalfApprovalSincere\",\n",
        "                 \"HalfApprovalManip\",\n",
        "                 \"QuarterApprovalSincere\",\n",
        "                 \"QuarterApprovalManip\"]\n",
        "visualise(current_scenario, desired_rules, 'Nash utility, approval family, 2D Euclidean, n = 10')"
      ],
      "metadata": {
        "id": "nC914Illk-Xi"
      },
      "execution_count": null,
      "outputs": []
    },
    {
      "cell_type": "code",
      "source": [
        "current_scenario = form_file_suffix(10**4, \"Voters\", 10, \"EuclideanTwo\", \"Nash\")\n",
        "desired_rules = [\"5BordaSincere\",\n",
        "                 \"5BordaManip\",\n",
        "                 \"BordaSincere\",\n",
        "                 \"BordaManip\",\n",
        "                 \"PluralitySincere\",\n",
        "                 \"PluralityManip\",\n",
        "                 \"HalfBordaSincere\",\n",
        "                 \"HalfBordaManip\",\n",
        "                 \"QuarterBordaSincere\",\n",
        "                 \"QuarterBordaManip\",\n",
        "                 ]\n",
        "visualise(current_scenario, desired_rules, 'Nash utility, Borda family, 2D Euclidean, n = 10')"
      ],
      "metadata": {
        "id": "dUZI2j3mlA00"
      },
      "execution_count": null,
      "outputs": []
    },
    {
      "cell_type": "code",
      "source": [
        "current_scenario = form_file_suffix(10**4, \"Voters\", 10, \"EuclideanTwo\", \"Nash\")\n",
        "desired_rules = [\"NashSincere\",\n",
        "                 \"NashManip\",\n",
        "                 \"Geometric1p2Sincere\",\n",
        "                 \"Geometric1p2Manip\",\n",
        "                 \"BordaSincere\",\n",
        "                 \"BordaManip\",\n",
        "                 \"PluralitySincere\",\n",
        "                 \"PluralityManip\",\n",
        "                 \"HalfApprovalSincere\",\n",
        "                 \"HalfApprovalManip\"]\n",
        "visualise(current_scenario, desired_rules, 'Nash utility, interesting rules, 2D Euclidean, n = 10', truncate_bottom=2)"
      ],
      "metadata": {
        "id": "hPg8Ti7o99PQ"
      },
      "execution_count": null,
      "outputs": []
    },
    {
      "cell_type": "markdown",
      "source": [
        "## Fixed m"
      ],
      "metadata": {
        "id": "ZA_heqmEKDuO"
      }
    },
    {
      "cell_type": "markdown",
      "source": [
        "### 2D Euclidean, Borda"
      ],
      "metadata": {
        "id": "RSTmDcfUKDuP"
      }
    },
    {
      "cell_type": "code",
      "source": [
        "current_scenario = form_file_suffix(10**4, \"Candidates\", 10, \"EuclideanTwo\", \"Borda\")\n",
        "desired_rules = [\n",
        "                 \"Geometric0p8Sincere\",\n",
        "                 \"Geometric0p8Manip\",\n",
        "                 \"Geometric0p5Sincere\",\n",
        "                 \"Geometric0p5Manip\",\n",
        "                 \"Geometric0p65Sincere\",\n",
        "                 \"Geometric0p65Manip\",\n",
        "                 \"BordaSincere\",\n",
        "                 \"BordaManip\",\n",
        "                 \"NashSincere\",\n",
        "                 \"NashManip\",]\n",
        "\n",
        "visualise(current_scenario, desired_rules, 'Borda utility, concave rules, 2D Euclidean, m = 10', truncate_top=40)"
      ],
      "metadata": {
        "id": "qmGgST35KDuP"
      },
      "execution_count": null,
      "outputs": []
    },
    {
      "cell_type": "code",
      "source": [
        "current_scenario = form_file_suffix(10**4, \"Candidates\", 10, \"EuclideanTwo\", \"Borda\")\n",
        "desired_rules = [\"Geometric1p2Sincere\",\n",
        "                 \"Geometric1p2Manip\",\n",
        "                 \"PluralitySincere\",\n",
        "                 \"PluralityManip\",\n",
        "                 \"Geometric1p5Sincere\",\n",
        "                 \"Geometric1p5Manip\",\n",
        "                 \"Geometric2Sincere\",\n",
        "                 \"Geometric2Manip\",\n",
        "                 \"BordaSincere\",\n",
        "                 \"BordaManip\",]\n",
        "\n",
        "visualise(current_scenario, desired_rules, 'Borda utility, convex rules , 2D Euclidean, m = 10', truncate_top=40)"
      ],
      "metadata": {
        "id": "FqCy2AJ_KDuQ"
      },
      "execution_count": null,
      "outputs": []
    },
    {
      "cell_type": "code",
      "source": [
        "current_scenario = form_file_suffix(10**4, \"Candidates\", 10, \"EuclideanTwo\", \"Borda\")\n",
        "desired_rules = [\"5ApprovalSincere\",\n",
        "                 \"5ApprovalManip\",\n",
        "                 \"5BordaSincere\",\n",
        "                 \"5BordaManip\",\n",
        "                 \"BordaSincere\",\n",
        "                 \"BordaManip\",\n",
        "                 \"PluralitySincere\",\n",
        "                 \"PluralityManip\",]\n",
        "visualise(current_scenario, desired_rules, 'Borda utility, abdriged rules, 2D Euclidean, m = 10', truncate_top=40)"
      ],
      "metadata": {
        "id": "gTAegy4eKDuQ"
      },
      "execution_count": null,
      "outputs": []
    },
    {
      "cell_type": "code",
      "source": [
        "current_scenario = form_file_suffix(10**4, \"Candidates\", 10, \"EuclideanTwo\", \"Borda\")\n",
        "desired_rules = [\"Geometric0p8Sincere\",\n",
        "                 \"Geometric0p8Manip\",\n",
        "                 \"Geometric1p2Sincere\",\n",
        "                 \"Geometric1p2Manip\",\n",
        "                 \"BordaSincere\",\n",
        "                 \"BordaManip\",\n",
        "                 \"PluralitySincere\",\n",
        "                 \"PluralityManip\",]\n",
        "visualise(current_scenario, desired_rules, 'Borda utility, interesting rules, 2D Euclidean, m = 10', truncate_top=40)"
      ],
      "metadata": {
        "id": "07EBVG0zKDuR"
      },
      "execution_count": null,
      "outputs": []
    },
    {
      "cell_type": "markdown",
      "source": [
        "### 2D Euclidean, Rawls"
      ],
      "metadata": {
        "id": "9quxwE8oKDuR"
      }
    },
    {
      "cell_type": "code",
      "source": [
        "current_scenario = form_file_suffix(10**4, \"Candidates\", 10, \"EuclideanTwo\", \"Rawls\")\n",
        "desired_rules = [\n",
        "                 \"Geometric0p8Sincere\",\n",
        "                 \"Geometric0p8Manip\",\n",
        "                 \"Geometric0p5Sincere\",\n",
        "                 \"Geometric0p5Manip\",\n",
        "                 \"Geometric0p65Sincere\",\n",
        "                 \"Geometric0p65Manip\",\n",
        "                 \"BordaSincere\",\n",
        "                 \"BordaManip\",\n",
        "                 \"NashSincere\",\n",
        "                 \"NashManip\",]\n",
        "\n",
        "visualise(current_scenario, desired_rules, 'Rawls utility, concave rules, 2D Euclidean, m = 10', truncate_top=40)"
      ],
      "metadata": {
        "id": "ZFr8rjN-KDuR"
      },
      "execution_count": null,
      "outputs": []
    },
    {
      "cell_type": "code",
      "source": [
        "current_scenario = form_file_suffix(10**4, \"Candidates\", 10, \"EuclideanTwo\", \"Rawls\")\n",
        "desired_rules = [\"Geometric1p2Sincere\",\n",
        "                 \"Geometric1p2Manip\",\n",
        "                 \"PluralitySincere\",\n",
        "                 \"PluralityManip\",\n",
        "                 \"Geometric1p5Sincere\",\n",
        "                 \"Geometric1p5Manip\",\n",
        "                 \"Geometric2Sincere\",\n",
        "                 \"Geometric2Manip\",\n",
        "                 \"BordaSincere\",\n",
        "                 \"BordaManip\",]\n",
        "\n",
        "visualise(current_scenario, desired_rules, 'Rawls utility, convex rules , 2D Euclidean, m = 10', truncate_top=40)"
      ],
      "metadata": {
        "id": "Etn0n-SMKDuS"
      },
      "execution_count": null,
      "outputs": []
    },
    {
      "cell_type": "code",
      "source": [
        "current_scenario = form_file_suffix(10**4, \"Candidates\", 10, \"EuclideanTwo\", \"Rawls\")\n",
        "desired_rules = [\"5ApprovalSincere\",\n",
        "                 \"5ApprovalManip\",\n",
        "                 \"5BordaSincere\",\n",
        "                 \"5BordaManip\",\n",
        "                 \"BordaSincere\",\n",
        "                 \"BordaManip\",\n",
        "                 \"PluralitySincere\",\n",
        "                 \"PluralityManip\",]\n",
        "visualise(current_scenario, desired_rules, 'Rawls utility, abdriged rules, 2D Euclidean, m = 10', truncate_top=40)"
      ],
      "metadata": {
        "id": "L9AoG9JbKDuS"
      },
      "execution_count": null,
      "outputs": []
    },
    {
      "cell_type": "code",
      "source": [
        "current_scenario = form_file_suffix(10**4, \"Candidates\", 10, \"EuclideanTwo\", \"Rawls\")\n",
        "desired_rules = [\"5ApprovalSincere\",\n",
        "                 \"5ApprovalManip\",\n",
        "                 \"Geometric1p2Sincere\",\n",
        "                 \"Geometric1p2Manip\",\n",
        "                 \"Geometric0p8Sincere\",\n",
        "                 \"Geometric0p8Manip\",\n",
        "                 \"BordaSincere\",\n",
        "                 \"BordaManip\",\n",
        "                 \"PluralitySincere\",\n",
        "                 \"PluralityManip\",]\n",
        "visualise(current_scenario, desired_rules, 'Rawls utility, interesting rules, 2D Euclidean, m = 10', truncate_top=40)"
      ],
      "metadata": {
        "id": "F1xzizh3KDuS"
      },
      "execution_count": null,
      "outputs": []
    },
    {
      "cell_type": "markdown",
      "source": [
        "### 2D Euclidean Nash"
      ],
      "metadata": {
        "id": "alPxwniCKDuT"
      }
    },
    {
      "cell_type": "code",
      "source": [
        "current_scenario = form_file_suffix(10**4, \"Candidates\", 10, \"EuclideanTwo\", \"Nash\")\n",
        "desired_rules = [\n",
        "                 \"Geometric0p8Sincere\",\n",
        "                 \"Geometric0p8Manip\",\n",
        "                 \"Geometric0p5Sincere\",\n",
        "                 \"Geometric0p5Manip\",\n",
        "                 \"Geometric0p65Sincere\",\n",
        "                 \"Geometric0p65Manip\",\n",
        "                 \"BordaSincere\",\n",
        "                 \"BordaManip\",\n",
        "                 \"NashSincere\",\n",
        "                 \"NashManip\",]\n",
        "\n",
        "visualise(current_scenario, desired_rules, 'Nash utility, concave rules, 2D Euclidean, m = 10', truncate_top=30)"
      ],
      "metadata": {
        "id": "pfrg3NZWKDuT"
      },
      "execution_count": null,
      "outputs": []
    },
    {
      "cell_type": "code",
      "source": [
        "current_scenario = form_file_suffix(10**4, \"Candidates\", 10, \"EuclideanTwo\", \"Nash\")\n",
        "desired_rules = [\"Geometric1p2Sincere\",\n",
        "                 \"Geometric1p2Manip\",\n",
        "                 \"PluralitySincere\",\n",
        "                 \"PluralityManip\",\n",
        "                 \"Geometric1p5Sincere\",\n",
        "                 \"Geometric1p5Manip\",\n",
        "                 \"Geometric2Sincere\",\n",
        "                 \"Geometric2Manip\",\n",
        "                 \"BordaSincere\",\n",
        "                 \"BordaManip\",]\n",
        "\n",
        "visualise(current_scenario, desired_rules, 'Nash utility, convex rules , 2D Euclidean, m = 10', truncate_top=30)"
      ],
      "metadata": {
        "id": "WR9mU87nKDuT"
      },
      "execution_count": null,
      "outputs": []
    },
    {
      "cell_type": "code",
      "source": [
        "current_scenario = form_file_suffix(10**4, \"Candidates\", 10, \"EuclideanTwo\", \"Nash\")\n",
        "desired_rules = [\"5ApprovalSincere\",\n",
        "                 \"5ApprovalManip\",\n",
        "                 \"5BordaSincere\",\n",
        "                 \"5BordaManip\",\n",
        "                 \"BordaSincere\",\n",
        "                 \"BordaManip\",\n",
        "                 \"PluralitySincere\",\n",
        "                 \"PluralityManip\",]\n",
        "visualise(current_scenario, desired_rules, 'Nash utility, abdriged rules, 2D Euclidean, m = 10', truncate_top=30)"
      ],
      "metadata": {
        "id": "deKnVx6YKDuU"
      },
      "execution_count": null,
      "outputs": []
    },
    {
      "cell_type": "code",
      "source": [
        "current_scenario = form_file_suffix(10**4, \"Candidates\", 10, \"EuclideanTwo\", \"Nash\")\n",
        "desired_rules = [\"5ApprovalSincere\",\n",
        "                 \"5ApprovalManip\",\n",
        "                 \"Geometric0p8Sincere\",\n",
        "                 \"Geometric0p8Manip\",\n",
        "                 \"Geometric1p2Sincere\",\n",
        "                 \"Geometric1p2Manip\",\n",
        "                 \"BordaSincere\",\n",
        "                 \"BordaManip\",\n",
        "                 \"PluralitySincere\",\n",
        "                 \"PluralityManip\",]\n",
        "visualise(current_scenario, desired_rules, 'Nash utility, interesting rules, 2D Euclidean, m = 10', truncate_top=30)"
      ],
      "metadata": {
        "id": "7k906jnpKDuU"
      },
      "execution_count": null,
      "outputs": []
    },
    {
      "cell_type": "markdown",
      "source": [
        "# 5D Euclidean\n"
      ],
      "metadata": {
        "id": "mIxhdTGmA61Y"
      }
    },
    {
      "cell_type": "markdown",
      "source": [
        "## Fixed n"
      ],
      "metadata": {
        "id": "MdduPh73LpzR"
      }
    },
    {
      "cell_type": "markdown",
      "source": [
        "### 5D Euclidean, Borda"
      ],
      "metadata": {
        "id": "1zF2qdkhA61h"
      }
    },
    {
      "cell_type": "code",
      "source": [
        "current_scenario = form_file_suffix(10**4, \"Voters\", 10, \"EuclideanFive\", \"Borda\")\n",
        "desired_rules = [\n",
        "                 \"Geometric0p8Sincere\",\n",
        "                 \"Geometric0p8Manip\",\n",
        "                 \"Geometric0p5Sincere\",\n",
        "                 \"Geometric0p5Manip\",\n",
        "                 \"Geometric0p65Sincere\",\n",
        "                 \"Geometric0p65Manip\",\n",
        "                 \"BordaSincere\",\n",
        "                 \"BordaManip\",\n",
        "                 \"NashSincere\",\n",
        "                 \"NashManip\",]\n",
        "\n",
        "visualise(current_scenario, desired_rules, 'Borda utility, concave rules, 5D Euclidean, n = 10')"
      ],
      "metadata": {
        "id": "sTZ-uvRcA61h"
      },
      "execution_count": null,
      "outputs": []
    },
    {
      "cell_type": "code",
      "source": [
        "current_scenario = form_file_suffix(10**4, \"Voters\", 10, \"EuclideanFive\", \"Borda\")\n",
        "desired_rules = [\"Geometric1p2Sincere\",\n",
        "                 \"Geometric1p2Manip\",\n",
        "                 \"PluralitySincere\",\n",
        "                 \"PluralityManip\",\n",
        "                 \"Geometric1p5Sincere\",\n",
        "                 \"Geometric1p5Manip\",\n",
        "                 \"Geometric2Sincere\",\n",
        "                 \"Geometric2Manip\",\n",
        "                 \"BordaSincere\",\n",
        "                 \"BordaManip\",]\n",
        "\n",
        "visualise(current_scenario, desired_rules, 'Borda utility, convex rules , 5D Euclidean, n = 10')"
      ],
      "metadata": {
        "id": "Kd9V_IKsA61i"
      },
      "execution_count": null,
      "outputs": []
    },
    {
      "cell_type": "code",
      "source": [
        "current_scenario = form_file_suffix(10**4, \"Voters\", 10, \"EuclideanFive\", \"Borda\")\n",
        "desired_rules = [\"5ApprovalSincere\",\n",
        "                 \"5ApprovalManip\",\n",
        "                 \"PluralitySincere\",\n",
        "                 \"PluralityManip\",\n",
        "                 \"HalfApprovalSincere\",\n",
        "                 \"HalfApprovalManip\",\n",
        "                 \"QuarterApprovalSincere\",\n",
        "                 \"QuarterApprovalManip\"]\n",
        "visualise(current_scenario, desired_rules, 'Borda utility, approval family, 5D Euclidean, n = 10')"
      ],
      "metadata": {
        "id": "byegpiUMoTmZ"
      },
      "execution_count": null,
      "outputs": []
    },
    {
      "cell_type": "code",
      "source": [
        "current_scenario = form_file_suffix(10**4, \"Voters\", 10, \"EuclideanFive\", \"Borda\")\n",
        "desired_rules = [\"5BordaSincere\",\n",
        "                 \"5BordaManip\",\n",
        "                 \"BordaSincere\",\n",
        "                 \"BordaManip\",\n",
        "                 \"PluralitySincere\",\n",
        "                 \"PluralityManip\",\n",
        "                 \"HalfBordaSincere\",\n",
        "                 \"HalfBordaManip\",\n",
        "                 \"QuarterBordaSincere\",\n",
        "                 \"QuarterBordaManip\",\n",
        "                 ]\n",
        "visualise(current_scenario, desired_rules, 'Borda utility, Borda family, 5D Euclidean, n = 10')"
      ],
      "metadata": {
        "id": "eT7SHLNloXtU"
      },
      "execution_count": null,
      "outputs": []
    },
    {
      "cell_type": "code",
      "source": [
        "current_scenario = form_file_suffix(10**4, \"Voters\", 10, \"EuclideanFive\", \"Borda\")\n",
        "desired_rules = [\"Geometric0p8Sincere\",\n",
        "                 \"Geometric0p8Manip\",\n",
        "                 \"Geometric1p2Sincere\",\n",
        "                 \"Geometric1p2Manip\",\n",
        "                 \"HalfBordaSincere\",\n",
        "                 \"HalfBordaManip\",\n",
        "                 \"PluralitySincere\",\n",
        "                 \"PluralityManip\",\n",
        "                 \"QuarterApprovalSincere\",\n",
        "                 \"QuarterApprovalManip\"]\n",
        "visualise(current_scenario, desired_rules, 'Borda utility, interesting rules, 5D Euclidean, n = 10')"
      ],
      "metadata": {
        "id": "sMdE54LEA61j"
      },
      "execution_count": null,
      "outputs": []
    },
    {
      "cell_type": "markdown",
      "source": [
        "### 5D Euclidean, Rawls"
      ],
      "metadata": {
        "id": "9Sado7zGA61j"
      }
    },
    {
      "cell_type": "code",
      "source": [
        "current_scenario = form_file_suffix(10**4, \"Voters\", 10, \"EuclideanFive\", \"Rawls\")\n",
        "desired_rules = [\n",
        "                 \"Geometric0p8Sincere\",\n",
        "                 \"Geometric0p8Manip\",\n",
        "                 \"Geometric0p5Sincere\",\n",
        "                 \"Geometric0p5Manip\",\n",
        "                 \"Geometric0p65Sincere\",\n",
        "                 \"Geometric0p65Manip\",\n",
        "                 \"BordaSincere\",\n",
        "                 \"BordaManip\",\n",
        "                 \"NashSincere\",\n",
        "                 \"NashManip\",]\n",
        "\n",
        "visualise(current_scenario, desired_rules, 'Rawls utility, concave rules, 5D Euclidean, n = 10')"
      ],
      "metadata": {
        "id": "bPifrwYDA61j"
      },
      "execution_count": null,
      "outputs": []
    },
    {
      "cell_type": "code",
      "source": [
        "current_scenario = form_file_suffix(10**4, \"Voters\", 10, \"EuclideanFive\", \"Rawls\")\n",
        "desired_rules = [\"Geometric1p2Sincere\",\n",
        "                 \"Geometric1p2Manip\",\n",
        "                 \"PluralitySincere\",\n",
        "                 \"PluralityManip\",\n",
        "                 \"Geometric1p5Sincere\",\n",
        "                 \"Geometric1p5Manip\",\n",
        "                 \"Geometric2Sincere\",\n",
        "                 \"Geometric2Manip\",\n",
        "                 \"BordaSincere\",\n",
        "                 \"BordaManip\",]\n",
        "\n",
        "visualise(current_scenario, desired_rules, 'Rawls utility, convex rules , 5D Euclidean, n = 10')"
      ],
      "metadata": {
        "id": "Y_GwmZ6DA61j"
      },
      "execution_count": null,
      "outputs": []
    },
    {
      "cell_type": "code",
      "source": [
        "current_scenario = form_file_suffix(10**4, \"Voters\", 10, \"EuclideanFive\", \"Rawls\")\n",
        "desired_rules = [\"5ApprovalSincere\",\n",
        "                 \"5ApprovalManip\",\n",
        "                 \"PluralitySincere\",\n",
        "                 \"PluralityManip\",\n",
        "                 \"HalfApprovalSincere\",\n",
        "                 \"HalfApprovalManip\",\n",
        "                 \"QuarterApprovalSincere\",\n",
        "                 \"QuarterApprovalManip\"]\n",
        "visualise(current_scenario, desired_rules, 'Rawls utility, approval family, 5D Euclidean, n = 10')"
      ],
      "metadata": {
        "id": "qGhe3cBor5Qo"
      },
      "execution_count": null,
      "outputs": []
    },
    {
      "cell_type": "code",
      "source": [
        "current_scenario = form_file_suffix(10**4, \"Voters\", 10, \"EuclideanFive\", \"Rawls\")\n",
        "desired_rules = [\"5BordaSincere\",\n",
        "                 \"5BordaManip\",\n",
        "                 \"BordaSincere\",\n",
        "                 \"BordaManip\",\n",
        "                 \"PluralitySincere\",\n",
        "                 \"PluralityManip\",\n",
        "                 \"HalfBordaSincere\",\n",
        "                 \"HalfBordaManip\",\n",
        "                 \"QuarterBordaSincere\",\n",
        "                 \"QuarterBordaManip\",\n",
        "                 ]\n",
        "visualise(current_scenario, desired_rules, 'Rawls utility, Borda family, 5D Euclidean, n = 10')"
      ],
      "metadata": {
        "id": "AhTfDs-Wr8yw"
      },
      "execution_count": null,
      "outputs": []
    },
    {
      "cell_type": "code",
      "source": [
        "current_scenario = form_file_suffix(10**4, \"Voters\", 10, \"EuclideanFive\", \"Rawls\")\n",
        "desired_rules = [\"Geometric1p2Sincere\",\n",
        "                 \"Geometric1p2Manip\",\n",
        "                 \"Geometric0p8Sincere\",\n",
        "                 \"Geometric0p8Manip\",\n",
        "                 \"HalfBordaSincere\",\n",
        "                 \"HalfBordaManip\",\n",
        "                 \"PluralitySincere\",\n",
        "                 \"PluralityManip\",\n",
        "                 \"HalfApprovalSincere\",\n",
        "                 \"HalfApprovalManip\",\n",
        "                 ]\n",
        "visualise(current_scenario, desired_rules, 'Rawls utility, interesting rules, 5D Euclidean, n = 10')"
      ],
      "metadata": {
        "id": "sEGJnbpcA61k"
      },
      "execution_count": null,
      "outputs": []
    },
    {
      "cell_type": "markdown",
      "source": [
        "### 5D Euclidean, Nash"
      ],
      "metadata": {
        "id": "YeeZLF1AA61k"
      }
    },
    {
      "cell_type": "code",
      "source": [
        "current_scenario = form_file_suffix(10**4, \"Voters\", 10, \"EuclideanFive\", \"Nash\")\n",
        "desired_rules = [\n",
        "                 \"Geometric0p8Sincere\",\n",
        "                 \"Geometric0p8Manip\",\n",
        "                 \"Geometric0p5Sincere\",\n",
        "                 \"Geometric0p5Manip\",\n",
        "                 \"Geometric0p65Sincere\",\n",
        "                 \"Geometric0p65Manip\",\n",
        "                 \"BordaSincere\",\n",
        "                 \"BordaManip\",\n",
        "                 \"NashSincere\",\n",
        "                 \"NashManip\",]\n",
        "\n",
        "visualise(current_scenario, desired_rules, 'Nash utility, concave rules, 5D Euclidean, n = 10')"
      ],
      "metadata": {
        "id": "Ra7uaCa1A61l"
      },
      "execution_count": null,
      "outputs": []
    },
    {
      "cell_type": "code",
      "source": [
        "current_scenario = form_file_suffix(10**4, \"Voters\", 10, \"EuclideanFive\", \"Nash\")\n",
        "desired_rules = [\"Geometric1p2Sincere\",\n",
        "                 \"Geometric1p2Manip\",\n",
        "                 \"PluralitySincere\",\n",
        "                 \"PluralityManip\",\n",
        "                 \"Geometric1p5Sincere\",\n",
        "                 \"Geometric1p5Manip\",\n",
        "                 \"Geometric2Sincere\",\n",
        "                 \"Geometric2Manip\",\n",
        "                 \"BordaSincere\",\n",
        "                 \"BordaManip\",]\n",
        "\n",
        "visualise(current_scenario, desired_rules, 'Nash utility, convex rules , 5D Euclidean, n = 10')"
      ],
      "metadata": {
        "id": "XNqlM4Y7A61l"
      },
      "execution_count": null,
      "outputs": []
    },
    {
      "cell_type": "code",
      "source": [
        "current_scenario = form_file_suffix(10**4, \"Voters\", 10, \"EuclideanFive\", \"Nash\")\n",
        "desired_rules = [\"5ApprovalSincere\",\n",
        "                 \"5ApprovalManip\",\n",
        "                 \"PluralitySincere\",\n",
        "                 \"PluralityManip\",\n",
        "                 \"HalfApprovalSincere\",\n",
        "                 \"HalfApprovalManip\",\n",
        "                 \"QuarterApprovalSincere\",\n",
        "                 \"QuarterApprovalManip\"]\n",
        "visualise(current_scenario, desired_rules, 'Nash utility, approval family, 5D Euclidean, n = 10')"
      ],
      "metadata": {
        "id": "gjrezkLntVTR"
      },
      "execution_count": null,
      "outputs": []
    },
    {
      "cell_type": "code",
      "source": [
        "current_scenario = form_file_suffix(10**4, \"Voters\", 10, \"EuclideanFive\", \"Nash\")\n",
        "desired_rules = [\"5BordaSincere\",\n",
        "                 \"5BordaManip\",\n",
        "                 \"BordaSincere\",\n",
        "                 \"BordaManip\",\n",
        "                 \"PluralitySincere\",\n",
        "                 \"PluralityManip\",\n",
        "                 \"HalfBordaSincere\",\n",
        "                 \"HalfBordaManip\",\n",
        "                 \"QuarterBordaSincere\",\n",
        "                 \"QuarterBordaManip\",\n",
        "                 ]\n",
        "visualise(current_scenario, desired_rules, 'Nash utility, Borda family, 5D Euclidean, n = 10')"
      ],
      "metadata": {
        "id": "EOsFDd58tYux"
      },
      "execution_count": null,
      "outputs": []
    },
    {
      "cell_type": "code",
      "source": [
        "current_scenario = form_file_suffix(10**4, \"Voters\", 10, \"EuclideanFive\", \"Nash\")\n",
        "desired_rules = [\"NashSincere\",\n",
        "                 \"NashManip\",\n",
        "                 \"Geometric1p2Sincere\",\n",
        "                 \"Geometric1p2Manip\",\n",
        "                 \"HalfBordaSincere\",\n",
        "                 \"HalfBordaManip\",\n",
        "                 \"PluralitySincere\",\n",
        "                 \"PluralityManip\",\n",
        "                 \"HalfApprovalSincere\",\n",
        "                 \"HalfApprovalManip\"]\n",
        "visualise(current_scenario, desired_rules, 'Nash utility, interesting rules, 5D Euclidean, n = 10',truncate_bottom=3)"
      ],
      "metadata": {
        "id": "S2Q6G4piA61l"
      },
      "execution_count": null,
      "outputs": []
    },
    {
      "cell_type": "markdown",
      "source": [
        "## Fixed m"
      ],
      "metadata": {
        "id": "7Ux9JcnKLu-C"
      }
    },
    {
      "cell_type": "markdown",
      "source": [
        "### 5D Euclidean, Borda"
      ],
      "metadata": {
        "id": "m_gEGzEzLu-C"
      }
    },
    {
      "cell_type": "code",
      "source": [
        "current_scenario = form_file_suffix(10**4, \"Candidates\", 10, \"EuclideanFive\", \"Borda\")\n",
        "desired_rules = [\n",
        "                 \"Geometric0p8Sincere\",\n",
        "                 \"Geometric0p8Manip\",\n",
        "                 \"Geometric0p5Sincere\",\n",
        "                 \"Geometric0p5Manip\",\n",
        "                 \"Geometric0p65Sincere\",\n",
        "                 \"Geometric0p65Manip\",\n",
        "                 \"BordaSincere\",\n",
        "                 \"BordaManip\",\n",
        "                 \"NashSincere\",\n",
        "                 \"NashManip\",]\n",
        "\n",
        "visualise(current_scenario, desired_rules, 'Borda utility, concave rules, 5D Euclidean, m = 10', truncate_top=30)"
      ],
      "metadata": {
        "id": "2iolSfLmLu-D"
      },
      "execution_count": null,
      "outputs": []
    },
    {
      "cell_type": "code",
      "source": [
        "current_scenario = form_file_suffix(10**4, \"Candidates\", 10, \"EuclideanFive\", \"Borda\")\n",
        "desired_rules = [\"Geometric1p2Sincere\",\n",
        "                 \"Geometric1p2Manip\",\n",
        "                 \"PluralitySincere\",\n",
        "                 \"PluralityManip\",\n",
        "                 \"Geometric1p5Sincere\",\n",
        "                 \"Geometric1p5Manip\",\n",
        "                 \"Geometric2Sincere\",\n",
        "                 \"Geometric2Manip\",\n",
        "                 \"BordaSincere\",\n",
        "                 \"BordaManip\",]\n",
        "\n",
        "visualise(current_scenario, desired_rules, 'Borda utility, convex rules , 5D Euclidean, m = 10', truncate_top=30)"
      ],
      "metadata": {
        "id": "DCol8lc3Lu-D"
      },
      "execution_count": null,
      "outputs": []
    },
    {
      "cell_type": "code",
      "source": [
        "current_scenario = form_file_suffix(10**4, \"Candidates\", 10, \"EuclideanFive\", \"Borda\")\n",
        "desired_rules = [\"5ApprovalSincere\",\n",
        "                 \"5ApprovalManip\",\n",
        "                 \"5BordaSincere\",\n",
        "                 \"5BordaManip\",\n",
        "                 \"BordaSincere\",\n",
        "                 \"BordaManip\",\n",
        "                 \"PluralitySincere\",\n",
        "                 \"PluralityManip\",]\n",
        "visualise(current_scenario, desired_rules, 'Borda utility, abdriged rules, 5D Euclidean, m = 10', truncate_top=30)"
      ],
      "metadata": {
        "id": "pAEkbGsmLu-E"
      },
      "execution_count": null,
      "outputs": []
    },
    {
      "cell_type": "code",
      "source": [
        "current_scenario = form_file_suffix(10**4, \"Candidates\", 10, \"EuclideanFive\", \"Borda\")\n",
        "desired_rules = [\"Geometric0p8Sincere\",\n",
        "                 \"Geometric0p8Manip\",\n",
        "                 \"Geometric1p2Sincere\",\n",
        "                 \"Geometric1p2Manip\",\n",
        "                 \"BordaSincere\",\n",
        "                 \"BordaManip\",\n",
        "                 \"PluralitySincere\",\n",
        "                 \"PluralityManip\",]\n",
        "visualise(current_scenario, desired_rules, 'Borda utility, interesting rules, 5D Euclidean, m = 10', truncate_top=30)"
      ],
      "metadata": {
        "id": "SNPCpORULu-E"
      },
      "execution_count": null,
      "outputs": []
    },
    {
      "cell_type": "markdown",
      "source": [
        "### 5D Euclidean, Rawls"
      ],
      "metadata": {
        "id": "i9kerY02Lu-F"
      }
    },
    {
      "cell_type": "code",
      "source": [
        "current_scenario = form_file_suffix(10**4, \"Candidates\", 10, \"EuclideanFive\", \"Rawls\")\n",
        "desired_rules = [\n",
        "                 \"Geometric0p8Sincere\",\n",
        "                 \"Geometric0p8Manip\",\n",
        "                 \"Geometric0p5Sincere\",\n",
        "                 \"Geometric0p5Manip\",\n",
        "                 \"Geometric0p65Sincere\",\n",
        "                 \"Geometric0p65Manip\",\n",
        "                 \"BordaSincere\",\n",
        "                 \"BordaManip\",\n",
        "                 \"NashSincere\",\n",
        "                 \"NashManip\",]\n",
        "\n",
        "visualise(current_scenario, desired_rules, 'Rawls utility, concave rules, 5D Euclidean, m = 10', truncate_top=25)"
      ],
      "metadata": {
        "id": "cZWyhyRcLu-F"
      },
      "execution_count": null,
      "outputs": []
    },
    {
      "cell_type": "code",
      "source": [
        "current_scenario = form_file_suffix(10**4, \"Candidates\", 10, \"EuclideanFive\", \"Rawls\")\n",
        "desired_rules = [\"Geometric1p2Sincere\",\n",
        "                 \"Geometric1p2Manip\",\n",
        "                 \"PluralitySincere\",\n",
        "                 \"PluralityManip\",\n",
        "                 \"Geometric1p5Sincere\",\n",
        "                 \"Geometric1p5Manip\",\n",
        "                 \"Geometric2Sincere\",\n",
        "                 \"Geometric2Manip\",\n",
        "                 \"BordaSincere\",\n",
        "                 \"BordaManip\",]\n",
        "\n",
        "visualise(current_scenario, desired_rules, 'Rawls utility, convex rules , 5D Euclidean, m = 10', truncate_top=25)"
      ],
      "metadata": {
        "id": "EL0Dy-CQLu-F"
      },
      "execution_count": null,
      "outputs": []
    },
    {
      "cell_type": "code",
      "source": [
        "current_scenario = form_file_suffix(10**4, \"Candidates\", 10, \"EuclideanFive\", \"Rawls\")\n",
        "desired_rules = [\"5ApprovalSincere\",\n",
        "                 \"5ApprovalManip\",\n",
        "                 \"5BordaSincere\",\n",
        "                 \"5BordaManip\",\n",
        "                 \"BordaSincere\",\n",
        "                 \"BordaManip\",\n",
        "                 \"PluralitySincere\",\n",
        "                 \"PluralityManip\",]\n",
        "visualise(current_scenario, desired_rules, 'Rawls utility, abdriged rules, 5D Euclidean, m = 10', truncate_top=25)"
      ],
      "metadata": {
        "id": "TUB1Tv6pLu-G"
      },
      "execution_count": null,
      "outputs": []
    },
    {
      "cell_type": "code",
      "source": [
        "current_scenario = form_file_suffix(10**4, \"Candidates\", 10, \"EuclideanFive\", \"Rawls\")\n",
        "desired_rules = [\"5ApprovalSincere\",\n",
        "                 \"5ApprovalManip\",\n",
        "                 \"Geometric1p2Sincere\",\n",
        "                 \"Geometric1p2Manip\",\n",
        "                 \"Geometric0p8Sincere\",\n",
        "                 \"Geometric0p8Manip\",\n",
        "                 \"BordaSincere\",\n",
        "                 \"BordaManip\",\n",
        "                 \"PluralitySincere\",\n",
        "                 \"PluralityManip\",]\n",
        "visualise(current_scenario, desired_rules, 'Rawls utility, interesting rules, 5D Euclidean, m = 10', truncate_top=25)"
      ],
      "metadata": {
        "id": "q5ZUqruvLu-G"
      },
      "execution_count": null,
      "outputs": []
    },
    {
      "cell_type": "markdown",
      "source": [
        "### 5D Euclidean, Nash"
      ],
      "metadata": {
        "id": "cKwGc2-2Lu-G"
      }
    },
    {
      "cell_type": "code",
      "source": [
        "current_scenario = form_file_suffix(10**4, \"Candidates\", 10, \"EuclideanFive\", \"Nash\")\n",
        "desired_rules = [\n",
        "                 \"Geometric0p8Sincere\",\n",
        "                 \"Geometric0p8Manip\",\n",
        "                 \"Geometric0p5Sincere\",\n",
        "                 \"Geometric0p5Manip\",\n",
        "                 \"Geometric0p65Sincere\",\n",
        "                 \"Geometric0p65Manip\",\n",
        "                 \"BordaSincere\",\n",
        "                 \"BordaManip\",\n",
        "                 \"NashSincere\",\n",
        "                 \"NashManip\",]\n",
        "\n",
        "visualise(current_scenario, desired_rules, 'Nash utility, concave rules, 5D Euclidean, m = 10', truncate_top=30)"
      ],
      "metadata": {
        "id": "d4N505hkLu-H"
      },
      "execution_count": null,
      "outputs": []
    },
    {
      "cell_type": "code",
      "source": [
        "current_scenario = form_file_suffix(10**4, \"Candidates\", 10, \"EuclideanFive\", \"Nash\")\n",
        "desired_rules = [\"Geometric1p2Sincere\",\n",
        "                 \"Geometric1p2Manip\",\n",
        "                 \"PluralitySincere\",\n",
        "                 \"PluralityManip\",\n",
        "                 \"Geometric1p5Sincere\",\n",
        "                 \"Geometric1p5Manip\",\n",
        "                 \"Geometric2Sincere\",\n",
        "                 \"Geometric2Manip\",\n",
        "                 \"BordaSincere\",\n",
        "                 \"BordaManip\",]\n",
        "\n",
        "visualise(current_scenario, desired_rules, 'Nash utility, convex rules , 5D Euclidean, m = 10', truncate_top=30)"
      ],
      "metadata": {
        "id": "2gQNXBn9Lu-H"
      },
      "execution_count": null,
      "outputs": []
    },
    {
      "cell_type": "code",
      "source": [
        "current_scenario = form_file_suffix(10**4, \"Candidates\", 10, \"EuclideanFive\", \"Nash\")\n",
        "desired_rules = [\"5ApprovalSincere\",\n",
        "                 \"5ApprovalManip\",\n",
        "                 \"5BordaSincere\",\n",
        "                 \"5BordaManip\",\n",
        "                 \"BordaSincere\",\n",
        "                 \"BordaManip\",\n",
        "                 \"PluralitySincere\",\n",
        "                 \"PluralityManip\",]\n",
        "visualise(current_scenario, desired_rules, 'Nash utility, abdriged rules, 5D Euclidean, m = 10', truncate_top=30)"
      ],
      "metadata": {
        "id": "SuGnm8Z4Lu-H"
      },
      "execution_count": null,
      "outputs": []
    },
    {
      "cell_type": "code",
      "source": [
        "current_scenario = form_file_suffix(10**4, \"Candidates\", 10, \"EuclideanFive\", \"Nash\")\n",
        "desired_rules = [\"Geometric0p8Sincere\",\n",
        "                 \"Geometric0p8Manip\",\n",
        "                 \"Geometric1p2Sincere\",\n",
        "                 \"Geometric1p2Manip\",\n",
        "                 \"BordaSincere\",\n",
        "                 \"BordaManip\",\n",
        "                 \"5ApprovalSincere\",\n",
        "                 \"5ApprovalManip\",]\n",
        "visualise(current_scenario, desired_rules, 'Nash utility, interesting rules, 5D Euclidean, m = 10', truncate_top=30)"
      ],
      "metadata": {
        "id": "JkXFDbiSLu-I"
      },
      "execution_count": null,
      "outputs": []
    },
    {
      "cell_type": "markdown",
      "source": [
        "# Mallows 0.8\n"
      ],
      "metadata": {
        "id": "3uf4H2CDL17-"
      }
    },
    {
      "cell_type": "markdown",
      "source": [
        "## Fixed n"
      ],
      "metadata": {
        "id": "nMPthbufNv62"
      }
    },
    {
      "cell_type": "markdown",
      "source": [
        "### Mallows 0.8, Borda"
      ],
      "metadata": {
        "id": "LIfKNBu8L18F"
      }
    },
    {
      "cell_type": "code",
      "source": [
        "current_scenario = form_file_suffix(10**4, \"Voters\", 10, \"MallowsPointEight\", \"Borda\")\n",
        "desired_rules = [\n",
        "                 \"Geometric0p8Sincere\",\n",
        "                 \"Geometric0p8Manip\",\n",
        "                 \"Geometric0p5Sincere\",\n",
        "                 \"Geometric0p5Manip\",\n",
        "                 \"Geometric0p65Sincere\",\n",
        "                 \"Geometric0p65Manip\",\n",
        "                 \"BordaSincere\",\n",
        "                 \"BordaManip\",\n",
        "                 \"NashSincere\",\n",
        "                 \"NashManip\",]\n",
        "\n",
        "visualise(current_scenario, desired_rules, 'Borda utility, concave rules, Mallows 0.8, n = 10')"
      ],
      "metadata": {
        "id": "z-1KAuFAL18G"
      },
      "execution_count": null,
      "outputs": []
    },
    {
      "cell_type": "code",
      "source": [
        "current_scenario = form_file_suffix(10**4, \"Voters\", 10, \"MallowsPointEight\", \"Borda\")\n",
        "desired_rules = [\"Geometric1p2Sincere\",\n",
        "                 \"Geometric1p2Manip\",\n",
        "                 \"PluralitySincere\",\n",
        "                 \"PluralityManip\",\n",
        "                 \"Geometric1p5Sincere\",\n",
        "                 \"Geometric1p5Manip\",\n",
        "                 \"Geometric2Sincere\",\n",
        "                 \"Geometric2Manip\",\n",
        "                 \"BordaSincere\",\n",
        "                 \"BordaManip\",]\n",
        "\n",
        "visualise(current_scenario, desired_rules, 'Borda utility, convex rules , Mallows 0.8, n = 10')"
      ],
      "metadata": {
        "id": "vMncrNIQL18G"
      },
      "execution_count": null,
      "outputs": []
    },
    {
      "cell_type": "code",
      "source": [
        "current_scenario = form_file_suffix(10**4, \"Voters\", 10, \"MallowsPointEight\", \"Borda\")\n",
        "desired_rules = [\"5ApprovalSincere\",\n",
        "                 \"5ApprovalManip\",\n",
        "                 \"PluralitySincere\",\n",
        "                 \"PluralityManip\",\n",
        "                 \"HalfApprovalSincere\",\n",
        "                 \"HalfApprovalManip\",\n",
        "                 \"QuarterApprovalSincere\",\n",
        "                 \"QuarterApprovalManip\"]\n",
        "visualise(current_scenario, desired_rules, 'Borda utility, approval family, Mallows 0.8, n = 10')"
      ],
      "metadata": {
        "id": "7OeBNDt4vq3K"
      },
      "execution_count": null,
      "outputs": []
    },
    {
      "cell_type": "code",
      "source": [
        "current_scenario = form_file_suffix(10**4, \"Voters\", 10, \"MallowsPointEight\", \"Borda\")\n",
        "desired_rules = [\"5BordaSincere\",\n",
        "                 \"5BordaManip\",\n",
        "                 \"BordaSincere\",\n",
        "                 \"BordaManip\",\n",
        "                 \"PluralitySincere\",\n",
        "                 \"PluralityManip\",\n",
        "                 \"HalfBordaSincere\",\n",
        "                 \"HalfBordaManip\",\n",
        "                 \"QuarterBordaSincere\",\n",
        "                 \"QuarterBordaManip\",\n",
        "                 ]\n",
        "visualise(current_scenario, desired_rules, 'Borda utility, Borda family, Mallows 0.8, n = 10')"
      ],
      "metadata": {
        "id": "nB7I1kvjvu1t"
      },
      "execution_count": null,
      "outputs": []
    },
    {
      "cell_type": "code",
      "source": [
        "current_scenario = form_file_suffix(10**4, \"Voters\", 10, \"MallowsPointEight\", \"Borda\")\n",
        "desired_rules = [\"Geometric0p8Sincere\",\n",
        "                 \"Geometric0p8Manip\",\n",
        "                 \"Geometric1p2Sincere\",\n",
        "                 \"Geometric1p2Manip\",\n",
        "                 \"BordaSincere\",\n",
        "                 \"BordaManip\",\n",
        "                 \"PluralitySincere\",\n",
        "                 \"PluralityManip\",]\n",
        "visualise(current_scenario, desired_rules, 'Borda utility, interesting rules, Mallows 0.8, n = 10')"
      ],
      "metadata": {
        "id": "Ep6FyD5PL18H"
      },
      "execution_count": null,
      "outputs": []
    },
    {
      "cell_type": "markdown",
      "source": [
        "### Mallows 0.8, Rawls"
      ],
      "metadata": {
        "id": "vQPslHoQL18H"
      }
    },
    {
      "cell_type": "code",
      "source": [
        "current_scenario = form_file_suffix(10**4, \"Voters\", 10, \"MallowsPointEight\", \"Rawls\")\n",
        "desired_rules = [\n",
        "                 \"Geometric0p8Sincere\",\n",
        "                 \"Geometric0p8Manip\",\n",
        "                 \"Geometric0p5Sincere\",\n",
        "                 \"Geometric0p5Manip\",\n",
        "                 \"Geometric0p65Sincere\",\n",
        "                 \"Geometric0p65Manip\",\n",
        "                 \"BordaSincere\",\n",
        "                 \"BordaManip\",\n",
        "                 \"NashSincere\",\n",
        "                 \"NashManip\",]\n",
        "\n",
        "visualise(current_scenario, desired_rules, 'Rawls utility, concave rules, Mallows 0.8, n = 10')"
      ],
      "metadata": {
        "id": "0nqiA5lAL18H"
      },
      "execution_count": null,
      "outputs": []
    },
    {
      "cell_type": "code",
      "source": [
        "current_scenario = form_file_suffix(10**4, \"Voters\", 10, \"MallowsPointEight\", \"Rawls\")\n",
        "desired_rules = [\"Geometric1p2Sincere\",\n",
        "                 \"Geometric1p2Manip\",\n",
        "                 \"PluralitySincere\",\n",
        "                 \"PluralityManip\",\n",
        "                 \"Geometric1p5Sincere\",\n",
        "                 \"Geometric1p5Manip\",\n",
        "                 \"Geometric2Sincere\",\n",
        "                 \"Geometric2Manip\",\n",
        "                 \"BordaSincere\",\n",
        "                 \"BordaManip\",]\n",
        "\n",
        "visualise(current_scenario, desired_rules, 'Rawls utility, convex rules , Mallows 0.8, n = 10')"
      ],
      "metadata": {
        "id": "kaHaZyieL18H"
      },
      "execution_count": null,
      "outputs": []
    },
    {
      "cell_type": "code",
      "source": [
        "current_scenario = form_file_suffix(10**4, \"Voters\", 10, \"MallowsPointEight\", \"Rawls\")\n",
        "desired_rules = [\"5ApprovalSincere\",\n",
        "                 \"5ApprovalManip\",\n",
        "                 \"PluralitySincere\",\n",
        "                 \"PluralityManip\",\n",
        "                 \"HalfApprovalSincere\",\n",
        "                 \"HalfApprovalManip\",\n",
        "                 \"QuarterApprovalSincere\",\n",
        "                 \"QuarterApprovalManip\"]\n",
        "visualise(current_scenario, desired_rules, 'Rawls utility, approval family, Mallows 0.8, n = 10')"
      ],
      "metadata": {
        "id": "69s2iLb4wPDl"
      },
      "execution_count": null,
      "outputs": []
    },
    {
      "cell_type": "code",
      "source": [
        "current_scenario = form_file_suffix(10**4, \"Voters\", 10, \"MallowsPointEight\", \"Rawls\")\n",
        "desired_rules = [\"5BordaSincere\",\n",
        "                 \"5BordaManip\",\n",
        "                 \"BordaSincere\",\n",
        "                 \"BordaManip\",\n",
        "                 \"PluralitySincere\",\n",
        "                 \"PluralityManip\",\n",
        "                 \"HalfBordaSincere\",\n",
        "                 \"HalfBordaManip\",\n",
        "                 \"QuarterBordaSincere\",\n",
        "                 \"QuarterBordaManip\",\n",
        "                 ]\n",
        "visualise(current_scenario, desired_rules, 'Rawls utility, Borda family, Mallows 0.8, n = 10', truncate_top=25)"
      ],
      "metadata": {
        "id": "E_lzvh1vwRX_"
      },
      "execution_count": null,
      "outputs": []
    },
    {
      "cell_type": "code",
      "source": [
        "current_scenario = form_file_suffix(10**4, \"Voters\", 10, \"MallowsPointEight\", \"Rawls\")\n",
        "desired_rules = [\"Geometric1p2Sincere\",\n",
        "                 \"Geometric1p2Manip\",\n",
        "                 \"Geometric0p5Sincere\",\n",
        "                 \"Geometric0p5Manip\",\n",
        "                 \"BordaSincere\",\n",
        "                 \"BordaManip\",\n",
        "                 \"QuarterApprovalSincere\",\n",
        "                 \"QuarterApprovalManip\",]\n",
        "visualise(current_scenario, desired_rules, 'Rawls utility, interesting rules, Mallows 0.8, n = 10')"
      ],
      "metadata": {
        "id": "AtZIQkQCL18I"
      },
      "execution_count": null,
      "outputs": []
    },
    {
      "cell_type": "markdown",
      "source": [
        "### Mallows 0.8, Nash"
      ],
      "metadata": {
        "id": "RyLx9_rbL18I"
      }
    },
    {
      "cell_type": "code",
      "source": [
        "current_scenario = form_file_suffix(10**4, \"Voters\", 10, \"MallowsPointEight\", \"Nash\")\n",
        "desired_rules = [\n",
        "                 \"Geometric0p8Sincere\",\n",
        "                 \"Geometric0p8Manip\",\n",
        "                 \"Geometric0p5Sincere\",\n",
        "                 \"Geometric0p5Manip\",\n",
        "                 \"Geometric0p65Sincere\",\n",
        "                 \"Geometric0p65Manip\",\n",
        "                 \"BordaSincere\",\n",
        "                 \"BordaManip\",\n",
        "                 \"NashSincere\",\n",
        "                 \"NashManip\",]\n",
        "\n",
        "visualise(current_scenario, desired_rules, 'Nash utility, concave rules, Mallows 0.8, n = 10')"
      ],
      "metadata": {
        "id": "ziJNuvkML18I"
      },
      "execution_count": null,
      "outputs": []
    },
    {
      "cell_type": "code",
      "source": [
        "current_scenario = form_file_suffix(10**4, \"Voters\", 10, \"MallowsPointEight\", \"Nash\")\n",
        "desired_rules = [\"Geometric1p2Sincere\",\n",
        "                 \"Geometric1p2Manip\",\n",
        "                 \"PluralitySincere\",\n",
        "                 \"PluralityManip\",\n",
        "                 \"Geometric1p5Sincere\",\n",
        "                 \"Geometric1p5Manip\",\n",
        "                 \"Geometric2Sincere\",\n",
        "                 \"Geometric2Manip\",\n",
        "                 \"BordaSincere\",\n",
        "                 \"BordaManip\",]\n",
        "\n",
        "visualise(current_scenario, desired_rules, 'Nash utility, convex rules , Mallows 0.8, n = 10')"
      ],
      "metadata": {
        "id": "rXIqGuaJL18I"
      },
      "execution_count": null,
      "outputs": []
    },
    {
      "cell_type": "code",
      "source": [
        "current_scenario = form_file_suffix(10**4, \"Voters\", 10, \"MallowsPointEight\", \"Nash\")\n",
        "desired_rules = [\"5ApprovalSincere\",\n",
        "                 \"5ApprovalManip\",\n",
        "                 \"PluralitySincere\",\n",
        "                 \"PluralityManip\",\n",
        "                 \"HalfApprovalSincere\",\n",
        "                 \"HalfApprovalManip\",\n",
        "                 \"QuarterApprovalSincere\",\n",
        "                 \"QuarterApprovalManip\"]\n",
        "visualise(current_scenario, desired_rules, 'Nash utility, approval family, Mallows 0.8, n = 10')"
      ],
      "metadata": {
        "id": "-PMXR3snw0w4"
      },
      "execution_count": null,
      "outputs": []
    },
    {
      "cell_type": "code",
      "source": [
        "current_scenario = form_file_suffix(10**4, \"Voters\", 10, \"MallowsPointEight\", \"Nash\")\n",
        "desired_rules = [\"5BordaSincere\",\n",
        "                 \"5BordaManip\",\n",
        "                 \"BordaSincere\",\n",
        "                 \"BordaManip\",\n",
        "                 \"PluralitySincere\",\n",
        "                 \"PluralityManip\",\n",
        "                 \"HalfBordaSincere\",\n",
        "                 \"HalfBordaManip\",\n",
        "                 \"QuarterBordaSincere\",\n",
        "                 \"QuarterBordaManip\",\n",
        "                 ]\n",
        "visualise(current_scenario, desired_rules, 'Nash utility, Borda family, Mallows 0.8, n = 10')"
      ],
      "metadata": {
        "id": "nAGwmm_hw34B"
      },
      "execution_count": null,
      "outputs": []
    },
    {
      "cell_type": "code",
      "source": [
        "current_scenario = form_file_suffix(10**4, \"Voters\", 10, \"MallowsPointEight\", \"Nash\")\n",
        "desired_rules = [\"Geometric0p65Sincere\",\n",
        "                 \"Geometric0p65Manip\",\n",
        "                 \"Geometric1p2Sincere\",\n",
        "                 \"Geometric1p2Manip\",\n",
        "                 \"BordaSincere\",\n",
        "                 \"BordaManip\",\n",
        "                 \"NashSincere\",\n",
        "                 \"NashManip\",]\n",
        "visualise(current_scenario, desired_rules, 'Nash utility, interesting rules, Mallows 0.8, n = 10')"
      ],
      "metadata": {
        "id": "cJK6fCJ1L18J"
      },
      "execution_count": null,
      "outputs": []
    },
    {
      "cell_type": "markdown",
      "source": [
        "## Fixed m"
      ],
      "metadata": {
        "id": "j7FzLcftN1Db"
      }
    },
    {
      "cell_type": "markdown",
      "source": [
        "### Mallows 0.8, Borda"
      ],
      "metadata": {
        "id": "TukB_QRIN1Dc"
      }
    },
    {
      "cell_type": "code",
      "source": [
        "current_scenario = form_file_suffix(10**4, \"Candidates\", 10, \"MallowsPointEight\", \"Borda\")\n",
        "desired_rules = [\n",
        "                 \"Geometric0p8Sincere\",\n",
        "                 \"Geometric0p8Manip\",\n",
        "                 \"Geometric0p5Sincere\",\n",
        "                 \"Geometric0p5Manip\",\n",
        "                 \"Geometric0p65Sincere\",\n",
        "                 \"Geometric0p65Manip\",\n",
        "                 \"BordaSincere\",\n",
        "                 \"BordaManip\",\n",
        "                 \"NashSincere\",\n",
        "                 \"NashManip\",]\n",
        "\n",
        "visualise(current_scenario, desired_rules, 'Borda utility, concave rules, Mallows 0.8, m = 10')"
      ],
      "metadata": {
        "id": "oS3WXz9SN1Dc"
      },
      "execution_count": null,
      "outputs": []
    },
    {
      "cell_type": "code",
      "source": [
        "current_scenario = form_file_suffix(10**4, \"Candidates\", 10, \"MallowsPointEight\", \"Borda\")\n",
        "desired_rules = [\"Geometric1p2Sincere\",\n",
        "                 \"Geometric1p2Manip\",\n",
        "                 \"PluralitySincere\",\n",
        "                 \"PluralityManip\",\n",
        "                 \"Geometric1p5Sincere\",\n",
        "                 \"Geometric1p5Manip\",\n",
        "                 \"Geometric2Sincere\",\n",
        "                 \"Geometric2Manip\",\n",
        "                 \"BordaSincere\",\n",
        "                 \"BordaManip\",]\n",
        "\n",
        "visualise(current_scenario, desired_rules, 'Borda utility, convex rules , Mallows 0.8, m = 10', truncate_top=30)"
      ],
      "metadata": {
        "id": "AdtV9IcuN1Dd"
      },
      "execution_count": null,
      "outputs": []
    },
    {
      "cell_type": "code",
      "source": [
        "current_scenario = form_file_suffix(10**4, \"Candidates\", 10, \"MallowsPointEight\", \"Borda\")\n",
        "desired_rules = [\"5ApprovalSincere\",\n",
        "                 \"5ApprovalManip\",\n",
        "                 \"5BordaSincere\",\n",
        "                 \"5BordaManip\",\n",
        "                 \"BordaSincere\",\n",
        "                 \"BordaManip\",\n",
        "                 \"PluralitySincere\",\n",
        "                 \"PluralityManip\",]\n",
        "visualise(current_scenario, desired_rules, 'Borda utility, abdriged rules, Mallows 0.8, m = 10', truncate_top=30)"
      ],
      "metadata": {
        "id": "L6L10J9kN1De"
      },
      "execution_count": null,
      "outputs": []
    },
    {
      "cell_type": "code",
      "source": [
        "current_scenario = form_file_suffix(10**4, \"Candidates\", 10, \"MallowsPointEight\", \"Borda\")\n",
        "desired_rules = [\"Geometric0p8Sincere\",\n",
        "                 \"Geometric0p8Manip\",\n",
        "                 \"Geometric1p2Sincere\",\n",
        "                 \"Geometric1p2Manip\",\n",
        "                 \"BordaSincere\",\n",
        "                 \"BordaManip\",\n",
        "                 \"PluralitySincere\",\n",
        "                 \"PluralityManip\",]\n",
        "visualise(current_scenario, desired_rules, 'Borda utility, interesting rules, Mallows 0.8, m = 10', truncate_top=30)"
      ],
      "metadata": {
        "id": "E5w9GTGrN1De"
      },
      "execution_count": null,
      "outputs": []
    },
    {
      "cell_type": "markdown",
      "source": [
        "### Mallows 0.8, Rawls"
      ],
      "metadata": {
        "id": "obF_QsH2N1Df"
      }
    },
    {
      "cell_type": "code",
      "source": [
        "current_scenario = form_file_suffix(10**4, \"Candidates\", 10, \"MallowsPointEight\", \"Rawls\")\n",
        "desired_rules = [\n",
        "                 \"Geometric0p8Sincere\",\n",
        "                 \"Geometric0p8Manip\",\n",
        "                 \"Geometric0p5Sincere\",\n",
        "                 \"Geometric0p5Manip\",\n",
        "                 \"Geometric0p65Sincere\",\n",
        "                 \"Geometric0p65Manip\",\n",
        "                 \"BordaSincere\",\n",
        "                 \"BordaManip\",\n",
        "                 \"NashSincere\",\n",
        "                 \"NashManip\",]\n",
        "\n",
        "visualise(current_scenario, desired_rules, 'Rawls utility, concave rules, Mallows 0.8, m = 10', truncate_top=30)"
      ],
      "metadata": {
        "id": "Zodt6Z6oN1Df"
      },
      "execution_count": null,
      "outputs": []
    },
    {
      "cell_type": "code",
      "source": [
        "current_scenario = form_file_suffix(10**4, \"Candidates\", 10, \"MallowsPointEight\", \"Rawls\")\n",
        "desired_rules = [\"Geometric1p2Sincere\",\n",
        "                 \"Geometric1p2Manip\",\n",
        "                 \"PluralitySincere\",\n",
        "                 \"PluralityManip\",\n",
        "                 \"Geometric1p5Sincere\",\n",
        "                 \"Geometric1p5Manip\",\n",
        "                 \"Geometric2Sincere\",\n",
        "                 \"Geometric2Manip\",\n",
        "                 \"BordaSincere\",\n",
        "                 \"BordaManip\",]\n",
        "\n",
        "visualise(current_scenario, desired_rules, 'Rawls utility, convex rules , Mallows 0.8, m = 10', truncate_top=30)"
      ],
      "metadata": {
        "id": "eZSNee_LN1Df"
      },
      "execution_count": null,
      "outputs": []
    },
    {
      "cell_type": "code",
      "source": [
        "current_scenario = form_file_suffix(10**4, \"Candidates\", 10, \"MallowsPointEight\", \"Rawls\")\n",
        "desired_rules = [\"5ApprovalSincere\",\n",
        "                 \"5ApprovalManip\",\n",
        "                 \"5BordaSincere\",\n",
        "                 \"5BordaManip\",\n",
        "                 \"BordaSincere\",\n",
        "                 \"BordaManip\",\n",
        "                 \"PluralitySincere\",\n",
        "                 \"PluralityManip\",]\n",
        "visualise(current_scenario, desired_rules, 'Rawls utility, abdriged rules, Mallows 0.8, m = 10', truncate_top=30)"
      ],
      "metadata": {
        "id": "qOjJlOBiN1Dg"
      },
      "execution_count": null,
      "outputs": []
    },
    {
      "cell_type": "code",
      "source": [
        "current_scenario = form_file_suffix(10**4, \"Candidates\", 10, \"MallowsPointEight\", \"Rawls\")\n",
        "desired_rules = [\"Geometric1p2Sincere\",\n",
        "                 \"Geometric1p2Manip\",\n",
        "                 \"Geometric0p5Sincere\",\n",
        "                 \"Geometric0p5Manip\",\n",
        "                 \"BordaSincere\",\n",
        "                 \"BordaManip\",\n",
        "                 \"PluralitySincere\",\n",
        "                 \"PluralityManip\",]\n",
        "visualise(current_scenario, desired_rules, 'Rawls utility, interesting rules, Mallows 0.8, m = 10', truncate_top=30)"
      ],
      "metadata": {
        "id": "9Z2tOc0BN1Dg"
      },
      "execution_count": null,
      "outputs": []
    },
    {
      "cell_type": "markdown",
      "source": [
        "### Mallows 0.8, Nash"
      ],
      "metadata": {
        "id": "UkTk3mhzN1Dk"
      }
    },
    {
      "cell_type": "code",
      "source": [
        "current_scenario = form_file_suffix(10**4, \"Candidates\", 10, \"MallowsPointEight\", \"Nash\")\n",
        "desired_rules = [\n",
        "                 \"Geometric0p8Sincere\",\n",
        "                 \"Geometric0p8Manip\",\n",
        "                 \"Geometric0p5Sincere\",\n",
        "                 \"Geometric0p5Manip\",\n",
        "                 \"Geometric0p65Sincere\",\n",
        "                 \"Geometric0p65Manip\",\n",
        "                 \"BordaSincere\",\n",
        "                 \"BordaManip\",\n",
        "                 \"NashSincere\",\n",
        "                 \"NashManip\",]\n",
        "\n",
        "visualise(current_scenario, desired_rules, 'Nash utility, concave rules, Mallows 0.8, m = 10', truncate_top=30)"
      ],
      "metadata": {
        "id": "EHJ69qZON1Dl"
      },
      "execution_count": null,
      "outputs": []
    },
    {
      "cell_type": "code",
      "source": [
        "current_scenario = form_file_suffix(10**4, \"Candidates\", 10, \"MallowsPointEight\", \"Nash\")\n",
        "desired_rules = [\"Geometric1p2Sincere\",\n",
        "                 \"Geometric1p2Manip\",\n",
        "                 \"PluralitySincere\",\n",
        "                 \"PluralityManip\",\n",
        "                 \"Geometric1p5Sincere\",\n",
        "                 \"Geometric1p5Manip\",\n",
        "                 \"Geometric2Sincere\",\n",
        "                 \"Geometric2Manip\",\n",
        "                 \"BordaSincere\",\n",
        "                 \"BordaManip\",]\n",
        "\n",
        "visualise(current_scenario, desired_rules, 'Nash utility, convex rules , Mallows 0.8, m = 10', truncate_top=30)"
      ],
      "metadata": {
        "id": "V8iQ8MAnN1Dm"
      },
      "execution_count": null,
      "outputs": []
    },
    {
      "cell_type": "code",
      "source": [
        "current_scenario = form_file_suffix(10**4, \"Candidates\", 10, \"MallowsPointEight\", \"Nash\")\n",
        "desired_rules = [\"5ApprovalSincere\",\n",
        "                 \"5ApprovalManip\",\n",
        "                 \"5BordaSincere\",\n",
        "                 \"5BordaManip\",\n",
        "                 \"BordaSincere\",\n",
        "                 \"BordaManip\",\n",
        "                 \"PluralitySincere\",\n",
        "                 \"PluralityManip\",]\n",
        "visualise(current_scenario, desired_rules, 'Nash utility, abdriged rules, Mallows 0.8, m = 10', truncate_top=30)"
      ],
      "metadata": {
        "id": "cqfdS8PnN1Dn"
      },
      "execution_count": null,
      "outputs": []
    },
    {
      "cell_type": "code",
      "source": [
        "current_scenario = form_file_suffix(10**4, \"Candidates\", 10, \"MallowsPointEight\", \"Nash\")\n",
        "desired_rules = [\"Geometric0p5Sincere\",\n",
        "                 \"Geometric0p5Manip\",\n",
        "                 \"Geometric1p2Sincere\",\n",
        "                 \"Geometric1p2Manip\",\n",
        "                 \"BordaSincere\",\n",
        "                 \"BordaManip\",\n",
        "                 \"PluralitySincere\",\n",
        "                 \"PluralityManip\",]\n",
        "visualise(current_scenario, desired_rules, 'Nash utility, interesting rules, Mallows 0.8, m = 10', truncate_top=30)"
      ],
      "metadata": {
        "id": "-bXp4KJGN1Ds"
      },
      "execution_count": null,
      "outputs": []
    },
    {
      "cell_type": "markdown",
      "source": [
        "# Mallows 0.5\n",
        "\n"
      ],
      "metadata": {
        "id": "YsVZlNhQQoTW"
      }
    },
    {
      "cell_type": "markdown",
      "source": [
        "## Fixed n"
      ],
      "metadata": {
        "id": "4BUsuVAbOu7y"
      }
    },
    {
      "cell_type": "markdown",
      "source": [
        "### Mallows 0.5, Borda"
      ],
      "metadata": {
        "id": "QqDer30QQoTl"
      }
    },
    {
      "cell_type": "code",
      "source": [
        "current_scenario = form_file_suffix(10**4, \"Voters\", 10, \"MallowsPointFive\", \"Borda\")\n",
        "desired_rules = [\n",
        "                 \"Geometric0p8Sincere\",\n",
        "                 \"Geometric0p8Manip\",\n",
        "                 \"Geometric0p5Sincere\",\n",
        "                 \"Geometric0p5Manip\",\n",
        "                 \"Geometric0p65Sincere\",\n",
        "                 \"Geometric0p65Manip\",\n",
        "                 \"BordaSincere\",\n",
        "                 \"BordaManip\",\n",
        "                 \"NashSincere\",\n",
        "                 \"NashManip\",]\n",
        "\n",
        "visualise(current_scenario, desired_rules, 'Borda utility, concave rules, Mallows 0.5, n = 10', truncate_bottom = 5, truncate_top=60)"
      ],
      "metadata": {
        "id": "rPT4qla9QoTl"
      },
      "execution_count": null,
      "outputs": []
    },
    {
      "cell_type": "code",
      "source": [
        "current_scenario = form_file_suffix(10**4, \"Voters\", 10, \"MallowsPointFive\", \"Borda\")\n",
        "desired_rules = [#\"Geometric1p2Sincere\",\n",
        "                 \"Geometric1p2Manip\",\n",
        "                 #\"PluralitySincere\",\n",
        "                 \"PluralityManip\",\n",
        "                 #\"Geometric1p5Sincere\",\n",
        "                 \"Geometric1p5Manip\",\n",
        "                 #\"Geometric2Sincere\",\n",
        "                 \"Geometric2Manip\",\n",
        "                 #\"BordaSincere\",\n",
        "                 \"BordaManip\",]\n",
        "\n",
        "visualise(current_scenario, desired_rules, 'Borda utility, convex rules , Mallows 0.5, n = 10', truncate_bottom = 5, truncate_top=60)"
      ],
      "metadata": {
        "id": "BOv3vukmQoTl"
      },
      "execution_count": null,
      "outputs": []
    },
    {
      "cell_type": "code",
      "source": [
        "current_scenario = form_file_suffix(10**4, \"Voters\", 10, \"MallowsPointFive\", \"Borda\")\n",
        "desired_rules = [\"5ApprovalSincere\",\n",
        "                 \"5ApprovalManip\",\n",
        "                 \"PluralitySincere\",\n",
        "                 \"PluralityManip\",\n",
        "                 \"HalfApprovalSincere\",\n",
        "                 \"HalfApprovalManip\",\n",
        "                 \"QuarterApprovalSincere\",\n",
        "                 \"QuarterApprovalManip\"]\n",
        "visualise(current_scenario, desired_rules, 'Borda utility, approval family, Mallows 0.5, n = 10', truncate_bottom = 5, truncate_top=60)"
      ],
      "metadata": {
        "id": "cjjvSp3LzwB8"
      },
      "execution_count": null,
      "outputs": []
    },
    {
      "cell_type": "code",
      "source": [
        "current_scenario = form_file_suffix(10**4, \"Voters\", 10, \"MallowsPointFive\", \"Borda\")\n",
        "desired_rules = [\"5BordaSincere\",\n",
        "                 \"5BordaManip\",\n",
        "                 \"BordaSincere\",\n",
        "                 \"BordaManip\",\n",
        "                 \"PluralitySincere\",\n",
        "                 \"PluralityManip\",\n",
        "                 \"HalfBordaSincere\",\n",
        "                 \"HalfBordaManip\",\n",
        "                 \"QuarterBordaSincere\",\n",
        "                 \"QuarterBordaManip\",\n",
        "                 ]\n",
        "visualise(current_scenario, desired_rules, 'Borda utility, Borda family, Mallows 0.5, n = 10', truncate_bottom = 5, truncate_top=60)"
      ],
      "metadata": {
        "id": "3An0HkH3zzCb"
      },
      "execution_count": null,
      "outputs": []
    },
    {
      "cell_type": "code",
      "source": [
        "current_scenario = form_file_suffix(10**4, \"Voters\", 10, \"MallowsPointFive\", \"Borda\")\n",
        "desired_rules = [\"Geometric0p8Sincere\",\n",
        "                 \"Geometric0p8Manip\",\n",
        "                 \"Geometric1p2Sincere\",\n",
        "                 \"Geometric1p2Manip\",\n",
        "                 \"BordaSincere\",\n",
        "                 \"BordaManip\",\n",
        "                 \"PluralitySincere\",\n",
        "                 \"PluralityManip\",]\n",
        "visualise(current_scenario, desired_rules, 'Borda utility, interesting rules, Mallows 0.5, n = 10', truncate_bottom = 5, truncate_top=60)"
      ],
      "metadata": {
        "id": "QWKjJqShQoTm"
      },
      "execution_count": null,
      "outputs": []
    },
    {
      "cell_type": "markdown",
      "source": [
        "### Mallows 0.5, Rawls"
      ],
      "metadata": {
        "id": "geSm0X4qQoTm"
      }
    },
    {
      "cell_type": "code",
      "source": [
        "current_scenario = form_file_suffix(10**4, \"Voters\", 10, \"MallowsPointFive\", \"Rawls\")\n",
        "desired_rules = [\n",
        "                 \"Geometric0p8Sincere\",\n",
        "                 \"Geometric0p8Manip\",\n",
        "                 \"Geometric0p5Sincere\",\n",
        "                 \"Geometric0p5Manip\",\n",
        "                 \"Geometric0p65Sincere\",\n",
        "                 \"Geometric0p65Manip\",\n",
        "                 \"BordaSincere\",\n",
        "                 \"BordaManip\",\n",
        "                 \"NashSincere\",\n",
        "                 \"NashManip\",]\n",
        "\n",
        "visualise(current_scenario, desired_rules, 'Rawls utility, concave rules, Mallows 0.5, n = 10', truncate_bottom = 10, truncate_top=60)"
      ],
      "metadata": {
        "id": "CaJu2JyyQoTm"
      },
      "execution_count": null,
      "outputs": []
    },
    {
      "cell_type": "code",
      "source": [
        "current_scenario = form_file_suffix(10**4, \"Voters\", 10, \"MallowsPointFive\", \"Rawls\")\n",
        "desired_rules = [\"Geometric1p2Sincere\",\n",
        "                 \"Geometric1p2Manip\",\n",
        "                 \"PluralitySincere\",\n",
        "                 \"PluralityManip\",\n",
        "                 \"Geometric1p5Sincere\",\n",
        "                 \"Geometric1p5Manip\",\n",
        "                 \"Geometric2Sincere\",\n",
        "                 \"Geometric2Manip\",\n",
        "                 \"BordaSincere\",\n",
        "                 \"BordaManip\",]\n",
        "\n",
        "visualise(current_scenario, desired_rules, 'Rawls utility, convex rules , Mallows 0.5, n = 10', truncate_bottom = 10, truncate_top=60)"
      ],
      "metadata": {
        "id": "X0-tnHyIQoTn"
      },
      "execution_count": null,
      "outputs": []
    },
    {
      "cell_type": "code",
      "source": [
        "current_scenario = form_file_suffix(10**4, \"Voters\", 10, \"MallowsPointFive\", \"Rawls\")\n",
        "desired_rules = [\"5ApprovalSincere\",\n",
        "                 \"5ApprovalManip\",\n",
        "                 \"PluralitySincere\",\n",
        "                 \"PluralityManip\",\n",
        "                 \"HalfApprovalSincere\",\n",
        "                 \"HalfApprovalManip\",\n",
        "                 \"QuarterApprovalSincere\",\n",
        "                 \"QuarterApprovalManip\"]\n",
        "visualise(current_scenario, desired_rules, 'Rawls utility, approval family, Mallows 0.5, n = 10', truncate_bottom = 10, truncate_top=60)"
      ],
      "metadata": {
        "id": "TutgTmt31V4C"
      },
      "execution_count": null,
      "outputs": []
    },
    {
      "cell_type": "code",
      "source": [
        "current_scenario = form_file_suffix(10**4, \"Voters\", 10, \"MallowsPointFive\", \"Rawls\")\n",
        "desired_rules = [\"5BordaSincere\",\n",
        "                 \"5BordaManip\",\n",
        "                 \"BordaSincere\",\n",
        "                 \"BordaManip\",\n",
        "                 \"PluralitySincere\",\n",
        "                 \"PluralityManip\",\n",
        "                 \"HalfBordaSincere\",\n",
        "                 \"HalfBordaManip\",\n",
        "                 \"QuarterBordaSincere\",\n",
        "                 \"QuarterBordaManip\",\n",
        "                 ]\n",
        "visualise(current_scenario, desired_rules, 'Rawls utility, Borda family, Mallows 0.5, n = 10', truncate_bottom = 10, truncate_top=60)"
      ],
      "metadata": {
        "id": "TscfOkTD1Yvp"
      },
      "execution_count": null,
      "outputs": []
    },
    {
      "cell_type": "code",
      "source": [
        "current_scenario = form_file_suffix(10**4, \"Voters\", 10, \"MallowsPointFive\", \"Rawls\")\n",
        "desired_rules = [\"Geometric1p2Sincere\",\n",
        "                 \"Geometric1p2Manip\",\n",
        "                 \"Geometric0p5Sincere\",\n",
        "                 \"Geometric0p5Manip\",\n",
        "                 \"BordaSincere\",\n",
        "                 \"BordaManip\",\n",
        "                 \"PluralitySincere\",\n",
        "                 \"PluralityManip\",\n",
        "                 \"5ApprovalSincere\",\n",
        "                 \"5ApprovalManip\"]\n",
        "visualise(current_scenario, desired_rules, 'Rawls utility, interesting rules, Mallows 0.5, n = 10', truncate_bottom = 10, truncate_top=60)"
      ],
      "metadata": {
        "id": "wCYEt9iIQoTn"
      },
      "execution_count": null,
      "outputs": []
    },
    {
      "cell_type": "markdown",
      "source": [
        "### Mallows 0.5, Nash"
      ],
      "metadata": {
        "id": "oqqv6DwuQoTn"
      }
    },
    {
      "cell_type": "code",
      "source": [
        "current_scenario = form_file_suffix(10**4, \"Voters\", 10, \"MallowsPointFive\", \"Nash\")\n",
        "desired_rules = [\n",
        "                 \"Geometric0p8Sincere\",\n",
        "                 \"Geometric0p8Manip\",\n",
        "                 \"Geometric0p5Sincere\",\n",
        "                 \"Geometric0p5Manip\",\n",
        "                 \"Geometric0p65Sincere\",\n",
        "                 \"Geometric0p65Manip\",\n",
        "                 \"BordaSincere\",\n",
        "                 \"BordaManip\",\n",
        "                 \"NashSincere\",\n",
        "                 \"NashManip\",]\n",
        "\n",
        "visualise(current_scenario, desired_rules, 'Nash utility, concave rules, Mallows 0.5, n = 10', truncate_bottom = 10, truncate_top=40)"
      ],
      "metadata": {
        "id": "gCKRJSdxQoTn"
      },
      "execution_count": null,
      "outputs": []
    },
    {
      "cell_type": "code",
      "source": [
        "current_scenario = form_file_suffix(10**4, \"Voters\", 10, \"MallowsPointFive\", \"Nash\")\n",
        "desired_rules = [#\"Geometric1p2Sincere\",\n",
        "                 \"Geometric1p2Manip\",\n",
        "                 #\"PluralitySincere\",\n",
        "                 \"PluralityManip\",\n",
        "                 #\"Geometric1p5Sincere\",\n",
        "                 \"Geometric1p5Manip\",\n",
        "                 #\"Geometric2Sincere\",\n",
        "                 \"Geometric2Manip\",\n",
        "                 #\"BordaSincere\",\n",
        "                 \"BordaManip\",]\n",
        "\n",
        "visualise(current_scenario, desired_rules, 'Nash utility, convex rules , Mallows 0.5, n = 10', truncate_bottom = 10, truncate_top=40)"
      ],
      "metadata": {
        "id": "gjHRgtzOQoTo"
      },
      "execution_count": null,
      "outputs": []
    },
    {
      "cell_type": "code",
      "source": [
        "current_scenario = form_file_suffix(10**4, \"Voters\", 10, \"MallowsPointFive\", \"Nash\")\n",
        "desired_rules = [\"5ApprovalSincere\",\n",
        "                 \"5ApprovalManip\",\n",
        "                 \"PluralitySincere\",\n",
        "                 \"PluralityManip\",\n",
        "                 \"HalfApprovalSincere\",\n",
        "                 \"HalfApprovalManip\",\n",
        "                 \"QuarterApprovalSincere\",\n",
        "                 \"QuarterApprovalManip\"]\n",
        "visualise(current_scenario, desired_rules, 'Nash utility, approval family, Mallows 0.5, n = 10', truncate_bottom = 10, truncate_top=40)"
      ],
      "metadata": {
        "id": "Icp6WPwO2csT"
      },
      "execution_count": null,
      "outputs": []
    },
    {
      "cell_type": "code",
      "source": [
        "current_scenario = form_file_suffix(10**4, \"Voters\", 10, \"MallowsPointFive\", \"Nash\")\n",
        "desired_rules = [\"5BordaSincere\",\n",
        "                 \"5BordaManip\",\n",
        "                 \"BordaSincere\",\n",
        "                 \"BordaManip\",\n",
        "                 \"PluralitySincere\",\n",
        "                 \"PluralityManip\",\n",
        "                 \"HalfBordaSincere\",\n",
        "                 \"HalfBordaManip\",\n",
        "                 \"QuarterBordaSincere\",\n",
        "                 \"QuarterBordaManip\",\n",
        "                 ]\n",
        "visualise(current_scenario, desired_rules, 'Nash utility, Borda family, Mallows 0.5, n = 10', truncate_bottom = 10, truncate_top=40)"
      ],
      "metadata": {
        "id": "OWsEt3Pr2fgu"
      },
      "execution_count": null,
      "outputs": []
    },
    {
      "cell_type": "code",
      "source": [
        "current_scenario = form_file_suffix(10**4, \"Voters\", 10, \"MallowsPointFive\", \"Nash\")\n",
        "desired_rules = [\"NashSincere\",\n",
        "                 \"NashManip\",\n",
        "                 \"Geometric2Sincere\",\n",
        "                 \"Geometric2Manip\",\n",
        "                 \"BordaSincere\",\n",
        "                 \"BordaManip\",\n",
        "                 \"PluralitySincere\",\n",
        "                 \"PluralityManip\",]\n",
        "visualise(current_scenario, desired_rules, 'Nash utility, interesting rules, Mallows 0.5, n = 10')"
      ],
      "metadata": {
        "id": "xyxObAalQoTo"
      },
      "execution_count": null,
      "outputs": []
    },
    {
      "cell_type": "markdown",
      "source": [
        "## Fixed m"
      ],
      "metadata": {
        "id": "EeqNZuh3O0K1"
      }
    },
    {
      "cell_type": "markdown",
      "source": [
        "### Mallows 0.5, Borda"
      ],
      "metadata": {
        "id": "WfSCliewO0K2"
      }
    },
    {
      "cell_type": "code",
      "source": [
        "current_scenario = form_file_suffix(10**4, \"Candidates\", 10, \"MallowsPointFive\", \"Borda\")\n",
        "desired_rules = [\n",
        "                 \"Geometric0p8Sincere\",\n",
        "                 \"Geometric0p8Manip\",\n",
        "                 \"Geometric0p5Sincere\",\n",
        "                 \"Geometric0p5Manip\",\n",
        "                 \"Geometric0p65Sincere\",\n",
        "                 \"Geometric0p65Manip\",\n",
        "                 \"BordaSincere\",\n",
        "                 \"BordaManip\",\n",
        "                 \"NashSincere\",\n",
        "                 \"NashManip\",]\n",
        "\n",
        "visualise(current_scenario, desired_rules, 'Borda utility, concave rules, Mallows 0.5, m = 10')"
      ],
      "metadata": {
        "id": "ACA9KKscO0K2"
      },
      "execution_count": null,
      "outputs": []
    },
    {
      "cell_type": "code",
      "source": [
        "current_scenario = form_file_suffix(10**4, \"Candidates\", 10, \"MallowsPointFive\", \"Borda\")\n",
        "desired_rules = [\"Geometric1p2Sincere\",\n",
        "                 \"Geometric1p2Manip\",\n",
        "                 \"PluralitySincere\",\n",
        "                 \"PluralityManip\",\n",
        "                 \"Geometric1p5Sincere\",\n",
        "                 \"Geometric1p5Manip\",\n",
        "                 \"Geometric2Sincere\",\n",
        "                 \"Geometric2Manip\",\n",
        "                 \"BordaSincere\",\n",
        "                 \"BordaManip\",]\n",
        "\n",
        "visualise(current_scenario, desired_rules, 'Borda utility, convex rules , Mallows 0.5, m = 10', truncate_top=30)"
      ],
      "metadata": {
        "id": "VXxcq-kXO0K3"
      },
      "execution_count": null,
      "outputs": []
    },
    {
      "cell_type": "code",
      "source": [
        "current_scenario = form_file_suffix(10**4, \"Candidates\", 10, \"MallowsPointFive\", \"Borda\")\n",
        "desired_rules = [\"5ApprovalSincere\",\n",
        "                 \"5ApprovalManip\",\n",
        "                 \"5BordaSincere\",\n",
        "                 \"5BordaManip\",\n",
        "                 \"BordaSincere\",\n",
        "                 \"BordaManip\",\n",
        "                 \"PluralitySincere\",\n",
        "                 \"PluralityManip\",]\n",
        "visualise(current_scenario, desired_rules, 'Borda utility, abdriged rules, Mallows 0.5, m = 10')"
      ],
      "metadata": {
        "id": "qpLwlSehO0K3"
      },
      "execution_count": null,
      "outputs": []
    },
    {
      "cell_type": "code",
      "source": [
        "current_scenario = form_file_suffix(10**4, \"Candidates\", 10, \"MallowsPointFive\", \"Borda\")\n",
        "desired_rules = [\"Geometric0p8Sincere\",\n",
        "                 \"Geometric0p8Manip\",\n",
        "                 \"Geometric1p2Sincere\",\n",
        "                 \"Geometric1p2Manip\",\n",
        "                 \"BordaSincere\",\n",
        "                 \"BordaManip\",\n",
        "                 \"PluralitySincere\",\n",
        "                 \"PluralityManip\",]\n",
        "visualise(current_scenario, desired_rules, 'Borda utility, interesting rules, Mallows 0.5, m = 10', truncate_top=30)"
      ],
      "metadata": {
        "id": "TMQoDDl0O0K4"
      },
      "execution_count": null,
      "outputs": []
    },
    {
      "cell_type": "markdown",
      "source": [
        "### Mallows 0.5, Rawls"
      ],
      "metadata": {
        "id": "Mmay0epVO0K4"
      }
    },
    {
      "cell_type": "code",
      "source": [
        "current_scenario = form_file_suffix(10**4, \"Candidates\", 10, \"MallowsPointFive\", \"Rawls\")\n",
        "desired_rules = [\n",
        "                 \"Geometric0p8Sincere\",\n",
        "                 \"Geometric0p8Manip\",\n",
        "                 \"Geometric0p5Sincere\",\n",
        "                 \"Geometric0p5Manip\",\n",
        "                 \"Geometric0p65Sincere\",\n",
        "                 \"Geometric0p65Manip\",\n",
        "                 \"BordaSincere\",\n",
        "                 \"BordaManip\",\n",
        "                 \"NashSincere\",\n",
        "                 \"NashManip\",]\n",
        "\n",
        "visualise(current_scenario, desired_rules, 'Rawls utility, concave rules, Mallows 0.5, m = 10')"
      ],
      "metadata": {
        "id": "bpfhCyW3O0K4"
      },
      "execution_count": null,
      "outputs": []
    },
    {
      "cell_type": "code",
      "source": [
        "current_scenario = form_file_suffix(10**4, \"Candidates\", 10, \"MallowsPointFive\", \"Rawls\")\n",
        "desired_rules = [\"Geometric1p2Sincere\",\n",
        "                 \"Geometric1p2Manip\",\n",
        "                 \"PluralitySincere\",\n",
        "                 \"PluralityManip\",\n",
        "                 \"Geometric1p5Sincere\",\n",
        "                 \"Geometric1p5Manip\",\n",
        "                 \"Geometric2Sincere\",\n",
        "                 \"Geometric2Manip\",\n",
        "                 \"BordaSincere\",\n",
        "                 \"BordaManip\",]\n",
        "\n",
        "visualise(current_scenario, desired_rules, 'Rawls utility, convex rules , Mallows 0.5, m = 10')"
      ],
      "metadata": {
        "id": "cMTYWQZeO0K5"
      },
      "execution_count": null,
      "outputs": []
    },
    {
      "cell_type": "code",
      "source": [
        "current_scenario = form_file_suffix(10**4, \"Candidates\", 10, \"MallowsPointFive\", \"Rawls\")\n",
        "desired_rules = [\"5ApprovalSincere\",\n",
        "                 \"5ApprovalManip\",\n",
        "                 \"5BordaSincere\",\n",
        "                 \"5BordaManip\",\n",
        "                 \"BordaSincere\",\n",
        "                 \"BordaManip\",\n",
        "                 \"PluralitySincere\",\n",
        "                 \"PluralityManip\",]\n",
        "visualise(current_scenario, desired_rules, 'Rawls utility, abdriged rules, Mallows 0.5, m = 10')"
      ],
      "metadata": {
        "id": "d4EKWOS_O0K5"
      },
      "execution_count": null,
      "outputs": []
    },
    {
      "cell_type": "code",
      "source": [
        "current_scenario = form_file_suffix(10**4, \"Candidates\", 10, \"MallowsPointFive\", \"Rawls\")\n",
        "desired_rules = [\n",
        "                 \"Geometric0p8Sincere\",\n",
        "                 \"Geometric0p8Manip\",\n",
        "                 \"BordaSincere\",\n",
        "                 \"BordaManip\",\n",
        "                 \"PluralitySincere\",\n",
        "                 \"PluralityManip\",]\n",
        "visualise(current_scenario, desired_rules, 'Rawls utility, interesting rules, Mallows 0.5, m = 10')"
      ],
      "metadata": {
        "id": "Hox9ca6tO0K6"
      },
      "execution_count": null,
      "outputs": []
    },
    {
      "cell_type": "markdown",
      "source": [
        "### Mallows 0.5, Nash"
      ],
      "metadata": {
        "id": "_r94lgFuO0K6"
      }
    },
    {
      "cell_type": "code",
      "source": [
        "current_scenario = form_file_suffix(10**4, \"Candidates\", 10, \"MallowsPointFive\", \"Nash\")\n",
        "desired_rules = [\n",
        "                 \"Geometric0p8Sincere\",\n",
        "                 \"Geometric0p8Manip\",\n",
        "                 \"Geometric0p5Sincere\",\n",
        "                 \"Geometric0p5Manip\",\n",
        "                 \"Geometric0p65Sincere\",\n",
        "                 \"Geometric0p65Manip\",\n",
        "                 \"BordaSincere\",\n",
        "                 \"BordaManip\",\n",
        "                 \"NashSincere\",\n",
        "                 \"NashManip\",]\n",
        "\n",
        "visualise(current_scenario, desired_rules, 'Nash utility, concave rules, Mallows 0.5, m = 10')"
      ],
      "metadata": {
        "id": "maFFJAPTO0K6"
      },
      "execution_count": null,
      "outputs": []
    },
    {
      "cell_type": "code",
      "source": [
        "current_scenario = form_file_suffix(10**4, \"Candidates\", 10, \"MallowsPointFive\", \"Nash\")\n",
        "desired_rules = [\"Geometric1p2Sincere\",\n",
        "                 \"Geometric1p2Manip\",\n",
        "                 \"PluralitySincere\",\n",
        "                 \"PluralityManip\",\n",
        "                 \"Geometric1p5Sincere\",\n",
        "                 \"Geometric1p5Manip\",\n",
        "                 \"Geometric2Sincere\",\n",
        "                 \"Geometric2Manip\",\n",
        "                 \"BordaSincere\",\n",
        "                 \"BordaManip\",]\n",
        "\n",
        "visualise(current_scenario, desired_rules, 'Nash utility, convex rules , Mallows 0.5, m = 10')"
      ],
      "metadata": {
        "id": "aqzNzridO0K7"
      },
      "execution_count": null,
      "outputs": []
    },
    {
      "cell_type": "code",
      "source": [
        "current_scenario = form_file_suffix(10**4, \"Candidates\", 10, \"MallowsPointFive\", \"Nash\")\n",
        "desired_rules = [\"5ApprovalSincere\",\n",
        "                 \"5ApprovalManip\",\n",
        "                 \"5BordaSincere\",\n",
        "                 \"5BordaManip\",\n",
        "                 \"BordaSincere\",\n",
        "                 \"BordaManip\",\n",
        "                 \"PluralitySincere\",\n",
        "                 \"PluralityManip\",]\n",
        "visualise(current_scenario, desired_rules, 'Nash utility, abdriged rules, Mallows 0.5, m = 10')"
      ],
      "metadata": {
        "id": "f_EUgKBJO0K7"
      },
      "execution_count": null,
      "outputs": []
    },
    {
      "cell_type": "code",
      "source": [
        "current_scenario = form_file_suffix(10**4, \"Candidates\", 10, \"MallowsPointFive\", \"Nash\")\n",
        "desired_rules = [\"Geometric0p65Sincere\",\n",
        "                 \"Geometric0p65Manip\",\n",
        "                 \"Geometric1p2Sincere\",\n",
        "                 \"Geometric1p2Manip\",\n",
        "                 \"PluralitySincere\",\n",
        "                 \"PluralityManip\",]\n",
        "visualise(current_scenario, desired_rules, 'Nash utility, interesting rules, Mallows 0.5, m = 10')"
      ],
      "metadata": {
        "id": "VcO0-hZxO0K7"
      },
      "execution_count": null,
      "outputs": []
    },
    {
      "cell_type": "markdown",
      "source": [
        "# Mixed Mallows\n"
      ],
      "metadata": {
        "id": "zaeMlodZTi2P"
      }
    },
    {
      "cell_type": "markdown",
      "source": [
        "## Fixed n"
      ],
      "metadata": {
        "id": "u7HQiAKDRj0M"
      }
    },
    {
      "cell_type": "markdown",
      "source": [
        "### Mixed Mallows, Borda"
      ],
      "metadata": {
        "id": "KCZhm166Ti2X"
      }
    },
    {
      "cell_type": "code",
      "source": [
        "current_scenario = form_file_suffix(10**4, \"Voters\", 10, \"MixedMallowsTwo\", \"Borda\")\n",
        "desired_rules = [\n",
        "                 \"Geometric0p8Sincere\",\n",
        "                 \"Geometric0p8Manip\",\n",
        "                 \"Geometric0p5Sincere\",\n",
        "                 \"Geometric0p5Manip\",\n",
        "                 \"Geometric0p65Sincere\",\n",
        "                 \"Geometric0p65Manip\",\n",
        "                 \"BordaSincere\",\n",
        "                 \"BordaManip\",\n",
        "                 \"NashSincere\",\n",
        "                 \"NashManip\",]\n",
        "\n",
        "visualise(current_scenario, desired_rules, 'Borda utility, concave rules, Mixed Mallows, n = 10', truncate_bottom=10)"
      ],
      "metadata": {
        "id": "fZGWWWWRTi2X"
      },
      "execution_count": null,
      "outputs": []
    },
    {
      "cell_type": "code",
      "source": [
        "current_scenario = form_file_suffix(10**4, \"Voters\", 10, \"MixedMallowsTwo\", \"Borda\")\n",
        "desired_rules = [\"Geometric1p2Sincere\",\n",
        "                 \"Geometric1p2Manip\",\n",
        "                 \"PluralitySincere\",\n",
        "                 \"PluralityManip\",\n",
        "                 \"Geometric1p5Sincere\",\n",
        "                 \"Geometric1p5Manip\",\n",
        "                 \"Geometric2Sincere\",\n",
        "                 \"Geometric2Manip\",\n",
        "                 \"BordaSincere\",\n",
        "                 \"BordaManip\",]\n",
        "\n",
        "visualise(current_scenario, desired_rules, 'Borda utility, convex rules , Mixed Mallows, n = 10', truncate_bottom=10)"
      ],
      "metadata": {
        "id": "yFnulicfTi2X"
      },
      "execution_count": null,
      "outputs": []
    },
    {
      "cell_type": "code",
      "source": [
        "current_scenario = form_file_suffix(10**4, \"Voters\", 10, \"MixedMallowsTwo\", \"Borda\")\n",
        "desired_rules = [\"5ApprovalSincere\",\n",
        "                 \"5ApprovalManip\",\n",
        "                 \"PluralitySincere\",\n",
        "                 \"PluralityManip\",\n",
        "                 \"HalfApprovalSincere\",\n",
        "                 \"HalfApprovalManip\",\n",
        "                 \"QuarterApprovalSincere\",\n",
        "                 \"QuarterApprovalManip\"]\n",
        "visualise(current_scenario, desired_rules, 'Borda utility, approval family, Mixed Mallows, n = 10', truncate_bottom=10)"
      ],
      "metadata": {
        "id": "bnZjSaLW4LoG"
      },
      "execution_count": null,
      "outputs": []
    },
    {
      "cell_type": "code",
      "source": [
        "current_scenario = form_file_suffix(10**4, \"Voters\", 10, \"MixedMallowsTwo\", \"Borda\")\n",
        "desired_rules = [\"5BordaSincere\",\n",
        "                 \"5BordaManip\",\n",
        "                 \"BordaSincere\",\n",
        "                 \"BordaManip\",\n",
        "                 \"PluralitySincere\",\n",
        "                 \"PluralityManip\",\n",
        "                 \"HalfBordaSincere\",\n",
        "                 \"HalfBordaManip\",\n",
        "                 \"QuarterBordaSincere\",\n",
        "                 \"QuarterBordaManip\",\n",
        "                 ]\n",
        "visualise(current_scenario, desired_rules, 'Borda utility, Borda family, Mixed Mallows, n = 10', truncate_bottom=10)"
      ],
      "metadata": {
        "id": "H_NmCC354POB"
      },
      "execution_count": null,
      "outputs": []
    },
    {
      "cell_type": "code",
      "source": [
        "current_scenario = form_file_suffix(10**4, \"Voters\", 10, \"MixedMallowsTwo\", \"Borda\")\n",
        "desired_rules = [\"NashSincere\",\n",
        "                 \"NashManip\",\n",
        "                 \"Geometric1p2Sincere\",\n",
        "                 \"Geometric1p2Manip\",\n",
        "                 \"HalfBordaSincere\",\n",
        "                 \"HalfBordaManip\",\n",
        "                 \"QuarterApprovalSincere\",\n",
        "                 \"QuarterApprovalManip\",]\n",
        "visualise(current_scenario, desired_rules, 'Borda utility, interesting rules, Mixed Mallows, n = 10', truncate_bottom=10)"
      ],
      "metadata": {
        "id": "ekc0CaNSTi2Y"
      },
      "execution_count": null,
      "outputs": []
    },
    {
      "cell_type": "markdown",
      "source": [
        "### Mixed Mallows, Rawls"
      ],
      "metadata": {
        "id": "hS_0-o-cTi2Y"
      }
    },
    {
      "cell_type": "code",
      "source": [
        "current_scenario = form_file_suffix(10**4, \"Voters\", 10, \"MixedMallowsTwo\", \"Rawls\")\n",
        "desired_rules = [\n",
        "                 \"Geometric0p8Sincere\",\n",
        "                 \"Geometric0p8Manip\",\n",
        "                 \"Geometric0p5Sincere\",\n",
        "                 \"Geometric0p5Manip\",\n",
        "                 \"Geometric0p65Sincere\",\n",
        "                 \"Geometric0p65Manip\",\n",
        "                 \"BordaSincere\",\n",
        "                 \"BordaManip\",\n",
        "                 \"NashSincere\",\n",
        "                 \"NashManip\",]\n",
        "\n",
        "visualise(current_scenario, desired_rules, 'Rawls utility, concave rules, Mixed Mallows, n = 10', truncate_bottom=10)"
      ],
      "metadata": {
        "id": "VYnqMEVfTi2Y"
      },
      "execution_count": null,
      "outputs": []
    },
    {
      "cell_type": "code",
      "source": [
        "current_scenario = form_file_suffix(10**4, \"Voters\", 10, \"MixedMallowsTwo\", \"Rawls\")\n",
        "desired_rules = [\"Geometric1p2Sincere\",\n",
        "                 \"Geometric1p2Manip\",\n",
        "                 \"PluralitySincere\",\n",
        "                 \"PluralityManip\",\n",
        "                 \"Geometric1p5Sincere\",\n",
        "                 \"Geometric1p5Manip\",\n",
        "                 \"Geometric2Sincere\",\n",
        "                 \"Geometric2Manip\",\n",
        "                 \"BordaSincere\",\n",
        "                 \"BordaManip\",]\n",
        "\n",
        "visualise(current_scenario, desired_rules, 'Rawls utility, convex rules , Mixed Mallows, n = 10', truncate_bottom=10)"
      ],
      "metadata": {
        "id": "mwbSq0DrTi2Y"
      },
      "execution_count": null,
      "outputs": []
    },
    {
      "cell_type": "code",
      "source": [
        "current_scenario = form_file_suffix(10**4, \"Voters\", 10, \"MixedMallowsTwo\", \"Rawls\")\n",
        "desired_rules = [\"5ApprovalSincere\",\n",
        "                 \"5ApprovalManip\",\n",
        "                 \"PluralitySincere\",\n",
        "                 \"PluralityManip\",\n",
        "                 \"HalfApprovalSincere\",\n",
        "                 \"HalfApprovalManip\",\n",
        "                 \"QuarterApprovalSincere\",\n",
        "                 \"QuarterApprovalManip\"]\n",
        "visualise(current_scenario, desired_rules, 'Rawls utility, approval family, Mixed Mallows, n = 10', truncate_bottom=10)"
      ],
      "metadata": {
        "id": "Jfk4qclf_7xp"
      },
      "execution_count": null,
      "outputs": []
    },
    {
      "cell_type": "code",
      "source": [
        "current_scenario = form_file_suffix(10**4, \"Voters\", 10, \"MixedMallowsTwo\", \"Rawls\")\n",
        "desired_rules = [\"5BordaSincere\",\n",
        "                 \"5BordaManip\",\n",
        "                 \"BordaSincere\",\n",
        "                 \"BordaManip\",\n",
        "                 \"PluralitySincere\",\n",
        "                 \"PluralityManip\",\n",
        "                 \"HalfBordaSincere\",\n",
        "                 \"HalfBordaManip\",\n",
        "                 \"QuarterBordaSincere\",\n",
        "                 \"QuarterBordaManip\",\n",
        "                 ]\n",
        "visualise(current_scenario, desired_rules, 'Rawls utility, Borda family, Mixed Mallows, n = 10', truncate_bottom=10)"
      ],
      "metadata": {
        "id": "JLZWnWWF_-P5"
      },
      "execution_count": null,
      "outputs": []
    },
    {
      "cell_type": "code",
      "source": [
        "current_scenario = form_file_suffix(10**4, \"Voters\", 10, \"MixedMallowsTwo\", \"Rawls\")\n",
        "desired_rules = [\"Geometric1p2Sincere\",\n",
        "                 \"Geometric1p2Manip\",\n",
        "                 \"Geometric0p8Sincere\",\n",
        "                 \"Geometric0p8Manip\",\n",
        "                 \"HalfBordaSincere\",\n",
        "                 \"HalfBordaManip\",\n",
        "                 \"QuarterApprovalSincere\",\n",
        "                 \"QuarterApprovalManip\",]\n",
        "visualise(current_scenario, desired_rules, 'Rawls utility, interesting rules, Mixed Mallows, n = 10', truncate_bottom=10)"
      ],
      "metadata": {
        "id": "tFzY9cMRTi2Z"
      },
      "execution_count": null,
      "outputs": []
    },
    {
      "cell_type": "markdown",
      "source": [
        "### Mixed Mallows, Nash"
      ],
      "metadata": {
        "id": "HdmK9W1MTi2Z"
      }
    },
    {
      "cell_type": "code",
      "source": [
        "current_scenario = form_file_suffix(10**4, \"Voters\", 10, \"MixedMallowsTwo\", \"Nash\")\n",
        "desired_rules = [\n",
        "                 \"Geometric0p8Sincere\",\n",
        "                 \"Geometric0p8Manip\",\n",
        "                 \"Geometric0p5Sincere\",\n",
        "                 \"Geometric0p5Manip\",\n",
        "                 \"Geometric0p65Sincere\",\n",
        "                 \"Geometric0p65Manip\",\n",
        "                 \"BordaSincere\",\n",
        "                 \"BordaManip\",\n",
        "                 \"NashSincere\",\n",
        "                 \"NashManip\",]\n",
        "\n",
        "visualise(current_scenario, desired_rules, 'Nash utility, concave rules, Mixed Mallows, n = 10', truncate_bottom=10)"
      ],
      "metadata": {
        "id": "ulgqnTX0Ti2Z"
      },
      "execution_count": null,
      "outputs": []
    },
    {
      "cell_type": "code",
      "source": [
        "current_scenario = form_file_suffix(10**4, \"Voters\", 10, \"MixedMallowsTwo\", \"Nash\")\n",
        "desired_rules = [\"Geometric1p2Sincere\",\n",
        "                 \"Geometric1p2Manip\",\n",
        "                 \"PluralitySincere\",\n",
        "                 \"PluralityManip\",\n",
        "                 \"Geometric1p5Sincere\",\n",
        "                 \"Geometric1p5Manip\",\n",
        "                 \"Geometric2Sincere\",\n",
        "                 \"Geometric2Manip\",\n",
        "                 \"BordaSincere\",\n",
        "                 \"BordaManip\",]\n",
        "\n",
        "visualise(current_scenario, desired_rules, 'Nash utility, convex rules , Mixed Mallows, n = 10', truncate_bottom=10)"
      ],
      "metadata": {
        "id": "gSKUWRI9Ti2Z"
      },
      "execution_count": null,
      "outputs": []
    },
    {
      "cell_type": "code",
      "source": [
        "current_scenario = form_file_suffix(10**4, \"Voters\", 10, \"MixedMallowsTwo\", \"Nash\")\n",
        "desired_rules = [\"5ApprovalSincere\",\n",
        "                 \"5ApprovalManip\",\n",
        "                 \"PluralitySincere\",\n",
        "                 \"PluralityManip\",\n",
        "                 \"HalfApprovalSincere\",\n",
        "                 \"HalfApprovalManip\",\n",
        "                 \"QuarterApprovalSincere\",\n",
        "                 \"QuarterApprovalManip\"]\n",
        "visualise(current_scenario, desired_rules, 'Nash utility, approval family, Mixed Mallows, n = 10', truncate_bottom=10)"
      ],
      "metadata": {
        "id": "QAsB02eaA_fA"
      },
      "execution_count": null,
      "outputs": []
    },
    {
      "cell_type": "code",
      "source": [
        "current_scenario = form_file_suffix(10**4, \"Voters\", 10, \"MixedMallowsTwo\", \"Nash\")\n",
        "desired_rules = [\"5BordaSincere\",\n",
        "                 \"5BordaManip\",\n",
        "                 \"BordaSincere\",\n",
        "                 \"BordaManip\",\n",
        "                 \"PluralitySincere\",\n",
        "                 \"PluralityManip\",\n",
        "                 \"HalfBordaSincere\",\n",
        "                 \"HalfBordaManip\",\n",
        "                 \"QuarterBordaSincere\",\n",
        "                 \"QuarterBordaManip\",\n",
        "                 ]\n",
        "visualise(current_scenario, desired_rules, 'Nash utility, Borda family, Mixed Mallows, n = 10', truncate_bottom=10)"
      ],
      "metadata": {
        "id": "T1XOVc54BCTu"
      },
      "execution_count": null,
      "outputs": []
    },
    {
      "cell_type": "code",
      "source": [
        "current_scenario = form_file_suffix(10**4, \"Voters\", 10, \"MixedMallowsTwo\", \"Nash\")\n",
        "desired_rules = [\"NashSincere\",\n",
        "                 \"NashManip\",\n",
        "                 \"Geometric1p2Sincere\",\n",
        "                 \"Geometric1p2Manip\",\n",
        "                 \"HalfBordaSincere\",\n",
        "                 \"HalfBordaManip\",\n",
        "                 \"QuarterApprovalSincere\",\n",
        "                 \"QuarterApprovalManip\",]\n",
        "visualise(current_scenario, desired_rules, 'Nash utility, interesting rules, Mixed Mallows, n = 10', truncate_bottom=10)"
      ],
      "metadata": {
        "id": "ZwPPBqGWTi2a"
      },
      "execution_count": null,
      "outputs": []
    },
    {
      "cell_type": "markdown",
      "source": [
        "## Fixed m"
      ],
      "metadata": {
        "id": "KwJnOI_bRvPi"
      }
    },
    {
      "cell_type": "markdown",
      "source": [
        "### Mixed Mallows, Borda"
      ],
      "metadata": {
        "id": "bDjztQQURvPj"
      }
    },
    {
      "cell_type": "code",
      "source": [
        "current_scenario = form_file_suffix(10**4, \"Candidates\", 10, \"MixedMallowsTwo\", \"Borda\")\n",
        "desired_rules = [\n",
        "                 \"Geometric0p8Sincere\",\n",
        "                 \"Geometric0p8Manip\",\n",
        "                 \"Geometric0p5Sincere\",\n",
        "                 \"Geometric0p5Manip\",\n",
        "                 \"Geometric0p65Sincere\",\n",
        "                 \"Geometric0p65Manip\",\n",
        "                 \"BordaSincere\",\n",
        "                 \"BordaManip\",\n",
        "                 \"NashSincere\",\n",
        "                 \"NashManip\",]\n",
        "\n",
        "visualise(current_scenario, desired_rules, 'Borda utility, concave rules, Mixed Mallows, m = 10', truncate_top=50)"
      ],
      "metadata": {
        "id": "bR80L9HYRvPm"
      },
      "execution_count": null,
      "outputs": []
    },
    {
      "cell_type": "code",
      "source": [
        "current_scenario = form_file_suffix(10**4, \"Candidates\", 10, \"MixedMallowsTwo\", \"Borda\")\n",
        "desired_rules = [\"Geometric1p2Sincere\",\n",
        "                 \"Geometric1p2Manip\",\n",
        "                 \"PluralitySincere\",\n",
        "                 \"PluralityManip\",\n",
        "                 \"Geometric1p5Sincere\",\n",
        "                 \"Geometric1p5Manip\",\n",
        "                 \"Geometric2Sincere\",\n",
        "                 \"Geometric2Manip\",\n",
        "                 \"BordaSincere\",\n",
        "                 \"BordaManip\",]\n",
        "\n",
        "visualise(current_scenario, desired_rules, 'Borda utility, convex rules , Mixed Mallows, m = 10', truncate_top=50)"
      ],
      "metadata": {
        "id": "RzQtn3_TRvPq"
      },
      "execution_count": null,
      "outputs": []
    },
    {
      "cell_type": "code",
      "source": [
        "current_scenario = form_file_suffix(10**4, \"Candidates\", 10, \"MixedMallowsTwo\", \"Borda\")\n",
        "desired_rules = [\"5ApprovalSincere\",\n",
        "                 \"5ApprovalManip\",\n",
        "                 \"5BordaSincere\",\n",
        "                 \"5BordaManip\",\n",
        "                 \"BordaSincere\",\n",
        "                 \"BordaManip\",\n",
        "                 \"PluralitySincere\",\n",
        "                 \"PluralityManip\",]\n",
        "visualise(current_scenario, desired_rules, 'Borda utility, abdriged rules, Mixed Mallows, m = 10', truncate_top=50)"
      ],
      "metadata": {
        "id": "5UC0Oz3iRvPt"
      },
      "execution_count": null,
      "outputs": []
    },
    {
      "cell_type": "code",
      "source": [
        "current_scenario = form_file_suffix(10**4, \"Candidates\", 10, \"MixedMallowsTwo\", \"Borda\")\n",
        "desired_rules = [\"Geometric0p8Sincere\",\n",
        "                 \"Geometric0p8Manip\",\n",
        "                 \"Geometric1p2Sincere\",\n",
        "                 \"Geometric1p2Manip\",\n",
        "                 \"BordaSincere\",\n",
        "                 \"BordaManip\",\n",
        "                 \"PluralitySincere\",\n",
        "                 \"PluralityManip\",]\n",
        "visualise(current_scenario, desired_rules, 'Borda utility, interesting rules, Mixed Mallows, m = 10', truncate_top=50)"
      ],
      "metadata": {
        "id": "Vq99pnMHRvPw"
      },
      "execution_count": null,
      "outputs": []
    },
    {
      "cell_type": "markdown",
      "source": [
        "### Mixed Mallows, Rawls"
      ],
      "metadata": {
        "id": "UVPwJBJpRvP4"
      }
    },
    {
      "cell_type": "code",
      "source": [
        "current_scenario = form_file_suffix(10**4, \"Candidates\", 10, \"MixedMallowsTwo\", \"Rawls\")\n",
        "desired_rules = [\n",
        "                 \"Geometric0p8Sincere\",\n",
        "                 \"Geometric0p8Manip\",\n",
        "                 \"Geometric0p5Sincere\",\n",
        "                 \"Geometric0p5Manip\",\n",
        "                 \"Geometric0p65Sincere\",\n",
        "                 \"Geometric0p65Manip\",\n",
        "                 \"BordaSincere\",\n",
        "                 \"BordaManip\",\n",
        "                 \"NashSincere\",\n",
        "                 \"NashManip\",]\n",
        "\n",
        "visualise(current_scenario, desired_rules, 'Rawls utility, concave rules, Mixed Mallows, m = 10', truncate_bottom = 5, truncate_top=50)"
      ],
      "metadata": {
        "id": "o06hH0v9RvP4"
      },
      "execution_count": null,
      "outputs": []
    },
    {
      "cell_type": "code",
      "source": [
        "current_scenario = form_file_suffix(10**4, \"Candidates\", 10, \"MixedMallowsTwo\", \"Rawls\")\n",
        "desired_rules = [\"Geometric1p2Sincere\",\n",
        "                 \"Geometric1p2Manip\",\n",
        "                 \"PluralitySincere\",\n",
        "                 \"PluralityManip\",\n",
        "                 \"Geometric1p5Sincere\",\n",
        "                 \"Geometric1p5Manip\",\n",
        "                 \"Geometric2Sincere\",\n",
        "                 \"Geometric2Manip\",\n",
        "                 \"BordaSincere\",\n",
        "                 \"BordaManip\",]\n",
        "\n",
        "visualise(current_scenario, desired_rules, 'Rawls utility, convex rules , Mixed Mallows, m = 10', truncate_bottom = 5, truncate_top=50)"
      ],
      "metadata": {
        "id": "pHdyq54RRvP8"
      },
      "execution_count": null,
      "outputs": []
    },
    {
      "cell_type": "code",
      "source": [
        "current_scenario = form_file_suffix(10**4, \"Candidates\", 10, \"MixedMallowsTwo\", \"Rawls\")\n",
        "desired_rules = [\"5ApprovalSincere\",\n",
        "                 \"5ApprovalManip\",\n",
        "                 \"5BordaSincere\",\n",
        "                 \"5BordaManip\",\n",
        "                 \"BordaSincere\",\n",
        "                 \"BordaManip\",\n",
        "                 \"PluralitySincere\",\n",
        "                 \"PluralityManip\",]\n",
        "visualise(current_scenario, desired_rules, 'Rawls utility, abdriged rules, Mixed Mallow, m = 10', truncate_bottom = 5, truncate_top=50)"
      ],
      "metadata": {
        "id": "OTupsChKRvP_"
      },
      "execution_count": null,
      "outputs": []
    },
    {
      "cell_type": "code",
      "source": [
        "current_scenario = form_file_suffix(10**4, \"Candidates\", 10, \"MixedMallowsTwo\", \"Rawls\")\n",
        "desired_rules = [\"Geometric1p2Sincere\",\n",
        "                 \"Geometric1p2Manip\",\n",
        "                 \"Geometric0p8Sincere\",\n",
        "                 \"Geometric0p8Manip\",\n",
        "                 \"BordaSincere\",\n",
        "                 \"BordaManip\",\n",
        "                 \"PluralitySincere\",\n",
        "                 \"PluralityManip\",]\n",
        "visualise(current_scenario, desired_rules, 'Rawls utility, interesting rules, Mixed Mallows, m = 10', truncate_bottom = 5, truncate_top=50)"
      ],
      "metadata": {
        "id": "DgyiPyS6RvQD"
      },
      "execution_count": null,
      "outputs": []
    },
    {
      "cell_type": "markdown",
      "source": [
        "### Mixed Mallows, Nash"
      ],
      "metadata": {
        "id": "lnazJTAjRvQG"
      }
    },
    {
      "cell_type": "code",
      "source": [
        "current_scenario = form_file_suffix(10**4, \"Candidates\", 10, \"MixedMallowsTwo\", \"Nash\")\n",
        "desired_rules = [\n",
        "                 \"Geometric0p8Sincere\",\n",
        "                 \"Geometric0p8Manip\",\n",
        "                 \"Geometric0p5Sincere\",\n",
        "                 \"Geometric0p5Manip\",\n",
        "                 \"Geometric0p65Sincere\",\n",
        "                 \"Geometric0p65Manip\",\n",
        "                 \"BordaSincere\",\n",
        "                 \"BordaManip\",\n",
        "                 \"NashSincere\",\n",
        "                 \"NashManip\",]\n",
        "\n",
        "visualise(current_scenario, desired_rules, 'Nash utility, concave rules, Mixed Mallows, m = 10', truncate_bottom = 5, truncate_top=50)"
      ],
      "metadata": {
        "id": "9mDe1SRbRvQK"
      },
      "execution_count": null,
      "outputs": []
    },
    {
      "cell_type": "code",
      "source": [
        "current_scenario = form_file_suffix(10**4, \"Candidates\", 10, \"MixedMallowsTwo\", \"Nash\")\n",
        "desired_rules = [\"Geometric1p2Sincere\",\n",
        "                 \"Geometric1p2Manip\",\n",
        "                 \"PluralitySincere\",\n",
        "                 \"PluralityManip\",\n",
        "                 \"Geometric1p5Sincere\",\n",
        "                 \"Geometric1p5Manip\",\n",
        "                 \"Geometric2Sincere\",\n",
        "                 \"Geometric2Manip\",\n",
        "                 \"BordaSincere\",\n",
        "                 \"BordaManip\",]\n",
        "\n",
        "visualise(current_scenario, desired_rules, 'Nash utility, convex rules , Mixed Mallows, m = 10', truncate_bottom = 5, truncate_top=50)"
      ],
      "metadata": {
        "id": "RYmln9WYRvQQ"
      },
      "execution_count": null,
      "outputs": []
    },
    {
      "cell_type": "code",
      "source": [
        "current_scenario = form_file_suffix(10**4, \"Candidates\", 10, \"MixedMallowsTwo\", \"Nash\")\n",
        "desired_rules = [\"5ApprovalSincere\",\n",
        "                 \"5ApprovalManip\",\n",
        "                 \"5BordaSincere\",\n",
        "                 \"5BordaManip\",\n",
        "                 \"BordaSincere\",\n",
        "                 \"BordaManip\",\n",
        "                 \"PluralitySincere\",\n",
        "                 \"PluralityManip\",]\n",
        "visualise(current_scenario, desired_rules, 'Nash utility, abdriged rules, Mixed Mallows, m = 10', truncate_bottom = 5, truncate_top=50)"
      ],
      "metadata": {
        "id": "5Q8t-EL5RvQV"
      },
      "execution_count": null,
      "outputs": []
    },
    {
      "cell_type": "code",
      "source": [
        "current_scenario = form_file_suffix(10**4, \"Candidates\", 10, \"MixedMallowsTwo\", \"Nash\")\n",
        "desired_rules = [\"Geometric0p8Sincere\",\n",
        "                 \"Geometric0p8Manip\",\n",
        "                 \"Geometric1p2Sincere\",\n",
        "                 \"Geometric1p2Manip\",\n",
        "                 \"BordaSincere\",\n",
        "                 \"BordaManip\",\n",
        "                 \"5ApprovalSincere\",\n",
        "                 \"5ApprovalManip\",]\n",
        "visualise(current_scenario, desired_rules, 'Nash utility, interesting rules, Mixed Mallows, m = 10', truncate_bottom = 5, truncate_top=50)"
      ],
      "metadata": {
        "id": "WvxfcYi8RvQZ"
      },
      "execution_count": null,
      "outputs": []
    },
    {
      "cell_type": "markdown",
      "source": [
        "# Mallows Sushi"
      ],
      "metadata": {
        "id": "9EqkxVINTWMY"
      }
    },
    {
      "cell_type": "markdown",
      "source": [
        "## Fixed m"
      ],
      "metadata": {
        "id": "6-OT8XEoTWNM"
      }
    },
    {
      "cell_type": "markdown",
      "source": [
        "### Mallows Sushi, Borda"
      ],
      "metadata": {
        "id": "lzLStOaVTWNR"
      }
    },
    {
      "cell_type": "code",
      "source": [
        "current_scenario = form_file_suffix(10**4, \"Candidates\", 10, \"MallowsSushi\", \"Borda\")\n",
        "desired_rules = [\n",
        "                 \"Geometric0p8Sincere\",\n",
        "                 \"Geometric0p8Manip\",\n",
        "                 \"Geometric0p5Sincere\",\n",
        "                 \"Geometric0p5Manip\",\n",
        "                 \"Geometric0p65Sincere\",\n",
        "                 \"Geometric0p65Manip\",\n",
        "                 \"BordaSincere\",\n",
        "                 \"BordaManip\",\n",
        "                 \"NashSincere\",\n",
        "                 \"NashManip\",]\n",
        "\n",
        "visualise(current_scenario, desired_rules, 'Borda utility, concave rules, Mallows Sushi, m = 10')"
      ],
      "metadata": {
        "id": "L6uMeA4pTWNS"
      },
      "execution_count": null,
      "outputs": []
    },
    {
      "cell_type": "code",
      "source": [
        "current_scenario = form_file_suffix(10**4, \"Candidates\", 10, \"MallowsSushi\", \"Borda\")\n",
        "desired_rules = [\"Geometric1p2Sincere\",\n",
        "                 \"Geometric1p2Manip\",\n",
        "                 \"PluralitySincere\",\n",
        "                 \"PluralityManip\",\n",
        "                 \"Geometric1p5Sincere\",\n",
        "                 \"Geometric1p5Manip\",\n",
        "                 \"Geometric2Sincere\",\n",
        "                 \"Geometric2Manip\",\n",
        "                 \"BordaSincere\",\n",
        "                 \"BordaManip\",]\n",
        "\n",
        "visualise(current_scenario, desired_rules, 'Borda utility, convex rules , Mallows Sushi, m = 10', truncate_top=30)"
      ],
      "metadata": {
        "id": "_MiJW8MeTWNY"
      },
      "execution_count": null,
      "outputs": []
    },
    {
      "cell_type": "code",
      "source": [
        "current_scenario = form_file_suffix(10**4, \"Candidates\", 10, \"MallowsSushi\", \"Borda\")\n",
        "desired_rules = [\"5ApprovalSincere\",\n",
        "                 \"5ApprovalManip\",\n",
        "                 \"5BordaSincere\",\n",
        "                 \"5BordaManip\",\n",
        "                 \"BordaSincere\",\n",
        "                 \"BordaManip\",\n",
        "                 \"PluralitySincere\",\n",
        "                 \"PluralityManip\",]\n",
        "visualise(current_scenario, desired_rules, 'Borda utility, abdriged rules, Mallows Sushi, m = 10', truncate_top=30)"
      ],
      "metadata": {
        "id": "QTr8BSvUTWNc"
      },
      "execution_count": null,
      "outputs": []
    },
    {
      "cell_type": "code",
      "source": [
        "current_scenario = form_file_suffix(10**4, \"Candidates\", 10, \"MallowsSushi\", \"Borda\")\n",
        "desired_rules = [\"Geometric0p8Sincere\",\n",
        "                 \"Geometric0p8Manip\",\n",
        "                 \"Geometric1p2Sincere\",\n",
        "                 \"Geometric1p2Manip\",\n",
        "                 \"BordaSincere\",\n",
        "                 \"BordaManip\",\n",
        "                 \"PluralitySincere\",\n",
        "                 \"PluralityManip\",]\n",
        "visualise(current_scenario, desired_rules, 'Borda utility, interesting rules, Mallows Sushi, m = 10')"
      ],
      "metadata": {
        "id": "1ivAUWqWTWNd"
      },
      "execution_count": null,
      "outputs": []
    },
    {
      "cell_type": "markdown",
      "source": [
        "### Mallows Sushi, Rawls"
      ],
      "metadata": {
        "id": "zPem8o9cTWNh"
      }
    },
    {
      "cell_type": "code",
      "source": [
        "current_scenario = form_file_suffix(10**4, \"Candidates\", 10, \"MallowsSushi\", \"Rawls\")\n",
        "desired_rules = [\n",
        "                 \"Geometric0p8Sincere\",\n",
        "                 \"Geometric0p8Manip\",\n",
        "                 \"Geometric0p5Sincere\",\n",
        "                 \"Geometric0p5Manip\",\n",
        "                 \"Geometric0p65Sincere\",\n",
        "                 \"Geometric0p65Manip\",\n",
        "                 \"BordaSincere\",\n",
        "                 \"BordaManip\",\n",
        "                 \"NashSincere\",\n",
        "                 \"NashManip\",]\n",
        "\n",
        "visualise(current_scenario, desired_rules, 'Rawls utility, concave rules, Mallows Sushi, m = 10')"
      ],
      "metadata": {
        "id": "JvkOTCOUTWNo"
      },
      "execution_count": null,
      "outputs": []
    },
    {
      "cell_type": "code",
      "source": [
        "current_scenario = form_file_suffix(10**4, \"Candidates\", 10, \"MallowsSushi\", \"Rawls\")\n",
        "desired_rules = [\"Geometric1p2Sincere\",\n",
        "                 \"Geometric1p2Manip\",\n",
        "                 \"PluralitySincere\",\n",
        "                 \"PluralityManip\",\n",
        "                 \"Geometric1p5Sincere\",\n",
        "                 \"Geometric1p5Manip\",\n",
        "                 \"Geometric2Sincere\",\n",
        "                 \"Geometric2Manip\",\n",
        "                 \"BordaSincere\",\n",
        "                 \"BordaManip\",]\n",
        "\n",
        "visualise(current_scenario, desired_rules, 'Rawls utility, convex rules , Mallows Sushi, m = 10', truncate_bottom=10, truncate_top = 30)"
      ],
      "metadata": {
        "id": "H4kXSNNRTWNo"
      },
      "execution_count": null,
      "outputs": []
    },
    {
      "cell_type": "code",
      "source": [
        "current_scenario = form_file_suffix(10**4, \"Candidates\", 10, \"MallowsSushi\", \"Rawls\")\n",
        "desired_rules = [\"5ApprovalSincere\",\n",
        "                 \"5ApprovalManip\",\n",
        "                 \"5BordaSincere\",\n",
        "                 \"5BordaManip\",\n",
        "                 \"BordaSincere\",\n",
        "                 \"BordaManip\",\n",
        "                 \"PluralitySincere\",\n",
        "                 \"PluralityManip\",]\n",
        "visualise(current_scenario, desired_rules, 'Rawls utility, abdriged rules, Mallows Sushi, m = 10', truncate_bottom=10, truncate_top = 30)"
      ],
      "metadata": {
        "id": "FxzSl3q7TWNy"
      },
      "execution_count": null,
      "outputs": []
    },
    {
      "cell_type": "code",
      "source": [
        "current_scenario = form_file_suffix(10**4, \"Candidates\", 10, \"MallowsSushi\", \"Rawls\")\n",
        "desired_rules = [\n",
        "                 \"Geometric1p2Sincere\",\n",
        "                 \"Geometric1p2Manip\",\n",
        "                 \"Geometric0p8Sincere\",\n",
        "                 \"Geometric0p8Manip\",\n",
        "                 \"BordaSincere\",\n",
        "                 \"BordaManip\",\n",
        "                 \"PluralitySincere\",\n",
        "                 \"PluralityManip\",]\n",
        "visualise(current_scenario, desired_rules, 'Rawls utility, interesting rules, Mallows Sushi, m = 10')"
      ],
      "metadata": {
        "id": "D2lSi7rBTWNz"
      },
      "execution_count": null,
      "outputs": []
    },
    {
      "cell_type": "markdown",
      "source": [
        "### Mallows Sushi, Nash"
      ],
      "metadata": {
        "id": "0hSzjhgvTWN4"
      }
    },
    {
      "cell_type": "code",
      "source": [
        "current_scenario = form_file_suffix(10**4, \"Candidates\", 10, \"MallowsSushi\", \"Nash\")\n",
        "desired_rules = [\n",
        "                 \"Geometric0p8Sincere\",\n",
        "                 \"Geometric0p8Manip\",\n",
        "                 \"Geometric0p5Sincere\",\n",
        "                 \"Geometric0p5Manip\",\n",
        "                 \"Geometric0p65Sincere\",\n",
        "                 \"Geometric0p65Manip\",\n",
        "                 \"BordaSincere\",\n",
        "                 \"BordaManip\",\n",
        "                 \"NashSincere\",\n",
        "                 \"NashManip\",]\n",
        "\n",
        "visualise(current_scenario, desired_rules, 'Nash utility, concave rules, Mallows Sushi, m = 10')"
      ],
      "metadata": {
        "id": "YiUZVBtBTWN4"
      },
      "execution_count": null,
      "outputs": []
    },
    {
      "cell_type": "code",
      "source": [
        "current_scenario = form_file_suffix(10**4, \"Candidates\", 10, \"MallowsSushi\", \"Nash\")\n",
        "desired_rules = [\"Geometric1p2Sincere\",\n",
        "                 \"Geometric1p2Manip\",\n",
        "                 \"PluralitySincere\",\n",
        "                 \"PluralityManip\",\n",
        "                 \"Geometric1p5Sincere\",\n",
        "                 \"Geometric1p5Manip\",\n",
        "                 \"Geometric2Sincere\",\n",
        "                 \"Geometric2Manip\",\n",
        "                 \"BordaSincere\",\n",
        "                 \"BordaManip\",]\n",
        "\n",
        "visualise(current_scenario, desired_rules, 'Nash utility, convex rules, Mallows Sushi, m = 10', truncate_top=30)"
      ],
      "metadata": {
        "id": "KbM5MBOoTWN5"
      },
      "execution_count": null,
      "outputs": []
    },
    {
      "cell_type": "code",
      "source": [
        "current_scenario = form_file_suffix(10**4, \"Candidates\", 10, \"MallowsSushi\", \"Nash\")\n",
        "desired_rules = [\"5ApprovalSincere\",\n",
        "                 \"5ApprovalManip\",\n",
        "                 \"5BordaSincere\",\n",
        "                 \"5BordaManip\",\n",
        "                 \"BordaSincere\",\n",
        "                 \"BordaManip\",\n",
        "                 \"PluralitySincere\",\n",
        "                 \"PluralityManip\",]\n",
        "visualise(current_scenario, desired_rules, 'Nash utility, abdriged rules, Mallows Sushi, m = 10', truncate_top=30)"
      ],
      "metadata": {
        "id": "olkLtvjQTWOA"
      },
      "execution_count": null,
      "outputs": []
    },
    {
      "cell_type": "code",
      "source": [
        "current_scenario = form_file_suffix(10**4, \"Candidates\", 10, \"MallowsSushi\", \"Nash\")\n",
        "desired_rules = [\"Geometric0p5Sincere\",\n",
        "                 \"Geometric0p5Manip\",\n",
        "                 \"NashSincere\",\n",
        "                 \"NashManip\",\n",
        "                 \"BordaSincere\",\n",
        "                 \"BordaManip\",\n",
        "                 \"5ApprovalSincere\",\n",
        "                 \"5ApprovalManip\",]\n",
        "visualise(current_scenario, desired_rules, 'Nash utility, interesting rules, Mallows Sushi, m = 10')"
      ],
      "metadata": {
        "id": "1ecO8VZuTWOA"
      },
      "execution_count": null,
      "outputs": []
    },
    {
      "cell_type": "markdown",
      "source": [
        "# Skating"
      ],
      "metadata": {
        "id": "xXwX0AnujZh4"
      }
    },
    {
      "cell_type": "markdown",
      "source": [
        "## Fixed m"
      ],
      "metadata": {
        "id": "HU9oE65WjVya"
      }
    },
    {
      "cell_type": "markdown",
      "source": [
        "### Skating Borda"
      ],
      "metadata": {
        "id": "tJP8CpjMjVyf"
      }
    },
    {
      "cell_type": "code",
      "source": [
        "current_scenario = form_file_suffix(10**4, \"Candidates\", 30, \"Skating\", \"Borda\")\n",
        "desired_rules = [\n",
        "                 \"Geometric0p8Sincere\",\n",
        "                 \"Geometric0p8Manip\",\n",
        "                 \"Geometric0p5Sincere\",\n",
        "                 \"Geometric0p5Manip\",\n",
        "                 \"Geometric0p65Sincere\",\n",
        "                 \"Geometric0p65Manip\",\n",
        "                 \"BordaSincere\",\n",
        "                 \"BordaManip\",\n",
        "                 \"NashSincere\",\n",
        "                 \"NashManip\",]\n",
        "\n",
        "visualise(current_scenario, desired_rules, 'Borda utility, concave rules, skating')"
      ],
      "metadata": {
        "id": "Pp3kVSzXjVyf"
      },
      "execution_count": null,
      "outputs": []
    },
    {
      "cell_type": "code",
      "source": [
        "current_scenario = form_file_suffix(10**4, \"Candidates\", 30, \"Skating\", \"Borda\")\n",
        "desired_rules = [\"Geometric1p2Sincere\",\n",
        "                 \"Geometric1p2Manip\",\n",
        "                 \"PluralitySincere\",\n",
        "                 \"PluralityManip\",\n",
        "                 \"Geometric1p5Sincere\",\n",
        "                 \"Geometric1p5Manip\",\n",
        "                 \"Geometric2Sincere\",\n",
        "                 \"Geometric2Manip\",\n",
        "                 \"BordaSincere\",\n",
        "                 \"BordaManip\",]\n",
        "\n",
        "visualise(current_scenario, desired_rules, 'Borda utility, convex rules , skating')"
      ],
      "metadata": {
        "id": "aEFC5QehjVyg"
      },
      "execution_count": null,
      "outputs": []
    },
    {
      "cell_type": "code",
      "source": [
        "current_scenario = form_file_suffix(10**4, \"Candidates\", 30, \"Skating\", \"Borda\")\n",
        "desired_rules = [\"5ApprovalSincere\",\n",
        "                 \"5ApprovalManip\",\n",
        "                 \"PluralitySincere\",\n",
        "                 \"PluralityManip\",\n",
        "                 \"HalfApprovalSincere\",\n",
        "                 \"QuarterApprovalSincere\",\n",
        "                 \"HalfApprovalManip\",\n",
        "                 \"QuarterApprovalManip\",\n",
        "                 ]\n",
        "visualise(current_scenario, desired_rules, 'Borda utility, approval family, skating')"
      ],
      "metadata": {
        "id": "_gkhIG4DjVyh"
      },
      "execution_count": null,
      "outputs": []
    },
    {
      "cell_type": "code",
      "source": [
        "current_scenario = form_file_suffix(10**4, \"Candidates\", 30, \"Skating\", \"Borda\")\n",
        "desired_rules = [\"5BordaSincere\",\n",
        "                 \"5BordaManip\",\n",
        "                 \"BordaSincere\",\n",
        "                 \"BordaManip\",\n",
        "                 \"PluralitySincere\",\n",
        "                 \"PluralityManip\",\n",
        "                 \"HalfBordaSincere\",\n",
        "                 \"HalfBordaManip\",\n",
        "                 \"QuarterBordaSincere\",\n",
        "                 \"QuarterBordaManip\",\n",
        "                 ]\n",
        "visualise(current_scenario, desired_rules, 'Borda utility, Borda family, skating')"
      ],
      "metadata": {
        "id": "0dW5auw8jVyi"
      },
      "execution_count": null,
      "outputs": []
    },
    {
      "cell_type": "code",
      "source": [
        "current_scenario = form_file_suffix(10**4, \"Candidates\", 30, \"Skating\", \"Borda\")\n",
        "desired_rules = [\"Geometric1p2Sincere\",\n",
        "                 \"Geometric1p2Manip\",\n",
        "                 \"PluralitySincere\",\n",
        "                 \"PluralityManip\",\n",
        "                 \"Geometric0p8Sincere\",\n",
        "                 \"Geometric0p8Manip\",\n",
        "                 \"BordaSincere\",\n",
        "                 \"BordaManip\",]\n",
        "\n",
        "visualise(current_scenario, desired_rules, 'Borda utility, interesting rules, skating')"
      ],
      "metadata": {
        "id": "b3GEYcmzjVyj"
      },
      "execution_count": null,
      "outputs": []
    },
    {
      "cell_type": "markdown",
      "source": [
        "### Skating Rawls"
      ],
      "metadata": {
        "id": "9d_R7WBUjVyl"
      }
    },
    {
      "cell_type": "code",
      "source": [
        "current_scenario = form_file_suffix(10**4, \"Candidates\", 30, \"Skating\", \"Rawls\")\n",
        "desired_rules = [\n",
        "                 \"Geometric0p8Sincere\",\n",
        "                 \"Geometric0p8Manip\",\n",
        "                 \"Geometric0p5Sincere\",\n",
        "                 \"Geometric0p5Manip\",\n",
        "                 \"Geometric0p65Sincere\",\n",
        "                 \"Geometric0p65Manip\",\n",
        "                 \"BordaSincere\",\n",
        "                 \"BordaManip\",\n",
        "                 \"NashSincere\",\n",
        "                 \"NashManip\",]\n",
        "\n",
        "visualise(current_scenario, desired_rules, 'Rawls utility, concave rules, skating')"
      ],
      "metadata": {
        "id": "mtKKyNRmjVym"
      },
      "execution_count": null,
      "outputs": []
    },
    {
      "cell_type": "code",
      "source": [
        "current_scenario = form_file_suffix(10**4, \"Candidates\", 30, \"Skating\", \"Rawls\")\n",
        "desired_rules = [\"Geometric1p2Sincere\",\n",
        "                 \"Geometric1p2Manip\",\n",
        "                 \"PluralitySincere\",\n",
        "                 \"PluralityManip\",\n",
        "                 \"Geometric1p5Sincere\",\n",
        "                 \"Geometric1p5Manip\",\n",
        "                 \"Geometric2Sincere\",\n",
        "                 \"Geometric2Manip\",\n",
        "                 \"BordaSincere\",\n",
        "                 \"BordaManip\",]\n",
        "\n",
        "visualise(current_scenario, desired_rules, 'Rawls utility, convex rules, skating')"
      ],
      "metadata": {
        "id": "SCqArmOyjVyn"
      },
      "execution_count": null,
      "outputs": []
    },
    {
      "cell_type": "code",
      "source": [
        "current_scenario = form_file_suffix(10**4, \"Candidates\", 30, \"Skating\", \"Rawls\")\n",
        "desired_rules = [\"5ApprovalSincere\",\n",
        "                 \"5ApprovalManip\",\n",
        "                 \"PluralitySincere\",\n",
        "                 \"PluralityManip\",\n",
        "                 \"HalfApprovalSincere\",\n",
        "                 \"HalfApprovalManip\",\n",
        "                 \"QuarterApprovalSincere\",\n",
        "                 \"QuarterApprovalManip\"]\n",
        "visualise(current_scenario, desired_rules, 'Rawls utility, approval family, skating')"
      ],
      "metadata": {
        "id": "RDzlJyRhjVyo"
      },
      "execution_count": null,
      "outputs": []
    },
    {
      "cell_type": "code",
      "source": [
        "current_scenario = form_file_suffix(10**4, \"Candidates\", 30, \"Skating\", \"Rawls\")\n",
        "desired_rules = [\"5BordaSincere\",\n",
        "                 \"5BordaManip\",\n",
        "                 \"BordaSincere\",\n",
        "                 \"BordaManip\",\n",
        "                 \"PluralitySincere\",\n",
        "                 \"PluralityManip\",\n",
        "                 \"HalfBordaSincere\",\n",
        "                 \"HalfBordaManip\",\n",
        "                 \"QuarterBordaSincere\",\n",
        "                 \"QuarterBordaManip\",\n",
        "                 ]\n",
        "visualise(current_scenario, desired_rules, 'Rawls utility, Borda family, skating')"
      ],
      "metadata": {
        "id": "aiqc9xBFjVyp"
      },
      "execution_count": null,
      "outputs": []
    },
    {
      "cell_type": "code",
      "source": [
        "current_scenario = form_file_suffix(10**4, \"Candidates\", 30, \"Skating\", \"Rawls\")\n",
        "desired_rules = [\"Geometric1p2Sincere\",\n",
        "                 \"Geometric1p2Manip\",\n",
        "                 \"Geometric0p8Sincere\",\n",
        "                 \"Geometric0p8Manip\",\n",
        "                 \"BordaSincere\",\n",
        "                 \"BordaManip\",\n",
        "                 \"PluralitySincere\",\n",
        "                 \"PluralityManip\",]\n",
        "visualise(current_scenario, desired_rules, 'Rawls utility, interesting rules, skating')"
      ],
      "metadata": {
        "id": "FUBWxG_wjVyq"
      },
      "execution_count": null,
      "outputs": []
    },
    {
      "cell_type": "markdown",
      "source": [
        "### Skating Nash"
      ],
      "metadata": {
        "id": "c7NYktbwjVyq"
      }
    },
    {
      "cell_type": "code",
      "source": [
        "current_scenario = form_file_suffix(10**4, \"Candidates\", 30, \"Skating\", \"Nash\")\n",
        "desired_rules = [\n",
        "                 \"Geometric0p8Sincere\",\n",
        "                 \"Geometric0p8Manip\",\n",
        "                 \"Geometric0p5Sincere\",\n",
        "                 \"Geometric0p5Manip\",\n",
        "                 \"Geometric0p65Sincere\",\n",
        "                 \"Geometric0p65Manip\",\n",
        "                 \"BordaSincere\",\n",
        "                 \"BordaManip\",\n",
        "                 \"NashSincere\",\n",
        "                 \"NashManip\",]\n",
        "\n",
        "visualise(current_scenario, desired_rules, 'Nash utility, concave rules, skating')"
      ],
      "metadata": {
        "id": "w6XeiBcsjVyr"
      },
      "execution_count": null,
      "outputs": []
    },
    {
      "cell_type": "code",
      "source": [
        "current_scenario = form_file_suffix(10**4, \"Candidates\", 30, \"Skating\", \"Nash\")\n",
        "desired_rules = [\"Geometric1p2Sincere\",\n",
        "                 \"Geometric1p2Manip\",\n",
        "                 \"PluralitySincere\",\n",
        "                 \"PluralityManip\",\n",
        "                 \"Geometric1p5Sincere\",\n",
        "                 \"Geometric1p5Manip\",\n",
        "                 \"Geometric2Sincere\",\n",
        "                 \"Geometric2Manip\",\n",
        "                 \"BordaSincere\",\n",
        "                 \"BordaManip\",]\n",
        "\n",
        "visualise(current_scenario, desired_rules, 'Nash utility, convex rules, skating')"
      ],
      "metadata": {
        "id": "yrV703HZjVys"
      },
      "execution_count": null,
      "outputs": []
    },
    {
      "cell_type": "code",
      "source": [
        "current_scenario = form_file_suffix(10**4, \"Candidates\", 30, \"Skating\", \"Nash\")\n",
        "desired_rules = [\"5ApprovalSincere\",\n",
        "                 \"5ApprovalManip\",\n",
        "                 \"PluralitySincere\",\n",
        "                 \"PluralityManip\",\n",
        "                 \"HalfApprovalSincere\",\n",
        "                 \"HalfApprovalManip\",\n",
        "                 \"QuarterApprovalSincere\",\n",
        "                 \"QuarterApprovalManip\"]\n",
        "visualise(current_scenario, desired_rules, 'Nash utility, approval family, skating')"
      ],
      "metadata": {
        "id": "2bSm56FHjVyt"
      },
      "execution_count": null,
      "outputs": []
    },
    {
      "cell_type": "code",
      "source": [
        "current_scenario = form_file_suffix(10**4, \"Candidates\", 30, \"Skating\", \"Nash\")\n",
        "desired_rules = [\"5BordaSincere\",\n",
        "                 \"5BordaManip\",\n",
        "                 \"BordaSincere\",\n",
        "                 \"BordaManip\",\n",
        "                 \"PluralitySincere\",\n",
        "                 \"PluralityManip\",\n",
        "                 \"HalfBordaSincere\",\n",
        "                 \"HalfBordaManip\",\n",
        "                 \"QuarterBordaSincere\",\n",
        "                 \"QuarterBordaManip\",\n",
        "                 ]\n",
        "visualise(current_scenario, desired_rules, 'Nash utility, Borda family, skating')"
      ],
      "metadata": {
        "id": "NSyQZsSbjVyu"
      },
      "execution_count": null,
      "outputs": []
    },
    {
      "cell_type": "code",
      "source": [
        "current_scenario = form_file_suffix(10**4, \"Candidates\", 30, \"Skating\", \"Nash\")\n",
        "desired_rules = [\"Geometric0p8Sincere\",\n",
        "                 \"Geometric0p8Manip\",\n",
        "                 \"Geometric1p2Sincere\",\n",
        "                 \"Geometric1p2Manip\",\n",
        "                 \"BordaSincere\",\n",
        "                 \"BordaManip\",\n",
        "                 \"PluralitySincere\",\n",
        "                 \"PluralityManip\",]\n",
        "visualise(current_scenario, desired_rules, 'Nash utility, interesting rules, skating')"
      ],
      "metadata": {
        "id": "tiI2x-uMjVyu"
      },
      "execution_count": null,
      "outputs": []
    },
    {
      "cell_type": "markdown",
      "source": [
        "# Graphs for paper"
      ],
      "metadata": {
        "id": "V1K6O7CdBA2d"
      }
    },
    {
      "cell_type": "code",
      "source": [
        "colours = {\n",
        "    'Geometric1p2Sincere' : 'r--',\n",
        "    'Geometric1p2Manip' : 'r',\n",
        "    'Geometric2Sincere' : 'r--',\n",
        "    'Geometric2Manip' : 'r',\n",
        "    'PluralitySincere' : 'm--',\n",
        "    'PluralityManip' : 'm',\n",
        "    'Geometric0p8Sincere' : 'b--',\n",
        "    'Geometric0p8Manip' : 'b',\n",
        "    'BordaSincere' : 'g--',\n",
        "    'BordaManip' : 'g',\n",
        "    'Geometric0p5Sincere' : 'b--',\n",
        "    'Geometric0p5Manip' : 'b',\n",
        "    'QuarterApprovalSincere' : 'k--',\n",
        "    'QuarterApprovalManip' : 'k',\n",
        "    'NashSincere' : 'c--',\n",
        "    'NashManip' : 'c',\n",
        "    'HalfBordaSincere' : 'y--',\n",
        "    'HalfBordaManip' : 'y',\n",
        "    'HalfApprovalSincere' : 'k--',\n",
        "    'HalfApprovalManip' : 'k',\n",
        "}"
      ],
      "metadata": {
        "id": "XLsTV6lc6PwD"
      },
      "execution_count": null,
      "outputs": []
    },
    {
      "cell_type": "code",
      "source": [
        "def visualise_for_paper_with_legend(scenario, rules, xlabel, truncate_bottom = False, truncate_top = False, legend_loc=\"lower right\"):\n",
        "  fig = plt.figure(figsize=(15,10))\n",
        "  ax = fig.add_subplot(1,1,1)\n",
        "  for rule in rules:\n",
        "    file_name = rule + scenario\n",
        "    file_name = '/content/drive/MyDrive/results/' + file_name\n",
        "    axis, data = read_from_file(file_name)\n",
        "    if truncate_top:\n",
        "      axis = axis[:truncate_top]\n",
        "      data = data[:truncate_top]\n",
        "    if truncate_bottom:\n",
        "      axis = axis[truncate_bottom:]\n",
        "      data = data[truncate_bottom:]\n",
        "    ax.plot(axis, data, colours[rule], label=rule, linewidth=5)\n",
        "  ax.legend(loc=legend_loc, prop={'size': 20})\n",
        "  plt.xlabel(xlabel, fontsize=20)\n",
        "  ax.tick_params(axis='both', which='major', labelsize=20)\n"
      ],
      "metadata": {
        "id": "zfapiZe4A95x"
      },
      "execution_count": null,
      "outputs": []
    },
    {
      "cell_type": "code",
      "source": [
        "current_scenario = form_file_suffix(10**4, \"Candidates\", 30, \"Skating\", \"Borda\")\n",
        "desired_rules = [\"Geometric1p2Sincere\",\n",
        "                 \"Geometric1p2Manip\",\n",
        "                 \"PluralitySincere\",\n",
        "                 \"PluralityManip\",\n",
        "                 \"Geometric0p8Sincere\",\n",
        "                 \"Geometric0p8Manip\",\n",
        "                 \"BordaSincere\",\n",
        "                 \"BordaManip\",]\n",
        "\n",
        "visualise_for_paper_with_legend(current_scenario, desired_rules, \"n\")"
      ],
      "metadata": {
        "id": "vU1MpfuoFgoZ"
      },
      "execution_count": null,
      "outputs": []
    },
    {
      "cell_type": "code",
      "source": [
        "current_scenario = form_file_suffix(10**4, \"Voters\", 10, \"MallowsPointEight\", \"Rawls\")\n",
        "desired_rules = [\"Geometric1p2Sincere\",\n",
        "                 \"Geometric1p2Manip\",\n",
        "                 \"Geometric0p5Sincere\",\n",
        "                 \"Geometric0p5Manip\",\n",
        "                 \"BordaSincere\",\n",
        "                 \"BordaManip\",\n",
        "                 \"QuarterApprovalSincere\",\n",
        "                 \"QuarterApprovalManip\",]\n",
        "visualise_for_paper_with_legend(current_scenario, desired_rules, \"m\")"
      ],
      "metadata": {
        "id": "5hbIPNV_Ij20"
      },
      "execution_count": null,
      "outputs": []
    },
    {
      "cell_type": "code",
      "source": [
        "current_scenario = form_file_suffix(10**4, \"Voters\", 10, \"MallowsPointFive\", \"Nash\")\n",
        "desired_rules = [\"NashSincere\",\n",
        "                 \"NashManip\",\n",
        "                 \"Geometric2Sincere\",\n",
        "                 \"Geometric2Manip\",\n",
        "                 \"BordaSincere\",\n",
        "                 \"BordaManip\",\n",
        "                 \"PluralitySincere\",\n",
        "                 \"PluralityManip\",]\n",
        "visualise_for_paper_with_legend(current_scenario, desired_rules, \"m\")"
      ],
      "metadata": {
        "id": "N4k0pH_cKiId"
      },
      "execution_count": null,
      "outputs": []
    },
    {
      "cell_type": "code",
      "source": [
        "current_scenario = form_file_suffix(10**4, \"Candidates\", 10, \"MallowsSushi\", \"Borda\")\n",
        "desired_rules = [\"NashSincere\",\n",
        "                 \"NashManip\",\n",
        "                 \"Geometric1p2Sincere\",\n",
        "                 \"Geometric1p2Manip\",\n",
        "                 \"BordaSincere\",\n",
        "                 \"BordaManip\",\n",
        "                 \"PluralitySincere\",\n",
        "                 \"PluralityManip\",]\n",
        "visualise_for_paper_with_legend(current_scenario, desired_rules, \"n\", legend_loc = \"upper right\")"
      ],
      "metadata": {
        "id": "NvLAvEkiMSvO"
      },
      "execution_count": null,
      "outputs": []
    },
    {
      "cell_type": "code",
      "source": [
        "current_scenario = form_file_suffix(10**4, \"Voters\", 10, \"EuclideanTwo\", \"Borda\")\n",
        "desired_rules = [\"Geometric0p8Sincere\",\n",
        "                 \"Geometric0p8Manip\",\n",
        "                 \"Geometric1p2Sincere\",\n",
        "                 \"Geometric1p2Manip\",\n",
        "                 \"BordaSincere\",\n",
        "                 \"BordaManip\",\n",
        "                 \"PluralitySincere\",\n",
        "                 \"PluralityManip\",\n",
        "                 \"HalfApprovalSincere\",\n",
        "                 \"HalfApprovalManip\",]\n",
        "visualise_for_paper_with_legend(current_scenario, desired_rules, \"m\")"
      ],
      "metadata": {
        "id": "DUMjEVOiWOhC"
      },
      "execution_count": null,
      "outputs": []
    },
    {
      "cell_type": "code",
      "source": [
        "current_scenario = form_file_suffix(10**4, \"Voters\", 10, \"EuclideanFive\", \"Nash\")\n",
        "desired_rules = [\"NashSincere\",\n",
        "                 \"NashManip\",\n",
        "                 \"Geometric1p2Sincere\",\n",
        "                 \"Geometric1p2Manip\",\n",
        "                 \"HalfBordaSincere\",\n",
        "                 \"HalfBordaManip\",\n",
        "                 \"PluralitySincere\",\n",
        "                 \"PluralityManip\",\n",
        "                 \"HalfApprovalSincere\",\n",
        "                 \"HalfApprovalManip\"]\n",
        "visualise_for_paper_with_legend(current_scenario, desired_rules, \"m\")"
      ],
      "metadata": {
        "id": "meusKyAyXzFT"
      },
      "execution_count": null,
      "outputs": []
    },
    {
      "cell_type": "code",
      "source": [
        "current_scenario = form_file_suffix(10**4, \"Voters\", 10, \"EuclideanFive\", \"Rawls\")\n",
        "desired_rules = [\"Geometric1p2Sincere\",\n",
        "                 \"Geometric1p2Manip\",\n",
        "                 \"Geometric0p8Sincere\",\n",
        "                 \"Geometric0p8Manip\",\n",
        "                 \"HalfBordaSincere\",\n",
        "                 \"HalfBordaManip\",\n",
        "                 \"PluralitySincere\",\n",
        "                 \"PluralityManip\",\n",
        "                 \"HalfApprovalSincere\",\n",
        "                 \"HalfApprovalManip\",\n",
        "                 ]\n",
        "visualise_for_paper_with_legend(current_scenario, desired_rules, \"m\")"
      ],
      "metadata": {
        "id": "6cdVPVOBYJKP"
      },
      "execution_count": null,
      "outputs": []
    },
    {
      "cell_type": "code",
      "source": [
        "current_scenario = form_file_suffix(10**4, \"Voters\", 10, \"IC\", \"Borda\")\n",
        "desired_rules = [\"Geometric1p2Sincere\",\n",
        "                 \"Geometric1p2Manip\",\n",
        "                 \"PluralitySincere\",\n",
        "                 \"PluralityManip\",\n",
        "                 \"HalfApprovalSincere\",\n",
        "                 \"HalfApprovalManip\",\n",
        "                 \"HalfBordaSincere\",\n",
        "                 \"HalfBordaManip\",\n",
        "                 \"Geometric0p8Sincere\",\n",
        "                 \"Geometric0p8Manip\"]\n",
        "visualise_for_paper_with_legend(current_scenario, desired_rules, \"m\")"
      ],
      "metadata": {
        "id": "grDuz8OFajtu"
      },
      "execution_count": null,
      "outputs": []
    },
    {
      "cell_type": "code",
      "source": [
        "current_scenario = form_file_suffix(10**4, \"Voters\", 10, \"IC\", \"Nash\")\n",
        "desired_rules = [\"NashSincere\",\n",
        "                 \"NashManip\",\n",
        "                 \"Geometric1p2Sincere\",\n",
        "                 \"Geometric1p2Manip\",\n",
        "                 \"BordaSincere\",\n",
        "                 \"BordaManip\",\n",
        "                 \"HalfApprovalSincere\",\n",
        "                 \"HalfApprovalManip\",\n",
        "                 \"PluralitySincere\",\n",
        "                 \"PluralityManip\",]\n",
        "visualise_for_paper_with_legend(current_scenario, desired_rules, \"m\")"
      ],
      "metadata": {
        "id": "esLwTYjdarOx"
      },
      "execution_count": null,
      "outputs": []
    },
    {
      "cell_type": "code",
      "source": [
        "current_scenario = form_file_suffix(10**4, \"Voters\", 10, \"EuclideanFive\", \"Nash\")\n",
        "desired_rules = [\"NashSincere\",\n",
        "                 \"NashManip\",\n",
        "                 \"Geometric1p2Sincere\",\n",
        "                 \"Geometric1p2Manip\",\n",
        "                 \"HalfBordaSincere\",\n",
        "                 \"HalfBordaManip\",\n",
        "                 \"PluralitySincere\",\n",
        "                 \"PluralityManip\",\n",
        "                 \"HalfApprovalSincere\",\n",
        "                 \"HalfApprovalManip\"]\n",
        "visualise_for_paper_with_legend(current_scenario, desired_rules, \"m\")"
      ],
      "metadata": {
        "id": "NNUGbVomyX1Z"
      },
      "execution_count": null,
      "outputs": []
    }
  ]
}