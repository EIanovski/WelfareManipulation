{
  "cells": [
    {
      "cell_type": "code",
      "execution_count": null,
      "metadata": {
        "id": "brqcAzt8lZTd"
      },
      "outputs": [],
      "source": [
        "# If you do not wish to use google drive, change file_path to the location of the results.\n",
        "from google.colab import drive\n",
        "drive.mount('/content/drive')\n",
        "file_path = '/content/drive/MyDrive/results/'\n"
      ]
    },
    {
      "cell_type": "code",
      "execution_count": null,
      "metadata": {
        "id": "uJLpqiV1aj8t"
      },
      "outputs": [],
      "source": [
        "import pylab as plt\n",
        "import numpy as np\n",
        "\n",
        "rule_colours = {\n",
        "    \"Nash\" : \"aquamarine\",\n",
        "    \"GenAntip\" : \"black\",\n",
        "    \"Geometric0p5\" : \"midnightblue\",\n",
        "    \"Geometric0p65\" : \"blue\",\n",
        "    \"Geometric0p8\" : \"royalblue\",\n",
        "    \"5Borda\" : \"palegreen\",\n",
        "    \"QuarterBorda\" : \"lawngreen\",\n",
        "    \"HalfBorda\" : \"darkolivegreen\",\n",
        "    \"Borda\" : \"darkgreen\",\n",
        "    \"Geometric1p2\" : \"gold\",\n",
        "    \"Geometric1p5\" : \"orange\",\n",
        "    \"Geometric2\" : \"orangered\",\n",
        "    \"Plurality\" : \"indianred\",\n",
        "    \"GenPlur\" : \"deeppink\",\n",
        "    \"5Approval\" : \"crimson\",\n",
        "    \"QuarterApproval\" : \"darkmagenta\",\n",
        "    \"HalfApproval\" : \"maroon\",\n",
        "    \"Antip\" : \"darkslategray\",\n",
        "    \"Copeland\" : \"silver\",\n",
        "    \"Simpson\" : \"grey\"\n",
        "}\n",
        "\n",
        "def rule_name_and_strategy(rule):\n",
        "  if rule.endswith(\"Sincere\"):\n",
        "    return rule[:-7], \"Sincere\"\n",
        "  else:\n",
        "    return rule[:-5], \"Manip\"\n",
        "\n",
        "def read_from_file(file_name):\n",
        "  axis = []\n",
        "  data = []\n",
        "  f = open(file_name)\n",
        "  for line in f:\n",
        "    tokens = line.split(\" \")\n",
        "    axis.append(int(tokens[0]))\n",
        "    data.append(float(tokens[1]))\n",
        "  return axis, data\n",
        "\n",
        "def form_file_suffix(iterations, fixed_axis, no_fix, culture, utility):\n",
        "  return \"_iterations=\"+str(iterations)+\"_\"+fixed_axis+\"=\"+str(no_fix)+\"_\"+culture+\"_\"+utility+\"_utility\"\n",
        "\n",
        "def visualise(scenario, rules, title, truncate_bottom = False, truncate_top = False):\n",
        "  fig = plt.figure(figsize=(15,10))\n",
        "  ax = fig.add_subplot(1,1,1)\n",
        "\n",
        "  for rule in rules:\n",
        "    file_name = rule + scenario\n",
        "    file_name = file_path + file_name\n",
        "    axis, data = read_from_file(file_name)\n",
        "    if truncate_top:\n",
        "      axis = axis[:truncate_top]\n",
        "      data = data[:truncate_top]\n",
        "    if truncate_bottom:\n",
        "      axis = axis[truncate_bottom:]\n",
        "      data = data[truncate_bottom:]\n",
        "    name, strat = rule_name_and_strategy(rule)\n",
        "\n",
        "    ax.plot(axis, data, color = rule_colours[name], linestyle = \"-\" if strat == \"Manip\" else \"--\", label=rule, linewidth=2)\n",
        "  ax.legend()\n",
        "  minor_ticks = np.arange(axis[0], axis[-1], 5)\n",
        "  ax.set_xticks(minor_ticks)\n",
        "  ax.grid(which='both')\n",
        "  ax.set_title(title)\n",
        "\n",
        "\n"
      ]
    },
    {
      "cell_type": "markdown",
      "metadata": {
        "id": "BS5b2PEeQ1zf"
      },
      "source": [
        "# Slide graphs"
      ]
    },
    {
      "cell_type": "code",
      "execution_count": null,
      "metadata": {
        "id": "jOm13HREQhLJ"
      },
      "outputs": [],
      "source": [
        "def visualise_for_slides_with_legend(scenario, rules, xlabel, truncate_bottom = False, truncate_top = False, legend_loc=\"lower right\"):\n",
        "  fig = plt.figure(figsize=(15,10))\n",
        "  ax = fig.add_subplot(1,1,1)\n",
        "  for rule in rules:\n",
        "    file_name = rule + scenario\n",
        "    file_name = file_path + file_name\n",
        "    axis, data = read_from_file(file_name)\n",
        "    if truncate_top:\n",
        "      axis = axis[:truncate_top]\n",
        "      data = data[:truncate_top]\n",
        "    if truncate_bottom:\n",
        "      axis = axis[truncate_bottom:]\n",
        "      data = data[truncate_bottom:]\n",
        "    name, strat = rule_name_and_strategy(rule)\n",
        "    ax.plot(axis, data, color = rule_colours[name], linestyle = \"-\" if strat == \"Manip\" else \"--\", label=rule, linewidth=3, markersize=10)\n",
        "  ax.legend(loc=legend_loc, prop={'size': 15})\n",
        "  ax.tick_params(axis='both', which='major', labelsize=20)"
      ]
    },
    {
      "cell_type": "code",
      "execution_count": null,
      "metadata": {
        "id": "sfZxZGBBU7QX"
      },
      "outputs": [],
      "source": [
        "concave_rules = [\n",
        "                 \"Geometric0p8Sincere\",\n",
        "                 \"Geometric0p8Manip\",\n",
        "                 \"Geometric0p5Sincere\",\n",
        "                 \"Geometric0p5Manip\",\n",
        "                 \"Geometric0p65Sincere\",\n",
        "                 \"Geometric0p65Manip\",\n",
        "                 \"BordaSincere\",\n",
        "                 \"BordaManip\",\n",
        "                 \"NashSincere\",\n",
        "                 \"NashManip\",\n",
        "                 ]\n",
        "convex_rules  = [\"Geometric1p2Sincere\",\n",
        "                 \"Geometric1p2Manip\",\n",
        "                 \"PluralitySincere\",\n",
        "                 \"PluralityManip\",\n",
        "                 \"Geometric1p5Sincere\",\n",
        "                 \"Geometric1p5Manip\",\n",
        "                 \"Geometric2Sincere\",\n",
        "                 \"Geometric2Manip\",\n",
        "                 \"BordaSincere\",\n",
        "                 \"BordaManip\",]\n",
        "approval_rules = [\"5ApprovalSincere\",\n",
        "                 \"5ApprovalManip\",\n",
        "                 \"PluralitySincere\",\n",
        "                 \"PluralityManip\",\n",
        "                 \"HalfApprovalSincere\",\n",
        "                 \"HalfApprovalManip\",\n",
        "                 \"QuarterApprovalSincere\",\n",
        "                 \"QuarterApprovalManip\"]\n",
        "borda_rules = [\"5BordaSincere\",\n",
        "                 \"5BordaManip\",\n",
        "                 \"BordaSincere\",\n",
        "                 \"BordaManip\",\n",
        "                 \"PluralitySincere\",\n",
        "                 \"PluralityManip\",\n",
        "                 \"HalfBordaSincere\",\n",
        "                 \"HalfBordaManip\",\n",
        "                 \"QuarterBordaSincere\",\n",
        "                 \"QuarterBordaManip\",\n",
        "                 ]"
      ]
    },
    {
      "cell_type": "code",
      "execution_count": null,
      "metadata": {
        "id": "xS2UVMS2Q5Da"
      },
      "outputs": [],
      "source": [
        "current_scenario = form_file_suffix(10**4, \"Voters\", 10, \"IC\", \"Borda\")\n",
        "desired_rules = [\"Geometric1p2Sincere\",\n",
        "                 \"Geometric1p2Manip\",\n",
        "                 \"PluralitySincere\",\n",
        "                 \"PluralityManip\",\n",
        "                 #\"HalfApprovalSincere\",\n",
        "                 #\"HalfApprovalManip\",\n",
        "                 \"NashSincere\",\n",
        "                 \"NashManip\",\n",
        "                 \"BordaSincere\",\n",
        "                 \"BordaManip\",\n",
        "                 \"Geometric0p5Sincere\",\n",
        "                 \"Geometric0p5Manip\"]\n",
        "\n",
        "visualise_for_slides_with_legend(current_scenario, desired_rules, 'Borda utility, interesting rules, IC, n = 10')"
      ]
    },
    {
      "cell_type": "code",
      "execution_count": null,
      "metadata": {
        "id": "aBqo7IbwTpqd"
      },
      "outputs": [],
      "source": [
        "current_scenario = form_file_suffix(10**4, \"Voters\", 10, \"IC\", \"Borda\")\n",
        "desired_rules = [\n",
        "                 \"HalfApprovalSincere\",\n",
        "                 \"HalfApprovalManip\",\n",
        "                 \"HalfBordaSincere\",\n",
        "                 \"HalfBordaManip\",\n",
        "                 \"BordaSincere\",\n",
        "                 \"BordaManip\",]\n",
        "\n",
        "visualise_for_slides_with_legend(current_scenario, desired_rules, 'Borda utility, interesting rules, IC, n = 10')"
      ]
    },
    {
      "cell_type": "code",
      "execution_count": null,
      "metadata": {
        "id": "w5MIh4OmU0rf"
      },
      "outputs": [],
      "source": [
        "current_scenario = form_file_suffix(10**4, \"Voters\", 10, \"IC\", \"Borda\")\n",
        "desired_rules = concave_rules\n",
        "\n",
        "visualise_for_slides_with_legend(current_scenario, desired_rules, 'Borda utility, interesting rules, IC, n = 10')"
      ]
    },
    {
      "cell_type": "code",
      "execution_count": null,
      "metadata": {
        "id": "u3J146VAVYPu"
      },
      "outputs": [],
      "source": [
        "current_scenario = form_file_suffix(10**4, \"Voters\", 10, \"IC\", \"Borda\")\n",
        "desired_rules = convex_rules\n",
        "\n",
        "visualise_for_slides_with_legend(current_scenario, desired_rules, 'Borda utility, interesting rules, IC, n = 10')"
      ]
    },
    {
      "cell_type": "code",
      "execution_count": null,
      "metadata": {
        "id": "t-EUXp32Ve12"
      },
      "outputs": [],
      "source": [
        "current_scenario = form_file_suffix(10**4, \"Voters\", 10, \"IC\", \"Borda\")\n",
        "desired_rules = approval_rules\n",
        "\n",
        "visualise_for_slides_with_legend(current_scenario, desired_rules, 'Borda utility, interesting rules, IC, n = 10')"
      ]
    },
    {
      "cell_type": "code",
      "execution_count": null,
      "metadata": {
        "id": "g4kT7CN6VlHc"
      },
      "outputs": [],
      "source": [
        "current_scenario = form_file_suffix(10**4, \"Voters\", 10, \"IC\", \"Borda\")\n",
        "desired_rules = borda_rules\n",
        "\n",
        "visualise_for_slides_with_legend(current_scenario, desired_rules, 'Borda utility, interesting rules, IC, n = 10')"
      ]
    },
    {
      "cell_type": "code",
      "execution_count": null,
      "metadata": {
        "id": "AEaa7L6JXFl2"
      },
      "outputs": [],
      "source": [
        "current_scenario = form_file_suffix(10**4, \"Voters\", 10, \"IC\", \"Rawls\")\n",
        "desired_rules = [\"Geometric1p2Sincere\",\n",
        "                 \"Geometric1p2Manip\",\n",
        "                 \"PluralitySincere\",\n",
        "                 \"PluralityManip\",\n",
        "                 \"BordaSincere\",\n",
        "                 \"BordaManip\",\n",
        "                 \"Geometric0p5Sincere\",\n",
        "                 \"Geometric0p5Manip\"]\n",
        "\n",
        "visualise_for_slides_with_legend(current_scenario, desired_rules, 'Borda utility, interesting rules, IC, n = 10')"
      ]
    },
    {
      "cell_type": "code",
      "execution_count": null,
      "metadata": {
        "id": "01-7AbNaXdbj"
      },
      "outputs": [],
      "source": [
        "current_scenario = form_file_suffix(10**4, \"Voters\", 10, \"IC\", \"Rawls\")\n",
        "desired_rules = [\"HalfApprovalSincere\",\n",
        "                 \"HalfApprovalManip\",\n",
        "                 \"BordaSincere\",\n",
        "                 \"BordaManip\",\n",
        "                 \"NashSincere\",\n",
        "                 \"NashManip\",\n",
        "                 \"Geometric0p5Sincere\",\n",
        "                 \"Geometric0p5Manip\"]\n",
        "\n",
        "visualise_for_slides_with_legend(current_scenario, desired_rules, 'Borda utility, interesting rules, IC, n = 10')"
      ]
    },
    {
      "cell_type": "code",
      "execution_count": null,
      "metadata": {
        "id": "fmhlvLnGr7Ic"
      },
      "outputs": [],
      "source": [
        "current_scenario = form_file_suffix(10**4, \"Voters\", 10, \"IC\", \"Rawls\")\n",
        "desired_rules = concave_rules\n",
        "\n",
        "visualise_for_slides_with_legend(current_scenario, desired_rules, 'Borda utility, interesting rules, IC, n = 10')"
      ]
    },
    {
      "cell_type": "code",
      "execution_count": null,
      "metadata": {
        "id": "OtVilUvTsBiy"
      },
      "outputs": [],
      "source": [
        "current_scenario = form_file_suffix(10**4, \"Voters\", 10, \"IC\", \"Rawls\")\n",
        "desired_rules = convex_rules\n",
        "\n",
        "visualise_for_slides_with_legend(current_scenario, desired_rules, 'Borda utility, interesting rules, IC, n = 10')"
      ]
    },
    {
      "cell_type": "code",
      "execution_count": null,
      "metadata": {
        "id": "T-kmV8EksDeB"
      },
      "outputs": [],
      "source": [
        "current_scenario = form_file_suffix(10**4, \"Voters\", 10, \"IC\", \"Rawls\")\n",
        "desired_rules = borda_rules\n",
        "\n",
        "visualise_for_slides_with_legend(current_scenario, desired_rules, 'Borda utility, interesting rules, IC, n = 10')"
      ]
    },
    {
      "cell_type": "code",
      "execution_count": null,
      "metadata": {
        "id": "PevOWDbpsFYk"
      },
      "outputs": [],
      "source": [
        "current_scenario = form_file_suffix(10**4, \"Voters\", 10, \"IC\", \"Rawls\")\n",
        "desired_rules = approval_rules\n",
        "\n",
        "visualise_for_slides_with_legend(current_scenario, desired_rules, 'Borda utility, interesting rules, IC, n = 10')"
      ]
    },
    {
      "cell_type": "code",
      "execution_count": null,
      "metadata": {
        "id": "jvIfx0fudfG-"
      },
      "outputs": [],
      "source": [
        "current_scenario = form_file_suffix(10**4, \"Voters\", 10, \"IC\", \"Nash\")\n",
        "desired_rules = [\"NashSincere\",\n",
        "                 \"NashManip\",\n",
        "                 \"Geometric1p2Sincere\",\n",
        "                 \"Geometric1p2Manip\",\n",
        "                 \"BordaSincere\",\n",
        "                 \"BordaManip\",\n",
        "                 \"HalfApprovalSincere\",\n",
        "                 \"HalfApprovalManip\",\n",
        "                 \"PluralitySincere\",\n",
        "                 \"PluralityManip\",]\n",
        "visualise_for_slides_with_legend(current_scenario, desired_rules, 'Nash utility, interesting rules, IC, n = 10')"
      ]
    },
    {
      "cell_type": "code",
      "execution_count": null,
      "metadata": {
        "id": "B2Hkf83JrmIO"
      },
      "outputs": [],
      "source": [
        "current_scenario = form_file_suffix(10**4, \"Voters\", 10, \"IC\", \"Nash\")\n",
        "desired_rules = concave_rules\n",
        "visualise_for_slides_with_legend(current_scenario, desired_rules, 'Nash utility, interesting rules, IC, n = 10')"
      ]
    },
    {
      "cell_type": "code",
      "execution_count": null,
      "metadata": {
        "id": "RZN8chNorogu"
      },
      "outputs": [],
      "source": [
        "current_scenario = form_file_suffix(10**4, \"Voters\", 10, \"IC\", \"Nash\")\n",
        "desired_rules = convex_rules\n",
        "visualise_for_slides_with_legend(current_scenario, desired_rules, 'Nash utility, interesting rules, IC, n = 10')"
      ]
    },
    {
      "cell_type": "code",
      "execution_count": null,
      "metadata": {
        "id": "9Yd_rVFErp5Q"
      },
      "outputs": [],
      "source": [
        "current_scenario = form_file_suffix(10**4, \"Voters\", 10, \"IC\", \"Nash\")\n",
        "desired_rules = borda_rules\n",
        "visualise_for_slides_with_legend(current_scenario, desired_rules, 'Nash utility, interesting rules, IC, n = 10')"
      ]
    },
    {
      "cell_type": "code",
      "execution_count": null,
      "metadata": {
        "id": "Ew7El4Y2rslt"
      },
      "outputs": [],
      "source": [
        "current_scenario = form_file_suffix(10**4, \"Voters\", 10, \"IC\", \"Nash\")\n",
        "desired_rules = approval_rules\n",
        "visualise_for_slides_with_legend(current_scenario, desired_rules, 'Nash utility, interesting rules, IC, n = 10')"
      ]
    },
    {
      "cell_type": "code",
      "execution_count": null,
      "metadata": {
        "id": "0fcBvmEd_HLV"
      },
      "outputs": [],
      "source": [
        "current_scenario = form_file_suffix(10**4, \"Voters\", 10, \"EuclideanFive\", \"Nash\")\n",
        "desired_rules = [\"NashSincere\",\n",
        "                 \"NashManip\",\n",
        "                 \"Geometric1p2Sincere\",\n",
        "                 \"Geometric1p2Manip\",\n",
        "                 \"HalfBordaSincere\",\n",
        "                 \"HalfBordaManip\",\n",
        "                 \"PluralitySincere\",\n",
        "                 \"PluralityManip\",\n",
        "                 \"HalfApprovalSincere\",\n",
        "                 \"HalfApprovalManip\"]\n",
        "visualise_for_slides_with_legend(current_scenario, desired_rules, 'Nash utility, interesting rules, 5D Euclidean, n = 10',truncate_bottom=3)"
      ]
    },
    {
      "cell_type": "code",
      "execution_count": null,
      "metadata": {
        "id": "Pz4ksrDkBJ4O"
      },
      "outputs": [],
      "source": [
        "current_scenario = form_file_suffix(10**4, \"Voters\", 10, \"EuclideanOne\", \"Rawls\")\n",
        "desired_rules = [\"Geometric1p2Sincere\",\n",
        "                 \"Geometric1p2Manip\",\n",
        "                 \"Geometric0p5Sincere\",\n",
        "                 \"Geometric0p5Manip\",\n",
        "                 \"BordaSincere\",\n",
        "                 \"BordaManip\",\n",
        "                 \"PluralitySincere\",\n",
        "                 \"PluralityManip\",\n",
        "                 \"HalfApprovalSincere\",\n",
        "                 \"HalfApprovalManip\"]\n",
        "visualise_for_slides_with_legend(current_scenario, desired_rules, 'Rawls utility, interesting rules, 1D Euclidean, n = 10')"
      ]
    },
    {
      "cell_type": "code",
      "execution_count": null,
      "metadata": {
        "id": "5Pkk_AtlBr20"
      },
      "outputs": [],
      "source": [
        "current_scenario = form_file_suffix(10**4, \"Voters\", 10, \"EuclideanTwo\", \"Borda\")\n",
        "desired_rules = [\"Geometric0p8Sincere\",\n",
        "                 \"Geometric0p8Manip\",\n",
        "                 \"Geometric1p2Sincere\",\n",
        "                 \"Geometric1p2Manip\",\n",
        "                 \"BordaSincere\",\n",
        "                 \"BordaManip\",\n",
        "                 \"HalfApprovalSincere\",\n",
        "                 \"HalfApprovalManip\",]\n",
        "visualise_for_slides_with_legend(current_scenario, desired_rules, 'Borda utility, interesting rules, 2D Euclidean, n = 10')"
      ]
    },
    {
      "cell_type": "code",
      "execution_count": null,
      "metadata": {
        "id": "iqA_1TS5DI0D"
      },
      "outputs": [],
      "source": [
        "current_scenario = form_file_suffix(10**4, \"Voters\", 10, \"EuclideanFive\", \"Borda\")\n",
        "desired_rules = [\"PluralitySincere\",\n",
        "                 \"PluralityManip\",\n",
        "                 \"Geometric1p2Sincere\",\n",
        "                 \"Geometric1p2Manip\",\n",
        "                 \"HalfBordaSincere\",\n",
        "                 \"HalfBordaManip\",\n",
        "                 \"HalfApprovalSincere\",\n",
        "                 \"HalfApprovalManip\",\n",
        "                 \"QuarterApprovalSincere\",\n",
        "                 \"QuarterApprovalManip\"]\n",
        "visualise_for_slides_with_legend(current_scenario, desired_rules, 'Borda utility, interesting rules, 5D Euclidean, n = 10')"
      ]
    },
    {
      "cell_type": "code",
      "execution_count": null,
      "metadata": {
        "id": "3zOiHJB-Ehug"
      },
      "outputs": [],
      "source": [
        "current_scenario = form_file_suffix(10**4, \"Voters\", 10, \"MallowsPointEight\", \"Nash\")\n",
        "desired_rules = [\"Geometric0p65Sincere\",\n",
        "                 \"Geometric0p65Manip\",\n",
        "                 \"Geometric1p2Sincere\",\n",
        "                 \"Geometric1p2Manip\",\n",
        "                 \"BordaSincere\",\n",
        "                 \"BordaManip\",\n",
        "                 \"NashSincere\",\n",
        "                 \"NashManip\",\n",
        "                 \"PluralitySincere\",\n",
        "                 \"PluralityManip\",]\n",
        "visualise_for_slides_with_legend(current_scenario, desired_rules, 'Nash utility, interesting rules, Mallows 0.8, n = 10')"
      ]
    },
    {
      "cell_type": "code",
      "execution_count": null,
      "metadata": {
        "id": "sYJHbLkrEw7t"
      },
      "outputs": [],
      "source": [
        "current_scenario = form_file_suffix(10**4, \"Voters\", 10, \"MallowsPointEight\", \"Nash\")\n",
        "desired_rules = [\"Geometric0p65Sincere\",\n",
        "                 \"Geometric0p65Manip\",\n",
        "                 \"Geometric1p2Sincere\",\n",
        "                 \"Geometric1p2Manip\",\n",
        "                 \"BordaSincere\",\n",
        "                 \"BordaManip\",\n",
        "                 \"NashSincere\",\n",
        "                 \"NashManip\",\n",
        "                 \"PluralitySincere\",\n",
        "                 \"PluralityManip\",]\n",
        "visualise_for_slides_with_legend(current_scenario, desired_rules, 'Nash utility, interesting rules, Mallows 0.8, n = 10',truncate_bottom=20, truncate_top=40)"
      ]
    },
    {
      "cell_type": "code",
      "execution_count": null,
      "metadata": {
        "id": "xLMCxaQbFxy8"
      },
      "outputs": [],
      "source": [
        "current_scenario = form_file_suffix(10**4, \"Voters\", 10, \"MallowsPointFive\", \"Rawls\")\n",
        "desired_rules = [\"Geometric1p2Sincere\",\n",
        "                 \"Geometric1p2Manip\",\n",
        "                 \"Geometric0p5Sincere\",\n",
        "                 \"Geometric0p5Manip\",\n",
        "                 \"BordaSincere\",\n",
        "                 \"BordaManip\",\n",
        "                 \"PluralitySincere\",\n",
        "                 \"PluralityManip\",\n",
        "                 \"5ApprovalSincere\",\n",
        "                 \"5ApprovalManip\"]\n",
        "visualise_for_slides_with_legend(current_scenario, desired_rules, 'Rawls utility, interesting rules, Mallows 0.5, n = 10')"
      ]
    },
    {
      "cell_type": "code",
      "execution_count": null,
      "metadata": {
        "id": "h1ABoxDYF4P7"
      },
      "outputs": [],
      "source": [
        "current_scenario = form_file_suffix(10**4, \"Voters\", 10, \"MallowsPointFive\", \"Rawls\")\n",
        "desired_rules = [\"Geometric1p2Sincere\",\n",
        "                 \"Geometric1p2Manip\",\n",
        "                 \"Geometric0p5Sincere\",\n",
        "                 \"Geometric0p5Manip\",\n",
        "                 \"BordaSincere\",\n",
        "                 \"BordaManip\",\n",
        "                 \"PluralitySincere\",\n",
        "                 \"PluralityManip\",\n",
        "                 \"5ApprovalSincere\",\n",
        "                 \"5ApprovalManip\"]\n",
        "visualise_for_slides_with_legend(current_scenario, desired_rules, 'Rawls utility, interesting rules, Mallows 0.5, n = 10',truncate_bottom=20, truncate_top=40)"
      ]
    },
    {
      "cell_type": "code",
      "execution_count": null,
      "metadata": {
        "colab": {
          "background_save": true
        },
        "id": "mePnYtTiGlJR"
      },
      "outputs": [],
      "source": [
        "current_scenario = form_file_suffix(10**4, \"Voters\", 10, \"MixedMallowsTwo\", \"Borda\")\n",
        "desired_rules = [\"NashSincere\",\n",
        "                 \"NashManip\",\n",
        "                 \"Geometric1p2Sincere\",\n",
        "                 \"Geometric1p2Manip\",\n",
        "                 \"HalfBordaSincere\",\n",
        "                 \"HalfBordaManip\",\n",
        "                 \"QuarterApprovalSincere\",\n",
        "                 \"QuarterApprovalManip\",\n",
        "                 \"HalfApprovalSincere\",\n",
        "                 \"QuarterApprovalManip\",]\n",
        "visualise(current_scenario, desired_rules, 'Borda utility, interesting rules, Mixed Mallows, n = 10', truncate_bottom=10)"
      ]
    },
    {
      "cell_type": "markdown",
      "metadata": {
        "id": "V1K6O7CdBA2d"
      },
      "source": [
        "# Paper graphs"
      ]
    },
    {
      "cell_type": "markdown",
      "source": [
        "## Conference version"
      ],
      "metadata": {
        "id": "0l7me-nsurok"
      }
    },
    {
      "cell_type": "code",
      "execution_count": null,
      "metadata": {
        "id": "XLsTV6lc6PwD"
      },
      "outputs": [],
      "source": [
        "#b: blue\n",
        "#g: green\n",
        "#r: red\n",
        "#c: cyan\n",
        "#m: magenta\n",
        "#y: yellow\n",
        "#k: black\n",
        "#w: white\n",
        "colours = {\n",
        "    'Geometric1p2Sincere' : 'r^--',\n",
        "    'Geometric1p2Manip' : 'r^-',\n",
        "    'Geometric2Sincere' : 'r^--',\n",
        "    'Geometric2Manip' : 'r^-',\n",
        "    'PluralitySincere' : 'm--',\n",
        "    'PluralityManip' : 'm',\n",
        "    'Geometric0p8Sincere' : 'b--',\n",
        "    'Geometric0p8Manip' : 'b',\n",
        "    'BordaSincere' : 'g--',\n",
        "    'BordaManip' : 'g',\n",
        "    'Geometric0p5Sincere' : 'b--',\n",
        "    'Geometric0p5Manip' : 'b',\n",
        "    'QuarterApprovalSincere' : 'k--',\n",
        "    'QuarterApprovalManip' : 'k',\n",
        "    'NashSincere' : 'c--',\n",
        "    'NashManip' : 'c',\n",
        "    'HalfBordaSincere' : 'y--',\n",
        "    'HalfBordaManip' : 'y',\n",
        "    'HalfApprovalSincere' : 'k--',\n",
        "    'HalfApprovalManip' : 'k',\n",
        "}"
      ]
    },
    {
      "cell_type": "code",
      "execution_count": null,
      "metadata": {
        "id": "zfapiZe4A95x"
      },
      "outputs": [],
      "source": [
        "def visualise_for_paper_with_legend(scenario, rules, xlabel, truncate_bottom = False, truncate_top = False, legend_loc=\"lower right\"):\n",
        "  fig = plt.figure(figsize=(15,10))\n",
        "  ax = fig.add_subplot(1,1,1)\n",
        "  for rule in rules:\n",
        "    file_name = rule + scenario\n",
        "    file_name = file_path + file_name\n",
        "    axis, data = read_from_file(file_name)\n",
        "    if truncate_top:\n",
        "      axis = axis[:truncate_top]\n",
        "      data = data[:truncate_top]\n",
        "    if truncate_bottom:\n",
        "      axis = axis[truncate_bottom:]\n",
        "      data = data[truncate_bottom:]\n",
        "    ax.plot(axis, data, colours[rule], label=rule, linewidth=3, markersize=10)\n",
        "  ax.legend(loc=legend_loc, prop={'size': 15})\n",
        "  plt.xlabel(xlabel, fontsize=20)\n",
        "  ax.tick_params(axis='both', which='major', labelsize=20)\n"
      ]
    },
    {
      "cell_type": "code",
      "execution_count": null,
      "metadata": {
        "id": "vU1MpfuoFgoZ"
      },
      "outputs": [],
      "source": [
        "current_scenario = form_file_suffix(10**4, \"Candidates\", 30, \"Skating\", \"Borda\")\n",
        "desired_rules = [\"Geometric1p2Sincere\",\n",
        "                 \"Geometric1p2Manip\",\n",
        "                 \"PluralitySincere\",\n",
        "                 \"PluralityManip\",\n",
        "                 \"Geometric0p8Sincere\",\n",
        "                 \"Geometric0p8Manip\",\n",
        "                 \"BordaSincere\",\n",
        "                 \"BordaManip\",]\n",
        "\n",
        "visualise_for_paper_with_legend(current_scenario, desired_rules, \"n\")"
      ]
    },
    {
      "cell_type": "code",
      "execution_count": null,
      "metadata": {
        "id": "5hbIPNV_Ij20"
      },
      "outputs": [],
      "source": [
        "current_scenario = form_file_suffix(10**4, \"Voters\", 10, \"MallowsPointEight\", \"Rawls\")\n",
        "desired_rules = [\"Geometric1p2Sincere\",\n",
        "                 \"Geometric1p2Manip\",\n",
        "                 \"Geometric0p5Sincere\",\n",
        "                 \"Geometric0p5Manip\",\n",
        "                 \"BordaSincere\",\n",
        "                 \"BordaManip\",\n",
        "                 \"QuarterApprovalSincere\",\n",
        "                 \"QuarterApprovalManip\",]\n",
        "visualise_for_paper_with_legend(current_scenario, desired_rules, \"m\")"
      ]
    },
    {
      "cell_type": "code",
      "execution_count": null,
      "metadata": {
        "id": "N4k0pH_cKiId"
      },
      "outputs": [],
      "source": [
        "current_scenario = form_file_suffix(10**4, \"Voters\", 10, \"MallowsPointFive\", \"Nash\")\n",
        "desired_rules = [\"NashSincere\",\n",
        "                 \"NashManip\",\n",
        "                 \"Geometric2Sincere\",\n",
        "                 \"Geometric2Manip\",\n",
        "                 \"BordaSincere\",\n",
        "                 \"BordaManip\",\n",
        "                 \"PluralitySincere\",\n",
        "                 \"PluralityManip\",]\n",
        "visualise_for_paper_with_legend(current_scenario, desired_rules, \"m\")"
      ]
    },
    {
      "cell_type": "code",
      "execution_count": null,
      "metadata": {
        "id": "NvLAvEkiMSvO"
      },
      "outputs": [],
      "source": [
        "current_scenario = form_file_suffix(10**4, \"Candidates\", 10, \"MallowsSushi\", \"Borda\")\n",
        "desired_rules = [\"NashSincere\",\n",
        "                 \"NashManip\",\n",
        "                 \"Geometric1p2Sincere\",\n",
        "                 \"Geometric1p2Manip\",\n",
        "                 \"BordaSincere\",\n",
        "                 \"BordaManip\",\n",
        "                 \"PluralitySincere\",\n",
        "                 \"PluralityManip\",]\n",
        "visualise_for_paper_with_legend(current_scenario, desired_rules, \"n\", legend_loc = \"upper right\")"
      ]
    },
    {
      "cell_type": "code",
      "execution_count": null,
      "metadata": {
        "id": "DUMjEVOiWOhC"
      },
      "outputs": [],
      "source": [
        "current_scenario = form_file_suffix(10**4, \"Voters\", 10, \"EuclideanTwo\", \"Borda\")\n",
        "desired_rules = [\"Geometric0p8Sincere\",\n",
        "                 \"Geometric0p8Manip\",\n",
        "                 \"Geometric1p2Sincere\",\n",
        "                 \"Geometric1p2Manip\",\n",
        "                 \"BordaSincere\",\n",
        "                 \"BordaManip\",\n",
        "                 \"PluralitySincere\",\n",
        "                 \"PluralityManip\",\n",
        "                 \"HalfApprovalSincere\",\n",
        "                 \"HalfApprovalManip\",]\n",
        "visualise_for_paper_with_legend(current_scenario, desired_rules, \"m\")"
      ]
    },
    {
      "cell_type": "code",
      "execution_count": null,
      "metadata": {
        "id": "meusKyAyXzFT"
      },
      "outputs": [],
      "source": [
        "current_scenario = form_file_suffix(10**4, \"Voters\", 10, \"EuclideanFive\", \"Nash\")\n",
        "desired_rules = [\"NashSincere\",\n",
        "                 \"NashManip\",\n",
        "                 \"Geometric1p2Sincere\",\n",
        "                 \"Geometric1p2Manip\",\n",
        "                 \"HalfBordaSincere\",\n",
        "                 \"HalfBordaManip\",\n",
        "                 \"PluralitySincere\",\n",
        "                 \"PluralityManip\",\n",
        "                 \"HalfApprovalSincere\",\n",
        "                 \"HalfApprovalManip\"]\n",
        "visualise_for_paper_with_legend(current_scenario, desired_rules, \"m\")"
      ]
    },
    {
      "cell_type": "code",
      "execution_count": null,
      "metadata": {
        "id": "6cdVPVOBYJKP"
      },
      "outputs": [],
      "source": [
        "current_scenario = form_file_suffix(10**4, \"Voters\", 10, \"EuclideanFive\", \"Rawls\")\n",
        "desired_rules = [\"Geometric1p2Sincere\",\n",
        "                 \"Geometric1p2Manip\",\n",
        "                 \"Geometric0p8Sincere\",\n",
        "                 \"Geometric0p8Manip\",\n",
        "                 \"HalfBordaSincere\",\n",
        "                 \"HalfBordaManip\",\n",
        "                 \"PluralitySincere\",\n",
        "                 \"PluralityManip\",\n",
        "                 \"HalfApprovalSincere\",\n",
        "                 \"HalfApprovalManip\",\n",
        "                 ]\n",
        "visualise_for_paper_with_legend(current_scenario, desired_rules, \"m\")"
      ]
    },
    {
      "cell_type": "code",
      "execution_count": null,
      "metadata": {
        "id": "grDuz8OFajtu"
      },
      "outputs": [],
      "source": [
        "current_scenario = form_file_suffix(10**4, \"Voters\", 10, \"IC\", \"Borda\")\n",
        "desired_rules = [\"Geometric1p2Sincere\",\n",
        "                 \"Geometric1p2Manip\",\n",
        "                 \"PluralitySincere\",\n",
        "                 \"PluralityManip\",\n",
        "                 \"HalfApprovalSincere\",\n",
        "                 \"HalfApprovalManip\",\n",
        "                 \"HalfBordaSincere\",\n",
        "                 \"HalfBordaManip\",\n",
        "                 \"Geometric0p8Sincere\",\n",
        "                 \"Geometric0p8Manip\"]\n",
        "visualise_for_paper_with_legend(current_scenario, desired_rules, \"m\")"
      ]
    },
    {
      "cell_type": "code",
      "execution_count": null,
      "metadata": {
        "id": "esLwTYjdarOx"
      },
      "outputs": [],
      "source": [
        "current_scenario = form_file_suffix(10**4, \"Voters\", 10, \"IC\", \"Nash\")\n",
        "desired_rules = [\"NashSincere\",\n",
        "                 \"NashManip\",\n",
        "                 \"Geometric1p2Sincere\",\n",
        "                 \"Geometric1p2Manip\",\n",
        "                 \"BordaSincere\",\n",
        "                 \"BordaManip\",\n",
        "                 \"HalfApprovalSincere\",\n",
        "                 \"HalfApprovalManip\",\n",
        "                 \"PluralitySincere\",\n",
        "                 \"PluralityManip\",]\n",
        "visualise_for_paper_with_legend(current_scenario, desired_rules, \"m\")"
      ]
    },
    {
      "cell_type": "code",
      "execution_count": null,
      "metadata": {
        "id": "NNUGbVomyX1Z"
      },
      "outputs": [],
      "source": [
        "current_scenario = form_file_suffix(10**4, \"Voters\", 10, \"EuclideanFive\", \"Nash\")\n",
        "desired_rules = [\"NashSincere\",\n",
        "                 \"NashManip\",\n",
        "                 \"Geometric1p2Sincere\",\n",
        "                 \"Geometric1p2Manip\",\n",
        "                 \"HalfBordaSincere\",\n",
        "                 \"HalfBordaManip\",\n",
        "                 \"PluralitySincere\",\n",
        "                 \"PluralityManip\",\n",
        "                 \"HalfApprovalSincere\",\n",
        "                 \"HalfApprovalManip\"]\n",
        "visualise_for_paper_with_legend(current_scenario, desired_rules, \"m\")"
      ]
    },
    {
      "cell_type": "markdown",
      "source": [
        "## Journal version"
      ],
      "metadata": {
        "id": "lZ5OEQ0Ou04S"
      }
    },
    {
      "cell_type": "code",
      "source": [
        "colours = rule_colours\n",
        "linestyle = {\n",
        "    'Manip' : 'solid',\n",
        "    'Sincere' : 'dashed'\n",
        "}\n",
        "\n",
        "def visualise_for_paper_with_legend(scenario, rules, xlabel, truncate_bottom = False, truncate_top = False, legend_loc=\"lower right\"):\n",
        "  fig = plt.figure(figsize=(15,10))\n",
        "  ax = fig.add_subplot(1,1,1)\n",
        "  for rule in rules:\n",
        "    file_name = rule + scenario\n",
        "    file_name = file_path + file_name\n",
        "    axis, data = read_from_file(file_name)\n",
        "    if truncate_top:\n",
        "      axis = axis[:truncate_top]\n",
        "      data = data[:truncate_top]\n",
        "    if truncate_bottom:\n",
        "      axis = axis[truncate_bottom:]\n",
        "      data = data[truncate_bottom:]\n",
        "    rule_name, strat = rule_name_and_strategy(rule)\n",
        "    ax.plot(axis, data, color=colours[rule_name], linestyle=linestyle[strat], label=rule, linewidth=3, markersize=10)\n",
        "  ax.legend(loc=legend_loc, prop={'size': 15})\n",
        "  plt.xlabel(xlabel, fontsize=20)\n",
        "  ax.tick_params(axis='both', which='major', labelsize=20)"
      ],
      "metadata": {
        "id": "HXBnt-27xd4U"
      },
      "execution_count": null,
      "outputs": []
    },
    {
      "cell_type": "code",
      "source": [
        "current_scenario = form_file_suffix(10**4, \"Voters\", 11, \"IC\", \"Borda\")\n",
        "desired_rules = [\"HalfBordaSincere\",\n",
        "                 \"HalfBordaManip\",\n",
        "                 #\"BordaSincere\",\n",
        "                 #\"BordaManip\",\n",
        "                 \"HalfApprovalSincere\",\n",
        "                 \"HalfApprovalManip\",\n",
        "                 \"Geometric0p8Sincere\",\n",
        "                 \"Geometric0p8Manip\",\n",
        "                 \"CopelandSincere\",\n",
        "                 \"CopelandManip\",\n",
        "                 \"Geometric1p2Sincere\",\n",
        "                 \"Geometric1p2Manip\",\n",
        "                 ]\n",
        "visualise_for_paper_with_legend(current_scenario, desired_rules, \"m\")"
      ],
      "metadata": {
        "id": "MJdfVcqP2n1c"
      },
      "execution_count": null,
      "outputs": []
    },
    {
      "cell_type": "code",
      "source": [
        "current_scenario = form_file_suffix(10**4, \"Voters\", 11, \"EuclideanOne\", \"Borda\")\n",
        "desired_rules = [\"BordaSincere\",\n",
        "                 \"BordaManip\",\n",
        "                 \"HalfApprovalSincere\",\n",
        "                 \"HalfApprovalManip\",\n",
        "                 #\"GenPlurSincere\",\n",
        "                 #\"GenPlurManip\",\n",
        "                 \"AntipSincere\",\n",
        "                 \"AntipManip\",\n",
        "                 \"SimpsonSincere\",\n",
        "                 \"SimpsonManip\",\n",
        "                 \"Geometric1p2Sincere\",\n",
        "                 \"Geometric1p2Manip\",\n",
        "                 ]\n",
        "visualise_for_paper_with_legend(current_scenario, desired_rules, \"m\")"
      ],
      "metadata": {
        "id": "P9Spw_Mw3xRH"
      },
      "execution_count": null,
      "outputs": []
    },
    {
      "cell_type": "code",
      "source": [
        "current_scenario = form_file_suffix(10**4, \"Voters\", 11, \"MixedMallowsTwo\", \"Borda\")\n",
        "desired_rules = [\"HalfBordaSincere\",\n",
        "                 \"HalfBordaManip\",\n",
        "                 #\"BordaSincere\",\n",
        "                 #\"BordaManip\",\n",
        "                 \"QuarterApprovalSincere\",\n",
        "                 \"QuarterApprovalManip\",\n",
        "                 \"NashSincere\",\n",
        "                 \"NashManip\",\n",
        "                 \"SimpsonSincere\",\n",
        "                 \"SimpsonManip\",\n",
        "                 \"Geometric1p2Sincere\",\n",
        "                 \"Geometric1p2Manip\",\n",
        "                 ]\n",
        "visualise_for_paper_with_legend(current_scenario, desired_rules, \"m\", truncate_bottom=10)"
      ],
      "metadata": {
        "id": "EekK0eVou3cJ"
      },
      "execution_count": null,
      "outputs": []
    },
    {
      "cell_type": "code",
      "source": [
        "current_scenario = form_file_suffix(10**4, \"Candidates\", 10, \"MallowsSushi\", \"Borda\")\n",
        "desired_rules = [\n",
        "                 \"BordaSincere\",\n",
        "                 \"BordaManip\",\n",
        "                 \"NashSincere\",\n",
        "                 \"NashManip\",\n",
        "                 \"CopelandSincere\",\n",
        "                 \"CopelandManip\",\n",
        "                 \"Geometric0p5Sincere\",\n",
        "                 \"Geometric0p5Manip\",\n",
        "                 \"Geometric2Sincere\",\n",
        "                 \"Geometric2Manip\",\n",
        "                 ]\n",
        "visualise_for_paper_with_legend(current_scenario, desired_rules, \"n\")"
      ],
      "metadata": {
        "id": "rwbTZE8GjIJc"
      },
      "execution_count": null,
      "outputs": []
    },
    {
      "cell_type": "code",
      "source": [
        "current_scenario = form_file_suffix(10**4, \"Voters\", 11, \"IC\", \"Rawls\")\n",
        "desired_rules = [\"HalfApprovalSincere\",\n",
        "                 \"HalfApprovalManip\",\n",
        "                 \"GenAntipSincere\",\n",
        "                 \"GenAntipManip\",\n",
        "                 \"AntipSincere\",\n",
        "                 \"AntipManip\",\n",
        "                 \"CopelandSincere\",\n",
        "                 \"CopelandManip\",\n",
        "                 \"Geometric1p2Sincere\",\n",
        "                 \"Geometric1p2Manip\",\n",
        "                 ]\n",
        "visualise_for_paper_with_legend(current_scenario, desired_rules, \"m\")"
      ],
      "metadata": {
        "id": "BFBacQ6nLu5b"
      },
      "execution_count": null,
      "outputs": []
    },
    {
      "cell_type": "code",
      "source": [
        "current_scenario = form_file_suffix(10**4, \"Voters\", 11, \"EuclideanOne\", \"Rawls\")\n",
        "desired_rules = [\"BordaSincere\",\n",
        "                 \"BordaManip\",\n",
        "                 \"HalfApprovalSincere\",\n",
        "                 \"HalfApprovalManip\",\n",
        "                 \"GenAntipSincere\",\n",
        "                 \"GenAntipManip\",\n",
        "                 \"SimpsonSincere\",\n",
        "                 \"SimpsonManip\",\n",
        "                 \"Geometric1p2Sincere\",\n",
        "                 \"Geometric1p2Manip\",\n",
        "                 ]\n",
        "visualise_for_paper_with_legend(current_scenario, desired_rules, \"m\")"
      ],
      "metadata": {
        "id": "r9PuBHDlcYtz"
      },
      "execution_count": null,
      "outputs": []
    },
    {
      "cell_type": "code",
      "source": [
        "current_scenario = form_file_suffix(10**4, \"Voters\", 11, \"EuclideanTwo\", \"Rawls\")\n",
        "desired_rules = [\"BordaSincere\",\n",
        "                 \"BordaManip\",\n",
        "                 \"HalfApprovalSincere\",\n",
        "                 \"HalfApprovalManip\",\n",
        "                 \"GenAntipSincere\",\n",
        "                 \"GenAntipManip\",\n",
        "                 \"SimpsonSincere\",\n",
        "                 \"SimpsonManip\",\n",
        "                 \"Geometric1p2Sincere\",\n",
        "                 \"Geometric1p2Manip\",\n",
        "                 ]\n",
        "visualise_for_paper_with_legend(current_scenario, desired_rules, \"m\")"
      ],
      "metadata": {
        "id": "i3bMwRglfQiJ"
      },
      "execution_count": null,
      "outputs": []
    },
    {
      "cell_type": "code",
      "source": [
        "current_scenario = form_file_suffix(10**4, \"Voters\", 11, \"EuclideanFive\", \"Rawls\")\n",
        "desired_rules = [\"HalfBordaSincere\",\n",
        "                 \"HalfBordaManip\",\n",
        "                 \"HalfApprovalSincere\",\n",
        "                 \"HalfApprovalManip\",\n",
        "                 \"GenAntipSincere\",\n",
        "                 \"GenAntipManip\",\n",
        "                 \"CopelandSincere\",\n",
        "                 \"CopelandManip\",\n",
        "                 \"Geometric1p2Sincere\",\n",
        "                 \"Geometric1p2Manip\",\n",
        "                 ]\n",
        "visualise_for_paper_with_legend(current_scenario, desired_rules, \"m\")"
      ],
      "metadata": {
        "id": "FgG3KryDgsub"
      },
      "execution_count": null,
      "outputs": []
    },
    {
      "cell_type": "code",
      "source": [
        "current_scenario = form_file_suffix(10**4, \"Voters\", 11, \"MallowsPointEight\", \"Rawls\")\n",
        "desired_rules = [\"5ApprovalSincere\",\n",
        "                 \"5ApprovalManip\",\n",
        "                 \"QuarterApprovalSincere\",\n",
        "                 \"QuarterApprovalManip\",\n",
        "                 \"HalfApprovalSincere\",\n",
        "                 \"HalfApprovalManip\",\n",
        "                 \"GenAntipSincere\",\n",
        "                 \"GenAntipManip\",\n",
        "                 \"Geometric1p2Sincere\",\n",
        "                 \"Geometric1p2Manip\",\n",
        "                 ]\n",
        "visualise_for_paper_with_legend(current_scenario, desired_rules, \"m\", truncate_bottom=10)"
      ],
      "metadata": {
        "id": "5JHiG7dIbwJe"
      },
      "execution_count": null,
      "outputs": []
    },
    {
      "cell_type": "code",
      "source": [
        "current_scenario = form_file_suffix(10**4, \"Voters\", 11, \"MallowsPointFive\", \"Rawls\")\n",
        "desired_rules = [\"5ApprovalSincere\",\n",
        "                 \"5ApprovalManip\",\n",
        "                 \"PluralitySincere\",\n",
        "                 \"PluralityManip\",\n",
        "                 \"QuarterApprovalSincere\",\n",
        "                 \"QuarterApprovalManip\",\n",
        "                 \"HalfApprovalSincere\",\n",
        "                 \"HalfApprovalManip\",\n",
        "                 \"GenAntipSincere\",\n",
        "                 \"GenAntipManip\",\n",
        "                 \"Geometric1p2Sincere\",\n",
        "                 \"Geometric1p2Manip\",\n",
        "                 \"GenPlurSincere\",\n",
        "                 \"GenPlurManip\",\n",
        "                 ]\n",
        "visualise_for_paper_with_legend(current_scenario, desired_rules, \"m\", truncate_bottom=10)"
      ],
      "metadata": {
        "id": "aZmE759ktjWy"
      },
      "execution_count": null,
      "outputs": []
    },
    {
      "cell_type": "code",
      "source": [
        "current_scenario = form_file_suffix(10**4, \"Voters\", 11, \"MixedMallowsTwo\", \"Rawls\")\n",
        "desired_rules = [\"CopelandSincere\",\n",
        "                 \"CopelandManip\",\n",
        "                 \"QuarterApprovalSincere\",\n",
        "                 \"QuarterApprovalManip\",\n",
        "                 \"GenAntipSincere\",\n",
        "                 \"GenAntipManip\",\n",
        "                  \"HalfBordaSincere\",\n",
        "                 \"HalfBordaManip\",\n",
        "                 \"Geometric1p2Sincere\",\n",
        "                 \"Geometric1p2Manip\",\n",
        "                 ]\n",
        "visualise_for_paper_with_legend(current_scenario, desired_rules, \"m\", truncate_bottom=10)"
      ],
      "metadata": {
        "id": "ypsn2KjOifyF"
      },
      "execution_count": null,
      "outputs": []
    },
    {
      "cell_type": "code",
      "source": [
        "current_scenario = form_file_suffix(10**4, \"Candidates\", 10, \"MallowsSushi\", \"Rawls\")\n",
        "desired_rules = [\"BordaSincere\",\n",
        "                  \"BordaManip\",\n",
        "                 \"GenPlurSincere\",\n",
        "                 \"GenPlurManip\",\n",
        "                 \"GenAntipSincere\",\n",
        "                 \"GenAntipManip\",\n",
        "                 ]\n",
        "visualise_for_paper_with_legend(current_scenario, desired_rules, \"m\", truncate_bottom=10)"
      ],
      "metadata": {
        "id": "QiikF29riIuH"
      },
      "execution_count": null,
      "outputs": []
    },
    {
      "cell_type": "code",
      "source": [
        "current_scenario = form_file_suffix(10**4, \"Voters\", 11, \"IC\", \"Nash\")\n",
        "desired_rules = [\"BordaSincere\",\n",
        "                 \"BordaManip\",\n",
        "                 \"HalfApprovalSincere\",\n",
        "                 \"HalfApprovalManip\",\n",
        "                 \"NashSincere\",\n",
        "                 \"NashManip\",\n",
        "                 \"CopelandSincere\",\n",
        "                 \"CopelandManip\",\n",
        "                 \"Geometric1p2Sincere\",\n",
        "                 \"Geometric1p2Manip\",\n",
        "                 ]\n",
        "visualise_for_paper_with_legend(current_scenario, desired_rules, \"m\", truncate_bottom=10)"
      ],
      "metadata": {
        "id": "xw7K8BsYlEHz"
      },
      "execution_count": null,
      "outputs": []
    },
    {
      "cell_type": "code",
      "source": [
        "current_scenario = form_file_suffix(10**4, \"Voters\", 11, \"EuclideanOne\", \"Nash\")\n",
        "desired_rules = [\"BordaSincere\",\n",
        "                 \"BordaManip\",\n",
        "                 \"HalfApprovalSincere\",\n",
        "                 \"HalfApprovalManip\",\n",
        "                 \"NashSincere\",\n",
        "                 \"NashManip\",\n",
        "                 \"SimpsonSincere\",\n",
        "                 \"SimpsonManip\",\n",
        "                 \"Geometric1p2Sincere\",\n",
        "                 \"Geometric1p2Manip\",\n",
        "                 ]\n",
        "visualise_for_paper_with_legend(current_scenario, desired_rules, \"m\", truncate_bottom=10)"
      ],
      "metadata": {
        "id": "UFlXele25Aj4"
      },
      "execution_count": null,
      "outputs": []
    },
    {
      "cell_type": "code",
      "source": [
        "current_scenario = form_file_suffix(10**4, \"Voters\", 11, \"EuclideanTwo\", \"Nash\")\n",
        "desired_rules = [\"BordaSincere\",\n",
        "                 \"BordaManip\",\n",
        "                 \"HalfApprovalSincere\",\n",
        "                 \"HalfApprovalManip\",\n",
        "                 \"NashSincere\",\n",
        "                 \"NashManip\",\n",
        "                 \"SimpsonSincere\",\n",
        "                 \"SimpsonManip\",\n",
        "                 \"Geometric1p2Sincere\",\n",
        "                 \"Geometric1p2Manip\",\n",
        "                 ]\n",
        "visualise_for_paper_with_legend(current_scenario, desired_rules, \"m\", truncate_bottom=10)"
      ],
      "metadata": {
        "id": "RiS6ecD0642m"
      },
      "execution_count": null,
      "outputs": []
    },
    {
      "cell_type": "code",
      "source": [
        "current_scenario = form_file_suffix(10**4, \"Voters\", 11, \"EuclideanFive\", \"Nash\")\n",
        "desired_rules = [\"HalfBordaSincere\",\n",
        "                 \"HalfBordaManip\",\n",
        "                 \"HalfApprovalSincere\",\n",
        "                 \"HalfApprovalManip\",\n",
        "                 \"NashSincere\",\n",
        "                 \"NashManip\",\n",
        "                 \"CopelandSincere\",\n",
        "                 \"CopelandManip\",\n",
        "                 \"Geometric1p2Sincere\",\n",
        "                 \"Geometric1p2Manip\",\n",
        "                 ]\n",
        "visualise_for_paper_with_legend(current_scenario, desired_rules, \"m\", truncate_bottom=10)"
      ],
      "metadata": {
        "id": "BcDOJjeC8s-a"
      },
      "execution_count": null,
      "outputs": []
    },
    {
      "cell_type": "code",
      "source": [
        "current_scenario = form_file_suffix(10**4, \"Voters\", 11, \"MixedMallowsTwo\", \"Nash\")\n",
        "desired_rules = [\"HalfBordaSincere\",\n",
        "                 \"HalfBordaManip\",\n",
        "                 \"QuarterApprovalSincere\",\n",
        "                 \"QuarterApprovalManip\",\n",
        "                 \"NashSincere\",\n",
        "                 \"NashManip\",\n",
        "                 \"CopelandSincere\",\n",
        "                 \"CopelandManip\",\n",
        "                 \"Geometric0p8Sincere\",\n",
        "                 \"Geometric0p8Manip\",\n",
        "                 ]\n",
        "visualise_for_paper_with_legend(current_scenario, desired_rules, \"m\", truncate_bottom=10)"
      ],
      "metadata": {
        "id": "pilbOnbAHunY"
      },
      "execution_count": null,
      "outputs": []
    },
    {
      "cell_type": "code",
      "source": [
        "current_scenario = form_file_suffix(10**4, \"Candidates\", 30, \"Skating\", \"Nash\")\n",
        "desired_rules = [\"BordaSincere\",\n",
        "                 \"BordaManip\",\n",
        "                 \"NashSincere\",\n",
        "                 \"NashManip\",\n",
        "                 \"GenPlurSincere\",\n",
        "                 \"GenPlurManip\",\n",
        "                 \"GenAntipSincere\",\n",
        "                 \"GenAntipManip\",\n",
        "                 \"Geometric1p2Sincere\",\n",
        "                 \"Geometric1p2Manip\",\n",
        "                 ]\n",
        "visualise_for_paper_with_legend(current_scenario, desired_rules, \"n\")"
      ],
      "metadata": {
        "id": "uQB5HasVKgvy"
      },
      "execution_count": null,
      "outputs": []
    },
    {
      "cell_type": "code",
      "source": [
        "current_scenario = form_file_suffix(10**4, \"Voters\", 11, \"IC\", \"Condorcet\")\n",
        "desired_rules = [\"HalfBordaSincere\",\n",
        "                 \"HalfBordaManip\",\n",
        "                 \"QuarterApprovalSincere\",\n",
        "                 \"QuarterApprovalManip\",\n",
        "                 \"Geometric2Sincere\",\n",
        "                 \"Geometric2Manip\",\n",
        "                 \"CopelandSincere\",\n",
        "                 \"CopelandManip\",\n",
        "                 \"Geometric0p8Sincere\",\n",
        "                 \"Geometric0p8Manip\",\n",
        "                 ]\n",
        "visualise_for_paper_with_legend(current_scenario, desired_rules, \"m\", truncate_bottom=10)"
      ],
      "metadata": {
        "id": "CR8EbmNU6tbV"
      },
      "execution_count": null,
      "outputs": []
    },
    {
      "cell_type": "code",
      "source": [
        "current_scenario = form_file_suffix(10**4, \"Voters\", 11, \"EuclideanOne\", \"Condorcet\")\n",
        "desired_rules = [\"HalfBordaSincere\",\n",
        "                 \"HalfBordaManip\",\n",
        "                 \"GenPlurSincere\",\n",
        "                 \"GenPlurManip\",\n",
        "                 \"CopelandSincere\",\n",
        "                 \"CopelandManip\",\n",
        "                 \"SimpsonSincere\",\n",
        "                 \"SimpsonManip\",\n",
        "                 \"GenAntipSincere\",\n",
        "                 \"GenAntipManip\",\n",
        "                 ]\n",
        "visualise_for_paper_with_legend(current_scenario, desired_rules, \"m\", truncate_bottom=10)"
      ],
      "metadata": {
        "id": "lerSNwP9AJlW"
      },
      "execution_count": null,
      "outputs": []
    },
    {
      "cell_type": "code",
      "source": [
        "current_scenario = form_file_suffix(10**4, \"Voters\", 11, \"EuclideanTwo\", \"Condorcet\")\n",
        "desired_rules = [\"HalfBordaSincere\",\n",
        "                 \"HalfBordaManip\",\n",
        "                 \"Geometric1p2Sincere\",\n",
        "                 \"Geometric1p2Manip\",\n",
        "                 \"CopelandSincere\",\n",
        "                 \"CopelandManip\",\n",
        "                 \"SimpsonSincere\",\n",
        "                 \"SimpsonManip\",\n",
        "                 \"HalfApprovalSincere\",\n",
        "                 \"HalfApprovalManip\",\n",
        "                 ]\n",
        "visualise_for_paper_with_legend(current_scenario, desired_rules, \"m\", truncate_bottom=10)"
      ],
      "metadata": {
        "id": "eoXlRTSvBlK8"
      },
      "execution_count": null,
      "outputs": []
    },
    {
      "cell_type": "code",
      "source": [
        "current_scenario = form_file_suffix(10**4, \"Voters\", 11, \"MallowsPointEight\", \"Condorcet\")\n",
        "desired_rules = [\"Geometric1p5Sincere\",\n",
        "                 \"Geometric1p5Manip\",\n",
        "                 \"5ApprovalSincere\",\n",
        "                 \"5ApprovalManip\",\n",
        "                 \"5BordaSincere\",\n",
        "                 \"5BordaManip\",\n",
        "                 \"CopelandSincere\",\n",
        "                 \"CopelandManip\",\n",
        "                 \"NashSincere\",\n",
        "                 \"NashManip\",]\n",
        "visualise_for_paper_with_legend(current_scenario, desired_rules, \"m\")"
      ],
      "metadata": {
        "id": "VXH2or93rImc"
      },
      "execution_count": null,
      "outputs": []
    },
    {
      "cell_type": "code",
      "source": [
        "current_scenario = form_file_suffix(10**4, \"Voters\", 11, \"MallowsPointFive\", \"Condorcet\")\n",
        "desired_rules = [\"Geometric2Sincere\",\n",
        "                 \"Geometric2Manip\",\n",
        "                 \"5ApprovalSincere\",\n",
        "                 \"5ApprovalManip\",\n",
        "                 \"5BordaSincere\",\n",
        "                 \"5BordaManip\",\n",
        "                 \"CopelandSincere\",\n",
        "                 \"CopelandManip\",\n",
        "                 \"NashSincere\",\n",
        "                 \"NashManip\",]\n",
        "visualise_for_paper_with_legend(current_scenario, desired_rules, \"m\")"
      ],
      "metadata": {
        "id": "6GdYrZ-ssnMn"
      },
      "execution_count": null,
      "outputs": []
    },
    {
      "cell_type": "code",
      "source": [
        "current_scenario = form_file_suffix(10**4, \"Voters\", 11, \"MixedMallowsTwo\", \"Condorcet\")\n",
        "desired_rules = [\"Geometric1p2Sincere\",\n",
        "                 \"Geometric1p2Manip\",\n",
        "                 \"5ApprovalSincere\",\n",
        "                 \"5ApprovalManip\",\n",
        "                 \"5BordaSincere\",\n",
        "                 \"5BordaManip\",\n",
        "                 \"SimpsonSincere\",\n",
        "                 \"SimpsonManip\",\n",
        "                 \"NashSincere\",\n",
        "                 \"NashManip\",]\n",
        "visualise_for_paper_with_legend(current_scenario, desired_rules, \"m\")"
      ],
      "metadata": {
        "id": "vTBUGeUNuIPE"
      },
      "execution_count": null,
      "outputs": []
    },
    {
      "cell_type": "code",
      "source": [
        "current_scenario = form_file_suffix(10**4, \"Candidates\", 10, \"MallowsSushi\", \"Condorcet\")\n",
        "desired_rules = [\"GenAntipSincere\",\n",
        "                 \"GenAntipManip\",\n",
        "                 \"Geometric0p5Sincere\",\n",
        "                 \"Geometric0p5Manip\",\n",
        "                 \"BordaSincere\",\n",
        "                 \"BordaManip\",\n",
        "                 \"SimpsonSincere\",\n",
        "                 \"SimpsonManip\",\n",
        "                 \"NashSincere\",\n",
        "                 \"NashManip\",]\n",
        "visualise_for_paper_with_legend(current_scenario, desired_rules, \"n\", truncate_top=60)"
      ],
      "metadata": {
        "id": "eJyPIRgVFCIm"
      },
      "execution_count": null,
      "outputs": []
    },
    {
      "cell_type": "markdown",
      "metadata": {
        "id": "d8p_qkug8dG9"
      },
      "source": [
        "# IC"
      ]
    },
    {
      "cell_type": "markdown",
      "metadata": {
        "id": "u31zujkJFVO3"
      },
      "source": [
        "## Fixed n"
      ]
    },
    {
      "cell_type": "markdown",
      "metadata": {
        "id": "N1hUNc27nWbD"
      },
      "source": [
        "### IC Borda"
      ]
    },
    {
      "cell_type": "code",
      "execution_count": null,
      "metadata": {
        "id": "hURLHnbBh-_1"
      },
      "outputs": [],
      "source": [
        "current_scenario = form_file_suffix(10**4, \"Voters\", 11, \"IC\", \"Borda\")\n",
        "desired_rules = [\n",
        "                 \"Geometric0p8Sincere\",\n",
        "                 \"Geometric0p8Manip\",\n",
        "                 \"Geometric0p5Sincere\",\n",
        "                 \"Geometric0p5Manip\",\n",
        "                 \"Geometric0p65Sincere\",\n",
        "                 \"Geometric0p65Manip\",\n",
        "                 \"GenAntipSincere\",\n",
        "                 \"GenAntipManip\",\n",
        "                 \"BordaSincere\",\n",
        "                 \"BordaManip\",\n",
        "                 \"NashSincere\",\n",
        "                 \"NashManip\",\n",
        "                 ]\n",
        "\n",
        "visualise(current_scenario, desired_rules, 'Borda welfare, concave rules, IC, n = 11')"
      ]
    },
    {
      "cell_type": "code",
      "execution_count": null,
      "metadata": {
        "id": "JZj_KQAI3lwF"
      },
      "outputs": [],
      "source": [
        "current_scenario = form_file_suffix(10**4, \"Voters\", 11, \"IC\", \"Borda\")\n",
        "desired_rules = [\"Geometric1p2Sincere\",\n",
        "                 \"Geometric1p2Manip\",\n",
        "                 \"PluralitySincere\",\n",
        "                 \"PluralityManip\",\n",
        "                 \"GenPlurSincere\",\n",
        "                 \"GenPlurManip\",\n",
        "                 \"Geometric1p5Sincere\",\n",
        "                 \"Geometric1p5Manip\",\n",
        "                 \"Geometric2Sincere\",\n",
        "                 \"Geometric2Manip\",\n",
        "                 \"BordaSincere\",\n",
        "                 \"BordaManip\",]\n",
        "\n",
        "visualise(current_scenario, desired_rules, 'Borda welfare, convex rules , IC, n = 11')"
      ]
    },
    {
      "cell_type": "code",
      "execution_count": null,
      "metadata": {
        "id": "Ni7Pid8lkEFH"
      },
      "outputs": [],
      "source": [
        "current_scenario = form_file_suffix(10**4, \"Voters\", 11, \"IC\", \"Borda\")\n",
        "desired_rules = [\"5ApprovalSincere\",\n",
        "                 \"5ApprovalManip\",\n",
        "                 \"PluralitySincere\",\n",
        "                 \"PluralityManip\",\n",
        "                 \"HalfApprovalSincere\",\n",
        "                 \"HalfApprovalManip\",\n",
        "                 \"QuarterApprovalSincere\",\n",
        "                 \"QuarterApprovalManip\",\n",
        "                 \"AntipSincere\",\n",
        "                 \"AntipManip\",]\n",
        "visualise(current_scenario, desired_rules, 'Borda welfare, approval family, IC, n = 11')"
      ]
    },
    {
      "cell_type": "code",
      "execution_count": null,
      "metadata": {
        "id": "WcBOW-oc_WpD"
      },
      "outputs": [],
      "source": [
        "current_scenario = form_file_suffix(10**4, \"Voters\", 11, \"IC\", \"Borda\")\n",
        "desired_rules = [\"5BordaSincere\",\n",
        "                 \"5BordaManip\",\n",
        "                 \"BordaSincere\",\n",
        "                 \"BordaManip\",\n",
        "                 \"PluralitySincere\",\n",
        "                 \"PluralityManip\",\n",
        "                 \"HalfBordaSincere\",\n",
        "                 \"HalfBordaManip\",\n",
        "                 \"QuarterBordaSincere\",\n",
        "                 \"QuarterBordaManip\",\n",
        "                 ]\n",
        "visualise(current_scenario, desired_rules, 'Borda welfare, Borda family, IC, n = 11')"
      ]
    },
    {
      "cell_type": "code",
      "execution_count": null,
      "metadata": {
        "id": "MSKQlvMQmLBB"
      },
      "outputs": [],
      "source": [
        "current_scenario = form_file_suffix(10**4, \"Voters\", 11, \"IC\", \"Borda\")\n",
        "desired_rules = [#\"Geometric1p2Sincere\",\n",
        "                 #\"Geometric1p2Manip\",\n",
        "                 #\"PluralitySincere\",\n",
        "                 #\"PluralityManip\",\n",
        "                 \"CopelandSincere\",\n",
        "                 \"CopelandManip\",\n",
        "                 \"SimpsonSincere\",\n",
        "                 \"SimpsonManip\",\n",
        "                 \"HalfApprovalSincere\",\n",
        "                 \"HalfApprovalManip\",\n",
        "                 \"QuarterApprovalSincere\",\n",
        "                 \"QuarterApprovalManip\",\n",
        "                 \"HalfBordaSincere\",\n",
        "                 \"HalfBordaManip\",\n",
        "                 \"QuarterBordaSincere\",\n",
        "                 \"QuarterBordaManip\",\n",
        "                 \"BordaSincere\",\n",
        "                 \"BordaManip\",\n",
        "                 \"NashSincere\",\n",
        "                 \"NashManip\"\n",
        "                 ]\n",
        "\n",
        "visualise(current_scenario, desired_rules, 'Borda welfare, interesting rules, IC, n = 11')"
      ]
    },
    {
      "cell_type": "markdown",
      "metadata": {
        "id": "dRzlQVCknF2V"
      },
      "source": [
        "### IC Rawls"
      ]
    },
    {
      "cell_type": "code",
      "execution_count": null,
      "metadata": {
        "id": "3IYof2UflDNb"
      },
      "outputs": [],
      "source": [
        "current_scenario = form_file_suffix(10**4, \"Voters\", 11, \"IC\", \"Rawls\")\n",
        "desired_rules = [\n",
        "                 \"Geometric0p8Sincere\",\n",
        "                 \"Geometric0p8Manip\",\n",
        "                 \"Geometric0p5Sincere\",\n",
        "                 \"Geometric0p5Manip\",\n",
        "                 \"Geometric0p65Sincere\",\n",
        "                 \"Geometric0p65Manip\",\n",
        "                 \"BordaSincere\",\n",
        "                 \"BordaManip\",\n",
        "                 \"NashSincere\",\n",
        "                 \"NashManip\",\n",
        "                 \"GenAntipSincere\",\n",
        "                 \"GenAntipManip\",\n",
        "                 ]\n",
        "\n",
        "visualise(current_scenario, desired_rules, 'Rawls welfare, concave rules, IC, n = 11')"
      ]
    },
    {
      "cell_type": "code",
      "execution_count": null,
      "metadata": {
        "id": "iDADZNArnCOL"
      },
      "outputs": [],
      "source": [
        "current_scenario = form_file_suffix(10**4, \"Voters\", 11, \"IC\", \"Rawls\")\n",
        "desired_rules = [\"Geometric1p2Sincere\",\n",
        "                 \"Geometric1p2Manip\",\n",
        "                 \"PluralitySincere\",\n",
        "                 \"PluralityManip\",\n",
        "                 \"Geometric1p5Sincere\",\n",
        "                 \"Geometric1p5Manip\",\n",
        "                 \"Geometric2Sincere\",\n",
        "                 \"Geometric2Manip\",\n",
        "                 \"BordaSincere\",\n",
        "                 \"BordaManip\",]\n",
        "\n",
        "visualise(current_scenario, desired_rules, 'Rawls welfare, convex rules , IC, n = 11')"
      ]
    },
    {
      "cell_type": "code",
      "execution_count": null,
      "metadata": {
        "id": "hZ57C_k7_3RQ"
      },
      "outputs": [],
      "source": [
        "current_scenario = form_file_suffix(10**4, \"Voters\", 11, \"IC\", \"Rawls\")\n",
        "desired_rules = [\"5ApprovalSincere\",\n",
        "                 \"5ApprovalManip\",\n",
        "                 \"PluralitySincere\",\n",
        "                 \"PluralityManip\",\n",
        "                 \"AntipSincere\",\n",
        "                 \"AntipManip\",\n",
        "                 \"HalfApprovalSincere\",\n",
        "                 \"HalfApprovalManip\",\n",
        "                 \"QuarterApprovalSincere\",\n",
        "                 \"QuarterApprovalManip\"]\n",
        "visualise(current_scenario, desired_rules, 'Rawls welfare, approval family, IC, n = 11')"
      ]
    },
    {
      "cell_type": "code",
      "execution_count": null,
      "metadata": {
        "id": "K7pCVJG5_6fD"
      },
      "outputs": [],
      "source": [
        "current_scenario = form_file_suffix(10**4, \"Voters\", 11, \"IC\", \"Rawls\")\n",
        "desired_rules = [\"5BordaSincere\",\n",
        "                 \"5BordaManip\",\n",
        "                 \"BordaSincere\",\n",
        "                 \"BordaManip\",\n",
        "                 \"PluralitySincere\",\n",
        "                 \"PluralityManip\",\n",
        "                 \"HalfBordaSincere\",\n",
        "                 \"HalfBordaManip\",\n",
        "                 \"QuarterBordaSincere\",\n",
        "                 \"QuarterBordaManip\",\n",
        "                 ]\n",
        "visualise(current_scenario, desired_rules, 'Rawls welfare, Borda family, IC, n = 11')"
      ]
    },
    {
      "cell_type": "code",
      "execution_count": null,
      "metadata": {
        "id": "7OnY7Opsnq7g"
      },
      "outputs": [],
      "source": [
        "current_scenario = form_file_suffix(10**4, \"Voters\", 11, \"IC\", \"Rawls\")\n",
        "desired_rules = [\"Geometric1p2Sincere\",\n",
        "                 \"Geometric1p2Manip\",\n",
        "                 \"Geometric0p5Sincere\",\n",
        "                 \"Geometric0p5Manip\",\n",
        "                 \"BordaSincere\",\n",
        "                 \"BordaManip\",\n",
        "                 \"CopelandSincere\",\n",
        "                 \"CopelandManip\",\n",
        "                 \"HalfApprovalSincere\",\n",
        "                 \"HalfApprovalManip\",\n",
        "                 \"PluralitySincere\",\n",
        "                 \"PluralityManip\",\n",
        "                 \"SimpsonSincere\",\n",
        "                 \"SimpsonManip\",]\n",
        "visualise(current_scenario, desired_rules, 'Rawls welfare, interesting rules, IC, n = 11')"
      ]
    },
    {
      "cell_type": "markdown",
      "metadata": {
        "id": "X3pw_mB4nLUV"
      },
      "source": [
        "### IC Nash"
      ]
    },
    {
      "cell_type": "code",
      "execution_count": null,
      "metadata": {
        "id": "jFiZtabkob0x"
      },
      "outputs": [],
      "source": [
        "current_scenario = form_file_suffix(10**4, \"Voters\", 11, \"IC\", \"Nash\")\n",
        "desired_rules = [\n",
        "                 \"Geometric0p8Sincere\",\n",
        "                 \"Geometric0p8Manip\",\n",
        "                 \"Geometric0p5Sincere\",\n",
        "                 \"Geometric0p5Manip\",\n",
        "                 \"Geometric0p65Sincere\",\n",
        "                 \"Geometric0p65Manip\",\n",
        "                 \"GenAntipSincere\",\n",
        "                 \"GenAntipManip\",\n",
        "                 \"BordaSincere\",\n",
        "                 \"BordaManip\",\n",
        "                 \"NashSincere\",\n",
        "                 \"NashManip\",]\n",
        "\n",
        "visualise(current_scenario, desired_rules, 'Nash welfare, concave rules, IC, n = 11')"
      ]
    },
    {
      "cell_type": "code",
      "execution_count": null,
      "metadata": {
        "id": "NdQCvBbQomAD"
      },
      "outputs": [],
      "source": [
        "current_scenario = form_file_suffix(10**4, \"Voters\", 11, \"IC\", \"Nash\")\n",
        "desired_rules = [\"Geometric1p2Sincere\",\n",
        "                 \"Geometric1p2Manip\",\n",
        "                 \"PluralitySincere\",\n",
        "                 \"PluralityManip\",\n",
        "                 \"GenPlurSincere\",\n",
        "                 \"GenPlurManip\",\n",
        "                 \"Geometric1p5Sincere\",\n",
        "                 \"Geometric1p5Manip\",\n",
        "                 \"Geometric2Sincere\",\n",
        "                 \"Geometric2Manip\",\n",
        "                 \"BordaSincere\",\n",
        "                 \"BordaManip\",]\n",
        "\n",
        "visualise(current_scenario, desired_rules, 'Nash welfare, convex rules , IC, n = 11')"
      ]
    },
    {
      "cell_type": "code",
      "execution_count": null,
      "metadata": {
        "id": "x1GN3kDNBVZ5"
      },
      "outputs": [],
      "source": [
        "current_scenario = form_file_suffix(10**4, \"Voters\", 11, \"IC\", \"Nash\")\n",
        "desired_rules = [\"5ApprovalSincere\",\n",
        "                 \"5ApprovalManip\",\n",
        "                 \"PluralitySincere\",\n",
        "                 \"PluralityManip\",\n",
        "                 \"AntipSincere\",\n",
        "                 \"AntipManip\",\n",
        "                 \"HalfApprovalSincere\",\n",
        "                 \"HalfApprovalManip\",\n",
        "                 \"QuarterApprovalSincere\",\n",
        "                 \"QuarterApprovalManip\"]\n",
        "visualise(current_scenario, desired_rules, 'Nash welfare, approval family, IC, n = 11')"
      ]
    },
    {
      "cell_type": "code",
      "execution_count": null,
      "metadata": {
        "id": "HyEgMZ75BZP1"
      },
      "outputs": [],
      "source": [
        "current_scenario = form_file_suffix(10**4, \"Voters\", 11, \"IC\", \"Nash\")\n",
        "desired_rules = [\"5BordaSincere\",\n",
        "                 \"5BordaManip\",\n",
        "                 \"BordaSincere\",\n",
        "                 \"BordaManip\",\n",
        "                 \"PluralitySincere\",\n",
        "                 \"PluralityManip\",\n",
        "                 \"HalfBordaSincere\",\n",
        "                 \"HalfBordaManip\",\n",
        "                 \"QuarterBordaSincere\",\n",
        "                 \"QuarterBordaManip\",\n",
        "                 ]\n",
        "visualise(current_scenario, desired_rules, 'Nash welfare, Borda family, IC, n = 11')"
      ]
    },
    {
      "cell_type": "code",
      "execution_count": null,
      "metadata": {
        "id": "IY7QnMvLpRva"
      },
      "outputs": [],
      "source": [
        "current_scenario = form_file_suffix(10**4, \"Voters\", 11, \"IC\", \"Nash\")\n",
        "desired_rules = [\"NashSincere\",\n",
        "                 \"NashManip\",\n",
        "                 \"Geometric1p2Sincere\",\n",
        "                 \"Geometric1p2Manip\",\n",
        "                 \"BordaSincere\",\n",
        "                 \"BordaManip\",\n",
        "                 \"HalfApprovalSincere\",\n",
        "                 \"HalfApprovalManip\",\n",
        "                 \"PluralitySincere\",\n",
        "                 \"PluralityManip\",\n",
        "                 \"CopelandSincere\",\n",
        "                 \"CopelandManip\",\n",
        "                 \"SimpsonSincere\",\n",
        "                 \"SimpsonManip\",]\n",
        "visualise(current_scenario, desired_rules, 'Nash welfare, interesting rules, IC, n = 11')"
      ]
    },
    {
      "cell_type": "markdown",
      "metadata": {
        "id": "sAzMZx985HCJ"
      },
      "source": [
        "### IC Condorcet"
      ]
    },
    {
      "cell_type": "code",
      "execution_count": null,
      "metadata": {
        "id": "ZsUefrcJ5FF2"
      },
      "outputs": [],
      "source": [
        "current_scenario = form_file_suffix(10**4, \"Voters\", 11, \"IC\", \"Condorcet\")\n",
        "desired_rules = [\n",
        "                 \"Geometric0p8Sincere\",\n",
        "                 \"Geometric0p8Manip\",\n",
        "                 \"Geometric0p5Sincere\",\n",
        "                 \"Geometric0p5Manip\",\n",
        "                 \"Geometric0p65Sincere\",\n",
        "                 \"Geometric0p65Manip\",\n",
        "                 \"GenAntipSincere\",\n",
        "                 \"GenAntipManip\",\n",
        "                 \"BordaSincere\",\n",
        "                 \"BordaManip\",\n",
        "                 \"NashSincere\",\n",
        "                 \"NashManip\",\n",
        "                 ]\n",
        "\n",
        "visualise(current_scenario, desired_rules, 'Condorcet welfare, concave rules, IC, n = 11')"
      ]
    },
    {
      "cell_type": "code",
      "execution_count": null,
      "metadata": {
        "id": "BzVc_LEX5k1W"
      },
      "outputs": [],
      "source": [
        "current_scenario = form_file_suffix(10**4, \"Voters\", 11, \"IC\", \"Condorcet\")\n",
        "desired_rules = [\"Geometric1p2Sincere\",\n",
        "                 \"Geometric1p2Manip\",\n",
        "                 \"PluralitySincere\",\n",
        "                 \"PluralityManip\",\n",
        "                 \"GenPlurSincere\",\n",
        "                 \"GenPlurManip\",\n",
        "                 \"Geometric1p5Sincere\",\n",
        "                 \"Geometric1p5Manip\",\n",
        "                 \"Geometric2Sincere\",\n",
        "                 \"Geometric2Manip\",\n",
        "                 \"BordaSincere\",\n",
        "                 \"BordaManip\",]\n",
        "\n",
        "visualise(current_scenario, desired_rules, 'Condorcet welfare, convex rules , IC, n = 11')"
      ]
    },
    {
      "cell_type": "code",
      "execution_count": null,
      "metadata": {
        "id": "2HX9APWh6Wsr"
      },
      "outputs": [],
      "source": [
        "current_scenario = form_file_suffix(10**4, \"Voters\", 11, \"IC\", \"Condorcet\")\n",
        "desired_rules = [\"5ApprovalSincere\",\n",
        "                 \"5ApprovalManip\",\n",
        "                 \"PluralitySincere\",\n",
        "                 \"PluralityManip\",\n",
        "                 \"AntipSincere\",\n",
        "                 \"AntipManip\",\n",
        "                 \"HalfApprovalSincere\",\n",
        "                 \"HalfApprovalManip\",\n",
        "                 \"QuarterApprovalSincere\",\n",
        "                 \"QuarterApprovalManip\"]\n",
        "visualise(current_scenario, desired_rules, 'Condorcet welfare, approval family, IC, n = 11')"
      ]
    },
    {
      "cell_type": "code",
      "execution_count": null,
      "metadata": {
        "id": "N-f2cEVt6d-g"
      },
      "outputs": [],
      "source": [
        "current_scenario = form_file_suffix(10**4, \"Voters\", 11, \"IC\", \"Condorcet\")\n",
        "desired_rules = [\"5BordaSincere\",\n",
        "                 \"5BordaManip\",\n",
        "                 \"BordaSincere\",\n",
        "                 \"BordaManip\",\n",
        "                 \"PluralitySincere\",\n",
        "                 \"PluralityManip\",\n",
        "                 \"HalfBordaSincere\",\n",
        "                 \"HalfBordaManip\",\n",
        "                 \"QuarterBordaSincere\",\n",
        "                 \"QuarterBordaManip\",\n",
        "                 ]\n",
        "visualise(current_scenario, desired_rules, 'Condorcet welfare, Borda family, IC, n = 11')"
      ]
    },
    {
      "cell_type": "code",
      "execution_count": null,
      "metadata": {
        "id": "WH9CuFLC6n44"
      },
      "outputs": [],
      "source": [
        "current_scenario = form_file_suffix(10**4, \"Voters\", 11, \"IC\", \"Condorcet\")\n",
        "desired_rules = [\"Geometric1p2Sincere\",\n",
        "                 \"Geometric1p2Manip\",\n",
        "                 \"Geometric2Sincere\",\n",
        "                 \"Geometric2Manip\",\n",
        "                 \"PluralitySincere\",\n",
        "                 \"PluralityManip\",\n",
        "                 \"CopelandSincere\",\n",
        "                 \"CopelandManip\",\n",
        "                 \"SimpsonSincere\",\n",
        "                 \"SimpsonManip\",\n",
        "                 \"QuarterApprovalSincere\",\n",
        "                 \"QuarterApprovalManip\",\n",
        "                 \"HalfBordaSincere\",\n",
        "                 \"HalfBordaManip\",\n",
        "                 \"BordaSincere\",\n",
        "                 \"BordaManip\",\n",
        "                 \"Geometric0p8Sincere\",\n",
        "                 \"Geometric0p8Manip\"]\n",
        "\n",
        "visualise(current_scenario, desired_rules, 'Condorcet welfare, interesting rules, IC, n = 11')"
      ]
    },
    {
      "cell_type": "markdown",
      "metadata": {
        "id": "uSvNJBp6FiMN"
      },
      "source": [
        "## Fixed m"
      ]
    },
    {
      "cell_type": "markdown",
      "metadata": {
        "id": "BzKZEoqAFiMO"
      },
      "source": [
        "### IC Borda"
      ]
    },
    {
      "cell_type": "code",
      "execution_count": null,
      "metadata": {
        "id": "rfUcFpytFiMP"
      },
      "outputs": [],
      "source": [
        "current_scenario = form_file_suffix(10**4, \"Candidates\", 10, \"IC\", \"Borda\")\n",
        "desired_rules = [\n",
        "                 \"Geometric0p8Sincere\",\n",
        "                 \"Geometric0p8Manip\",\n",
        "                 \"Geometric0p5Sincere\",\n",
        "                 \"Geometric0p5Manip\",\n",
        "                 \"Geometric0p65Sincere\",\n",
        "                 \"Geometric0p65Manip\",\n",
        "                 \"BordaSincere\",\n",
        "                 \"BordaManip\",\n",
        "                 \"NashSincere\",\n",
        "                 \"NashManip\",]\n",
        "\n",
        "visualise(current_scenario, desired_rules, 'Borda utility, concave rules, IC, m = 10', truncate_top=20)"
      ]
    },
    {
      "cell_type": "code",
      "execution_count": null,
      "metadata": {
        "id": "JSbHanm2FiMP"
      },
      "outputs": [],
      "source": [
        "current_scenario = form_file_suffix(10**4, \"Candidates\", 10, \"IC\", \"Borda\")\n",
        "desired_rules = [\"Geometric1p2Sincere\",\n",
        "                 \"Geometric1p2Manip\",\n",
        "                 \"PluralitySincere\",\n",
        "                 \"PluralityManip\",\n",
        "                 \"Geometric1p5Sincere\",\n",
        "                 \"Geometric1p5Manip\",\n",
        "                 \"Geometric2Sincere\",\n",
        "                 \"Geometric2Manip\",\n",
        "                 \"BordaSincere\",\n",
        "                 \"BordaManip\",\n",
        "                 \"GenPlurSincere\",\n",
        "                 \"GenPlurManip\",]\n",
        "\n",
        "visualise(current_scenario, desired_rules, 'Borda utility, convex rules , IC, m = 10', truncate_top=20)"
      ]
    },
    {
      "cell_type": "code",
      "execution_count": null,
      "metadata": {
        "id": "T9eY-zPBFiMQ"
      },
      "outputs": [],
      "source": [
        "current_scenario = form_file_suffix(10**4, \"Candidates\", 10, \"IC\", \"Borda\")\n",
        "desired_rules = [\"5ApprovalSincere\",\n",
        "                 \"5ApprovalManip\",\n",
        "                 \"5BordaSincere\",\n",
        "                 \"5BordaManip\",\n",
        "                 \"BordaSincere\",\n",
        "                 \"BordaManip\",\n",
        "                 \"PluralitySincere\",\n",
        "                 \"PluralityManip\",]\n",
        "visualise(current_scenario, desired_rules, 'Borda utility, abdriged rules, IC, m = 10', truncate_top=20)"
      ]
    },
    {
      "cell_type": "code",
      "execution_count": null,
      "metadata": {
        "id": "UGQLpqn_FiMQ"
      },
      "outputs": [],
      "source": [
        "current_scenario = form_file_suffix(10**4, \"Candidates\", 10, \"IC\", \"Borda\")\n",
        "desired_rules = [\"Geometric1p2Sincere\",\n",
        "                 \"Geometric1p2Manip\",\n",
        "                 \"PluralitySincere\",\n",
        "                 \"PluralityManip\",\n",
        "                 \"Geometric0p8Sincere\",\n",
        "                 \"Geometric0p8Manip\",\n",
        "                 \"CopelandSincere\",\n",
        "                 \"CopelandManip\",\n",
        "                 \"BordaSincere\",\n",
        "                 \"BordaManip\",]\n",
        "\n",
        "visualise(current_scenario, desired_rules, 'Borda utility, interesting rules, IC, m = 10', truncate_top=20)"
      ]
    },
    {
      "cell_type": "markdown",
      "metadata": {
        "id": "6vEq2IyjFiMR"
      },
      "source": [
        "### IC Rawls"
      ]
    },
    {
      "cell_type": "code",
      "execution_count": null,
      "metadata": {
        "id": "77JgI8-3FiMR"
      },
      "outputs": [],
      "source": [
        "current_scenario = form_file_suffix(10**4, \"Candidates\", 10, \"IC\", \"Rawls\")\n",
        "desired_rules = [\n",
        "                 \"Geometric0p8Sincere\",\n",
        "                 \"Geometric0p8Manip\",\n",
        "                 \"Geometric0p5Sincere\",\n",
        "                 \"Geometric0p5Manip\",\n",
        "                 \"Geometric0p65Sincere\",\n",
        "                 \"Geometric0p65Manip\",\n",
        "                 \"BordaSincere\",\n",
        "                 \"BordaManip\",\n",
        "                 \"NashSincere\",\n",
        "                 \"NashManip\",]\n",
        "\n",
        "visualise(current_scenario, desired_rules, 'Rawls utility, concave rules, IC, m = 10', truncate_top=20)"
      ]
    },
    {
      "cell_type": "code",
      "execution_count": null,
      "metadata": {
        "id": "eIAR8rbdFiMR"
      },
      "outputs": [],
      "source": [
        "current_scenario = form_file_suffix(10**4, \"Candidates\", 10, \"IC\", \"Rawls\")\n",
        "desired_rules = [\"Geometric1p2Sincere\",\n",
        "                 \"Geometric1p2Manip\",\n",
        "                 \"PluralitySincere\",\n",
        "                 \"PluralityManip\",\n",
        "                 \"Geometric1p5Sincere\",\n",
        "                 \"Geometric1p5Manip\",\n",
        "                 \"Geometric2Sincere\",\n",
        "                 \"Geometric2Manip\",\n",
        "                 \"BordaSincere\",\n",
        "                 \"BordaManip\",]\n",
        "\n",
        "visualise(current_scenario, desired_rules, 'Rawls utility, convex rules , IC, m = 10', truncate_top=20)"
      ]
    },
    {
      "cell_type": "code",
      "execution_count": null,
      "metadata": {
        "id": "8-Kmf2tgFiMR"
      },
      "outputs": [],
      "source": [
        "current_scenario = form_file_suffix(10**4, \"Candidates\", 10, \"IC\", \"Rawls\")\n",
        "desired_rules = [\"5ApprovalSincere\",\n",
        "                 \"5ApprovalManip\",\n",
        "                 \"5BordaSincere\",\n",
        "                 \"5BordaManip\",\n",
        "                 \"BordaSincere\",\n",
        "                 \"BordaManip\",\n",
        "                 \"PluralitySincere\",\n",
        "                 \"PluralityManip\",]\n",
        "visualise(current_scenario, desired_rules, 'Rawls utility, abdriged rules, IC, m = 10', truncate_top=20)"
      ]
    },
    {
      "cell_type": "code",
      "execution_count": null,
      "metadata": {
        "id": "62omyZXMFiMS"
      },
      "outputs": [],
      "source": [
        "current_scenario = form_file_suffix(10**4, \"Candidates\", 10, \"IC\", \"Rawls\")\n",
        "desired_rules = [\"Geometric1p2Sincere\",\n",
        "                 \"Geometric1p2Manip\",\n",
        "                 \"Geometric0p5Sincere\",\n",
        "                 \"Geometric0p5Manip\",\n",
        "                 \"BordaSincere\",\n",
        "                 \"BordaManip\",\n",
        "                 \"CopelandSincere\",\n",
        "                 \"CopelandManip\",\n",
        "                 \"PluralitySincere\",\n",
        "                 \"PluralityManip\",]\n",
        "visualise(current_scenario, desired_rules, 'Rawls utility, interesting rules, IC, m = 10', truncate_top=20)"
      ]
    },
    {
      "cell_type": "markdown",
      "metadata": {
        "id": "fVWSfw17FiMS"
      },
      "source": [
        "### IC Nash"
      ]
    },
    {
      "cell_type": "code",
      "execution_count": null,
      "metadata": {
        "id": "kZSaX4GDFiMS"
      },
      "outputs": [],
      "source": [
        "current_scenario = form_file_suffix(10**4, \"Candidates\", 10, \"IC\", \"Nash\")\n",
        "desired_rules = [\n",
        "                 \"Geometric0p8Sincere\",\n",
        "                 \"Geometric0p8Manip\",\n",
        "                 \"Geometric0p5Sincere\",\n",
        "                 \"Geometric0p5Manip\",\n",
        "                 \"Geometric0p65Sincere\",\n",
        "                 \"Geometric0p65Manip\",\n",
        "                 \"BordaSincere\",\n",
        "                 \"BordaManip\",\n",
        "                 \"NashSincere\",\n",
        "                 \"NashManip\",]\n",
        "\n",
        "visualise(current_scenario, desired_rules, 'Nash utility, concave rules, IC, m = 10', truncate_top=20)"
      ]
    },
    {
      "cell_type": "code",
      "execution_count": null,
      "metadata": {
        "id": "85i-7V6QFiMT"
      },
      "outputs": [],
      "source": [
        "current_scenario = form_file_suffix(10**4, \"Candidates\", 10, \"IC\", \"Nash\")\n",
        "desired_rules = [\"Geometric1p2Sincere\",\n",
        "                 \"Geometric1p2Manip\",\n",
        "                 \"PluralitySincere\",\n",
        "                 \"PluralityManip\",\n",
        "                 \"Geometric1p5Sincere\",\n",
        "                 \"Geometric1p5Manip\",\n",
        "                 \"Geometric2Sincere\",\n",
        "                 \"Geometric2Manip\",\n",
        "                 \"BordaSincere\",\n",
        "                 \"BordaManip\",]\n",
        "\n",
        "visualise(current_scenario, desired_rules, 'Nash utility, convex rules , IC, m = 10', truncate_top=20)"
      ]
    },
    {
      "cell_type": "code",
      "execution_count": null,
      "metadata": {
        "id": "XO6pjuy2FiMT"
      },
      "outputs": [],
      "source": [
        "current_scenario = form_file_suffix(10**4, \"Candidates\", 10, \"IC\", \"Nash\")\n",
        "desired_rules = [\"5ApprovalSincere\",\n",
        "                 \"5ApprovalManip\",\n",
        "                 \"5BordaSincere\",\n",
        "                 \"5BordaManip\",\n",
        "                 \"BordaSincere\",\n",
        "                 \"BordaManip\",\n",
        "                 \"PluralitySincere\",\n",
        "                 \"PluralityManip\",]\n",
        "visualise(current_scenario, desired_rules, 'Nash utility, abdriged rules, IC, m = 10', truncate_top=20)"
      ]
    },
    {
      "cell_type": "code",
      "execution_count": null,
      "metadata": {
        "id": "uTJryJGNFiMU"
      },
      "outputs": [],
      "source": [
        "current_scenario = form_file_suffix(10**4, \"Candidates\", 10, \"IC\", \"Nash\")\n",
        "desired_rules = [\"Geometric0p5Sincere\",\n",
        "                 \"Geometric0p5Manip\",\n",
        "                 \"Geometric1p2Sincere\",\n",
        "                 \"Geometric1p2Manip\",\n",
        "                 \"BordaSincere\",\n",
        "                 \"BordaManip\",\n",
        "                 \"CopelandSincere\",\n",
        "                 \"CopelandManip\",\n",
        "                 \"PluralitySincere\",\n",
        "                 \"PluralityManip\",]\n",
        "visualise(current_scenario, desired_rules, 'Nash utility, interesting rules, IC, m = 10', truncate_top=20)"
      ]
    },
    {
      "cell_type": "markdown",
      "metadata": {
        "id": "c51mi_MN8KIC"
      },
      "source": [
        "# 1D Euclidean"
      ]
    },
    {
      "cell_type": "markdown",
      "metadata": {
        "id": "DS5V7eqrIUDL"
      },
      "source": [
        "## Fixed n"
      ]
    },
    {
      "cell_type": "markdown",
      "metadata": {
        "id": "oM3tqh6lnQVv"
      },
      "source": [
        "### 1D Euclidean Borda"
      ]
    },
    {
      "cell_type": "code",
      "execution_count": null,
      "metadata": {
        "id": "lu2B9GGomADT"
      },
      "outputs": [],
      "source": [
        "current_scenario = form_file_suffix(10**4, \"Voters\", 11, \"EuclideanOne\", \"Borda\")\n",
        "desired_rules = [\n",
        "                 \"Geometric0p8Sincere\",\n",
        "                 \"Geometric0p8Manip\",\n",
        "                 \"Geometric0p5Sincere\",\n",
        "                 \"Geometric0p5Manip\",\n",
        "                 \"Geometric0p65Sincere\",\n",
        "                 \"Geometric0p65Manip\",\n",
        "                 \"GenAntipSincere\",\n",
        "                 \"GenAntipManip\",\n",
        "                 \"BordaSincere\",\n",
        "                 \"BordaManip\",\n",
        "                 \"NashSincere\",\n",
        "                 \"NashManip\",]\n",
        "\n",
        "visualise(current_scenario, desired_rules, 'Borda welfare, concave rules, 1D Euclidean, n = 11')"
      ]
    },
    {
      "cell_type": "code",
      "execution_count": null,
      "metadata": {
        "id": "7UUuojyAnboX"
      },
      "outputs": [],
      "source": [
        "current_scenario = form_file_suffix(10**4, \"Voters\", 11, \"EuclideanOne\", \"Borda\")\n",
        "desired_rules = [\"Geometric1p2Sincere\",\n",
        "                 \"Geometric1p2Manip\",\n",
        "                 \"PluralitySincere\",\n",
        "                 \"PluralityManip\",\n",
        "                 \"GenPlurSincere\",\n",
        "                 \"GenPlurManip\",\n",
        "                 \"Geometric1p5Sincere\",\n",
        "                 \"Geometric1p5Manip\",\n",
        "                 \"Geometric2Sincere\",\n",
        "                 \"Geometric2Manip\",\n",
        "                 \"BordaSincere\",\n",
        "                 \"BordaManip\",]\n",
        "\n",
        "visualise(current_scenario, desired_rules, 'Borda welfare, convex rules , 1D Euclidean, n = 11')"
      ]
    },
    {
      "cell_type": "code",
      "execution_count": null,
      "metadata": {
        "id": "nQY0tercEbGk"
      },
      "outputs": [],
      "source": [
        "current_scenario = form_file_suffix(10**4, \"Voters\", 11, \"EuclideanOne\", \"Borda\")\n",
        "desired_rules = [\"5ApprovalSincere\",\n",
        "                 \"5ApprovalManip\",\n",
        "                 \"PluralitySincere\",\n",
        "                 \"PluralityManip\",\n",
        "                 \"AntipSincere\",\n",
        "                 \"AntipManip\",\n",
        "                 \"HalfApprovalSincere\",\n",
        "                 \"HalfApprovalManip\",\n",
        "                 \"QuarterApprovalSincere\",\n",
        "                 \"QuarterApprovalManip\"]\n",
        "visualise(current_scenario, desired_rules, 'Borda welfare, approval family, 1D Euclidean, n = 11')"
      ]
    },
    {
      "cell_type": "code",
      "execution_count": null,
      "metadata": {
        "id": "sbb1pNveEePb"
      },
      "outputs": [],
      "source": [
        "current_scenario = form_file_suffix(10**4, \"Voters\", 11, \"EuclideanOne\", \"Borda\")\n",
        "desired_rules = [\"5BordaSincere\",\n",
        "                 \"5BordaManip\",\n",
        "                 \"BordaSincere\",\n",
        "                 \"BordaManip\",\n",
        "                 \"PluralitySincere\",\n",
        "                 \"PluralityManip\",\n",
        "                 \"HalfBordaSincere\",\n",
        "                 \"HalfBordaManip\",\n",
        "                 \"QuarterBordaSincere\",\n",
        "                 \"QuarterBordaManip\",\n",
        "                 ]\n",
        "visualise(current_scenario, desired_rules, 'Borda welfare, Borda family, 1D Euclidean, n = 11')"
      ]
    },
    {
      "cell_type": "code",
      "execution_count": null,
      "metadata": {
        "id": "nCvhsf6SoNzN"
      },
      "outputs": [],
      "source": [
        "current_scenario = form_file_suffix(10**4, \"Voters\", 11, \"EuclideanOne\", \"Borda\")\n",
        "desired_rules = [\"HalfApprovalSincere\",\n",
        "                 \"HalfApprovalManip\",\n",
        "                 \"NashSincere\",\n",
        "                 \"NashManip\",\n",
        "                 \"BordaSincere\",\n",
        "                 \"BordaManip\",\n",
        "                 \"Geometric1p2Sincere\",\n",
        "                 \"Geometric1p2Manip\",\n",
        "                 \"CopelandSincere\",\n",
        "                 \"CopelandManip\",\n",
        "                 \"SimpsonSincere\",\n",
        "                 \"SimpsonManip\",\n",
        "]\n",
        "visualise(current_scenario, desired_rules, 'Borda welfare, interesting rules, 1D Euclidean, n = 11')"
      ]
    },
    {
      "cell_type": "markdown",
      "metadata": {
        "id": "JkvAtWlUo7-s"
      },
      "source": [
        "### 1D Euclidean Rawls"
      ]
    },
    {
      "cell_type": "code",
      "execution_count": null,
      "metadata": {
        "id": "Ek6IRzhwo7on"
      },
      "outputs": [],
      "source": [
        "current_scenario = form_file_suffix(10**4, \"Voters\", 11, \"EuclideanOne\", \"Rawls\")\n",
        "desired_rules = [\n",
        "                 \"Geometric0p8Sincere\",\n",
        "                 \"Geometric0p8Manip\",\n",
        "                 \"Geometric0p5Sincere\",\n",
        "                 \"Geometric0p5Manip\",\n",
        "                 \"GenAntipSincere\",\n",
        "                 \"GenAntipManip\",\n",
        "                 \"Geometric0p65Sincere\",\n",
        "                 \"Geometric0p65Manip\",\n",
        "                 \"BordaSincere\",\n",
        "                 \"BordaManip\",\n",
        "                 \"NashSincere\",\n",
        "                 \"NashManip\",\n",
        "]\n",
        "\n",
        "visualise(current_scenario, desired_rules, 'Rawls welfare, concave rules, 1D Euclidean, n = 11')"
      ]
    },
    {
      "cell_type": "code",
      "execution_count": null,
      "metadata": {
        "id": "kmjJbXVhpafn"
      },
      "outputs": [],
      "source": [
        "current_scenario = form_file_suffix(10**4, \"Voters\", 11, \"EuclideanOne\", \"Rawls\")\n",
        "desired_rules = [\"Geometric1p2Sincere\",\n",
        "                 \"Geometric1p2Manip\",\n",
        "                 \"PluralitySincere\",\n",
        "                 \"PluralityManip\",\n",
        "                 \"GenPlurSincere\",\n",
        "                 \"GenPlurManip\",\n",
        "                 \"Geometric1p5Sincere\",\n",
        "                 \"Geometric1p5Manip\",\n",
        "                 \"Geometric2Sincere\",\n",
        "                 \"Geometric2Manip\",\n",
        "                 \"BordaSincere\",\n",
        "                 \"BordaManip\",]\n",
        "\n",
        "visualise(current_scenario, desired_rules, 'Rawls welfare, convex rules , 1D Euclidean, n = 11')"
      ]
    },
    {
      "cell_type": "code",
      "execution_count": null,
      "metadata": {
        "id": "wkLweC0LFKNo"
      },
      "outputs": [],
      "source": [
        "current_scenario = form_file_suffix(10**4, \"Voters\", 11, \"EuclideanOne\", \"Rawls\")\n",
        "desired_rules = [\"5ApprovalSincere\",\n",
        "                 \"5ApprovalManip\",\n",
        "                 \"PluralitySincere\",\n",
        "                 \"PluralityManip\",\n",
        "                 \"AntipSincere\",\n",
        "                 \"AntipManip\",\n",
        "                 \"HalfApprovalSincere\",\n",
        "                 \"HalfApprovalManip\",\n",
        "                 \"QuarterApprovalSincere\",\n",
        "                 \"QuarterApprovalManip\"]\n",
        "visualise(current_scenario, desired_rules, 'Rawls welfare, approval family, 1D Euclidean, n = 11')"
      ]
    },
    {
      "cell_type": "code",
      "execution_count": null,
      "metadata": {
        "id": "dBGrSdTvFOfS"
      },
      "outputs": [],
      "source": [
        "current_scenario = form_file_suffix(10**4, \"Voters\", 11, \"EuclideanOne\", \"Rawls\")\n",
        "desired_rules = [\"5BordaSincere\",\n",
        "                 \"5BordaManip\",\n",
        "                 \"BordaSincere\",\n",
        "                 \"BordaManip\",\n",
        "                 \"PluralitySincere\",\n",
        "                 \"PluralityManip\",\n",
        "                 \"HalfBordaSincere\",\n",
        "                 \"HalfBordaManip\",\n",
        "                 \"QuarterBordaSincere\",\n",
        "                 \"QuarterBordaManip\",\n",
        "                 ]\n",
        "visualise(current_scenario, desired_rules, 'Rawls welfare, Borda family, 1D Euclidean, n = 11')"
      ]
    },
    {
      "cell_type": "code",
      "execution_count": null,
      "metadata": {
        "id": "IQZT7ibE8p5a"
      },
      "outputs": [],
      "source": [
        "current_scenario = form_file_suffix(10**4, \"Voters\", 11, \"EuclideanOne\", \"Rawls\")\n",
        "desired_rules = [\"Geometric1p2Sincere\",\n",
        "                 \"Geometric1p2Manip\",\n",
        "                 \"NashSincere\",\n",
        "                 \"NashManip\",\n",
        "                 \"BordaSincere\",\n",
        "                 \"BordaManip\",\n",
        "                 \"PluralitySincere\",\n",
        "                 \"PluralityManip\",\n",
        "                 \"HalfApprovalSincere\",\n",
        "                 \"HalfApprovalManip\",\n",
        "                 \"CopelandSincere\",\n",
        "                 \"CopelandManip\",\n",
        "                 \"SimpsonSincere\",\n",
        "                 \"SimpsonManip\",\n",
        "                 ]\n",
        "visualise(current_scenario, desired_rules, 'Rawls welfare, interesting rules, 1D Euclidean, n = 11')"
      ]
    },
    {
      "cell_type": "markdown",
      "metadata": {
        "id": "LwCgQH_V4fvv"
      },
      "source": [
        "### 1D Euclidean Nash"
      ]
    },
    {
      "cell_type": "code",
      "execution_count": null,
      "metadata": {
        "id": "JagoS8SI447e"
      },
      "outputs": [],
      "source": [
        "current_scenario = form_file_suffix(10**4, \"Voters\", 11, \"EuclideanOne\", \"Nash\")\n",
        "desired_rules = [\n",
        "                 \"Geometric0p8Sincere\",\n",
        "                 \"Geometric0p8Manip\",\n",
        "                 \"Geometric0p5Sincere\",\n",
        "                 \"Geometric0p5Manip\",\n",
        "                 \"Geometric0p65Sincere\",\n",
        "                 \"Geometric0p65Manip\",\n",
        "                 \"GenAntipSincere\",\n",
        "                 \"GenAntipManip\",\n",
        "                 \"BordaSincere\",\n",
        "                 \"BordaManip\",\n",
        "                 \"NashSincere\",\n",
        "                 \"NashManip\",]\n",
        "\n",
        "visualise(current_scenario, desired_rules, 'Nash welfare, concave rules, 1D Euclidean, n = 11')"
      ]
    },
    {
      "cell_type": "code",
      "execution_count": null,
      "metadata": {
        "id": "IZlYBiI35CfT"
      },
      "outputs": [],
      "source": [
        "current_scenario = form_file_suffix(10**4, \"Voters\", 11, \"EuclideanOne\", \"Nash\")\n",
        "desired_rules = [\"Geometric1p2Sincere\",\n",
        "                 \"Geometric1p2Manip\",\n",
        "                 \"PluralitySincere\",\n",
        "                 \"PluralityManip\",\n",
        "                 \"GenPlurSincere\",\n",
        "                 \"GenPlurManip\",\n",
        "                 \"Geometric1p5Sincere\",\n",
        "                 \"Geometric1p5Manip\",\n",
        "                 \"Geometric2Sincere\",\n",
        "                 \"Geometric2Manip\",\n",
        "                 \"BordaSincere\",\n",
        "                 \"BordaManip\",]\n",
        "\n",
        "visualise(current_scenario, desired_rules, 'Nash welfare, convex rules , 1D Euclidean, n = 11')"
      ]
    },
    {
      "cell_type": "code",
      "execution_count": null,
      "metadata": {
        "id": "UpSEmHoEF0lf"
      },
      "outputs": [],
      "source": [
        "current_scenario = form_file_suffix(10**4, \"Voters\", 11, \"EuclideanOne\", \"Nash\")\n",
        "desired_rules = [\"5ApprovalSincere\",\n",
        "                 \"5ApprovalManip\",\n",
        "                 \"PluralitySincere\",\n",
        "                 \"PluralityManip\",\n",
        "                 \"AntipSincere\",\n",
        "                 \"AntipManip\",\n",
        "                 \"HalfApprovalSincere\",\n",
        "                 \"HalfApprovalManip\",\n",
        "                 \"QuarterApprovalSincere\",\n",
        "                 \"QuarterApprovalManip\"]\n",
        "visualise(current_scenario, desired_rules, 'Nash welfare, approval family, 1D Euclidean, n = 11')"
      ]
    },
    {
      "cell_type": "code",
      "execution_count": null,
      "metadata": {
        "id": "RZ8OXTNMF3rG"
      },
      "outputs": [],
      "source": [
        "current_scenario = form_file_suffix(10**4, \"Voters\", 11, \"EuclideanOne\", \"Nash\")\n",
        "desired_rules = [\"5BordaSincere\",\n",
        "                 \"5BordaManip\",\n",
        "                 \"BordaSincere\",\n",
        "                 \"BordaManip\",\n",
        "                 \"PluralitySincere\",\n",
        "                 \"PluralityManip\",\n",
        "                 \"HalfBordaSincere\",\n",
        "                 \"HalfBordaManip\",\n",
        "                 \"QuarterBordaSincere\",\n",
        "                 \"QuarterBordaManip\",\n",
        "                 ]\n",
        "visualise(current_scenario, desired_rules, 'Nash welfare, Borda family, 1D Euclidean, n = 11')"
      ]
    },
    {
      "cell_type": "code",
      "execution_count": null,
      "metadata": {
        "id": "l9lphpZy5Pwy"
      },
      "outputs": [],
      "source": [
        "current_scenario = form_file_suffix(10**4, \"Voters\", 11, \"EuclideanOne\", \"Nash\")\n",
        "desired_rules = [\"NashSincere\",\n",
        "                 \"NashManip\",\n",
        "                 \"Geometric1p2Sincere\",\n",
        "                 \"Geometric1p2Manip\",\n",
        "                 \"BordaSincere\",\n",
        "                 \"BordaManip\",\n",
        "                 \"HalfApprovalSincere\",\n",
        "                 \"HalfApprovalManip\",\n",
        "                 \"CopelandSincere\",\n",
        "                 \"CopelandManip\",\n",
        "                 \"SimpsonSincere\",\n",
        "                 \"SimpsonManip\"]\n",
        "visualise(current_scenario, desired_rules, 'Nash welfare, interesting rules, 1D Euclidean, n = 11', truncate_bottom=1)"
      ]
    },
    {
      "cell_type": "code",
      "execution_count": null,
      "metadata": {
        "id": "ErEy3F7iipG_"
      },
      "outputs": [],
      "source": []
    },
    {
      "cell_type": "markdown",
      "metadata": {
        "id": "JJJIvICNicTX"
      },
      "source": [
        "### 1D Euclidean Condorcet"
      ]
    },
    {
      "cell_type": "code",
      "execution_count": null,
      "metadata": {
        "id": "J7Y8TZ5GicTY"
      },
      "outputs": [],
      "source": [
        "current_scenario = form_file_suffix(10**4, \"Voters\", 11, \"EuclideanOne\", \"Condorcet\")\n",
        "desired_rules = [\n",
        "                 \"Geometric0p8Sincere\",\n",
        "                 \"Geometric0p8Manip\",\n",
        "                 \"Geometric0p5Sincere\",\n",
        "                 \"Geometric0p5Manip\",\n",
        "                 \"Geometric0p65Sincere\",\n",
        "                 \"Geometric0p65Manip\",\n",
        "                 \"GenAntipSincere\",\n",
        "                 \"GenAntipManip\",\n",
        "                 \"BordaSincere\",\n",
        "                 \"BordaManip\",\n",
        "                 \"NashSincere\",\n",
        "                 \"NashManip\",\n",
        "                 ]\n",
        "\n",
        "visualise(current_scenario, desired_rules, 'Condorcet welfare, concave rules, 1D Euclidean, n = 11')"
      ]
    },
    {
      "cell_type": "code",
      "execution_count": null,
      "metadata": {
        "id": "ykr1QP3vicTZ"
      },
      "outputs": [],
      "source": [
        "current_scenario = form_file_suffix(10**4, \"Voters\", 11, \"EuclideanOne\", \"Condorcet\")\n",
        "desired_rules = [\"Geometric1p2Sincere\",\n",
        "                 \"Geometric1p2Manip\",\n",
        "                 \"PluralitySincere\",\n",
        "                 \"PluralityManip\",\n",
        "                 \"GenPlurSincere\",\n",
        "                 \"GenPlurManip\",\n",
        "                 \"Geometric1p5Sincere\",\n",
        "                 \"Geometric1p5Manip\",\n",
        "                 \"Geometric2Sincere\",\n",
        "                 \"Geometric2Manip\",\n",
        "                 \"BordaSincere\",\n",
        "                 \"BordaManip\",]\n",
        "\n",
        "visualise(current_scenario, desired_rules, 'Condorcet welfare, convex rules , 1D Euclidean, n = 11')"
      ]
    },
    {
      "cell_type": "code",
      "execution_count": null,
      "metadata": {
        "id": "Uv17TaA9icTZ"
      },
      "outputs": [],
      "source": [
        "current_scenario = form_file_suffix(10**4, \"Voters\", 11, \"EuclideanOne\", \"Condorcet\")\n",
        "desired_rules = [\"5ApprovalSincere\",\n",
        "                 \"5ApprovalManip\",\n",
        "                 \"PluralitySincere\",\n",
        "                 \"PluralityManip\",\n",
        "                 \"AntipSincere\",\n",
        "                 \"AntipManip\",\n",
        "                 \"HalfApprovalSincere\",\n",
        "                 \"HalfApprovalManip\",\n",
        "                 \"QuarterApprovalSincere\",\n",
        "                 \"QuarterApprovalManip\"]\n",
        "visualise(current_scenario, desired_rules, 'Condorcet welfare, approval family, 1D Euclidean, n = 11')"
      ]
    },
    {
      "cell_type": "code",
      "execution_count": null,
      "metadata": {
        "id": "4CpWLd0MicTa"
      },
      "outputs": [],
      "source": [
        "current_scenario = form_file_suffix(10**4, \"Voters\", 11, \"EuclideanOne\", \"Condorcet\")\n",
        "desired_rules = [\"5BordaSincere\",\n",
        "                 \"5BordaManip\",\n",
        "                 \"BordaSincere\",\n",
        "                 \"BordaManip\",\n",
        "                 \"PluralitySincere\",\n",
        "                 \"PluralityManip\",\n",
        "                 \"HalfBordaSincere\",\n",
        "                 \"HalfBordaManip\",\n",
        "                 \"QuarterBordaSincere\",\n",
        "                 \"QuarterBordaManip\",\n",
        "                 ]\n",
        "visualise(current_scenario, desired_rules, 'Condorcet welfare, Borda family, 1D Euclidean, n = 11')"
      ]
    },
    {
      "cell_type": "code",
      "execution_count": null,
      "metadata": {
        "id": "OOvueo_HicTa"
      },
      "outputs": [],
      "source": [
        "current_scenario = form_file_suffix(10**4, \"Voters\", 11, \"EuclideanOne\", \"Condorcet\")\n",
        "desired_rules = [\"Geometric1p2Sincere\",\n",
        "                 \"Geometric1p2Manip\",\n",
        "                 \"PluralitySincere\",\n",
        "                 \"PluralityManip\",\n",
        "                 \"CopelandSincere\",\n",
        "                 \"CopelandManip\",\n",
        "                 \"SimpsonSincere\",\n",
        "                 \"SimpsonManip\",\n",
        "                 \"HalfApprovalSincere\",\n",
        "                 \"HalfApprovalManip\",\n",
        "                 \"HalfBordaSincere\",\n",
        "                 \"HalfBordaManip\",\n",
        "                 \"BordaSincere\",\n",
        "                 \"BordaManip\",\n",
        "                 \"Geometric0p8Sincere\",\n",
        "                 \"Geometric0p8Manip\"]\n",
        "\n",
        "visualise(current_scenario, desired_rules, 'Condorcet welfare, interesting rules, 1D Euclidean, n = 11')"
      ]
    },
    {
      "cell_type": "markdown",
      "metadata": {
        "id": "_RfQUy5LIffe"
      },
      "source": [
        "## Fixed m"
      ]
    },
    {
      "cell_type": "markdown",
      "metadata": {
        "id": "y6BB2a7eIffe"
      },
      "source": [
        "### 1D Euclidean Borda"
      ]
    },
    {
      "cell_type": "code",
      "execution_count": null,
      "metadata": {
        "id": "STZ28TDNIfff"
      },
      "outputs": [],
      "source": [
        "current_scenario = form_file_suffix(10**4, \"Candidates\", 10, \"EuclideanOne\", \"Borda\")\n",
        "desired_rules = [\n",
        "                 \"Geometric0p8Sincere\",\n",
        "                 \"Geometric0p8Manip\",\n",
        "                 \"Geometric0p5Sincere\",\n",
        "                 \"Geometric0p5Manip\",\n",
        "                 \"Geometric0p65Sincere\",\n",
        "                 \"Geometric0p65Manip\",\n",
        "                 \"BordaSincere\",\n",
        "                 \"BordaManip\",\n",
        "                 \"NashSincere\",\n",
        "                 \"NashManip\",]\n",
        "\n",
        "visualise(current_scenario, desired_rules, 'Borda utility, concave rules, 1D Euclidean, m = 10', truncate_top=20)"
      ]
    },
    {
      "cell_type": "code",
      "execution_count": null,
      "metadata": {
        "id": "P6l_krVgIffg"
      },
      "outputs": [],
      "source": [
        "current_scenario = form_file_suffix(10**4, \"Candidates\", 10, \"EuclideanOne\", \"Borda\")\n",
        "desired_rules = [\"Geometric1p2Sincere\",\n",
        "                 \"Geometric1p2Manip\",\n",
        "                 \"PluralitySincere\",\n",
        "                 \"PluralityManip\",\n",
        "                 \"Geometric1p5Sincere\",\n",
        "                 \"Geometric1p5Manip\",\n",
        "                 \"Geometric2Sincere\",\n",
        "                 \"Geometric2Manip\",\n",
        "                 \"BordaSincere\",\n",
        "                 \"BordaManip\",]\n",
        "\n",
        "visualise(current_scenario, desired_rules, 'Borda utility, convex rules , 1d Euclidean, m = 10', truncate_top=20)"
      ]
    },
    {
      "cell_type": "code",
      "execution_count": null,
      "metadata": {
        "id": "MWVhPJBwIffg"
      },
      "outputs": [],
      "source": [
        "current_scenario = form_file_suffix(10**4, \"Candidates\", 10, \"EuclideanOne\", \"Borda\")\n",
        "desired_rules = [\"5ApprovalSincere\",\n",
        "                 \"5ApprovalManip\",\n",
        "                 \"5BordaSincere\",\n",
        "                 \"5BordaManip\",\n",
        "                 \"BordaSincere\",\n",
        "                 \"BordaManip\",\n",
        "                 \"PluralitySincere\",\n",
        "                 \"PluralityManip\",]\n",
        "visualise(current_scenario, desired_rules, 'Borda utility, abdriged rules, 1D Euclidean, m = 10', truncate_top=20)"
      ]
    },
    {
      "cell_type": "code",
      "execution_count": null,
      "metadata": {
        "id": "eLwNNamZIffh"
      },
      "outputs": [],
      "source": [
        "current_scenario = form_file_suffix(10**4, \"Candidates\", 10, \"EuclideanOne\", \"Borda\")\n",
        "desired_rules = [\"5ApprovalSincere\",\n",
        "                 \"5ApprovalManip\",\n",
        "                 \"Geometric0p8Sincere\",\n",
        "                 \"Geometric0p8Manip\",\n",
        "                 \"BordaSincere\",\n",
        "                 \"BordaManip\",\n",
        "                 \"Geometric1p2Sincere\",\n",
        "                 \"Geometric1p2Manip\",\n",
        "]\n",
        "visualise(current_scenario, desired_rules, 'Borda utility, interesting rules, 1D Euclidean, m = 10', truncate_top=20)"
      ]
    },
    {
      "cell_type": "markdown",
      "metadata": {
        "id": "kCQ4mAi7Iffh"
      },
      "source": [
        "### 1D Euclidean Rawls"
      ]
    },
    {
      "cell_type": "code",
      "execution_count": null,
      "metadata": {
        "id": "R7veawNbIffh"
      },
      "outputs": [],
      "source": [
        "current_scenario = form_file_suffix(10**4, \"Candidates\", 10, \"EuclideanOne\", \"Rawls\")\n",
        "desired_rules = [\n",
        "                 \"Geometric0p8Sincere\",\n",
        "                 \"Geometric0p8Manip\",\n",
        "                 \"Geometric0p5Sincere\",\n",
        "                 \"Geometric0p5Manip\",\n",
        "                 \"Geometric0p65Sincere\",\n",
        "                 \"Geometric0p65Manip\",\n",
        "                 \"BordaSincere\",\n",
        "                 \"BordaManip\",\n",
        "                 \"NashSincere\",\n",
        "                 \"NashManip\",]\n",
        "\n",
        "visualise(current_scenario, desired_rules, 'Rawls utility, concave rules, 1D Euclidean, m = 10', truncate_top=40)"
      ]
    },
    {
      "cell_type": "code",
      "execution_count": null,
      "metadata": {
        "id": "vxZgaMcKIffi"
      },
      "outputs": [],
      "source": [
        "current_scenario = form_file_suffix(10**4, \"Candidates\", 10, \"EuclideanOne\", \"Rawls\")\n",
        "desired_rules = [\"Geometric1p2Sincere\",\n",
        "                 \"Geometric1p2Manip\",\n",
        "                 \"PluralitySincere\",\n",
        "                 \"PluralityManip\",\n",
        "                 \"Geometric1p5Sincere\",\n",
        "                 \"Geometric1p5Manip\",\n",
        "                 \"Geometric2Sincere\",\n",
        "                 \"Geometric2Manip\",\n",
        "                 \"BordaSincere\",\n",
        "                 \"BordaManip\",]\n",
        "\n",
        "visualise(current_scenario, desired_rules, 'Rawls utility, convex rules , 1D Euclidean, m = 10', truncate_top=40)"
      ]
    },
    {
      "cell_type": "code",
      "execution_count": null,
      "metadata": {
        "id": "nCljyV8WIffi"
      },
      "outputs": [],
      "source": [
        "current_scenario = form_file_suffix(10**4, \"Candidates\", 10, \"EuclideanOne\", \"Rawls\")\n",
        "desired_rules = [\"5ApprovalSincere\",\n",
        "                 \"5ApprovalManip\",\n",
        "                 \"5BordaSincere\",\n",
        "                 \"5BordaManip\",\n",
        "                 \"BordaSincere\",\n",
        "                 \"BordaManip\",\n",
        "                 \"PluralitySincere\",\n",
        "                 \"PluralityManip\",]\n",
        "visualise(current_scenario, desired_rules, 'Rawls utility, abdriged rules, 1D Euclidean, m = 10', truncate_top=40)"
      ]
    },
    {
      "cell_type": "code",
      "execution_count": null,
      "metadata": {
        "id": "LAuiHEVAIffi"
      },
      "outputs": [],
      "source": [
        "current_scenario = form_file_suffix(10**4, \"Candidates\", 10, \"EuclideanOne\", \"Rawls\")\n",
        "desired_rules = [\"5ApprovalSincere\",\n",
        "                 \"5ApprovalManip\",\n",
        "                 \"Geometric1p2Sincere\",\n",
        "                 \"Geometric1p2Manip\",\n",
        "                 \"Geometric0p5Sincere\",\n",
        "                 \"Geometric0p5Manip\",\n",
        "                 \"BordaSincere\",\n",
        "                 \"BordaManip\",\n",
        "                 \"PluralitySincere\",\n",
        "                 \"PluralityManip\",]\n",
        "visualise(current_scenario, desired_rules, 'Rawls utility, interesting rules, 1D Euclidean, m = 10', truncate_top=40)"
      ]
    },
    {
      "cell_type": "markdown",
      "metadata": {
        "id": "SknIus9VIffj"
      },
      "source": [
        "### 1D Euclidean Nash"
      ]
    },
    {
      "cell_type": "code",
      "execution_count": null,
      "metadata": {
        "id": "ZH0z76ECIffj"
      },
      "outputs": [],
      "source": [
        "current_scenario = form_file_suffix(10**4, \"Candidates\", 10, \"EuclideanOne\", \"Nash\")\n",
        "desired_rules = [\n",
        "                 \"Geometric0p8Sincere\",\n",
        "                 \"Geometric0p8Manip\",\n",
        "                 \"Geometric0p5Sincere\",\n",
        "                 \"Geometric0p5Manip\",\n",
        "                 \"Geometric0p65Sincere\",\n",
        "                 \"Geometric0p65Manip\",\n",
        "                 \"BordaSincere\",\n",
        "                 \"BordaManip\",\n",
        "                 \"NashSincere\",\n",
        "                 \"NashManip\",]\n",
        "\n",
        "visualise(current_scenario, desired_rules, 'Nash utility, concave rules, 1D Euclidean, m = 10', truncate_top=30)"
      ]
    },
    {
      "cell_type": "code",
      "execution_count": null,
      "metadata": {
        "id": "2U-pctSqIffj"
      },
      "outputs": [],
      "source": [
        "current_scenario = form_file_suffix(10**4, \"Candidates\", 10, \"EuclideanOne\", \"Nash\")\n",
        "desired_rules = [\"Geometric1p2Sincere\",\n",
        "                 \"Geometric1p2Manip\",\n",
        "                 \"PluralitySincere\",\n",
        "                 \"PluralityManip\",\n",
        "                 \"Geometric1p5Sincere\",\n",
        "                 \"Geometric1p5Manip\",\n",
        "                 \"Geometric2Sincere\",\n",
        "                 \"Geometric2Manip\",\n",
        "                 \"BordaSincere\",\n",
        "                 \"BordaManip\",]\n",
        "\n",
        "visualise(current_scenario, desired_rules, 'Nash utility, convex rules , 1D Euclidean, m = 10', truncate_top=30)"
      ]
    },
    {
      "cell_type": "code",
      "execution_count": null,
      "metadata": {
        "id": "mZ28SKxlIffk"
      },
      "outputs": [],
      "source": [
        "current_scenario = form_file_suffix(10**4, \"Candidates\", 10, \"EuclideanOne\", \"Nash\")\n",
        "desired_rules = [\"5ApprovalSincere\",\n",
        "                 \"5ApprovalManip\",\n",
        "                 \"5BordaSincere\",\n",
        "                 \"5BordaManip\",\n",
        "                 \"BordaSincere\",\n",
        "                 \"BordaManip\",\n",
        "                 \"PluralitySincere\",\n",
        "                 \"PluralityManip\",]\n",
        "visualise(current_scenario, desired_rules, 'Nash utility, abdriged rules, 1D Euclidean, m = 10', truncate_top=30)"
      ]
    },
    {
      "cell_type": "code",
      "execution_count": null,
      "metadata": {
        "id": "ZzgCNDiWIffk"
      },
      "outputs": [],
      "source": [
        "current_scenario = form_file_suffix(10**4, \"Candidates\", 10, \"EuclideanOne\", \"Nash\")\n",
        "desired_rules = [\"5ApprovalSincere\",\n",
        "                 \"5ApprovalManip\",\n",
        "                 \"Geometric0p8Sincere\",\n",
        "                 \"Geometric0p8Manip\",\n",
        "                 \"Geometric1p2Sincere\",\n",
        "                 \"Geometric1p2Manip\",\n",
        "                 \"BordaSincere\",\n",
        "                 \"BordaManip\",\n",
        "                 \"PluralitySincere\",\n",
        "                 \"PluralityManip\",]\n",
        "visualise(current_scenario, desired_rules, 'Nash utility, interesting rules, 1D Euclidean, m = 10', truncate_top=30)"
      ]
    },
    {
      "cell_type": "markdown",
      "metadata": {
        "id": "usgKYkdj5To7"
      },
      "source": [
        "# 2D Euclidean\n"
      ]
    },
    {
      "cell_type": "markdown",
      "metadata": {
        "id": "LMaTexHVJ_a8"
      },
      "source": [
        "## Fixed n"
      ]
    },
    {
      "cell_type": "markdown",
      "metadata": {
        "id": "VpjgiSXN77p-"
      },
      "source": [
        "### 2D Euclidean, Borda"
      ]
    },
    {
      "cell_type": "code",
      "execution_count": null,
      "metadata": {
        "id": "l6kM9CZ97Uqw"
      },
      "outputs": [],
      "source": [
        "current_scenario = form_file_suffix(10**4, \"Voters\", 11, \"EuclideanTwo\", \"Borda\")\n",
        "desired_rules = [\n",
        "                 \"Geometric0p8Sincere\",\n",
        "                 \"Geometric0p8Manip\",\n",
        "                 \"Geometric0p5Sincere\",\n",
        "                 \"Geometric0p5Manip\",\n",
        "                  \"GenAntipSincere\",\n",
        "                 \"GenAntipManip\",\n",
        "                 \"Geometric0p65Sincere\",\n",
        "                 \"Geometric0p65Manip\",\n",
        "                 \"BordaSincere\",\n",
        "                 \"BordaManip\",\n",
        "                 \"NashSincere\",\n",
        "                 \"NashManip\",]\n",
        "\n",
        "visualise(current_scenario, desired_rules, 'Borda welfare, concave rules, 2D Euclidean, n = 11')"
      ]
    },
    {
      "cell_type": "code",
      "execution_count": null,
      "metadata": {
        "id": "MUe70t9m7YaS"
      },
      "outputs": [],
      "source": [
        "current_scenario = form_file_suffix(10**4, \"Voters\", 11, \"EuclideanTwo\", \"Borda\")\n",
        "desired_rules = [\"Geometric1p2Sincere\",\n",
        "                 \"Geometric1p2Manip\",\n",
        "                 \"PluralitySincere\",\n",
        "                 \"PluralityManip\",\n",
        "                  \"GenPlurSincere\",\n",
        "                 \"GenPlurManip\",\n",
        "                 \"Geometric1p5Sincere\",\n",
        "                 \"Geometric1p5Manip\",\n",
        "                 \"Geometric2Sincere\",\n",
        "                 \"Geometric2Manip\",\n",
        "                 \"BordaSincere\",\n",
        "                 \"BordaManip\",]\n",
        "\n",
        "visualise(current_scenario, desired_rules, 'Borda welfare, convex rules , 2D Euclidean, n = 11')"
      ]
    },
    {
      "cell_type": "code",
      "execution_count": null,
      "metadata": {
        "id": "SlgQ-iUpwoaq"
      },
      "outputs": [],
      "source": [
        "current_scenario = form_file_suffix(10**4, \"Voters\", 11, \"EuclideanTwo\", \"Borda\")\n",
        "desired_rules = [\"5ApprovalSincere\",\n",
        "                 \"5ApprovalManip\",\n",
        "                 \"PluralitySincere\",\n",
        "                 \"PluralityManip\",\n",
        "                 \"AntipSincere\",\n",
        "                 \"AntipManip\",\n",
        "                 \"HalfApprovalSincere\",\n",
        "                 \"HalfApprovalManip\",\n",
        "                 \"QuarterApprovalSincere\",\n",
        "                 \"QuarterApprovalManip\"]\n",
        "visualise(current_scenario, desired_rules, 'Borda welfare, approval family, 2D Euclidean, n = 11')"
      ]
    },
    {
      "cell_type": "code",
      "execution_count": null,
      "metadata": {
        "id": "C1TaDilPwwF4"
      },
      "outputs": [],
      "source": [
        "current_scenario = form_file_suffix(10**4, \"Voters\", 11, \"EuclideanTwo\", \"Borda\")\n",
        "desired_rules = [\"5BordaSincere\",\n",
        "                 \"5BordaManip\",\n",
        "                 \"BordaSincere\",\n",
        "                 \"BordaManip\",\n",
        "                 \"PluralitySincere\",\n",
        "                 \"PluralityManip\",\n",
        "                 \"HalfBordaSincere\",\n",
        "                 \"HalfBordaManip\",\n",
        "                 \"QuarterBordaSincere\",\n",
        "                 \"QuarterBordaManip\",\n",
        "                 ]\n",
        "visualise(current_scenario, desired_rules, 'Borda welfare, Borda family, 2D Euclidean, n = 11')"
      ]
    },
    {
      "cell_type": "code",
      "execution_count": null,
      "metadata": {
        "id": "P2mx6oYL72Ig"
      },
      "outputs": [],
      "source": [
        "current_scenario = form_file_suffix(10**4, \"Voters\", 11, \"EuclideanTwo\", \"Borda\")\n",
        "desired_rules = [\"Geometric0p8Sincere\",\n",
        "                 \"Geometric0p8Manip\",\n",
        "                 \"Geometric1p2Sincere\",\n",
        "                 \"Geometric1p2Manip\",\n",
        "                 \"HalfBordaSincere\",\n",
        "                 \"HalfBordaManip\",\n",
        "                 \"HalfApprovalSincere\",\n",
        "                 \"HalfApprovalManip\",\n",
        "                 \"QuarterApprovalSincere\",\n",
        "                 \"QuarterApprovalManip\",\n",
        "                 \"CopelandSincere\",\n",
        "                 \"CopelandManip\",\n",
        "                 \"SimpsonSincere\",\n",
        "                 \"SimpsonManip\",]\n",
        "visualise(current_scenario, desired_rules, 'Borda welfare, interesting rules, 2D Euclidean, n = 11',truncate_bottom=10)"
      ]
    },
    {
      "cell_type": "markdown",
      "metadata": {
        "id": "mnCgZvIC9FHu"
      },
      "source": [
        "### 2D Euclidean, Rawls"
      ]
    },
    {
      "cell_type": "code",
      "execution_count": null,
      "metadata": {
        "id": "32Mx8W039V1F"
      },
      "outputs": [],
      "source": [
        "current_scenario = form_file_suffix(10**4, \"Voters\", 11, \"EuclideanTwo\", \"Rawls\")\n",
        "desired_rules = [\n",
        "                 \"GenAntipSincere\",\n",
        "                 \"GenAntipManip\",\n",
        "                 \"Geometric0p8Sincere\",\n",
        "                 \"Geometric0p8Manip\",\n",
        "                 \"Geometric0p5Sincere\",\n",
        "                 \"Geometric0p5Manip\",\n",
        "                 \"Geometric0p65Sincere\",\n",
        "                 \"Geometric0p65Manip\",\n",
        "                 \"BordaSincere\",\n",
        "                 \"BordaManip\",\n",
        "                 \"NashSincere\",\n",
        "                 \"NashManip\",]\n",
        "\n",
        "visualise(current_scenario, desired_rules, 'Rawls welfare, concave rules, 2D Euclidean, n = 11')"
      ]
    },
    {
      "cell_type": "code",
      "execution_count": null,
      "metadata": {
        "id": "BxIhngud9V1G"
      },
      "outputs": [],
      "source": [
        "current_scenario = form_file_suffix(10**4, \"Voters\", 11, \"EuclideanTwo\", \"Rawls\")\n",
        "desired_rules = [\"Geometric1p2Sincere\",\n",
        "                 \"Geometric1p2Manip\",\n",
        "                 \"PluralitySincere\",\n",
        "                 \"PluralityManip\",\n",
        "                 \"GenPlurSincere\",\n",
        "                 \"GenPlurManip\",\n",
        "                 \"Geometric1p5Sincere\",\n",
        "                 \"Geometric1p5Manip\",\n",
        "                 \"Geometric2Sincere\",\n",
        "                 \"Geometric2Manip\",\n",
        "                 \"BordaSincere\",\n",
        "                 \"BordaManip\",]\n",
        "\n",
        "visualise(current_scenario, desired_rules, 'Rawls welfare, convex rules , 2D Euclidean, n = 11')"
      ]
    },
    {
      "cell_type": "code",
      "execution_count": null,
      "metadata": {
        "id": "Cl3bNIOTkEld"
      },
      "outputs": [],
      "source": [
        "current_scenario = form_file_suffix(10**4, \"Voters\", 11, \"EuclideanTwo\", \"Rawls\")\n",
        "desired_rules = [\"5ApprovalSincere\",\n",
        "                 \"5ApprovalManip\",\n",
        "                 \"PluralitySincere\",\n",
        "                 \"PluralityManip\",\n",
        "                 \"AntipSincere\",\n",
        "                 \"AntipManip\",\n",
        "                 \"HalfApprovalSincere\",\n",
        "                 \"HalfApprovalManip\",\n",
        "                 \"QuarterApprovalSincere\",\n",
        "                 \"QuarterApprovalManip\"]\n",
        "visualise(current_scenario, desired_rules, 'Rawls welfare, approval family, 2D Euclidean, n = 11')"
      ]
    },
    {
      "cell_type": "code",
      "execution_count": null,
      "metadata": {
        "id": "p66g1HcTkHb1"
      },
      "outputs": [],
      "source": [
        "current_scenario = form_file_suffix(10**4, \"Voters\", 11, \"EuclideanTwo\", \"Rawls\")\n",
        "desired_rules = [\"5BordaSincere\",\n",
        "                 \"5BordaManip\",\n",
        "                 \"BordaSincere\",\n",
        "                 \"BordaManip\",\n",
        "                 \"PluralitySincere\",\n",
        "                 \"PluralityManip\",\n",
        "                 \"HalfBordaSincere\",\n",
        "                 \"HalfBordaManip\",\n",
        "                 \"QuarterBordaSincere\",\n",
        "                 \"QuarterBordaManip\",\n",
        "                 ]\n",
        "visualise(current_scenario, desired_rules, 'Rawls welfare, Borda family, 2D Euclidean, n = 11')"
      ]
    },
    {
      "cell_type": "code",
      "execution_count": null,
      "metadata": {
        "id": "n04dB6fe9V1H"
      },
      "outputs": [],
      "source": [
        "current_scenario = form_file_suffix(10**4, \"Voters\", 11, \"EuclideanTwo\", \"Rawls\")\n",
        "desired_rules = [\"Geometric1p2Sincere\",\n",
        "                 \"Geometric1p2Manip\",\n",
        "                 \"Geometric0p8Sincere\",\n",
        "                 \"Geometric0p5Manip\",\n",
        "                 \"BordaSincere\",\n",
        "                 \"BordaManip\",\n",
        "                 \"PluralitySincere\",\n",
        "                 \"PluralityManip\",\n",
        "                 \"HalfApprovalSincere\",\n",
        "                 \"HalfApprovalManip\",\n",
        "                 \"CopelandSincere\",\n",
        "                 \"CopelandManip\",\n",
        "                 \"SimpsonSincere\",\n",
        "                 \"SimpsonManip\",\n",
        "                 ]\n",
        "visualise(current_scenario, desired_rules, 'Rawls welfare, interesting rules, 2D Euclidean, n = 11')"
      ]
    },
    {
      "cell_type": "markdown",
      "metadata": {
        "id": "uAsLP9Tw99PN"
      },
      "source": [
        "### 2D Euclidean Nash"
      ]
    },
    {
      "cell_type": "code",
      "execution_count": null,
      "metadata": {
        "id": "fY4YPApf99PO"
      },
      "outputs": [],
      "source": [
        "current_scenario = form_file_suffix(10**4, \"Voters\", 11, \"EuclideanTwo\", \"Nash\")\n",
        "desired_rules = [\n",
        "                 \"Geometric0p8Sincere\",\n",
        "                 \"Geometric0p8Manip\",\n",
        "                 \"Geometric0p5Sincere\",\n",
        "                 \"Geometric0p5Manip\",\n",
        "                 \"Geometric0p65Sincere\",\n",
        "                 \"Geometric0p65Manip\",\n",
        "                 \"GenAntipSincere\",\n",
        "                 \"GenAntipManip\",\n",
        "                 \"BordaSincere\",\n",
        "                 \"BordaManip\",\n",
        "                 \"NashSincere\",\n",
        "                 \"NashManip\",]\n",
        "\n",
        "visualise(current_scenario, desired_rules, 'Nash welfare, concave rules, 2D Euclidean, n = 11')"
      ]
    },
    {
      "cell_type": "code",
      "execution_count": null,
      "metadata": {
        "id": "Q7ZS8B0J99PP"
      },
      "outputs": [],
      "source": [
        "current_scenario = form_file_suffix(10**4, \"Voters\", 11, \"EuclideanTwo\", \"Nash\")\n",
        "desired_rules = [\"Geometric1p2Sincere\",\n",
        "                 \"Geometric1p2Manip\",\n",
        "                 \"PluralitySincere\",\n",
        "                 \"PluralityManip\",\n",
        "                 \"GenPlurSincere\",\n",
        "                 \"GenPlurManip\",\n",
        "                 \"Geometric1p5Sincere\",\n",
        "                 \"Geometric1p5Manip\",\n",
        "                 \"Geometric2Sincere\",\n",
        "                 \"Geometric2Manip\",\n",
        "                 \"BordaSincere\",\n",
        "                 \"BordaManip\",]\n",
        "\n",
        "visualise(current_scenario, desired_rules, 'Nash welfare, convex rules , 2D Euclidean, n = 11')"
      ]
    },
    {
      "cell_type": "code",
      "execution_count": null,
      "metadata": {
        "id": "nC914Illk-Xi"
      },
      "outputs": [],
      "source": [
        "current_scenario = form_file_suffix(10**4, \"Voters\", 11, \"EuclideanTwo\", \"Nash\")\n",
        "desired_rules = [\"5ApprovalSincere\",\n",
        "                 \"5ApprovalManip\",\n",
        "                 \"AntipSincere\",\n",
        "                 \"AntipManip\",\n",
        "                 \"PluralitySincere\",\n",
        "                 \"PluralityManip\",\n",
        "                 \"HalfApprovalSincere\",\n",
        "                 \"HalfApprovalManip\",\n",
        "                 \"QuarterApprovalSincere\",\n",
        "                 \"QuarterApprovalManip\"]\n",
        "visualise(current_scenario, desired_rules, 'Nash welfare, approval family, 2D Euclidean, n = 11')"
      ]
    },
    {
      "cell_type": "code",
      "execution_count": null,
      "metadata": {
        "id": "dUZI2j3mlA00"
      },
      "outputs": [],
      "source": [
        "current_scenario = form_file_suffix(10**4, \"Voters\", 11, \"EuclideanTwo\", \"Nash\")\n",
        "desired_rules = [\"5BordaSincere\",\n",
        "                 \"5BordaManip\",\n",
        "                 \"BordaSincere\",\n",
        "                 \"BordaManip\",\n",
        "                 \"PluralitySincere\",\n",
        "                 \"PluralityManip\",\n",
        "                 \"HalfBordaSincere\",\n",
        "                 \"HalfBordaManip\",\n",
        "                 \"QuarterBordaSincere\",\n",
        "                 \"QuarterBordaManip\",\n",
        "                 ]\n",
        "visualise(current_scenario, desired_rules, 'Nash welfare, Borda family, 2D Euclidean, n = 11')"
      ]
    },
    {
      "cell_type": "code",
      "execution_count": null,
      "metadata": {
        "id": "hPg8Ti7o99PQ"
      },
      "outputs": [],
      "source": [
        "current_scenario = form_file_suffix(10**4, \"Voters\", 11, \"EuclideanTwo\", \"Nash\")\n",
        "desired_rules = [\"NashSincere\",\n",
        "                 \"NashManip\",\n",
        "                 \"Geometric1p2Sincere\",\n",
        "                 \"Geometric1p2Manip\",\n",
        "                 \"BordaSincere\",\n",
        "                 \"BordaManip\",\n",
        "                 \"PluralitySincere\",\n",
        "                 \"PluralityManip\",\n",
        "                 \"HalfApprovalSincere\",\n",
        "                 \"HalfApprovalManip\",\n",
        "                 \"CopelandSincere\",\n",
        "                 \"CopelandManip\",\n",
        "                 \"SimpsonSincere\",\n",
        "                 \"SimpsonManip\",]\n",
        "visualise(current_scenario, desired_rules, 'Nash welfare, interesting rules, 2D Euclidean, n = 11', truncate_bottom=2)"
      ]
    },
    {
      "cell_type": "markdown",
      "metadata": {
        "id": "jZk5Qgyv42oB"
      },
      "source": [
        "### 2D Euclidean Condorcet"
      ]
    },
    {
      "cell_type": "code",
      "execution_count": null,
      "metadata": {
        "id": "m8F5QuTb42oS"
      },
      "outputs": [],
      "source": [
        "current_scenario = form_file_suffix(10**4, \"Voters\", 11, \"EuclideanTwo\", \"Condorcet\")\n",
        "desired_rules = [\n",
        "                 \"Geometric0p8Sincere\",\n",
        "                 \"Geometric0p8Manip\",\n",
        "                 \"Geometric0p5Sincere\",\n",
        "                 \"Geometric0p5Manip\",\n",
        "                 \"Geometric0p65Sincere\",\n",
        "                 \"Geometric0p65Manip\",\n",
        "                 \"GenAntipSincere\",\n",
        "                 \"GenAntipManip\",\n",
        "                 \"BordaSincere\",\n",
        "                 \"BordaManip\",\n",
        "                 \"NashSincere\",\n",
        "                 \"NashManip\",\n",
        "                 ]\n",
        "\n",
        "visualise(current_scenario, desired_rules, 'Condorcet welfare, concave rules, 2D Euclidean, n = 11')"
      ]
    },
    {
      "cell_type": "code",
      "execution_count": null,
      "metadata": {
        "id": "YSaPSid042ob"
      },
      "outputs": [],
      "source": [
        "current_scenario = form_file_suffix(10**4, \"Voters\", 11, \"EuclideanTwo\", \"Condorcet\")\n",
        "desired_rules = [\"Geometric1p2Sincere\",\n",
        "                 \"Geometric1p2Manip\",\n",
        "                 \"PluralitySincere\",\n",
        "                 \"PluralityManip\",\n",
        "                 \"GenPlurSincere\",\n",
        "                 \"GenPlurManip\",\n",
        "                 \"Geometric1p5Sincere\",\n",
        "                 \"Geometric1p5Manip\",\n",
        "                 \"Geometric2Sincere\",\n",
        "                 \"Geometric2Manip\",\n",
        "                 \"BordaSincere\",\n",
        "                 \"BordaManip\",]\n",
        "\n",
        "visualise(current_scenario, desired_rules, 'Condorcet welfare, convex rules , 2D Euclidean, n = 11')"
      ]
    },
    {
      "cell_type": "code",
      "execution_count": null,
      "metadata": {
        "id": "RkkQzTIJ42oc"
      },
      "outputs": [],
      "source": [
        "current_scenario = form_file_suffix(10**4, \"Voters\", 11, \"EuclideanTwo\", \"Condorcet\")\n",
        "desired_rules = [\"5ApprovalSincere\",\n",
        "                 \"5ApprovalManip\",\n",
        "                 \"PluralitySincere\",\n",
        "                 \"PluralityManip\",\n",
        "                 \"AntipSincere\",\n",
        "                 \"AntipManip\",\n",
        "                 \"HalfApprovalSincere\",\n",
        "                 \"HalfApprovalManip\",\n",
        "                 \"QuarterApprovalSincere\",\n",
        "                 \"QuarterApprovalManip\"]\n",
        "visualise(current_scenario, desired_rules, 'Condorcet welfare, approval family, 2D Euclidean, n = 11')"
      ]
    },
    {
      "cell_type": "code",
      "execution_count": null,
      "metadata": {
        "id": "OyLUGGJm42oc"
      },
      "outputs": [],
      "source": [
        "current_scenario = form_file_suffix(10**4, \"Voters\", 11, \"EuclideanTwo\", \"Condorcet\")\n",
        "desired_rules = [\"5BordaSincere\",\n",
        "                 \"5BordaManip\",\n",
        "                 \"BordaSincere\",\n",
        "                 \"BordaManip\",\n",
        "                 \"PluralitySincere\",\n",
        "                 \"PluralityManip\",\n",
        "                 \"HalfBordaSincere\",\n",
        "                 \"HalfBordaManip\",\n",
        "                 \"QuarterBordaSincere\",\n",
        "                 \"QuarterBordaManip\",\n",
        "                 ]\n",
        "visualise(current_scenario, desired_rules, 'Condorcet welfare, Borda family, 2D Euclidean, n = 11')"
      ]
    },
    {
      "cell_type": "code",
      "execution_count": null,
      "metadata": {
        "id": "QfQM_Dem42oc"
      },
      "outputs": [],
      "source": [
        "current_scenario = form_file_suffix(10**4, \"Voters\", 11, \"EuclideanTwo\", \"Condorcet\")\n",
        "desired_rules = [\"Geometric1p2Sincere\",\n",
        "                 \"Geometric1p2Manip\",\n",
        "                 \"PluralitySincere\",\n",
        "                 \"PluralityManip\",\n",
        "                 \"CopelandSincere\",\n",
        "                 \"CopelandManip\",\n",
        "                 \"SimpsonSincere\",\n",
        "                 \"SimpsonManip\",\n",
        "                 \"HalfApprovalSincere\",\n",
        "                 \"HalfApprovalManip\",\n",
        "                 \"HalfBordaSincere\",\n",
        "                 \"HalfBordaManip\",\n",
        "                 \"BordaSincere\",\n",
        "                 \"BordaManip\",\n",
        "                 \"Geometric0p8Sincere\",\n",
        "                 \"Geometric0p8Manip\"]\n",
        "\n",
        "visualise(current_scenario, desired_rules, 'Condorcet welfare, interesting rules, 2D Euclidean, n = 11')"
      ]
    },
    {
      "cell_type": "markdown",
      "metadata": {
        "id": "ZA_heqmEKDuO"
      },
      "source": [
        "## Fixed m"
      ]
    },
    {
      "cell_type": "markdown",
      "metadata": {
        "id": "RSTmDcfUKDuP"
      },
      "source": [
        "### 2D Euclidean, Borda"
      ]
    },
    {
      "cell_type": "code",
      "execution_count": null,
      "metadata": {
        "id": "qmGgST35KDuP"
      },
      "outputs": [],
      "source": [
        "current_scenario = form_file_suffix(10**4, \"Candidates\", 10, \"EuclideanTwo\", \"Borda\")\n",
        "desired_rules = [\n",
        "                 \"Geometric0p8Sincere\",\n",
        "                 \"Geometric0p8Manip\",\n",
        "                 \"Geometric0p5Sincere\",\n",
        "                 \"Geometric0p5Manip\",\n",
        "                 \"Geometric0p65Sincere\",\n",
        "                 \"Geometric0p65Manip\",\n",
        "                 \"BordaSincere\",\n",
        "                 \"BordaManip\",\n",
        "                 \"NashSincere\",\n",
        "                 \"NashManip\",]\n",
        "\n",
        "visualise(current_scenario, desired_rules, 'Borda utility, concave rules, 2D Euclidean, m = 10', truncate_top=40)"
      ]
    },
    {
      "cell_type": "code",
      "execution_count": null,
      "metadata": {
        "id": "FqCy2AJ_KDuQ"
      },
      "outputs": [],
      "source": [
        "current_scenario = form_file_suffix(10**4, \"Candidates\", 10, \"EuclideanTwo\", \"Borda\")\n",
        "desired_rules = [\"Geometric1p2Sincere\",\n",
        "                 \"Geometric1p2Manip\",\n",
        "                 \"PluralitySincere\",\n",
        "                 \"PluralityManip\",\n",
        "                 \"Geometric1p5Sincere\",\n",
        "                 \"Geometric1p5Manip\",\n",
        "                 \"Geometric2Sincere\",\n",
        "                 \"Geometric2Manip\",\n",
        "                 \"BordaSincere\",\n",
        "                 \"BordaManip\",]\n",
        "\n",
        "visualise(current_scenario, desired_rules, 'Borda utility, convex rules , 2D Euclidean, m = 10', truncate_top=40)"
      ]
    },
    {
      "cell_type": "code",
      "execution_count": null,
      "metadata": {
        "id": "gTAegy4eKDuQ"
      },
      "outputs": [],
      "source": [
        "current_scenario = form_file_suffix(10**4, \"Candidates\", 10, \"EuclideanTwo\", \"Borda\")\n",
        "desired_rules = [\"5ApprovalSincere\",\n",
        "                 \"5ApprovalManip\",\n",
        "                 \"5BordaSincere\",\n",
        "                 \"5BordaManip\",\n",
        "                 \"BordaSincere\",\n",
        "                 \"BordaManip\",\n",
        "                 \"PluralitySincere\",\n",
        "                 \"PluralityManip\",]\n",
        "visualise(current_scenario, desired_rules, 'Borda utility, abdriged rules, 2D Euclidean, m = 10', truncate_top=40)"
      ]
    },
    {
      "cell_type": "code",
      "execution_count": null,
      "metadata": {
        "id": "07EBVG0zKDuR"
      },
      "outputs": [],
      "source": [
        "current_scenario = form_file_suffix(10**4, \"Candidates\", 10, \"EuclideanTwo\", \"Borda\")\n",
        "desired_rules = [\"Geometric0p8Sincere\",\n",
        "                 \"Geometric0p8Manip\",\n",
        "                 \"Geometric1p2Sincere\",\n",
        "                 \"Geometric1p2Manip\",\n",
        "                 \"BordaSincere\",\n",
        "                 \"BordaManip\",\n",
        "                 \"PluralitySincere\",\n",
        "                 \"PluralityManip\",]\n",
        "visualise(current_scenario, desired_rules, 'Borda utility, interesting rules, 2D Euclidean, m = 10', truncate_top=40)"
      ]
    },
    {
      "cell_type": "markdown",
      "metadata": {
        "id": "9quxwE8oKDuR"
      },
      "source": [
        "### 2D Euclidean, Rawls"
      ]
    },
    {
      "cell_type": "code",
      "execution_count": null,
      "metadata": {
        "id": "ZFr8rjN-KDuR"
      },
      "outputs": [],
      "source": [
        "current_scenario = form_file_suffix(10**4, \"Candidates\", 10, \"EuclideanTwo\", \"Rawls\")\n",
        "desired_rules = [\n",
        "                 \"Geometric0p8Sincere\",\n",
        "                 \"Geometric0p8Manip\",\n",
        "                 \"Geometric0p5Sincere\",\n",
        "                 \"Geometric0p5Manip\",\n",
        "                 \"Geometric0p65Sincere\",\n",
        "                 \"Geometric0p65Manip\",\n",
        "                 \"BordaSincere\",\n",
        "                 \"BordaManip\",\n",
        "                 \"NashSincere\",\n",
        "                 \"NashManip\",]\n",
        "\n",
        "visualise(current_scenario, desired_rules, 'Rawls utility, concave rules, 2D Euclidean, m = 10', truncate_top=40)"
      ]
    },
    {
      "cell_type": "code",
      "execution_count": null,
      "metadata": {
        "id": "Etn0n-SMKDuS"
      },
      "outputs": [],
      "source": [
        "current_scenario = form_file_suffix(10**4, \"Candidates\", 10, \"EuclideanTwo\", \"Rawls\")\n",
        "desired_rules = [\"Geometric1p2Sincere\",\n",
        "                 \"Geometric1p2Manip\",\n",
        "                 \"PluralitySincere\",\n",
        "                 \"PluralityManip\",\n",
        "                 \"Geometric1p5Sincere\",\n",
        "                 \"Geometric1p5Manip\",\n",
        "                 \"Geometric2Sincere\",\n",
        "                 \"Geometric2Manip\",\n",
        "                 \"BordaSincere\",\n",
        "                 \"BordaManip\",]\n",
        "\n",
        "visualise(current_scenario, desired_rules, 'Rawls utility, convex rules , 2D Euclidean, m = 10', truncate_top=40)"
      ]
    },
    {
      "cell_type": "code",
      "execution_count": null,
      "metadata": {
        "id": "L9AoG9JbKDuS"
      },
      "outputs": [],
      "source": [
        "current_scenario = form_file_suffix(10**4, \"Candidates\", 10, \"EuclideanTwo\", \"Rawls\")\n",
        "desired_rules = [\"5ApprovalSincere\",\n",
        "                 \"5ApprovalManip\",\n",
        "                 \"5BordaSincere\",\n",
        "                 \"5BordaManip\",\n",
        "                 \"BordaSincere\",\n",
        "                 \"BordaManip\",\n",
        "                 \"PluralitySincere\",\n",
        "                 \"PluralityManip\",]\n",
        "visualise(current_scenario, desired_rules, 'Rawls utility, abdriged rules, 2D Euclidean, m = 10', truncate_top=40)"
      ]
    },
    {
      "cell_type": "code",
      "execution_count": null,
      "metadata": {
        "id": "F1xzizh3KDuS"
      },
      "outputs": [],
      "source": [
        "current_scenario = form_file_suffix(10**4, \"Candidates\", 10, \"EuclideanTwo\", \"Rawls\")\n",
        "desired_rules = [\"5ApprovalSincere\",\n",
        "                 \"5ApprovalManip\",\n",
        "                 \"Geometric1p2Sincere\",\n",
        "                 \"Geometric1p2Manip\",\n",
        "                 \"Geometric0p8Sincere\",\n",
        "                 \"Geometric0p8Manip\",\n",
        "                 \"BordaSincere\",\n",
        "                 \"BordaManip\",\n",
        "                 \"PluralitySincere\",\n",
        "                 \"PluralityManip\",]\n",
        "visualise(current_scenario, desired_rules, 'Rawls utility, interesting rules, 2D Euclidean, m = 10', truncate_top=40)"
      ]
    },
    {
      "cell_type": "markdown",
      "metadata": {
        "id": "alPxwniCKDuT"
      },
      "source": [
        "### 2D Euclidean Nash"
      ]
    },
    {
      "cell_type": "code",
      "execution_count": null,
      "metadata": {
        "id": "pfrg3NZWKDuT"
      },
      "outputs": [],
      "source": [
        "current_scenario = form_file_suffix(10**4, \"Candidates\", 10, \"EuclideanTwo\", \"Nash\")\n",
        "desired_rules = [\n",
        "                 \"Geometric0p8Sincere\",\n",
        "                 \"Geometric0p8Manip\",\n",
        "                 \"Geometric0p5Sincere\",\n",
        "                 \"Geometric0p5Manip\",\n",
        "                 \"Geometric0p65Sincere\",\n",
        "                 \"Geometric0p65Manip\",\n",
        "                 \"BordaSincere\",\n",
        "                 \"BordaManip\",\n",
        "                 \"NashSincere\",\n",
        "                 \"NashManip\",]\n",
        "\n",
        "visualise(current_scenario, desired_rules, 'Nash utility, concave rules, 2D Euclidean, m = 10', truncate_top=30)"
      ]
    },
    {
      "cell_type": "code",
      "execution_count": null,
      "metadata": {
        "id": "WR9mU87nKDuT"
      },
      "outputs": [],
      "source": [
        "current_scenario = form_file_suffix(10**4, \"Candidates\", 10, \"EuclideanTwo\", \"Nash\")\n",
        "desired_rules = [\"Geometric1p2Sincere\",\n",
        "                 \"Geometric1p2Manip\",\n",
        "                 \"PluralitySincere\",\n",
        "                 \"PluralityManip\",\n",
        "                 \"Geometric1p5Sincere\",\n",
        "                 \"Geometric1p5Manip\",\n",
        "                 \"Geometric2Sincere\",\n",
        "                 \"Geometric2Manip\",\n",
        "                 \"BordaSincere\",\n",
        "                 \"BordaManip\",]\n",
        "\n",
        "visualise(current_scenario, desired_rules, 'Nash utility, convex rules , 2D Euclidean, m = 10', truncate_top=30)"
      ]
    },
    {
      "cell_type": "code",
      "execution_count": null,
      "metadata": {
        "id": "deKnVx6YKDuU"
      },
      "outputs": [],
      "source": [
        "current_scenario = form_file_suffix(10**4, \"Candidates\", 10, \"EuclideanTwo\", \"Nash\")\n",
        "desired_rules = [\"5ApprovalSincere\",\n",
        "                 \"5ApprovalManip\",\n",
        "                 \"5BordaSincere\",\n",
        "                 \"5BordaManip\",\n",
        "                 \"BordaSincere\",\n",
        "                 \"BordaManip\",\n",
        "                 \"PluralitySincere\",\n",
        "                 \"PluralityManip\",]\n",
        "visualise(current_scenario, desired_rules, 'Nash utility, abdriged rules, 2D Euclidean, m = 10', truncate_top=30)"
      ]
    },
    {
      "cell_type": "code",
      "execution_count": null,
      "metadata": {
        "id": "7k906jnpKDuU"
      },
      "outputs": [],
      "source": [
        "current_scenario = form_file_suffix(10**4, \"Candidates\", 10, \"EuclideanTwo\", \"Nash\")\n",
        "desired_rules = [\"5ApprovalSincere\",\n",
        "                 \"5ApprovalManip\",\n",
        "                 \"Geometric0p8Sincere\",\n",
        "                 \"Geometric0p8Manip\",\n",
        "                 \"Geometric1p2Sincere\",\n",
        "                 \"Geometric1p2Manip\",\n",
        "                 \"BordaSincere\",\n",
        "                 \"BordaManip\",\n",
        "                 \"PluralitySincere\",\n",
        "                 \"PluralityManip\",]\n",
        "visualise(current_scenario, desired_rules, 'Nash utility, interesting rules, 2D Euclidean, m = 10', truncate_top=30)"
      ]
    },
    {
      "cell_type": "markdown",
      "metadata": {
        "id": "mIxhdTGmA61Y"
      },
      "source": [
        "# 5D Euclidean\n"
      ]
    },
    {
      "cell_type": "markdown",
      "metadata": {
        "id": "MdduPh73LpzR"
      },
      "source": [
        "## Fixed n"
      ]
    },
    {
      "cell_type": "markdown",
      "metadata": {
        "id": "1zF2qdkhA61h"
      },
      "source": [
        "### 5D Euclidean, Borda"
      ]
    },
    {
      "cell_type": "code",
      "execution_count": null,
      "metadata": {
        "id": "sTZ-uvRcA61h"
      },
      "outputs": [],
      "source": [
        "current_scenario = form_file_suffix(10**4, \"Voters\", 11, \"EuclideanFive\", \"Borda\")\n",
        "desired_rules = [\n",
        "                 \"Geometric0p8Sincere\",\n",
        "                 \"Geometric0p8Manip\",\n",
        "                 \"Geometric0p5Sincere\",\n",
        "                 \"Geometric0p5Manip\",\n",
        "                 \"GenAntipSincere\",\n",
        "                 \"GenAntipManip\",\n",
        "                 \"Geometric0p65Sincere\",\n",
        "                 \"Geometric0p65Manip\",\n",
        "                 \"BordaSincere\",\n",
        "                 \"BordaManip\",\n",
        "                 \"NashSincere\",\n",
        "                 \"NashManip\",]\n",
        "\n",
        "visualise(current_scenario, desired_rules, 'Borda welfare, concave rules, 5D Euclidean, n = 11')"
      ]
    },
    {
      "cell_type": "code",
      "execution_count": null,
      "metadata": {
        "id": "Kd9V_IKsA61i"
      },
      "outputs": [],
      "source": [
        "current_scenario = form_file_suffix(10**4, \"Voters\", 11, \"EuclideanFive\", \"Borda\")\n",
        "desired_rules = [\"Geometric1p2Sincere\",\n",
        "                 \"Geometric1p2Manip\",\n",
        "                 \"PluralitySincere\",\n",
        "                 \"PluralityManip\",\n",
        "                 \"GenPlurSincere\",\n",
        "                 \"GenPlurManip\",\n",
        "                 \"Geometric1p5Sincere\",\n",
        "                 \"Geometric1p5Manip\",\n",
        "                 \"Geometric2Sincere\",\n",
        "                 \"Geometric2Manip\",\n",
        "                 \"BordaSincere\",\n",
        "                 \"BordaManip\",]\n",
        "\n",
        "visualise(current_scenario, desired_rules, 'Borda welfare, convex rules , 5D Euclidean, n = 11')"
      ]
    },
    {
      "cell_type": "code",
      "execution_count": null,
      "metadata": {
        "id": "byegpiUMoTmZ"
      },
      "outputs": [],
      "source": [
        "current_scenario = form_file_suffix(10**4, \"Voters\", 11, \"EuclideanFive\", \"Borda\")\n",
        "desired_rules = [\"5ApprovalSincere\",\n",
        "                 \"5ApprovalManip\",\n",
        "                 \"PluralitySincere\",\n",
        "                 \"PluralityManip\",\n",
        "                 \"AntipSincere\",\n",
        "                 \"AntipManip\",\n",
        "                 \"HalfApprovalSincere\",\n",
        "                 \"HalfApprovalManip\",\n",
        "                 \"QuarterApprovalSincere\",\n",
        "                 \"QuarterApprovalManip\"]\n",
        "visualise(current_scenario, desired_rules, 'Borda welfare, approval family, 5D Euclidean, n = 11')"
      ]
    },
    {
      "cell_type": "code",
      "execution_count": null,
      "metadata": {
        "id": "eT7SHLNloXtU"
      },
      "outputs": [],
      "source": [
        "current_scenario = form_file_suffix(10**4, \"Voters\", 11, \"EuclideanFive\", \"Borda\")\n",
        "desired_rules = [\"5BordaSincere\",\n",
        "                 \"5BordaManip\",\n",
        "                 \"BordaSincere\",\n",
        "                 \"BordaManip\",\n",
        "                 \"PluralitySincere\",\n",
        "                 \"PluralityManip\",\n",
        "                 \"HalfBordaSincere\",\n",
        "                 \"HalfBordaManip\",\n",
        "                 \"QuarterBordaSincere\",\n",
        "                 \"QuarterBordaManip\",\n",
        "                 ]\n",
        "visualise(current_scenario, desired_rules, 'Borda welfare, Borda family, 5D Euclidean, n = 11')"
      ]
    },
    {
      "cell_type": "code",
      "execution_count": null,
      "metadata": {
        "id": "sMdE54LEA61j"
      },
      "outputs": [],
      "source": [
        "current_scenario = form_file_suffix(10**4, \"Voters\", 11, \"EuclideanFive\", \"Borda\")\n",
        "desired_rules = [\"Geometric0p8Sincere\",\n",
        "                 \"Geometric0p8Manip\",\n",
        "                 \"Geometric1p2Sincere\",\n",
        "                 \"Geometric1p2Manip\",\n",
        "                 \"HalfBordaSincere\",\n",
        "                 \"HalfBordaManip\",\n",
        "                 \"PluralitySincere\",\n",
        "                 \"PluralityManip\",\n",
        "                 \"QuarterApprovalSincere\",\n",
        "                 \"QuarterApprovalManip\",\n",
        "                 \"CopelandSincere\",\n",
        "                 \"CopelandManip\",\n",
        "                 \"SimpsonSincere\",\n",
        "                 #\"SimpsonManip\",\n",
        "                 ]\n",
        "visualise(current_scenario, desired_rules, 'Borda welfare, interesting rules, 5D Euclidean, n = 11')"
      ]
    },
    {
      "cell_type": "markdown",
      "metadata": {
        "id": "9Sado7zGA61j"
      },
      "source": [
        "### 5D Euclidean, Rawls"
      ]
    },
    {
      "cell_type": "code",
      "execution_count": null,
      "metadata": {
        "id": "bPifrwYDA61j"
      },
      "outputs": [],
      "source": [
        "current_scenario = form_file_suffix(10**4, \"Voters\", 11, \"EuclideanFive\", \"Rawls\")\n",
        "desired_rules = [\n",
        "                 \"Geometric0p8Sincere\",\n",
        "                 \"Geometric0p8Manip\",\n",
        "                 \"Geometric0p5Sincere\",\n",
        "                 \"Geometric0p5Manip\",\n",
        "                 \"Geometric0p65Sincere\",\n",
        "                 \"Geometric0p65Manip\",\n",
        "                 \"BordaSincere\",\n",
        "                 \"BordaManip\",\n",
        "                 \"GenAntipSincere\",\n",
        "                 \"GenAntipManip\",\n",
        "                 \"NashSincere\",\n",
        "                 \"NashManip\",]\n",
        "\n",
        "visualise(current_scenario, desired_rules, 'Rawls welfare, concave rules, 5D Euclidean, n = 11')"
      ]
    },
    {
      "cell_type": "code",
      "execution_count": null,
      "metadata": {
        "id": "Y_GwmZ6DA61j"
      },
      "outputs": [],
      "source": [
        "current_scenario = form_file_suffix(10**4, \"Voters\", 11, \"EuclideanFive\", \"Rawls\")\n",
        "desired_rules = [\"Geometric1p2Sincere\",\n",
        "                 \"Geometric1p2Manip\",\n",
        "                 \"PluralitySincere\",\n",
        "                 \"PluralityManip\",\n",
        "                 \"GenPlurSincere\",\n",
        "                 \"GenPlurManip\",\n",
        "                 \"Geometric1p5Sincere\",\n",
        "                 \"Geometric1p5Manip\",\n",
        "                 \"Geometric2Sincere\",\n",
        "                 \"Geometric2Manip\",\n",
        "                 \"BordaSincere\",\n",
        "                 \"BordaManip\",]\n",
        "\n",
        "visualise(current_scenario, desired_rules, 'Rawls welfare, convex rules , 5D Euclidean, n = 11')"
      ]
    },
    {
      "cell_type": "code",
      "execution_count": null,
      "metadata": {
        "id": "qGhe3cBor5Qo"
      },
      "outputs": [],
      "source": [
        "current_scenario = form_file_suffix(10**4, \"Voters\", 11, \"EuclideanFive\", \"Rawls\")\n",
        "desired_rules = [\"5ApprovalSincere\",\n",
        "                 \"5ApprovalManip\",\n",
        "                 \"PluralitySincere\",\n",
        "                 \"PluralityManip\",\n",
        "                 \"AntipSincere\",\n",
        "                 \"AntipManip\",\n",
        "                 \"HalfApprovalSincere\",\n",
        "                 \"HalfApprovalManip\",\n",
        "                 \"QuarterApprovalSincere\",\n",
        "                 \"QuarterApprovalManip\"]\n",
        "visualise(current_scenario, desired_rules, 'Rawls welfare, approval family, 5D Euclidean, n = 11')"
      ]
    },
    {
      "cell_type": "code",
      "execution_count": null,
      "metadata": {
        "id": "AhTfDs-Wr8yw"
      },
      "outputs": [],
      "source": [
        "current_scenario = form_file_suffix(10**4, \"Voters\", 11, \"EuclideanFive\", \"Rawls\")\n",
        "desired_rules = [\"5BordaSincere\",\n",
        "                 \"5BordaManip\",\n",
        "                 \"BordaSincere\",\n",
        "                 \"BordaManip\",\n",
        "                 \"PluralitySincere\",\n",
        "                 \"PluralityManip\",\n",
        "                 \"HalfBordaSincere\",\n",
        "                 \"HalfBordaManip\",\n",
        "                 \"QuarterBordaSincere\",\n",
        "                 \"QuarterBordaManip\",\n",
        "                 ]\n",
        "visualise(current_scenario, desired_rules, 'Rawls welfare, Borda family, 5D Euclidean, n = 11')"
      ]
    },
    {
      "cell_type": "code",
      "execution_count": null,
      "metadata": {
        "id": "sEGJnbpcA61k"
      },
      "outputs": [],
      "source": [
        "current_scenario = form_file_suffix(10**4, \"Voters\", 11, \"EuclideanFive\", \"Rawls\")\n",
        "desired_rules = [\"Geometric1p2Sincere\",\n",
        "                 \"Geometric1p2Manip\",\n",
        "                 \"Geometric0p8Sincere\",\n",
        "                 \"Geometric0p8Manip\",\n",
        "                 \"HalfBordaSincere\",\n",
        "                 \"HalfBordaManip\",\n",
        "                 \"PluralitySincere\",\n",
        "                 \"PluralityManip\",\n",
        "                 \"HalfApprovalSincere\",\n",
        "                 \"HalfApprovalManip\",\n",
        "                 \"CopelandSincere\",\n",
        "                 \"CopelandManip\",\n",
        "                 \"SimpsonSincere\",\n",
        "                 \"SimpsonManip\",\n",
        "                 ]\n",
        "visualise(current_scenario, desired_rules, 'Rawls welfare, interesting rules, 5D Euclidean, n = 11')"
      ]
    },
    {
      "cell_type": "markdown",
      "metadata": {
        "id": "YeeZLF1AA61k"
      },
      "source": [
        "### 5D Euclidean, Nash"
      ]
    },
    {
      "cell_type": "code",
      "execution_count": null,
      "metadata": {
        "id": "Ra7uaCa1A61l"
      },
      "outputs": [],
      "source": [
        "current_scenario = form_file_suffix(10**4, \"Voters\", 11, \"EuclideanFive\", \"Nash\")\n",
        "desired_rules = [\n",
        "                 \"Geometric0p8Sincere\",\n",
        "                 \"Geometric0p8Manip\",\n",
        "                 \"Geometric0p5Sincere\",\n",
        "                 \"Geometric0p5Manip\",\n",
        "                 \"Geometric0p65Sincere\",\n",
        "                 \"Geometric0p65Manip\",\n",
        "                 \"GenAntipSincere\",\n",
        "                 \"GenAntipManip\",\n",
        "                 \"BordaSincere\",\n",
        "                 \"BordaManip\",\n",
        "                 \"NashSincere\",\n",
        "                 \"NashManip\",]\n",
        "\n",
        "visualise(current_scenario, desired_rules, 'Nash welfare, concave rules, 5D Euclidean, n = 11')"
      ]
    },
    {
      "cell_type": "code",
      "execution_count": null,
      "metadata": {
        "id": "XNqlM4Y7A61l"
      },
      "outputs": [],
      "source": [
        "current_scenario = form_file_suffix(10**4, \"Voters\", 11, \"EuclideanFive\", \"Nash\")\n",
        "desired_rules = [\"Geometric1p2Sincere\",\n",
        "                 \"Geometric1p2Manip\",\n",
        "                 \"PluralitySincere\",\n",
        "                 \"PluralityManip\",\n",
        "                 \"GenPlurSincere\",\n",
        "                 \"GenPlurManip\",\n",
        "                 \"Geometric1p5Sincere\",\n",
        "                 \"Geometric1p5Manip\",\n",
        "                 \"Geometric2Sincere\",\n",
        "                 \"Geometric2Manip\",\n",
        "                 \"BordaSincere\",\n",
        "                 \"BordaManip\",]\n",
        "\n",
        "visualise(current_scenario, desired_rules, 'Nash welfare, convex rules , 5D Euclidean, n = 11')"
      ]
    },
    {
      "cell_type": "code",
      "execution_count": null,
      "metadata": {
        "id": "gjrezkLntVTR"
      },
      "outputs": [],
      "source": [
        "current_scenario = form_file_suffix(10**4, \"Voters\", 11, \"EuclideanFive\", \"Nash\")\n",
        "desired_rules = [\"5ApprovalSincere\",\n",
        "                 \"5ApprovalManip\",\n",
        "                 \"PluralitySincere\",\n",
        "                 \"PluralityManip\",\n",
        "                 \"AntipSincere\",\n",
        "                 \"AntipManip\",\n",
        "                 \"HalfApprovalSincere\",\n",
        "                 \"HalfApprovalManip\",\n",
        "                 \"QuarterApprovalSincere\",\n",
        "                 \"QuarterApprovalManip\"]\n",
        "visualise(current_scenario, desired_rules, 'Nash welfare, approval family, 5D Euclidean, n = 11')"
      ]
    },
    {
      "cell_type": "code",
      "execution_count": null,
      "metadata": {
        "id": "EOsFDd58tYux"
      },
      "outputs": [],
      "source": [
        "current_scenario = form_file_suffix(10**4, \"Voters\", 11, \"EuclideanFive\", \"Nash\")\n",
        "desired_rules = [\"5BordaSincere\",\n",
        "                 \"5BordaManip\",\n",
        "                 \"BordaSincere\",\n",
        "                 \"BordaManip\",\n",
        "                 \"PluralitySincere\",\n",
        "                 \"PluralityManip\",\n",
        "                 \"HalfBordaSincere\",\n",
        "                 \"HalfBordaManip\",\n",
        "                 \"QuarterBordaSincere\",\n",
        "                 \"QuarterBordaManip\",\n",
        "                 ]\n",
        "visualise(current_scenario, desired_rules, 'Nash welfare, Borda family, 5D Euclidean, n = 11')"
      ]
    },
    {
      "cell_type": "code",
      "execution_count": null,
      "metadata": {
        "id": "S2Q6G4piA61l"
      },
      "outputs": [],
      "source": [
        "current_scenario = form_file_suffix(10**4, \"Voters\", 11, \"EuclideanFive\", \"Nash\")\n",
        "desired_rules = [\"NashSincere\",\n",
        "                 \"NashManip\",\n",
        "                 \"Geometric1p2Sincere\",\n",
        "                 \"Geometric1p2Manip\",\n",
        "                 \"HalfBordaSincere\",\n",
        "                 \"HalfBordaManip\",\n",
        "                 \"PluralitySincere\",\n",
        "                 \"PluralityManip\",\n",
        "                 \"HalfApprovalSincere\",\n",
        "                 \"HalfApprovalManip\",\n",
        "                 \"QuarterApprovalSincere\",\n",
        "                 \"QuarterApprovalManip\",\n",
        "                 \"CopelandSincere\",\n",
        "                 \"CopelandManip\",\n",
        "                 \"SimpsonSincere\",\n",
        "                 \"SimpsonManip\",]\n",
        "visualise(current_scenario, desired_rules, 'Nash welfare, interesting rules, 5D Euclidean, n = 11',truncate_bottom=3)"
      ]
    },
    {
      "cell_type": "markdown",
      "metadata": {
        "id": "duJLWF0A5bJy"
      },
      "source": [
        "### 5D Euclidean Condorcet"
      ]
    },
    {
      "cell_type": "code",
      "execution_count": null,
      "metadata": {
        "id": "QrS48ae65bJz"
      },
      "outputs": [],
      "source": [
        "current_scenario = form_file_suffix(10**4, \"Voters\", 11, \"EuclideanFive\", \"Condorcet\")\n",
        "desired_rules = [\n",
        "                 \"Geometric0p8Sincere\",\n",
        "                 \"Geometric0p8Manip\",\n",
        "                 \"Geometric0p5Sincere\",\n",
        "                 \"Geometric0p5Manip\",\n",
        "                 \"Geometric0p65Sincere\",\n",
        "                 \"Geometric0p65Manip\",\n",
        "                 \"GenAntipSincere\",\n",
        "                 \"GenAntipManip\",\n",
        "                 \"BordaSincere\",\n",
        "                 \"BordaManip\",\n",
        "                 \"NashSincere\",\n",
        "                 \"NashManip\",\n",
        "                 ]\n",
        "\n",
        "visualise(current_scenario, desired_rules, 'Condorcet welfare, concave rules, 5D Euclidean, n = 11')"
      ]
    },
    {
      "cell_type": "code",
      "execution_count": null,
      "metadata": {
        "id": "TA0r3CHn5bJ0"
      },
      "outputs": [],
      "source": [
        "current_scenario = form_file_suffix(10**4, \"Voters\", 11, \"EuclideanFive\", \"Condorcet\")\n",
        "desired_rules = [\"Geometric1p2Sincere\",\n",
        "                 \"Geometric1p2Manip\",\n",
        "                 \"PluralitySincere\",\n",
        "                 \"PluralityManip\",\n",
        "                 \"GenPlurSincere\",\n",
        "                 \"GenPlurManip\",\n",
        "                 \"Geometric1p5Sincere\",\n",
        "                 \"Geometric1p5Manip\",\n",
        "                 \"Geometric2Sincere\",\n",
        "                 \"Geometric2Manip\",\n",
        "                 \"BordaSincere\",\n",
        "                 \"BordaManip\",]\n",
        "\n",
        "visualise(current_scenario, desired_rules, 'Condorcet welfare, convex rules , 5D Euclidean, n = 11')"
      ]
    },
    {
      "cell_type": "code",
      "execution_count": null,
      "metadata": {
        "id": "aMwgOp8Y5bJ1"
      },
      "outputs": [],
      "source": [
        "current_scenario = form_file_suffix(10**4, \"Voters\", 11, \"EuclideanFive\", \"Condorcet\")\n",
        "desired_rules = [\"5ApprovalSincere\",\n",
        "                 \"5ApprovalManip\",\n",
        "                 \"PluralitySincere\",\n",
        "                 \"PluralityManip\",\n",
        "                 \"AntipSincere\",\n",
        "                 \"AntipManip\",\n",
        "                 \"HalfApprovalSincere\",\n",
        "                 \"HalfApprovalManip\",\n",
        "                 \"QuarterApprovalSincere\",\n",
        "                 \"QuarterApprovalManip\"]\n",
        "visualise(current_scenario, desired_rules, 'Condorcet welfare, approval family, 5D Euclidean, n = 11')"
      ]
    },
    {
      "cell_type": "code",
      "execution_count": null,
      "metadata": {
        "id": "1HrikYnC5bJ1"
      },
      "outputs": [],
      "source": [
        "current_scenario = form_file_suffix(10**4, \"Voters\", 11, \"EuclideanFive\", \"Condorcet\")\n",
        "desired_rules = [\"5BordaSincere\",\n",
        "                 \"5BordaManip\",\n",
        "                 \"BordaSincere\",\n",
        "                 \"BordaManip\",\n",
        "                 \"PluralitySincere\",\n",
        "                 \"PluralityManip\",\n",
        "                 \"HalfBordaSincere\",\n",
        "                 \"HalfBordaManip\",\n",
        "                 \"QuarterBordaSincere\",\n",
        "                 \"QuarterBordaManip\",\n",
        "                 ]\n",
        "visualise(current_scenario, desired_rules, 'Condorcet welfare, Borda family, 5D Euclidean, n = 11')"
      ]
    },
    {
      "cell_type": "code",
      "execution_count": null,
      "metadata": {
        "id": "5XvzEn5c5bJ2"
      },
      "outputs": [],
      "source": [
        "current_scenario = form_file_suffix(10**4, \"Voters\", 11, \"EuclideanFive\", \"Condorcet\")\n",
        "desired_rules = [\"Geometric1p2Sincere\",\n",
        "                 \"Geometric1p2Manip\",\n",
        "                 \"PluralitySincere\",\n",
        "                 \"PluralityManip\",\n",
        "                 \"CopelandSincere\",\n",
        "                 \"CopelandManip\",\n",
        "                 \"SimpsonSincere\",\n",
        "                 \"SimpsonManip\",\n",
        "                 \"QuarterApprovalSincere\",\n",
        "                 \"QuarterApprovalManip\",\n",
        "                 \"HalfBordaSincere\",\n",
        "                 \"HalfBordaManip\",\n",
        "                 \"BordaSincere\",\n",
        "                 \"BordaManip\",\n",
        "                 \"Geometric0p8Sincere\",\n",
        "                 \"Geometric0p8Manip\"]\n",
        "\n",
        "visualise(current_scenario, desired_rules, 'Condorcet welfare, interesting rules, 5D Euclidean, n = 11')"
      ]
    },
    {
      "cell_type": "markdown",
      "metadata": {
        "id": "7Ux9JcnKLu-C"
      },
      "source": [
        "## Fixed m"
      ]
    },
    {
      "cell_type": "markdown",
      "metadata": {
        "id": "m_gEGzEzLu-C"
      },
      "source": [
        "### 5D Euclidean, Borda"
      ]
    },
    {
      "cell_type": "code",
      "execution_count": null,
      "metadata": {
        "id": "2iolSfLmLu-D"
      },
      "outputs": [],
      "source": [
        "current_scenario = form_file_suffix(10**4, \"Candidates\", 10, \"EuclideanFive\", \"Borda\")\n",
        "desired_rules = [\n",
        "                 \"Geometric0p8Sincere\",\n",
        "                 \"Geometric0p8Manip\",\n",
        "                 \"Geometric0p5Sincere\",\n",
        "                 \"Geometric0p5Manip\",\n",
        "                 \"Geometric0p65Sincere\",\n",
        "                 \"Geometric0p65Manip\",\n",
        "                 \"BordaSincere\",\n",
        "                 \"BordaManip\",\n",
        "                 \"NashSincere\",\n",
        "                 \"NashManip\",]\n",
        "\n",
        "visualise(current_scenario, desired_rules, 'Borda utility, concave rules, 5D Euclidean, m = 10', truncate_top=30)"
      ]
    },
    {
      "cell_type": "code",
      "execution_count": null,
      "metadata": {
        "id": "DCol8lc3Lu-D"
      },
      "outputs": [],
      "source": [
        "current_scenario = form_file_suffix(10**4, \"Candidates\", 10, \"EuclideanFive\", \"Borda\")\n",
        "desired_rules = [\"Geometric1p2Sincere\",\n",
        "                 \"Geometric1p2Manip\",\n",
        "                 \"PluralitySincere\",\n",
        "                 \"PluralityManip\",\n",
        "                 \"Geometric1p5Sincere\",\n",
        "                 \"Geometric1p5Manip\",\n",
        "                 \"Geometric2Sincere\",\n",
        "                 \"Geometric2Manip\",\n",
        "                 \"BordaSincere\",\n",
        "                 \"BordaManip\",]\n",
        "\n",
        "visualise(current_scenario, desired_rules, 'Borda utility, convex rules , 5D Euclidean, m = 10', truncate_top=30)"
      ]
    },
    {
      "cell_type": "code",
      "execution_count": null,
      "metadata": {
        "id": "pAEkbGsmLu-E"
      },
      "outputs": [],
      "source": [
        "current_scenario = form_file_suffix(10**4, \"Candidates\", 10, \"EuclideanFive\", \"Borda\")\n",
        "desired_rules = [\"5ApprovalSincere\",\n",
        "                 \"5ApprovalManip\",\n",
        "                 \"5BordaSincere\",\n",
        "                 \"5BordaManip\",\n",
        "                 \"BordaSincere\",\n",
        "                 \"BordaManip\",\n",
        "                 \"PluralitySincere\",\n",
        "                 \"PluralityManip\",]\n",
        "visualise(current_scenario, desired_rules, 'Borda utility, abdriged rules, 5D Euclidean, m = 10', truncate_top=30)"
      ]
    },
    {
      "cell_type": "code",
      "execution_count": null,
      "metadata": {
        "id": "SNPCpORULu-E"
      },
      "outputs": [],
      "source": [
        "current_scenario = form_file_suffix(10**4, \"Candidates\", 10, \"EuclideanFive\", \"Borda\")\n",
        "desired_rules = [\"Geometric0p8Sincere\",\n",
        "                 \"Geometric0p8Manip\",\n",
        "                 \"Geometric1p2Sincere\",\n",
        "                 \"Geometric1p2Manip\",\n",
        "                 \"BordaSincere\",\n",
        "                 \"BordaManip\",\n",
        "                 \"PluralitySincere\",\n",
        "                 \"PluralityManip\",]\n",
        "visualise(current_scenario, desired_rules, 'Borda utility, interesting rules, 5D Euclidean, m = 10', truncate_top=30)"
      ]
    },
    {
      "cell_type": "markdown",
      "metadata": {
        "id": "i9kerY02Lu-F"
      },
      "source": [
        "### 5D Euclidean, Rawls"
      ]
    },
    {
      "cell_type": "code",
      "execution_count": null,
      "metadata": {
        "id": "cZWyhyRcLu-F"
      },
      "outputs": [],
      "source": [
        "current_scenario = form_file_suffix(10**4, \"Candidates\", 10, \"EuclideanFive\", \"Rawls\")\n",
        "desired_rules = [\n",
        "                 \"Geometric0p8Sincere\",\n",
        "                 \"Geometric0p8Manip\",\n",
        "                 \"Geometric0p5Sincere\",\n",
        "                 \"Geometric0p5Manip\",\n",
        "                 \"Geometric0p65Sincere\",\n",
        "                 \"Geometric0p65Manip\",\n",
        "                 \"BordaSincere\",\n",
        "                 \"BordaManip\",\n",
        "                 \"NashSincere\",\n",
        "                 \"NashManip\",]\n",
        "\n",
        "visualise(current_scenario, desired_rules, 'Rawls utility, concave rules, 5D Euclidean, m = 10', truncate_top=25)"
      ]
    },
    {
      "cell_type": "code",
      "execution_count": null,
      "metadata": {
        "id": "EL0Dy-CQLu-F"
      },
      "outputs": [],
      "source": [
        "current_scenario = form_file_suffix(10**4, \"Candidates\", 10, \"EuclideanFive\", \"Rawls\")\n",
        "desired_rules = [\"Geometric1p2Sincere\",\n",
        "                 \"Geometric1p2Manip\",\n",
        "                 \"PluralitySincere\",\n",
        "                 \"PluralityManip\",\n",
        "                 \"Geometric1p5Sincere\",\n",
        "                 \"Geometric1p5Manip\",\n",
        "                 \"Geometric2Sincere\",\n",
        "                 \"Geometric2Manip\",\n",
        "                 \"BordaSincere\",\n",
        "                 \"BordaManip\",]\n",
        "\n",
        "visualise(current_scenario, desired_rules, 'Rawls utility, convex rules , 5D Euclidean, m = 10', truncate_top=25)"
      ]
    },
    {
      "cell_type": "code",
      "execution_count": null,
      "metadata": {
        "id": "TUB1Tv6pLu-G"
      },
      "outputs": [],
      "source": [
        "current_scenario = form_file_suffix(10**4, \"Candidates\", 10, \"EuclideanFive\", \"Rawls\")\n",
        "desired_rules = [\"5ApprovalSincere\",\n",
        "                 \"5ApprovalManip\",\n",
        "                 \"5BordaSincere\",\n",
        "                 \"5BordaManip\",\n",
        "                 \"BordaSincere\",\n",
        "                 \"BordaManip\",\n",
        "                 \"PluralitySincere\",\n",
        "                 \"PluralityManip\",]\n",
        "visualise(current_scenario, desired_rules, 'Rawls utility, abdriged rules, 5D Euclidean, m = 10', truncate_top=25)"
      ]
    },
    {
      "cell_type": "code",
      "execution_count": null,
      "metadata": {
        "id": "q5ZUqruvLu-G"
      },
      "outputs": [],
      "source": [
        "current_scenario = form_file_suffix(10**4, \"Candidates\", 10, \"EuclideanFive\", \"Rawls\")\n",
        "desired_rules = [\"5ApprovalSincere\",\n",
        "                 \"5ApprovalManip\",\n",
        "                 \"Geometric1p2Sincere\",\n",
        "                 \"Geometric1p2Manip\",\n",
        "                 \"Geometric0p8Sincere\",\n",
        "                 \"Geometric0p8Manip\",\n",
        "                 \"BordaSincere\",\n",
        "                 \"BordaManip\",\n",
        "                 \"PluralitySincere\",\n",
        "                 \"PluralityManip\",]\n",
        "visualise(current_scenario, desired_rules, 'Rawls utility, interesting rules, 5D Euclidean, m = 10', truncate_top=25)"
      ]
    },
    {
      "cell_type": "markdown",
      "metadata": {
        "id": "cKwGc2-2Lu-G"
      },
      "source": [
        "### 5D Euclidean, Nash"
      ]
    },
    {
      "cell_type": "code",
      "execution_count": null,
      "metadata": {
        "id": "d4N505hkLu-H"
      },
      "outputs": [],
      "source": [
        "current_scenario = form_file_suffix(10**4, \"Candidates\", 10, \"EuclideanFive\", \"Nash\")\n",
        "desired_rules = [\n",
        "                 \"Geometric0p8Sincere\",\n",
        "                 \"Geometric0p8Manip\",\n",
        "                 \"Geometric0p5Sincere\",\n",
        "                 \"Geometric0p5Manip\",\n",
        "                 \"Geometric0p65Sincere\",\n",
        "                 \"Geometric0p65Manip\",\n",
        "                 \"BordaSincere\",\n",
        "                 \"BordaManip\",\n",
        "                 \"NashSincere\",\n",
        "                 \"NashManip\",]\n",
        "\n",
        "visualise(current_scenario, desired_rules, 'Nash utility, concave rules, 5D Euclidean, m = 10', truncate_top=30)"
      ]
    },
    {
      "cell_type": "code",
      "execution_count": null,
      "metadata": {
        "id": "2gQNXBn9Lu-H"
      },
      "outputs": [],
      "source": [
        "current_scenario = form_file_suffix(10**4, \"Candidates\", 10, \"EuclideanFive\", \"Nash\")\n",
        "desired_rules = [\"Geometric1p2Sincere\",\n",
        "                 \"Geometric1p2Manip\",\n",
        "                 \"PluralitySincere\",\n",
        "                 \"PluralityManip\",\n",
        "                 \"Geometric1p5Sincere\",\n",
        "                 \"Geometric1p5Manip\",\n",
        "                 \"Geometric2Sincere\",\n",
        "                 \"Geometric2Manip\",\n",
        "                 \"BordaSincere\",\n",
        "                 \"BordaManip\",]\n",
        "\n",
        "visualise(current_scenario, desired_rules, 'Nash utility, convex rules , 5D Euclidean, m = 10', truncate_top=30)"
      ]
    },
    {
      "cell_type": "code",
      "execution_count": null,
      "metadata": {
        "id": "SuGnm8Z4Lu-H"
      },
      "outputs": [],
      "source": [
        "current_scenario = form_file_suffix(10**4, \"Candidates\", 10, \"EuclideanFive\", \"Nash\")\n",
        "desired_rules = [\"5ApprovalSincere\",\n",
        "                 \"5ApprovalManip\",\n",
        "                 \"5BordaSincere\",\n",
        "                 \"5BordaManip\",\n",
        "                 \"BordaSincere\",\n",
        "                 \"BordaManip\",\n",
        "                 \"PluralitySincere\",\n",
        "                 \"PluralityManip\",]\n",
        "visualise(current_scenario, desired_rules, 'Nash utility, abdriged rules, 5D Euclidean, m = 10', truncate_top=30)"
      ]
    },
    {
      "cell_type": "code",
      "execution_count": null,
      "metadata": {
        "id": "JkXFDbiSLu-I"
      },
      "outputs": [],
      "source": [
        "current_scenario = form_file_suffix(10**4, \"Candidates\", 10, \"EuclideanFive\", \"Nash\")\n",
        "desired_rules = [\"Geometric0p8Sincere\",\n",
        "                 \"Geometric0p8Manip\",\n",
        "                 \"Geometric1p2Sincere\",\n",
        "                 \"Geometric1p2Manip\",\n",
        "                 \"BordaSincere\",\n",
        "                 \"BordaManip\",\n",
        "                 \"5ApprovalSincere\",\n",
        "                 \"5ApprovalManip\",]\n",
        "visualise(current_scenario, desired_rules, 'Nash utility, interesting rules, 5D Euclidean, m = 10', truncate_top=30)"
      ]
    },
    {
      "cell_type": "markdown",
      "metadata": {
        "id": "3uf4H2CDL17-"
      },
      "source": [
        "# Mallows 0.8\n"
      ]
    },
    {
      "cell_type": "markdown",
      "metadata": {
        "id": "nMPthbufNv62"
      },
      "source": [
        "## Fixed n"
      ]
    },
    {
      "cell_type": "markdown",
      "metadata": {
        "id": "LIfKNBu8L18F"
      },
      "source": [
        "### Mallows 0.8, Borda"
      ]
    },
    {
      "cell_type": "code",
      "execution_count": null,
      "metadata": {
        "id": "z-1KAuFAL18G"
      },
      "outputs": [],
      "source": [
        "current_scenario = form_file_suffix(10**4, \"Voters\", 11, \"MallowsPointEight\", \"Borda\")\n",
        "desired_rules = [\n",
        "                 \"Geometric0p8Sincere\",\n",
        "                 \"Geometric0p8Manip\",\n",
        "                 \"GenAntipSincere\",\n",
        "                 \"GenAntipManip\",\n",
        "                 \"Geometric0p5Sincere\",\n",
        "                 \"Geometric0p5Manip\",\n",
        "                 \"Geometric0p65Sincere\",\n",
        "                 \"Geometric0p65Manip\",\n",
        "                 \"BordaSincere\",\n",
        "                 \"BordaManip\",\n",
        "                 \"NashSincere\",\n",
        "                 \"NashManip\",]\n",
        "\n",
        "visualise(current_scenario, desired_rules, 'Borda welfare, concave rules, Mallows 0.8, n = 11')"
      ]
    },
    {
      "cell_type": "code",
      "execution_count": null,
      "metadata": {
        "id": "vMncrNIQL18G"
      },
      "outputs": [],
      "source": [
        "current_scenario = form_file_suffix(10**4, \"Voters\", 11, \"MallowsPointEight\", \"Borda\")\n",
        "desired_rules = [\"Geometric1p2Sincere\",\n",
        "                 \"Geometric1p2Manip\",\n",
        "                 \"PluralitySincere\",\n",
        "                 \"PluralityManip\",\n",
        "                 \"GenPlurSincere\",\n",
        "                 \"GenPlurManip\",\n",
        "                 \"Geometric1p5Sincere\",\n",
        "                 \"Geometric1p5Manip\",\n",
        "                 \"Geometric2Sincere\",\n",
        "                 \"Geometric2Manip\",\n",
        "                 \"BordaSincere\",\n",
        "                 \"BordaManip\",]\n",
        "\n",
        "visualise(current_scenario, desired_rules, 'Borda welfare, convex rules , Mallows 0.8, n = 11')"
      ]
    },
    {
      "cell_type": "code",
      "execution_count": null,
      "metadata": {
        "id": "7OeBNDt4vq3K"
      },
      "outputs": [],
      "source": [
        "current_scenario = form_file_suffix(10**4, \"Voters\", 11, \"MallowsPointEight\", \"Borda\")\n",
        "desired_rules = [\"5ApprovalSincere\",\n",
        "                 \"5ApprovalManip\",\n",
        "                 \"PluralitySincere\",\n",
        "                 \"PluralityManip\",\n",
        "                 \"AntipSincere\",\n",
        "                 \"AntipManip\",\n",
        "                 \"HalfApprovalSincere\",\n",
        "                 \"HalfApprovalManip\",\n",
        "                 \"QuarterApprovalSincere\",\n",
        "                 \"QuarterApprovalManip\"]\n",
        "visualise(current_scenario, desired_rules, 'Borda welfare, approval family, Mallows 0.8, n = 11')"
      ]
    },
    {
      "cell_type": "code",
      "execution_count": null,
      "metadata": {
        "id": "nB7I1kvjvu1t"
      },
      "outputs": [],
      "source": [
        "current_scenario = form_file_suffix(10**4, \"Voters\", 11, \"MallowsPointEight\", \"Borda\")\n",
        "desired_rules = [\"5BordaSincere\",\n",
        "                 \"5BordaManip\",\n",
        "                 \"BordaSincere\",\n",
        "                 \"BordaManip\",\n",
        "                 \"PluralitySincere\",\n",
        "                 \"PluralityManip\",\n",
        "                 \"HalfBordaSincere\",\n",
        "                 \"HalfBordaManip\",\n",
        "                 \"QuarterBordaSincere\",\n",
        "                 \"QuarterBordaManip\",\n",
        "                 ]\n",
        "visualise(current_scenario, desired_rules, 'Borda welfare, Borda family, Mallows 0.8, n = 11')"
      ]
    },
    {
      "cell_type": "code",
      "execution_count": null,
      "metadata": {
        "id": "Ep6FyD5PL18H"
      },
      "outputs": [],
      "source": [
        "current_scenario = form_file_suffix(10**4, \"Voters\", 11, \"MallowsPointEight\", \"Borda\")\n",
        "desired_rules = [\"Geometric0p8Sincere\",\n",
        "                 \"Geometric0p8Manip\",\n",
        "                 \"Geometric1p2Sincere\",\n",
        "                 \"Geometric1p2Manip\",\n",
        "                 \"BordaSincere\",\n",
        "                 \"BordaManip\",\n",
        "                 \"HalfBordaSincere\",\n",
        "                 \"HalfBordaManip\",\n",
        "                 \"PluralitySincere\",\n",
        "                 \"PluralityManip\",\n",
        "                 \"AntipSincere\",\n",
        "                 \"AntipManip\",\n",
        "                 \"5ApprovalSincere\",\n",
        "                 \"5ApprovalManip\",\n",
        "                 \"CopelandSincere\",\n",
        "                 \"CopelandManip\",\n",
        "                 \"SimpsonSincere\",\n",
        "                 \"SimpsonManip\",\n",
        "                 ]\n",
        "visualise(current_scenario, desired_rules, 'Borda welfare, interesting rules, Mallows 0.8, n = 11')"
      ]
    },
    {
      "cell_type": "markdown",
      "metadata": {
        "id": "vQPslHoQL18H"
      },
      "source": [
        "### Mallows 0.8, Rawls"
      ]
    },
    {
      "cell_type": "code",
      "execution_count": null,
      "metadata": {
        "id": "0nqiA5lAL18H"
      },
      "outputs": [],
      "source": [
        "current_scenario = form_file_suffix(10**4, \"Voters\", 11, \"MallowsPointEight\", \"Rawls\")\n",
        "desired_rules = [\n",
        "                 \"Geometric0p8Sincere\",\n",
        "                 \"Geometric0p8Manip\",\n",
        "                 \"Geometric0p5Sincere\",\n",
        "                 \"Geometric0p5Manip\",\n",
        "                 \"Geometric0p65Sincere\",\n",
        "                 \"Geometric0p65Manip\",\n",
        "                 \"GenAntipSincere\",\n",
        "                 \"GenAntipManip\",\n",
        "                 \"BordaSincere\",\n",
        "                 \"BordaManip\",\n",
        "                 \"NashSincere\",\n",
        "                 \"NashManip\",]\n",
        "\n",
        "visualise(current_scenario, desired_rules, 'Rawls welfare, concave rules, Mallows 0.8, n = 11')"
      ]
    },
    {
      "cell_type": "code",
      "execution_count": null,
      "metadata": {
        "id": "kaHaZyieL18H"
      },
      "outputs": [],
      "source": [
        "current_scenario = form_file_suffix(10**4, \"Voters\", 11, \"MallowsPointEight\", \"Rawls\")\n",
        "desired_rules = [\"Geometric1p2Sincere\",\n",
        "                 \"Geometric1p2Manip\",\n",
        "                 \"PluralitySincere\",\n",
        "                 \"PluralityManip\",\n",
        "                 \"GenPlurSincere\",\n",
        "                 \"GenPlurManip\",\n",
        "                 \"Geometric1p5Sincere\",\n",
        "                 \"Geometric1p5Manip\",\n",
        "                 \"Geometric2Sincere\",\n",
        "                 \"Geometric2Manip\",\n",
        "                 \"BordaSincere\",\n",
        "                 \"BordaManip\",]\n",
        "\n",
        "visualise(current_scenario, desired_rules, 'Rawls welfare, convex rules , Mallows 0.8, n = 11')"
      ]
    },
    {
      "cell_type": "code",
      "execution_count": null,
      "metadata": {
        "id": "69s2iLb4wPDl"
      },
      "outputs": [],
      "source": [
        "current_scenario = form_file_suffix(10**4, \"Voters\", 11, \"MallowsPointEight\", \"Rawls\")\n",
        "desired_rules = [\"5ApprovalSincere\",\n",
        "                 \"5ApprovalManip\",\n",
        "                 \"AntipSincere\",\n",
        "                 \"AntipManip\",\n",
        "                 \"PluralitySincere\",\n",
        "                 \"PluralityManip\",\n",
        "                 \"HalfApprovalSincere\",\n",
        "                 \"HalfApprovalManip\",\n",
        "                 \"QuarterApprovalSincere\",\n",
        "                 \"QuarterApprovalManip\"]\n",
        "visualise(current_scenario, desired_rules, 'Rawls welfare, approval family, Mallows 0.8, n = 11')"
      ]
    },
    {
      "cell_type": "code",
      "execution_count": null,
      "metadata": {
        "id": "E_lzvh1vwRX_"
      },
      "outputs": [],
      "source": [
        "current_scenario = form_file_suffix(10**4, \"Voters\", 11, \"MallowsPointEight\", \"Rawls\")\n",
        "desired_rules = [\"5BordaSincere\",\n",
        "                 \"5BordaManip\",\n",
        "                 \"BordaSincere\",\n",
        "                 \"BordaManip\",\n",
        "                 \"PluralitySincere\",\n",
        "                 \"PluralityManip\",\n",
        "                 \"HalfBordaSincere\",\n",
        "                 \"HalfBordaManip\",\n",
        "                 \"QuarterBordaSincere\",\n",
        "                 \"QuarterBordaManip\",\n",
        "                 ]\n",
        "visualise(current_scenario, desired_rules, 'Rawls welfare, Borda family, Mallows 0.8, n = 11', truncate_top=25)"
      ]
    },
    {
      "cell_type": "code",
      "execution_count": null,
      "metadata": {
        "id": "AtZIQkQCL18I"
      },
      "outputs": [],
      "source": [
        "current_scenario = form_file_suffix(10**4, \"Voters\", 11, \"MallowsPointEight\", \"Rawls\")\n",
        "desired_rules = [\"Geometric1p2Sincere\",\n",
        "                 \"Geometric1p2Manip\",\n",
        "                 \"GenAntipSincere\",\n",
        "                 \"GenAntipManip\",\n",
        "                 \"BordaSincere\",\n",
        "                 \"BordaManip\",\n",
        "                 \"5ApprovalSincere\",\n",
        "                 \"5ApprovalManip\",\n",
        "                 \"QuarterApprovalSincere\",\n",
        "                 \"QuarterApprovalManip\",\n",
        "                 \"CopelandSincere\",\n",
        "                 \"CopelandManip\",\n",
        "                 \"SimpsonSincere\",\n",
        "                 \"SimpsonManip\",]\n",
        "visualise(current_scenario, desired_rules, 'Rawls welfare, interesting rules, Mallows 0.8, n = 11')"
      ]
    },
    {
      "cell_type": "markdown",
      "metadata": {
        "id": "RyLx9_rbL18I"
      },
      "source": [
        "### Mallows 0.8, Nash"
      ]
    },
    {
      "cell_type": "code",
      "execution_count": null,
      "metadata": {
        "id": "ziJNuvkML18I"
      },
      "outputs": [],
      "source": [
        "current_scenario = form_file_suffix(10**4, \"Voters\", 11, \"MallowsPointEight\", \"Nash\")\n",
        "desired_rules = [\n",
        "                 \"Geometric0p8Sincere\",\n",
        "                 \"Geometric0p8Manip\",\n",
        "                 \"Geometric0p5Sincere\",\n",
        "                 \"Geometric0p5Manip\",\n",
        "                 \"GenAntipSincere\",\n",
        "                 \"GenAntipManip\",\n",
        "                 \"Geometric0p65Sincere\",\n",
        "                 \"Geometric0p65Manip\",\n",
        "                 \"BordaSincere\",\n",
        "                 \"BordaManip\",\n",
        "                 \"NashSincere\",\n",
        "                 \"NashManip\",]\n",
        "\n",
        "visualise(current_scenario, desired_rules, 'Nash welfare, concave rules, Mallows 0.8, n = 11')"
      ]
    },
    {
      "cell_type": "code",
      "execution_count": null,
      "metadata": {
        "id": "rXIqGuaJL18I"
      },
      "outputs": [],
      "source": [
        "current_scenario = form_file_suffix(10**4, \"Voters\", 11, \"MallowsPointEight\", \"Nash\")\n",
        "desired_rules = [\"Geometric1p2Sincere\",\n",
        "                 \"Geometric1p2Manip\",\n",
        "                 \"PluralitySincere\",\n",
        "                 \"PluralityManip\",\n",
        "                 \"GenPlurSincere\",\n",
        "                 \"GenPlurManip\",\n",
        "                 \"Geometric1p5Sincere\",\n",
        "                 \"Geometric1p5Manip\",\n",
        "                 \"Geometric2Sincere\",\n",
        "                 \"Geometric2Manip\",\n",
        "                 \"BordaSincere\",\n",
        "                 \"BordaManip\",]\n",
        "\n",
        "visualise(current_scenario, desired_rules, 'Nash welfare, convex rules , Mallows 0.8, n = 11')"
      ]
    },
    {
      "cell_type": "code",
      "execution_count": null,
      "metadata": {
        "id": "-PMXR3snw0w4"
      },
      "outputs": [],
      "source": [
        "current_scenario = form_file_suffix(10**4, \"Voters\", 11, \"MallowsPointEight\", \"Nash\")\n",
        "desired_rules = [\"5ApprovalSincere\",\n",
        "                 \"5ApprovalManip\",\n",
        "                 \"PluralitySincere\",\n",
        "                 \"PluralityManip\",\n",
        "                 \"AntipSincere\",\n",
        "                 \"AntipManip\",\n",
        "                 \"HalfApprovalSincere\",\n",
        "                 \"HalfApprovalManip\",\n",
        "                 \"QuarterApprovalSincere\",\n",
        "                 \"QuarterApprovalManip\"]\n",
        "visualise(current_scenario, desired_rules, 'Nash welfare, approval family, Mallows 0.8, n = 11')"
      ]
    },
    {
      "cell_type": "code",
      "execution_count": null,
      "metadata": {
        "id": "nAGwmm_hw34B"
      },
      "outputs": [],
      "source": [
        "current_scenario = form_file_suffix(10**4, \"Voters\", 11, \"MallowsPointEight\", \"Nash\")\n",
        "desired_rules = [\"5BordaSincere\",\n",
        "                 \"5BordaManip\",\n",
        "                 \"BordaSincere\",\n",
        "                 \"BordaManip\",\n",
        "                 \"PluralitySincere\",\n",
        "                 \"PluralityManip\",\n",
        "                 \"HalfBordaSincere\",\n",
        "                 \"HalfBordaManip\",\n",
        "                 \"QuarterBordaSincere\",\n",
        "                 \"QuarterBordaManip\",\n",
        "                 ]\n",
        "visualise(current_scenario, desired_rules, 'Nash welfare, Borda family, Mallows 0.8, n = 11')"
      ]
    },
    {
      "cell_type": "code",
      "execution_count": null,
      "metadata": {
        "id": "cJK6fCJ1L18J"
      },
      "outputs": [],
      "source": [
        "current_scenario = form_file_suffix(10**4, \"Voters\", 11, \"MallowsPointEight\", \"Nash\")\n",
        "desired_rules = [\"Geometric0p65Sincere\",\n",
        "                 \"Geometric0p65Manip\",\n",
        "                 \"Geometric1p2Sincere\",\n",
        "                 \"Geometric1p2Manip\",\n",
        "                 \"BordaSincere\",\n",
        "                 \"BordaManip\",\n",
        "                 \"NashSincere\",\n",
        "                 \"NashManip\",\n",
        "                 \"5ApprovalSincere\",\n",
        "                 \"5ApprovalManip\",\n",
        "                 \"CopelandSincere\",\n",
        "                 \"CopelandManip\",\n",
        "                 \"SimpsonSincere\",\n",
        "                 \"SimpsonManip\",]\n",
        "visualise(current_scenario, desired_rules, 'Nash utility, interesting rules, Mallows 0.8, n = 11')"
      ]
    },
    {
      "cell_type": "markdown",
      "metadata": {
        "id": "Dl8T7bSoY16d"
      },
      "source": [
        "### Mallows 0.8, Condorcet"
      ]
    },
    {
      "cell_type": "code",
      "execution_count": null,
      "metadata": {
        "id": "W1B33kH9Y16e"
      },
      "outputs": [],
      "source": [
        "current_scenario = form_file_suffix(10**4, \"Voters\", 11, \"MallowsPointEight\", \"Condorcet\")\n",
        "desired_rules = [\n",
        "                 \"Geometric0p8Sincere\",\n",
        "                 \"Geometric0p8Manip\",\n",
        "                 \"Geometric0p5Sincere\",\n",
        "                 \"Geometric0p5Manip\",\n",
        "                 \"Geometric0p65Sincere\",\n",
        "                 \"Geometric0p65Manip\",\n",
        "                 \"BordaSincere\",\n",
        "                 \"BordaManip\",\n",
        "                 \"GenAntipSincere\",\n",
        "                 \"GenAntipManip\",\n",
        "                 \"NashSincere\",\n",
        "                 \"NashManip\",]\n",
        "\n",
        "visualise(current_scenario, desired_rules, 'Condorcet welfare, concave rules, Mallows 0.8, n = 11')"
      ]
    },
    {
      "cell_type": "code",
      "execution_count": null,
      "metadata": {
        "id": "SOYWY_7-Y16f"
      },
      "outputs": [],
      "source": [
        "current_scenario = form_file_suffix(10**4, \"Voters\", 11, \"MallowsPointEight\", \"Condorcet\")\n",
        "desired_rules = [\"Geometric1p2Sincere\",\n",
        "                 \"Geometric1p2Manip\",\n",
        "                 \"PluralitySincere\",\n",
        "                 \"PluralityManip\",\n",
        "                 \"GenPlurSincere\",\n",
        "                 \"GenPlurManip\",\n",
        "                 \"Geometric1p5Sincere\",\n",
        "                 \"Geometric1p5Manip\",\n",
        "                 \"Geometric2Sincere\",\n",
        "                 \"Geometric2Manip\",\n",
        "                 \"BordaSincere\",\n",
        "                 \"BordaManip\",]\n",
        "\n",
        "visualise(current_scenario, desired_rules, 'Condorcet welfare, convex rules , Mallows 0.8, n = 11')"
      ]
    },
    {
      "cell_type": "code",
      "execution_count": null,
      "metadata": {
        "id": "HHSe3O_eY16g"
      },
      "outputs": [],
      "source": [
        "current_scenario = form_file_suffix(10**4, \"Voters\", 11, \"MallowsPointEight\", \"Condorcet\")\n",
        "desired_rules = [\"5ApprovalSincere\",\n",
        "                 \"5ApprovalManip\",\n",
        "                 \"PluralitySincere\",\n",
        "                 \"PluralityManip\",\n",
        "                 \"AntipSincere\",\n",
        "                 \"AntipManip\",\n",
        "                 \"HalfApprovalSincere\",\n",
        "                 \"HalfApprovalManip\",\n",
        "                 \"QuarterApprovalSincere\",\n",
        "                 \"QuarterApprovalManip\"]\n",
        "visualise(current_scenario, desired_rules, 'Condorcet welfare, approval family, Mallows 0.8, n = 11')"
      ]
    },
    {
      "cell_type": "code",
      "execution_count": null,
      "metadata": {
        "id": "Oi1W7bJGY16h"
      },
      "outputs": [],
      "source": [
        "current_scenario = form_file_suffix(10**4, \"Voters\", 11, \"MallowsPointEight\", \"Condorcet\")\n",
        "desired_rules = [\"5BordaSincere\",\n",
        "                 \"5BordaManip\",\n",
        "                 \"BordaSincere\",\n",
        "                 \"BordaManip\",\n",
        "                 \"PluralitySincere\",\n",
        "                 \"PluralityManip\",\n",
        "                 \"HalfBordaSincere\",\n",
        "                 \"HalfBordaManip\",\n",
        "                 \"QuarterBordaSincere\",\n",
        "                 \"QuarterBordaManip\",\n",
        "                 ]\n",
        "visualise(current_scenario, desired_rules, 'Condorcet welfare, Borda family, Mallows 0.8, n = 11')"
      ]
    },
    {
      "cell_type": "code",
      "execution_count": null,
      "metadata": {
        "id": "KuHH47yRY16i"
      },
      "outputs": [],
      "source": [
        "current_scenario = form_file_suffix(10**4, \"Voters\", 11, \"MallowsPointEight\", \"Condorcet\")\n",
        "desired_rules = [\"Geometric1p5Sincere\",\n",
        "                 \"Geometric1p5Manip\",\n",
        "                 \"5ApprovalSincere\",\n",
        "                 \"5ApprovalManip\",\n",
        "                 \"5BordaSincere\",\n",
        "                 \"5BordaManip\",\n",
        "                 \"CopelandSincere\",\n",
        "                 \"CopelandManip\",\n",
        "                 \"SimpsonSincere\",\n",
        "                 \"SimpsonManip\",]\n",
        "visualise(current_scenario, desired_rules, 'Condorcet welfare, interesting rules, Mallows 0.8, n = 11')"
      ]
    },
    {
      "cell_type": "markdown",
      "metadata": {
        "id": "j7FzLcftN1Db"
      },
      "source": [
        "## Fixed m"
      ]
    },
    {
      "cell_type": "markdown",
      "metadata": {
        "id": "TukB_QRIN1Dc"
      },
      "source": [
        "### Mallows 0.8, Borda"
      ]
    },
    {
      "cell_type": "code",
      "execution_count": null,
      "metadata": {
        "id": "oS3WXz9SN1Dc"
      },
      "outputs": [],
      "source": [
        "current_scenario = form_file_suffix(10**4, \"Candidates\", 10, \"MallowsPointEight\", \"Borda\")\n",
        "desired_rules = [\n",
        "                 \"Geometric0p8Sincere\",\n",
        "                 \"Geometric0p8Manip\",\n",
        "                 \"Geometric0p5Sincere\",\n",
        "                 \"Geometric0p5Manip\",\n",
        "                 \"Geometric0p65Sincere\",\n",
        "                 \"Geometric0p65Manip\",\n",
        "                 \"BordaSincere\",\n",
        "                 \"BordaManip\",\n",
        "                 \"NashSincere\",\n",
        "                 \"NashManip\",]\n",
        "\n",
        "visualise(current_scenario, desired_rules, 'Borda utility, concave rules, Mallows 0.8, m = 10')"
      ]
    },
    {
      "cell_type": "code",
      "execution_count": null,
      "metadata": {
        "id": "AdtV9IcuN1Dd"
      },
      "outputs": [],
      "source": [
        "current_scenario = form_file_suffix(10**4, \"Candidates\", 10, \"MallowsPointEight\", \"Borda\")\n",
        "desired_rules = [\"Geometric1p2Sincere\",\n",
        "                 \"Geometric1p2Manip\",\n",
        "                 \"PluralitySincere\",\n",
        "                 \"PluralityManip\",\n",
        "                 \"Geometric1p5Sincere\",\n",
        "                 \"Geometric1p5Manip\",\n",
        "                 \"Geometric2Sincere\",\n",
        "                 \"Geometric2Manip\",\n",
        "                 \"BordaSincere\",\n",
        "                 \"BordaManip\",]\n",
        "\n",
        "visualise(current_scenario, desired_rules, 'Borda utility, convex rules , Mallows 0.8, m = 10', truncate_top=30)"
      ]
    },
    {
      "cell_type": "code",
      "execution_count": null,
      "metadata": {
        "id": "L6L10J9kN1De"
      },
      "outputs": [],
      "source": [
        "current_scenario = form_file_suffix(10**4, \"Candidates\", 10, \"MallowsPointEight\", \"Borda\")\n",
        "desired_rules = [\"5ApprovalSincere\",\n",
        "                 \"5ApprovalManip\",\n",
        "                 \"5BordaSincere\",\n",
        "                 \"5BordaManip\",\n",
        "                 \"BordaSincere\",\n",
        "                 \"BordaManip\",\n",
        "                 \"PluralitySincere\",\n",
        "                 \"PluralityManip\",]\n",
        "visualise(current_scenario, desired_rules, 'Borda utility, abdriged rules, Mallows 0.8, m = 10', truncate_top=30)"
      ]
    },
    {
      "cell_type": "code",
      "execution_count": null,
      "metadata": {
        "id": "E5w9GTGrN1De"
      },
      "outputs": [],
      "source": [
        "current_scenario = form_file_suffix(10**4, \"Candidates\", 10, \"MallowsPointEight\", \"Borda\")\n",
        "desired_rules = [\"Geometric0p8Sincere\",\n",
        "                 \"Geometric0p8Manip\",\n",
        "                 \"Geometric1p2Sincere\",\n",
        "                 \"Geometric1p2Manip\",\n",
        "                 \"BordaSincere\",\n",
        "                 \"BordaManip\",\n",
        "                 \"PluralitySincere\",\n",
        "                 \"PluralityManip\",]\n",
        "visualise(current_scenario, desired_rules, 'Borda utility, interesting rules, Mallows 0.8, m = 10', truncate_top=30)"
      ]
    },
    {
      "cell_type": "markdown",
      "metadata": {
        "id": "obF_QsH2N1Df"
      },
      "source": [
        "### Mallows 0.8, Rawls"
      ]
    },
    {
      "cell_type": "code",
      "execution_count": null,
      "metadata": {
        "id": "Zodt6Z6oN1Df"
      },
      "outputs": [],
      "source": [
        "current_scenario = form_file_suffix(10**4, \"Candidates\", 10, \"MallowsPointEight\", \"Rawls\")\n",
        "desired_rules = [\n",
        "                 \"Geometric0p8Sincere\",\n",
        "                 \"Geometric0p8Manip\",\n",
        "                 \"Geometric0p5Sincere\",\n",
        "                 \"Geometric0p5Manip\",\n",
        "                 \"Geometric0p65Sincere\",\n",
        "                 \"Geometric0p65Manip\",\n",
        "                 \"BordaSincere\",\n",
        "                 \"BordaManip\",\n",
        "                 \"NashSincere\",\n",
        "                 \"NashManip\",]\n",
        "\n",
        "visualise(current_scenario, desired_rules, 'Rawls utility, concave rules, Mallows 0.8, m = 10', truncate_top=30)"
      ]
    },
    {
      "cell_type": "code",
      "execution_count": null,
      "metadata": {
        "id": "eZSNee_LN1Df"
      },
      "outputs": [],
      "source": [
        "current_scenario = form_file_suffix(10**4, \"Candidates\", 10, \"MallowsPointEight\", \"Rawls\")\n",
        "desired_rules = [\"Geometric1p2Sincere\",\n",
        "                 \"Geometric1p2Manip\",\n",
        "                 \"PluralitySincere\",\n",
        "                 \"PluralityManip\",\n",
        "                 \"Geometric1p5Sincere\",\n",
        "                 \"Geometric1p5Manip\",\n",
        "                 \"Geometric2Sincere\",\n",
        "                 \"Geometric2Manip\",\n",
        "                 \"BordaSincere\",\n",
        "                 \"BordaManip\",]\n",
        "\n",
        "visualise(current_scenario, desired_rules, 'Rawls utility, convex rules , Mallows 0.8, m = 10', truncate_top=30)"
      ]
    },
    {
      "cell_type": "code",
      "execution_count": null,
      "metadata": {
        "id": "qOjJlOBiN1Dg"
      },
      "outputs": [],
      "source": [
        "current_scenario = form_file_suffix(10**4, \"Candidates\", 10, \"MallowsPointEight\", \"Rawls\")\n",
        "desired_rules = [\"5ApprovalSincere\",\n",
        "                 \"5ApprovalManip\",\n",
        "                 \"5BordaSincere\",\n",
        "                 \"5BordaManip\",\n",
        "                 \"BordaSincere\",\n",
        "                 \"BordaManip\",\n",
        "                 \"PluralitySincere\",\n",
        "                 \"PluralityManip\",]\n",
        "visualise(current_scenario, desired_rules, 'Rawls utility, abdriged rules, Mallows 0.8, m = 10', truncate_top=30)"
      ]
    },
    {
      "cell_type": "code",
      "execution_count": null,
      "metadata": {
        "id": "9Z2tOc0BN1Dg"
      },
      "outputs": [],
      "source": [
        "current_scenario = form_file_suffix(10**4, \"Candidates\", 10, \"MallowsPointEight\", \"Rawls\")\n",
        "desired_rules = [\"Geometric1p2Sincere\",\n",
        "                 \"Geometric1p2Manip\",\n",
        "                 \"Geometric0p5Sincere\",\n",
        "                 \"Geometric0p5Manip\",\n",
        "                 \"BordaSincere\",\n",
        "                 \"BordaManip\",\n",
        "                 \"PluralitySincere\",\n",
        "                 \"PluralityManip\",]\n",
        "visualise(current_scenario, desired_rules, 'Rawls utility, interesting rules, Mallows 0.8, m = 10', truncate_top=30)"
      ]
    },
    {
      "cell_type": "markdown",
      "metadata": {
        "id": "UkTk3mhzN1Dk"
      },
      "source": [
        "### Mallows 0.8, Nash"
      ]
    },
    {
      "cell_type": "code",
      "execution_count": null,
      "metadata": {
        "id": "EHJ69qZON1Dl"
      },
      "outputs": [],
      "source": [
        "current_scenario = form_file_suffix(10**4, \"Candidates\", 10, \"MallowsPointEight\", \"Nash\")\n",
        "desired_rules = [\n",
        "                 \"Geometric0p8Sincere\",\n",
        "                 \"Geometric0p8Manip\",\n",
        "                 \"Geometric0p5Sincere\",\n",
        "                 \"Geometric0p5Manip\",\n",
        "                 \"Geometric0p65Sincere\",\n",
        "                 \"Geometric0p65Manip\",\n",
        "                 \"BordaSincere\",\n",
        "                 \"BordaManip\",\n",
        "                 \"NashSincere\",\n",
        "                 \"NashManip\",]\n",
        "\n",
        "visualise(current_scenario, desired_rules, 'Nash utility, concave rules, Mallows 0.8, m = 10', truncate_top=30)"
      ]
    },
    {
      "cell_type": "code",
      "execution_count": null,
      "metadata": {
        "id": "V8iQ8MAnN1Dm"
      },
      "outputs": [],
      "source": [
        "current_scenario = form_file_suffix(10**4, \"Candidates\", 10, \"MallowsPointEight\", \"Nash\")\n",
        "desired_rules = [\"Geometric1p2Sincere\",\n",
        "                 \"Geometric1p2Manip\",\n",
        "                 \"PluralitySincere\",\n",
        "                 \"PluralityManip\",\n",
        "                 \"Geometric1p5Sincere\",\n",
        "                 \"Geometric1p5Manip\",\n",
        "                 \"Geometric2Sincere\",\n",
        "                 \"Geometric2Manip\",\n",
        "                 \"BordaSincere\",\n",
        "                 \"BordaManip\",]\n",
        "\n",
        "visualise(current_scenario, desired_rules, 'Nash utility, convex rules , Mallows 0.8, m = 10', truncate_top=30)"
      ]
    },
    {
      "cell_type": "code",
      "execution_count": null,
      "metadata": {
        "id": "cqfdS8PnN1Dn"
      },
      "outputs": [],
      "source": [
        "current_scenario = form_file_suffix(10**4, \"Candidates\", 10, \"MallowsPointEight\", \"Nash\")\n",
        "desired_rules = [\"5ApprovalSincere\",\n",
        "                 \"5ApprovalManip\",\n",
        "                 \"5BordaSincere\",\n",
        "                 \"5BordaManip\",\n",
        "                 \"BordaSincere\",\n",
        "                 \"BordaManip\",\n",
        "                 \"PluralitySincere\",\n",
        "                 \"PluralityManip\",]\n",
        "visualise(current_scenario, desired_rules, 'Nash utility, abdriged rules, Mallows 0.8, m = 10', truncate_top=30)"
      ]
    },
    {
      "cell_type": "code",
      "execution_count": null,
      "metadata": {
        "id": "-bXp4KJGN1Ds"
      },
      "outputs": [],
      "source": [
        "current_scenario = form_file_suffix(10**4, \"Candidates\", 10, \"MallowsPointEight\", \"Nash\")\n",
        "desired_rules = [\"Geometric0p5Sincere\",\n",
        "                 \"Geometric0p5Manip\",\n",
        "                 \"Geometric1p2Sincere\",\n",
        "                 \"Geometric1p2Manip\",\n",
        "                 \"BordaSincere\",\n",
        "                 \"BordaManip\",\n",
        "                 \"PluralitySincere\",\n",
        "                 \"PluralityManip\",]\n",
        "visualise(current_scenario, desired_rules, 'Nash utility, interesting rules, Mallows 0.8, m = 10', truncate_top=30)"
      ]
    },
    {
      "cell_type": "markdown",
      "metadata": {
        "id": "YsVZlNhQQoTW"
      },
      "source": [
        "# Mallows 0.5\n",
        "\n"
      ]
    },
    {
      "cell_type": "markdown",
      "metadata": {
        "id": "4BUsuVAbOu7y"
      },
      "source": [
        "## Fixed n"
      ]
    },
    {
      "cell_type": "markdown",
      "metadata": {
        "id": "QqDer30QQoTl"
      },
      "source": [
        "### Mallows 0.5, Borda"
      ]
    },
    {
      "cell_type": "code",
      "execution_count": null,
      "metadata": {
        "id": "rPT4qla9QoTl"
      },
      "outputs": [],
      "source": [
        "current_scenario = form_file_suffix(10**4, \"Voters\", 11, \"MallowsPointFive\", \"Borda\")\n",
        "desired_rules = [\n",
        "                 \"Geometric0p8Sincere\",\n",
        "                 \"Geometric0p8Manip\",\n",
        "                 \"Geometric0p5Sincere\",\n",
        "                 \"Geometric0p5Manip\",\n",
        "                 \"Geometric0p65Sincere\",\n",
        "                 \"Geometric0p65Manip\",\n",
        "                 \"GenAntipSincere\",\n",
        "                 \"GenAntipManip\",\n",
        "                 \"BordaSincere\",\n",
        "                 \"BordaManip\",\n",
        "                 \"NashSincere\",\n",
        "                 \"NashManip\",]\n",
        "\n",
        "visualise(current_scenario, desired_rules, 'Borda welfare, concave rules, Mallows 0.5, n = 11', truncate_bottom = 5, truncate_top=60)"
      ]
    },
    {
      "cell_type": "code",
      "execution_count": null,
      "metadata": {
        "id": "BOv3vukmQoTl"
      },
      "outputs": [],
      "source": [
        "current_scenario = form_file_suffix(10**4, \"Voters\", 11, \"MallowsPointFive\", \"Borda\")\n",
        "desired_rules = [#\"Geometric1p2Sincere\",\n",
        "                 \"Geometric1p2Manip\",\n",
        "                 #\"PluralitySincere\",\n",
        "                 \"PluralityManip\",\n",
        "                 \"GenPlurSincere\",\n",
        "                 \"GenPlurManip\",\n",
        "                 #\"Geometric1p5Sincere\",\n",
        "                 \"Geometric1p5Manip\",\n",
        "                 #\"Geometric2Sincere\",\n",
        "                 \"Geometric2Manip\",\n",
        "                 #\"BordaSincere\",\n",
        "                 \"BordaManip\",]\n",
        "\n",
        "visualise(current_scenario, desired_rules, 'Borda welfare, convex rules , Mallows 0.5, n = 11', truncate_bottom = 5, truncate_top=60)"
      ]
    },
    {
      "cell_type": "code",
      "execution_count": null,
      "metadata": {
        "id": "cjjvSp3LzwB8"
      },
      "outputs": [],
      "source": [
        "current_scenario = form_file_suffix(10**4, \"Voters\", 11, \"MallowsPointFive\", \"Borda\")\n",
        "desired_rules = [\"5ApprovalSincere\",\n",
        "                 \"5ApprovalManip\",\n",
        "                 \"PluralitySincere\",\n",
        "                 \"PluralityManip\",\n",
        "                 \"AntipSincere\",\n",
        "                 \"AntipManip\",\n",
        "                 \"HalfApprovalSincere\",\n",
        "                 \"HalfApprovalManip\",\n",
        "                 \"QuarterApprovalSincere\",\n",
        "                 \"QuarterApprovalManip\"]\n",
        "visualise(current_scenario, desired_rules, 'Borda utility, approval family, Mallows 0.5, n = 11', truncate_bottom = 5, truncate_top=60)"
      ]
    },
    {
      "cell_type": "code",
      "execution_count": null,
      "metadata": {
        "id": "3An0HkH3zzCb"
      },
      "outputs": [],
      "source": [
        "current_scenario = form_file_suffix(10**4, \"Voters\", 11, \"MallowsPointFive\", \"Borda\")\n",
        "desired_rules = [\"5BordaSincere\",\n",
        "                 \"5BordaManip\",\n",
        "                 \"BordaSincere\",\n",
        "                 \"BordaManip\",\n",
        "                 \"PluralitySincere\",\n",
        "                 \"PluralityManip\",\n",
        "                 \"HalfBordaSincere\",\n",
        "                 \"HalfBordaManip\",\n",
        "                 \"QuarterBordaSincere\",\n",
        "                 \"QuarterBordaManip\",\n",
        "                 ]\n",
        "visualise(current_scenario, desired_rules, 'Borda welfare, Borda family, Mallows 0.5, n = 11', truncate_bottom = 5, truncate_top=60)"
      ]
    },
    {
      "cell_type": "code",
      "execution_count": null,
      "metadata": {
        "id": "QWKjJqShQoTm"
      },
      "outputs": [],
      "source": [
        "current_scenario = form_file_suffix(10**4, \"Voters\", 11, \"MallowsPointFive\", \"Borda\")\n",
        "desired_rules = [\"Geometric0p8Sincere\",\n",
        "                 \"Geometric0p8Manip\",\n",
        "                 \"Geometric1p2Sincere\",\n",
        "                 \"Geometric1p2Manip\",\n",
        "                 \"BordaSincere\",\n",
        "                 \"BordaManip\",\n",
        "                 \"PluralitySincere\",\n",
        "                 \"PluralityManip\",\n",
        "                 \"SimpsonManip\",\n",
        "                 \"CopelandManip\",]\n",
        "visualise(current_scenario, desired_rules, 'Borda welfare, interesting rules, Mallows 0.5, n = 11', truncate_bottom = 5, truncate_top=60)"
      ]
    },
    {
      "cell_type": "markdown",
      "metadata": {
        "id": "geSm0X4qQoTm"
      },
      "source": [
        "### Mallows 0.5, Rawls"
      ]
    },
    {
      "cell_type": "code",
      "execution_count": null,
      "metadata": {
        "id": "CaJu2JyyQoTm"
      },
      "outputs": [],
      "source": [
        "current_scenario = form_file_suffix(10**4, \"Voters\", 11, \"MallowsPointFive\", \"Rawls\")\n",
        "desired_rules = [\n",
        "                 \"Geometric0p8Sincere\",\n",
        "                 \"Geometric0p8Manip\",\n",
        "                 \"Geometric0p5Sincere\",\n",
        "                 \"Geometric0p5Manip\",\n",
        "                 \"Geometric0p65Sincere\",\n",
        "                 \"Geometric0p65Manip\",\n",
        "                 \"GenAntipSincere\",\n",
        "                 \"GenAntipManip\",\n",
        "                 \"BordaSincere\",\n",
        "                 \"BordaManip\",\n",
        "                 \"NashSincere\",\n",
        "                 \"NashManip\",]\n",
        "\n",
        "visualise(current_scenario, desired_rules, 'Rawls welfare, concave rules, Mallows 0.5, n = 11', truncate_bottom = 10, truncate_top=60)"
      ]
    },
    {
      "cell_type": "code",
      "execution_count": null,
      "metadata": {
        "id": "X0-tnHyIQoTn"
      },
      "outputs": [],
      "source": [
        "current_scenario = form_file_suffix(10**4, \"Voters\", 11, \"MallowsPointFive\", \"Rawls\")\n",
        "desired_rules = [\"Geometric1p2Sincere\",\n",
        "                 \"Geometric1p2Manip\",\n",
        "                 \"PluralitySincere\",\n",
        "                 \"PluralityManip\",\n",
        "                 \"GenPlurSincere\",\n",
        "                 \"GenPlurManip\",\n",
        "                 \"Geometric1p5Sincere\",\n",
        "                 \"Geometric1p5Manip\",\n",
        "                 \"Geometric2Sincere\",\n",
        "                 \"Geometric2Manip\",\n",
        "                 \"BordaSincere\",\n",
        "                 \"BordaManip\",]\n",
        "\n",
        "visualise(current_scenario, desired_rules, 'Rawls welfare, convex rules , Mallows 0.5, n = 11', truncate_bottom = 10, truncate_top=60)"
      ]
    },
    {
      "cell_type": "code",
      "execution_count": null,
      "metadata": {
        "id": "TutgTmt31V4C"
      },
      "outputs": [],
      "source": [
        "current_scenario = form_file_suffix(10**4, \"Voters\", 11, \"MallowsPointFive\", \"Rawls\")\n",
        "desired_rules = [\"5ApprovalSincere\",\n",
        "                 \"5ApprovalManip\",\n",
        "                 \"AntipSincere\",\n",
        "                 \"AntipManip\",\n",
        "                 \"PluralitySincere\",\n",
        "                 \"PluralityManip\",\n",
        "                 \"HalfApprovalSincere\",\n",
        "                 \"HalfApprovalManip\",\n",
        "                 \"QuarterApprovalSincere\",\n",
        "                 \"QuarterApprovalManip\"]\n",
        "visualise(current_scenario, desired_rules, 'Rawls welfare, approval family, Mallows 0.5, n = 11', truncate_bottom = 10, truncate_top=60)"
      ]
    },
    {
      "cell_type": "code",
      "execution_count": null,
      "metadata": {
        "id": "TscfOkTD1Yvp"
      },
      "outputs": [],
      "source": [
        "current_scenario = form_file_suffix(10**4, \"Voters\", 11, \"MallowsPointFive\", \"Rawls\")\n",
        "desired_rules = [\"5BordaSincere\",\n",
        "                 \"5BordaManip\",\n",
        "                 \"BordaSincere\",\n",
        "                 \"BordaManip\",\n",
        "                 \"PluralitySincere\",\n",
        "                 \"PluralityManip\",\n",
        "                 \"HalfBordaSincere\",\n",
        "                 \"HalfBordaManip\",\n",
        "                 \"QuarterBordaSincere\",\n",
        "                 \"QuarterBordaManip\",\n",
        "                 ]\n",
        "visualise(current_scenario, desired_rules, 'Rawls welfare, Borda family, Mallows 0.5, n = 11', truncate_bottom = 10, truncate_top=60)"
      ]
    },
    {
      "cell_type": "code",
      "execution_count": null,
      "metadata": {
        "id": "wCYEt9iIQoTn"
      },
      "outputs": [],
      "source": [
        "current_scenario = form_file_suffix(10**4, \"Voters\", 11, \"MallowsPointFive\", \"Rawls\")\n",
        "desired_rules = [\"Geometric1p2Sincere\",\n",
        "                 \"Geometric1p2Manip\",\n",
        "                 \"Geometric0p5Sincere\",\n",
        "                 \"Geometric0p5Manip\",\n",
        "                 \"SimpsonSincere\",\n",
        "                 \"SimpsonManip\",\n",
        "                 \"PluralitySincere\",\n",
        "                 \"PluralityManip\",\n",
        "                 \"5ApprovalSincere\",\n",
        "                 \"5ApprovalManip\"]\n",
        "visualise(current_scenario, desired_rules, 'Rawls welfare, interesting rules, Mallows 0.5, n = 11', truncate_bottom = 10, truncate_top=60)"
      ]
    },
    {
      "cell_type": "markdown",
      "metadata": {
        "id": "oqqv6DwuQoTn"
      },
      "source": [
        "### Mallows 0.5, Nash"
      ]
    },
    {
      "cell_type": "code",
      "execution_count": null,
      "metadata": {
        "id": "gCKRJSdxQoTn"
      },
      "outputs": [],
      "source": [
        "current_scenario = form_file_suffix(10**4, \"Voters\", 11, \"MallowsPointFive\", \"Nash\")\n",
        "desired_rules = [\n",
        "                 \"Geometric0p8Sincere\",\n",
        "                 \"Geometric0p8Manip\",\n",
        "                 \"Geometric0p5Sincere\",\n",
        "                 \"Geometric0p5Manip\",\n",
        "                 \"Geometric0p65Sincere\",\n",
        "                 \"Geometric0p65Manip\",\n",
        "                 \"GenAntipSincere\",\n",
        "                 \"GenAntipManip\",\n",
        "                 \"BordaSincere\",\n",
        "                 \"BordaManip\",\n",
        "                 \"NashSincere\",\n",
        "                 \"NashManip\",]\n",
        "\n",
        "visualise(current_scenario, desired_rules, 'Nash welfare, concave rules, Mallows 0.5, n = 11', truncate_bottom = 10, truncate_top=40)"
      ]
    },
    {
      "cell_type": "code",
      "execution_count": null,
      "metadata": {
        "id": "gjHRgtzOQoTo"
      },
      "outputs": [],
      "source": [
        "current_scenario = form_file_suffix(10**4, \"Voters\", 11, \"MallowsPointFive\", \"Nash\")\n",
        "desired_rules = [#\"Geometric1p2Sincere\",\n",
        "                 \"Geometric1p2Manip\",\n",
        "                 #\"PluralitySincere\",\n",
        "                 \"PluralityManip\",\n",
        "                 #\"Geometric1p5Sincere\",\n",
        "                 \"Geometric1p5Manip\",\n",
        "                 #\"Geometric2Sincere\",\n",
        "                 \"Geometric2Manip\",\n",
        "                 \"GenPlurManip\",\n",
        "                 #\"BordaSincere\",\n",
        "                 \"BordaManip\",]\n",
        "\n",
        "visualise(current_scenario, desired_rules, 'Nash welfare, convex rules , Mallows 0.5, n = 11', truncate_bottom = 10, truncate_top=40)"
      ]
    },
    {
      "cell_type": "code",
      "execution_count": null,
      "metadata": {
        "id": "Icp6WPwO2csT"
      },
      "outputs": [],
      "source": [
        "current_scenario = form_file_suffix(10**4, \"Voters\", 11, \"MallowsPointFive\", \"Nash\")\n",
        "desired_rules = [\"5ApprovalSincere\",\n",
        "                 \"5ApprovalManip\",\n",
        "                 \"PluralitySincere\",\n",
        "                 \"PluralityManip\",\n",
        "                 \"HalfApprovalSincere\",\n",
        "                 \"HalfApprovalManip\",\n",
        "                 \"QuarterApprovalSincere\",\n",
        "                 \"QuarterApprovalManip\"]\n",
        "visualise(current_scenario, desired_rules, 'Nash welfare, approval family, Mallows 0.5, n = 11', truncate_bottom = 10, truncate_top=40)"
      ]
    },
    {
      "cell_type": "code",
      "execution_count": null,
      "metadata": {
        "id": "OWsEt3Pr2fgu"
      },
      "outputs": [],
      "source": [
        "current_scenario = form_file_suffix(10**4, \"Voters\", 11, \"MallowsPointFive\", \"Nash\")\n",
        "desired_rules = [\"5BordaSincere\",\n",
        "                 \"5BordaManip\",\n",
        "                 \"BordaSincere\",\n",
        "                 \"BordaManip\",\n",
        "                 \"PluralitySincere\",\n",
        "                 \"PluralityManip\",\n",
        "                 \"HalfBordaSincere\",\n",
        "                 \"HalfBordaManip\",\n",
        "                 \"QuarterBordaSincere\",\n",
        "                 \"QuarterBordaManip\",\n",
        "                 ]\n",
        "visualise(current_scenario, desired_rules, 'Nash welfare, Borda family, Mallows 0.5, n = 11', truncate_bottom = 10, truncate_top=40)"
      ]
    },
    {
      "cell_type": "code",
      "execution_count": null,
      "metadata": {
        "id": "xyxObAalQoTo"
      },
      "outputs": [],
      "source": [
        "current_scenario = form_file_suffix(10**4, \"Voters\", 11, \"MallowsPointFive\", \"Nash\")\n",
        "desired_rules = [\"NashSincere\",\n",
        "                 \"NashManip\",\n",
        "                 \"Geometric2Sincere\",\n",
        "                 \"Geometric2Manip\",\n",
        "                 \"BordaSincere\",\n",
        "                 \"BordaManip\",\n",
        "                 \"PluralitySincere\",\n",
        "                 \"PluralityManip\",\n",
        "                 \"5BordaSincere\",\n",
        "                 \"5BordaManip\",]\n",
        "visualise(current_scenario, desired_rules, 'Nash welfare, interesting rules, Mallows 0.5, n = 11', truncate_bottom=10)"
      ]
    },
    {
      "cell_type": "markdown",
      "metadata": {
        "id": "a7ntNf5grq5B"
      },
      "source": [
        "### Mallows 0.5, Condorcet"
      ]
    },
    {
      "cell_type": "code",
      "execution_count": null,
      "metadata": {
        "id": "xiSM2E5Grq5C"
      },
      "outputs": [],
      "source": [
        "current_scenario = form_file_suffix(10**4, \"Voters\", 11, \"MallowsPointFive\", \"Condorcet\")\n",
        "desired_rules = [\n",
        "                 \"Geometric0p8Sincere\",\n",
        "                 \"Geometric0p8Manip\",\n",
        "                 \"Geometric0p5Sincere\",\n",
        "                 \"Geometric0p5Manip\",\n",
        "                 \"Geometric0p65Sincere\",\n",
        "                 \"Geometric0p65Manip\",\n",
        "                 \"BordaSincere\",\n",
        "                 \"BordaManip\",\n",
        "                 \"GenAntipSincere\",\n",
        "                 \"GenAntipManip\",\n",
        "                 \"NashSincere\",\n",
        "                 \"NashManip\",]\n",
        "\n",
        "visualise(current_scenario, desired_rules, 'Condorcet welfare, concave rules, Mallows 0.5, n = 11')"
      ]
    },
    {
      "cell_type": "code",
      "execution_count": null,
      "metadata": {
        "id": "qJjpyLFHrq5D"
      },
      "outputs": [],
      "source": [
        "current_scenario = form_file_suffix(10**4, \"Voters\", 11, \"MallowsPointFive\", \"Condorcet\")\n",
        "desired_rules = [\"Geometric1p2Sincere\",\n",
        "                 \"Geometric1p2Manip\",\n",
        "                 \"PluralitySincere\",\n",
        "                 \"PluralityManip\",\n",
        "                 \"GenPlurSincere\",\n",
        "                 \"GenPlurManip\",\n",
        "                 \"Geometric1p5Sincere\",\n",
        "                 \"Geometric1p5Manip\",\n",
        "                 \"Geometric2Sincere\",\n",
        "                 \"Geometric2Manip\",\n",
        "                 \"BordaSincere\",\n",
        "                 \"BordaManip\",]\n",
        "\n",
        "visualise(current_scenario, desired_rules, 'Condorcet welfare, convex rules , Mallows 0.5, n = 11')"
      ]
    },
    {
      "cell_type": "code",
      "execution_count": null,
      "metadata": {
        "id": "f8piegYhrq5D"
      },
      "outputs": [],
      "source": [
        "current_scenario = form_file_suffix(10**4, \"Voters\", 11, \"MallowsPointFive\", \"Condorcet\")\n",
        "desired_rules = [\"5ApprovalSincere\",\n",
        "                 \"5ApprovalManip\",\n",
        "                 \"PluralitySincere\",\n",
        "                 \"PluralityManip\",\n",
        "                 \"AntipSincere\",\n",
        "                 \"AntipManip\",\n",
        "                 \"HalfApprovalSincere\",\n",
        "                 \"HalfApprovalManip\",\n",
        "                 \"QuarterApprovalSincere\",\n",
        "                 \"QuarterApprovalManip\"]\n",
        "visualise(current_scenario, desired_rules, 'Condorcet welfare, approval family, Mallows 0.5, n = 11')"
      ]
    },
    {
      "cell_type": "code",
      "execution_count": null,
      "metadata": {
        "id": "H5PXEw2frq5E"
      },
      "outputs": [],
      "source": [
        "current_scenario = form_file_suffix(10**4, \"Voters\", 11, \"MallowsPointFive\", \"Condorcet\")\n",
        "desired_rules = [\"5BordaSincere\",\n",
        "                 \"5BordaManip\",\n",
        "                 \"BordaSincere\",\n",
        "                 \"BordaManip\",\n",
        "                 \"PluralitySincere\",\n",
        "                 \"PluralityManip\",\n",
        "                 \"HalfBordaSincere\",\n",
        "                 \"HalfBordaManip\",\n",
        "                 \"QuarterBordaSincere\",\n",
        "                 \"QuarterBordaManip\",\n",
        "                 ]\n",
        "visualise(current_scenario, desired_rules, 'Condorcet welfare, Borda family, Mallows 0.5, n = 11')"
      ]
    },
    {
      "cell_type": "code",
      "execution_count": null,
      "metadata": {
        "id": "na-kYog-rq5E"
      },
      "outputs": [],
      "source": [
        "current_scenario = form_file_suffix(10**4, \"Voters\", 11, \"MallowsPointFive\", \"Condorcet\")\n",
        "desired_rules = [\"Geometric2Sincere\",\n",
        "                 \"Geometric2Manip\",\n",
        "                 \"5ApprovalSincere\",\n",
        "                 \"5ApprovalManip\",\n",
        "                 \"5BordaSincere\",\n",
        "                 \"5BordaManip\",\n",
        "                 \"CopelandSincere\",\n",
        "                 \"CopelandManip\",\n",
        "                 \"SimpsonSincere\",\n",
        "                 \"SimpsonManip\",]\n",
        "visualise(current_scenario, desired_rules, 'Condorcet welfare, interesting rules, Mallows 0.5, n = 11')"
      ]
    },
    {
      "cell_type": "markdown",
      "metadata": {
        "id": "EeqNZuh3O0K1"
      },
      "source": [
        "## Fixed m"
      ]
    },
    {
      "cell_type": "markdown",
      "metadata": {
        "id": "WfSCliewO0K2"
      },
      "source": [
        "### Mallows 0.5, Borda"
      ]
    },
    {
      "cell_type": "code",
      "execution_count": null,
      "metadata": {
        "id": "ACA9KKscO0K2"
      },
      "outputs": [],
      "source": [
        "current_scenario = form_file_suffix(10**4, \"Candidates\", 10, \"MallowsPointFive\", \"Borda\")\n",
        "desired_rules = [\n",
        "                 \"Geometric0p8Sincere\",\n",
        "                 \"Geometric0p8Manip\",\n",
        "                 \"Geometric0p5Sincere\",\n",
        "                 \"Geometric0p5Manip\",\n",
        "                 \"Geometric0p65Sincere\",\n",
        "                 \"Geometric0p65Manip\",\n",
        "                 \"BordaSincere\",\n",
        "                 \"BordaManip\",\n",
        "                 \"NashSincere\",\n",
        "                 \"NashManip\",]\n",
        "\n",
        "visualise(current_scenario, desired_rules, 'Borda utility, concave rules, Mallows 0.5, m = 10')"
      ]
    },
    {
      "cell_type": "code",
      "execution_count": null,
      "metadata": {
        "id": "VXxcq-kXO0K3"
      },
      "outputs": [],
      "source": [
        "current_scenario = form_file_suffix(10**4, \"Candidates\", 10, \"MallowsPointFive\", \"Borda\")\n",
        "desired_rules = [\"Geometric1p2Sincere\",\n",
        "                 \"Geometric1p2Manip\",\n",
        "                 \"PluralitySincere\",\n",
        "                 \"PluralityManip\",\n",
        "                 \"Geometric1p5Sincere\",\n",
        "                 \"Geometric1p5Manip\",\n",
        "                 \"Geometric2Sincere\",\n",
        "                 \"Geometric2Manip\",\n",
        "                 \"BordaSincere\",\n",
        "                 \"BordaManip\",]\n",
        "\n",
        "visualise(current_scenario, desired_rules, 'Borda utility, convex rules , Mallows 0.5, m = 10', truncate_top=30)"
      ]
    },
    {
      "cell_type": "code",
      "execution_count": null,
      "metadata": {
        "id": "qpLwlSehO0K3"
      },
      "outputs": [],
      "source": [
        "current_scenario = form_file_suffix(10**4, \"Candidates\", 10, \"MallowsPointFive\", \"Borda\")\n",
        "desired_rules = [\"5ApprovalSincere\",\n",
        "                 \"5ApprovalManip\",\n",
        "                 \"5BordaSincere\",\n",
        "                 \"5BordaManip\",\n",
        "                 \"BordaSincere\",\n",
        "                 \"BordaManip\",\n",
        "                 \"PluralitySincere\",\n",
        "                 \"PluralityManip\",]\n",
        "visualise(current_scenario, desired_rules, 'Borda utility, abdriged rules, Mallows 0.5, m = 10')"
      ]
    },
    {
      "cell_type": "code",
      "execution_count": null,
      "metadata": {
        "id": "TMQoDDl0O0K4"
      },
      "outputs": [],
      "source": [
        "current_scenario = form_file_suffix(10**4, \"Candidates\", 10, \"MallowsPointFive\", \"Borda\")\n",
        "desired_rules = [\"Geometric0p8Sincere\",\n",
        "                 \"Geometric0p8Manip\",\n",
        "                 \"Geometric1p2Sincere\",\n",
        "                 \"Geometric1p2Manip\",\n",
        "                 \"BordaSincere\",\n",
        "                 \"BordaManip\",\n",
        "                 \"PluralitySincere\",\n",
        "                 \"PluralityManip\",\n",
        "                 \"CopelandSincere\",\n",
        "                 \"CopelandManip\",]\n",
        "visualise(current_scenario, desired_rules, 'Borda utility, interesting rules, Mallows 0.5, m = 10', truncate_top=30)"
      ]
    },
    {
      "cell_type": "markdown",
      "metadata": {
        "id": "Mmay0epVO0K4"
      },
      "source": [
        "### Mallows 0.5, Rawls"
      ]
    },
    {
      "cell_type": "code",
      "execution_count": null,
      "metadata": {
        "id": "bpfhCyW3O0K4"
      },
      "outputs": [],
      "source": [
        "current_scenario = form_file_suffix(10**4, \"Candidates\", 10, \"MallowsPointFive\", \"Rawls\")\n",
        "desired_rules = [\n",
        "                 \"Geometric0p8Sincere\",\n",
        "                 \"Geometric0p8Manip\",\n",
        "                 \"Geometric0p5Sincere\",\n",
        "                 \"Geometric0p5Manip\",\n",
        "                 \"Geometric0p65Sincere\",\n",
        "                 \"Geometric0p65Manip\",\n",
        "                 \"BordaSincere\",\n",
        "                 \"BordaManip\",\n",
        "                 \"NashSincere\",\n",
        "                 \"NashManip\",]\n",
        "\n",
        "visualise(current_scenario, desired_rules, 'Rawls utility, concave rules, Mallows 0.5, m = 10')"
      ]
    },
    {
      "cell_type": "code",
      "execution_count": null,
      "metadata": {
        "id": "cMTYWQZeO0K5"
      },
      "outputs": [],
      "source": [
        "current_scenario = form_file_suffix(10**4, \"Candidates\", 10, \"MallowsPointFive\", \"Rawls\")\n",
        "desired_rules = [\"Geometric1p2Sincere\",\n",
        "                 \"Geometric1p2Manip\",\n",
        "                 \"PluralitySincere\",\n",
        "                 \"PluralityManip\",\n",
        "                 \"Geometric1p5Sincere\",\n",
        "                 \"Geometric1p5Manip\",\n",
        "                 \"Geometric2Sincere\",\n",
        "                 \"Geometric2Manip\",\n",
        "                 \"BordaSincere\",\n",
        "                 \"BordaManip\",]\n",
        "\n",
        "visualise(current_scenario, desired_rules, 'Rawls utility, convex rules , Mallows 0.5, m = 10')"
      ]
    },
    {
      "cell_type": "code",
      "execution_count": null,
      "metadata": {
        "id": "d4EKWOS_O0K5"
      },
      "outputs": [],
      "source": [
        "current_scenario = form_file_suffix(10**4, \"Candidates\", 10, \"MallowsPointFive\", \"Rawls\")\n",
        "desired_rules = [\"5ApprovalSincere\",\n",
        "                 \"5ApprovalManip\",\n",
        "                 \"5BordaSincere\",\n",
        "                 \"5BordaManip\",\n",
        "                 \"BordaSincere\",\n",
        "                 \"BordaManip\",\n",
        "                 \"PluralitySincere\",\n",
        "                 \"PluralityManip\",]\n",
        "visualise(current_scenario, desired_rules, 'Rawls utility, abdriged rules, Mallows 0.5, m = 10')"
      ]
    },
    {
      "cell_type": "code",
      "execution_count": null,
      "metadata": {
        "id": "Hox9ca6tO0K6"
      },
      "outputs": [],
      "source": [
        "current_scenario = form_file_suffix(10**4, \"Candidates\", 10, \"MallowsPointFive\", \"Rawls\")\n",
        "desired_rules = [\n",
        "                 \"Geometric0p8Sincere\",\n",
        "                 \"Geometric0p8Manip\",\n",
        "                 \"BordaSincere\",\n",
        "                 \"BordaManip\",\n",
        "                 \"PluralitySincere\",\n",
        "                 \"PluralityManip\",]\n",
        "visualise(current_scenario, desired_rules, 'Rawls utility, interesting rules, Mallows 0.5, m = 10')"
      ]
    },
    {
      "cell_type": "markdown",
      "metadata": {
        "id": "_r94lgFuO0K6"
      },
      "source": [
        "### Mallows 0.5, Nash"
      ]
    },
    {
      "cell_type": "code",
      "execution_count": null,
      "metadata": {
        "id": "maFFJAPTO0K6"
      },
      "outputs": [],
      "source": [
        "current_scenario = form_file_suffix(10**4, \"Candidates\", 10, \"MallowsPointFive\", \"Nash\")\n",
        "desired_rules = [\n",
        "                 \"Geometric0p8Sincere\",\n",
        "                 \"Geometric0p8Manip\",\n",
        "                 \"Geometric0p5Sincere\",\n",
        "                 \"Geometric0p5Manip\",\n",
        "                 \"Geometric0p65Sincere\",\n",
        "                 \"Geometric0p65Manip\",\n",
        "                 \"BordaSincere\",\n",
        "                 \"BordaManip\",\n",
        "                 \"NashSincere\",\n",
        "                 \"NashManip\",]\n",
        "\n",
        "visualise(current_scenario, desired_rules, 'Nash utility, concave rules, Mallows 0.5, m = 10')"
      ]
    },
    {
      "cell_type": "code",
      "execution_count": null,
      "metadata": {
        "id": "aqzNzridO0K7"
      },
      "outputs": [],
      "source": [
        "current_scenario = form_file_suffix(10**4, \"Candidates\", 10, \"MallowsPointFive\", \"Nash\")\n",
        "desired_rules = [\"Geometric1p2Sincere\",\n",
        "                 \"Geometric1p2Manip\",\n",
        "                 \"PluralitySincere\",\n",
        "                 \"PluralityManip\",\n",
        "                 \"Geometric1p5Sincere\",\n",
        "                 \"Geometric1p5Manip\",\n",
        "                 \"Geometric2Sincere\",\n",
        "                 \"Geometric2Manip\",\n",
        "                 \"BordaSincere\",\n",
        "                 \"BordaManip\",]\n",
        "\n",
        "visualise(current_scenario, desired_rules, 'Nash utility, convex rules , Mallows 0.5, m = 10')"
      ]
    },
    {
      "cell_type": "code",
      "execution_count": null,
      "metadata": {
        "id": "f_EUgKBJO0K7"
      },
      "outputs": [],
      "source": [
        "current_scenario = form_file_suffix(10**4, \"Candidates\", 10, \"MallowsPointFive\", \"Nash\")\n",
        "desired_rules = [\"5ApprovalSincere\",\n",
        "                 \"5ApprovalManip\",\n",
        "                 \"5BordaSincere\",\n",
        "                 \"5BordaManip\",\n",
        "                 \"BordaSincere\",\n",
        "                 \"BordaManip\",\n",
        "                 \"PluralitySincere\",\n",
        "                 \"PluralityManip\",]\n",
        "visualise(current_scenario, desired_rules, 'Nash utility, abdriged rules, Mallows 0.5, m = 10')"
      ]
    },
    {
      "cell_type": "code",
      "execution_count": null,
      "metadata": {
        "id": "VcO0-hZxO0K7"
      },
      "outputs": [],
      "source": [
        "current_scenario = form_file_suffix(10**4, \"Candidates\", 10, \"MallowsPointFive\", \"Nash\")\n",
        "desired_rules = [\"Geometric0p65Sincere\",\n",
        "                 \"Geometric0p65Manip\",\n",
        "                 \"Geometric1p2Sincere\",\n",
        "                 \"Geometric1p2Manip\",\n",
        "                 \"PluralitySincere\",\n",
        "                 \"PluralityManip\",]\n",
        "visualise(current_scenario, desired_rules, 'Nash utility, interesting rules, Mallows 0.5, m = 10')"
      ]
    },
    {
      "cell_type": "markdown",
      "metadata": {
        "id": "zaeMlodZTi2P"
      },
      "source": [
        "# Mixed Mallows\n"
      ]
    },
    {
      "cell_type": "markdown",
      "metadata": {
        "id": "u7HQiAKDRj0M"
      },
      "source": [
        "## Fixed n"
      ]
    },
    {
      "cell_type": "markdown",
      "metadata": {
        "id": "KCZhm166Ti2X"
      },
      "source": [
        "### Mixed Mallows, Borda"
      ]
    },
    {
      "cell_type": "code",
      "execution_count": null,
      "metadata": {
        "id": "fZGWWWWRTi2X"
      },
      "outputs": [],
      "source": [
        "current_scenario = form_file_suffix(10**4, \"Voters\", 11, \"MixedMallowsTwo\", \"Borda\")\n",
        "desired_rules = [\n",
        "                 \"Geometric0p8Sincere\",\n",
        "                 \"Geometric0p8Manip\",\n",
        "                 \"Geometric0p5Sincere\",\n",
        "                 \"Geometric0p5Manip\",\n",
        "                 \"Geometric0p65Sincere\",\n",
        "                 \"Geometric0p65Manip\",\n",
        "                 \"GenAntipSincere\",\n",
        "                 \"GenAntipManip\",\n",
        "                 \"BordaSincere\",\n",
        "                 \"BordaManip\",\n",
        "                 \"NashSincere\",\n",
        "                 \"NashManip\",]\n",
        "\n",
        "visualise(current_scenario, desired_rules, 'Borda welfare, concave rules, Mixed Mallows, n = 11', truncate_bottom=10)"
      ]
    },
    {
      "cell_type": "code",
      "execution_count": null,
      "metadata": {
        "id": "yFnulicfTi2X"
      },
      "outputs": [],
      "source": [
        "current_scenario = form_file_suffix(10**4, \"Voters\", 11, \"MixedMallowsTwo\", \"Borda\")\n",
        "desired_rules = [\"Geometric1p2Sincere\",\n",
        "                 \"Geometric1p2Manip\",\n",
        "                 \"PluralitySincere\",\n",
        "                 \"PluralityManip\",\n",
        "                 \"Geometric1p5Sincere\",\n",
        "                 \"Geometric1p5Manip\",\n",
        "                 \"Geometric2Sincere\",\n",
        "                 \"Geometric2Manip\",\n",
        "                 \"GenPlurSincere\",\n",
        "                 \"GenPlurManip\",\n",
        "                 \"BordaSincere\",\n",
        "                 \"BordaManip\",]\n",
        "\n",
        "visualise(current_scenario, desired_rules, 'Borda welfare, convex rules , Mixed Mallows, n = 11', truncate_bottom=10)"
      ]
    },
    {
      "cell_type": "code",
      "execution_count": null,
      "metadata": {
        "id": "bnZjSaLW4LoG"
      },
      "outputs": [],
      "source": [
        "current_scenario = form_file_suffix(10**4, \"Voters\", 11, \"MixedMallowsTwo\", \"Borda\")\n",
        "desired_rules = [\"5ApprovalSincere\",\n",
        "                 \"5ApprovalManip\",\n",
        "                 \"PluralitySincere\",\n",
        "                 \"PluralityManip\",\n",
        "                 \"AntipSincere\",\n",
        "                 \"AntipManip\",\n",
        "                 \"HalfApprovalSincere\",\n",
        "                 \"HalfApprovalManip\",\n",
        "                 \"QuarterApprovalSincere\",\n",
        "                 \"QuarterApprovalManip\"]\n",
        "visualise(current_scenario, desired_rules, 'Borda welfare, approval family, Mixed Mallows, n = 11', truncate_bottom=10)"
      ]
    },
    {
      "cell_type": "code",
      "execution_count": null,
      "metadata": {
        "id": "H_NmCC354POB"
      },
      "outputs": [],
      "source": [
        "current_scenario = form_file_suffix(10**4, \"Voters\", 11, \"MixedMallowsTwo\", \"Borda\")\n",
        "desired_rules = [\"5BordaSincere\",\n",
        "                 \"5BordaManip\",\n",
        "                 \"BordaSincere\",\n",
        "                 \"BordaManip\",\n",
        "                 \"PluralitySincere\",\n",
        "                 \"PluralityManip\",\n",
        "                 \"HalfBordaSincere\",\n",
        "                 \"HalfBordaManip\",\n",
        "                 \"QuarterBordaSincere\",\n",
        "                 \"QuarterBordaManip\",\n",
        "                 ]\n",
        "visualise(current_scenario, desired_rules, 'Borda welfare, Borda family, Mixed Mallows, n = 11', truncate_bottom=10)"
      ]
    },
    {
      "cell_type": "code",
      "execution_count": null,
      "metadata": {
        "id": "ekc0CaNSTi2Y"
      },
      "outputs": [],
      "source": [
        "current_scenario = form_file_suffix(10**4, \"Voters\", 11, \"MixedMallowsTwo\", \"Borda\")\n",
        "desired_rules = [\"NashSincere\",\n",
        "                 \"NashManip\",\n",
        "                 \"Geometric1p2Sincere\",\n",
        "                 \"Geometric1p2Manip\",\n",
        "                 \"HalfBordaSincere\",\n",
        "                 \"HalfBordaManip\",\n",
        "                 \"QuarterApprovalSincere\",\n",
        "                 \"QuarterApprovalManip\",\n",
        "                 \"CopelandSincere\",\n",
        "                 \"CopelandManip\",\n",
        "                 \"SimpsonSincere\",\n",
        "                 \"SimpsonManip\",]\n",
        "visualise(current_scenario, desired_rules, 'Borda welfare, interesting rules, Mixed Mallows, n = 11', truncate_bottom=10)"
      ]
    },
    {
      "cell_type": "markdown",
      "metadata": {
        "id": "hS_0-o-cTi2Y"
      },
      "source": [
        "### Mixed Mallows, Rawls"
      ]
    },
    {
      "cell_type": "code",
      "execution_count": null,
      "metadata": {
        "id": "VYnqMEVfTi2Y"
      },
      "outputs": [],
      "source": [
        "current_scenario = form_file_suffix(10**4, \"Voters\", 11, \"MixedMallowsTwo\", \"Rawls\")\n",
        "desired_rules = [\n",
        "                 \"Geometric0p8Sincere\",\n",
        "                 \"Geometric0p8Manip\",\n",
        "                 \"Geometric0p5Sincere\",\n",
        "                 \"Geometric0p5Manip\",\n",
        "                 \"GenAntipSincere\",\n",
        "                 \"GenAntipManip\",\n",
        "                 \"Geometric0p65Sincere\",\n",
        "                 \"Geometric0p65Manip\",\n",
        "                 \"BordaSincere\",\n",
        "                 \"BordaManip\",\n",
        "                 \"NashSincere\",\n",
        "                 \"NashManip\",]\n",
        "\n",
        "visualise(current_scenario, desired_rules, 'Rawls welfare, concave rules, Mixed Mallows, n = 11', truncate_bottom=10)"
      ]
    },
    {
      "cell_type": "code",
      "execution_count": null,
      "metadata": {
        "id": "mwbSq0DrTi2Y"
      },
      "outputs": [],
      "source": [
        "current_scenario = form_file_suffix(10**4, \"Voters\", 11, \"MixedMallowsTwo\", \"Rawls\")\n",
        "desired_rules = [\"Geometric1p2Sincere\",\n",
        "                 \"Geometric1p2Manip\",\n",
        "                 \"PluralitySincere\",\n",
        "                 \"PluralityManip\",\n",
        "                 \"GenPlurSincere\",\n",
        "                 \"GenPlurManip\",\n",
        "                 \"Geometric1p5Sincere\",\n",
        "                 \"Geometric1p5Manip\",\n",
        "                 \"Geometric2Sincere\",\n",
        "                 \"Geometric2Manip\",\n",
        "                 \"BordaSincere\",\n",
        "                 \"BordaManip\",]\n",
        "\n",
        "visualise(current_scenario, desired_rules, 'Rawls welfare, convex rules , Mixed Mallows, n = 11', truncate_bottom=10)"
      ]
    },
    {
      "cell_type": "code",
      "execution_count": null,
      "metadata": {
        "id": "Jfk4qclf_7xp"
      },
      "outputs": [],
      "source": [
        "current_scenario = form_file_suffix(10**4, \"Voters\", 11, \"MixedMallowsTwo\", \"Rawls\")\n",
        "desired_rules = [\"5ApprovalSincere\",\n",
        "                 \"5ApprovalManip\",\n",
        "                 \"PluralitySincere\",\n",
        "                 \"PluralityManip\",\n",
        "                 \"AntipSincere\",\n",
        "                 \"AntipManip\",\n",
        "                 \"HalfApprovalSincere\",\n",
        "                 \"HalfApprovalManip\",\n",
        "                 \"QuarterApprovalSincere\",\n",
        "                 \"QuarterApprovalManip\"]\n",
        "visualise(current_scenario, desired_rules, 'Rawls welfare, approval family, Mixed Mallows, n = 11', truncate_bottom=10)"
      ]
    },
    {
      "cell_type": "code",
      "execution_count": null,
      "metadata": {
        "id": "JLZWnWWF_-P5"
      },
      "outputs": [],
      "source": [
        "current_scenario = form_file_suffix(10**4, \"Voters\", 11, \"MixedMallowsTwo\", \"Rawls\")\n",
        "desired_rules = [\"5BordaSincere\",\n",
        "                 \"5BordaManip\",\n",
        "                 \"BordaSincere\",\n",
        "                 \"BordaManip\",\n",
        "                 \"PluralitySincere\",\n",
        "                 \"PluralityManip\",\n",
        "                 \"HalfBordaSincere\",\n",
        "                 \"HalfBordaManip\",\n",
        "                 \"QuarterBordaSincere\",\n",
        "                 \"QuarterBordaManip\",\n",
        "                 ]\n",
        "visualise(current_scenario, desired_rules, 'Rawls welfare, Borda family, Mixed Mallows, n = 11', truncate_bottom=10)"
      ]
    },
    {
      "cell_type": "code",
      "execution_count": null,
      "metadata": {
        "id": "tFzY9cMRTi2Z"
      },
      "outputs": [],
      "source": [
        "current_scenario = form_file_suffix(10**4, \"Voters\", 11, \"MixedMallowsTwo\", \"Rawls\")\n",
        "desired_rules = [\"Geometric1p2Sincere\",\n",
        "                 \"Geometric1p2Manip\",\n",
        "                 \"Geometric0p8Sincere\",\n",
        "                 \"Geometric0p8Manip\",\n",
        "                 \"HalfBordaSincere\",\n",
        "                 \"HalfBordaManip\",\n",
        "                 \"QuarterApprovalSincere\",\n",
        "                 \"QuarterApprovalManip\",\n",
        "                 \"CopelandSincere\",\n",
        "                 \"CopelandManip\",\n",
        "                 \"SimpsonSincere\",\n",
        "                 \"SimpsonManip\",]\n",
        "visualise(current_scenario, desired_rules, 'Rawls welfare, interesting rules, Mixed Mallows, n = 11', truncate_bottom=10)"
      ]
    },
    {
      "cell_type": "markdown",
      "metadata": {
        "id": "HdmK9W1MTi2Z"
      },
      "source": [
        "### Mixed Mallows, Nash"
      ]
    },
    {
      "cell_type": "code",
      "execution_count": null,
      "metadata": {
        "id": "ulgqnTX0Ti2Z"
      },
      "outputs": [],
      "source": [
        "current_scenario = form_file_suffix(10**4, \"Voters\", 11, \"MixedMallowsTwo\", \"Nash\")\n",
        "desired_rules = [\n",
        "                 \"Geometric0p8Sincere\",\n",
        "                 \"Geometric0p8Manip\",\n",
        "                 \"Geometric0p5Sincere\",\n",
        "                 \"Geometric0p5Manip\",\n",
        "                 \"Geometric0p65Sincere\",\n",
        "                 \"Geometric0p65Manip\",\n",
        "                 \"BordaSincere\",\n",
        "                 \"BordaManip\",\n",
        "                 \"NashSincere\",\n",
        "                 \"NashManip\",]\n",
        "\n",
        "visualise(current_scenario, desired_rules, 'Nash welfare, concave rules, Mixed Mallows, n = 11', truncate_bottom=10)"
      ]
    },
    {
      "cell_type": "code",
      "execution_count": null,
      "metadata": {
        "id": "gSKUWRI9Ti2Z"
      },
      "outputs": [],
      "source": [
        "current_scenario = form_file_suffix(10**4, \"Voters\", 11, \"MixedMallowsTwo\", \"Nash\")\n",
        "desired_rules = [\"Geometric1p2Sincere\",\n",
        "                 \"Geometric1p2Manip\",\n",
        "                 \"PluralitySincere\",\n",
        "                 \"PluralityManip\",\n",
        "                 \"Geometric1p5Sincere\",\n",
        "                 \"Geometric1p5Manip\",\n",
        "                 \"Geometric2Sincere\",\n",
        "                 \"Geometric2Manip\",\n",
        "                 \"BordaSincere\",\n",
        "                 \"BordaManip\",]\n",
        "\n",
        "visualise(current_scenario, desired_rules, 'Nash welfare, convex rules , Mixed Mallows, n = 11', truncate_bottom=10)"
      ]
    },
    {
      "cell_type": "code",
      "execution_count": null,
      "metadata": {
        "id": "QAsB02eaA_fA"
      },
      "outputs": [],
      "source": [
        "current_scenario = form_file_suffix(10**4, \"Voters\", 11, \"MixedMallowsTwo\", \"Nash\")\n",
        "desired_rules = [\"5ApprovalSincere\",\n",
        "                 \"5ApprovalManip\",\n",
        "                 \"PluralitySincere\",\n",
        "                 \"PluralityManip\",\n",
        "                 \"HalfApprovalSincere\",\n",
        "                 \"HalfApprovalManip\",\n",
        "                 \"QuarterApprovalSincere\",\n",
        "                 \"QuarterApprovalManip\"]\n",
        "visualise(current_scenario, desired_rules, 'Nash welfare, approval family, Mixed Mallows, n = 11', truncate_bottom=10)"
      ]
    },
    {
      "cell_type": "code",
      "execution_count": null,
      "metadata": {
        "id": "T1XOVc54BCTu"
      },
      "outputs": [],
      "source": [
        "current_scenario = form_file_suffix(10**4, \"Voters\", 11, \"MixedMallowsTwo\", \"Nash\")\n",
        "desired_rules = [\"5BordaSincere\",\n",
        "                 \"5BordaManip\",\n",
        "                 \"BordaSincere\",\n",
        "                 \"BordaManip\",\n",
        "                 \"PluralitySincere\",\n",
        "                 \"PluralityManip\",\n",
        "                 \"HalfBordaSincere\",\n",
        "                 \"HalfBordaManip\",\n",
        "                 \"QuarterBordaSincere\",\n",
        "                 \"QuarterBordaManip\",\n",
        "                 ]\n",
        "visualise(current_scenario, desired_rules, 'Nash welfare, Borda family, Mixed Mallows, n = 11', truncate_bottom=10)"
      ]
    },
    {
      "cell_type": "code",
      "execution_count": null,
      "metadata": {
        "id": "ZwPPBqGWTi2a"
      },
      "outputs": [],
      "source": [
        "current_scenario = form_file_suffix(10**4, \"Voters\", 11, \"MixedMallowsTwo\", \"Nash\")\n",
        "desired_rules = [\"NashSincere\",\n",
        "                 \"NashManip\",\n",
        "                 \"CopelandSincere\",\n",
        "                 \"CopelandManip\",\n",
        "                 \"SimpsonSincere\",\n",
        "                 \"SimpsonManip\",\n",
        "                 \"Geometric1p2Sincere\",\n",
        "                 \"Geometric1p2Manip\",\n",
        "                 \"HalfBordaSincere\",\n",
        "                 \"HalfBordaManip\",\n",
        "                 \"QuarterApprovalSincere\",\n",
        "                 \"QuarterApprovalManip\",]\n",
        "visualise(current_scenario, desired_rules, 'Nash welfare, interesting rules, Mixed Mallows, n = 11', truncate_bottom=10)"
      ]
    },
    {
      "cell_type": "markdown",
      "metadata": {
        "id": "LYq_cVleW0lI"
      },
      "source": [
        "### Mixed Mallows, Condorcet"
      ]
    },
    {
      "cell_type": "code",
      "execution_count": null,
      "metadata": {
        "id": "002vMh9gW0lJ"
      },
      "outputs": [],
      "source": [
        "current_scenario = form_file_suffix(10**4, \"Voters\", 11, \"MixedMallowsTwo\", \"Condorcet\")\n",
        "desired_rules = [\n",
        "                 \"Geometric0p8Sincere\",\n",
        "                 \"Geometric0p8Manip\",\n",
        "                 \"Geometric0p5Sincere\",\n",
        "                 \"Geometric0p5Manip\",\n",
        "                 \"Geometric0p65Sincere\",\n",
        "                 \"Geometric0p65Manip\",\n",
        "                 \"GenAntipSincere\",\n",
        "                 \"GenAntipManip\",\n",
        "                 \"BordaSincere\",\n",
        "                 \"BordaManip\",\n",
        "                 \"NashSincere\",\n",
        "                 \"NashManip\",]\n",
        "\n",
        "visualise(current_scenario, desired_rules, 'Condorcet welfare, concave rules, Mixed Mallows, n = 11')"
      ]
    },
    {
      "cell_type": "code",
      "execution_count": null,
      "metadata": {
        "id": "WqtzowS6W0lK"
      },
      "outputs": [],
      "source": [
        "current_scenario = form_file_suffix(10**4, \"Voters\", 11, \"MixedMallowsTwo\", \"Condorcet\")\n",
        "desired_rules = [\"Geometric1p2Sincere\",\n",
        "                 \"Geometric1p2Manip\",\n",
        "                 \"PluralitySincere\",\n",
        "                 \"PluralityManip\",\n",
        "                 \"GenPlurSincere\",\n",
        "                 \"GenPlurManip\",\n",
        "                 \"Geometric1p5Sincere\",\n",
        "                 \"Geometric1p5Manip\",\n",
        "                 \"Geometric2Sincere\",\n",
        "                 \"Geometric2Manip\",\n",
        "                 \"BordaSincere\",\n",
        "                 \"BordaManip\",]\n",
        "\n",
        "visualise(current_scenario, desired_rules, 'Condorcet welfare, convex rules , Mixed Mallows, n = 11', truncate_bottom=10)"
      ]
    },
    {
      "cell_type": "code",
      "execution_count": null,
      "metadata": {
        "id": "DsBeWsG-W0lK"
      },
      "outputs": [],
      "source": [
        "current_scenario = form_file_suffix(10**4, \"Voters\", 11, \"MixedMallowsTwo\", \"Condorcet\")\n",
        "desired_rules = [\"5ApprovalSincere\",\n",
        "                 \"5ApprovalManip\",\n",
        "                 \"PluralitySincere\",\n",
        "                 \"PluralityManip\",\n",
        "                 \"AntipSincere\",\n",
        "                 \"AntipManip\",\n",
        "                 \"HalfApprovalSincere\",\n",
        "                 \"HalfApprovalManip\",\n",
        "                 \"QuarterApprovalSincere\",\n",
        "                 \"QuarterApprovalManip\"]\n",
        "visualise(current_scenario, desired_rules, 'Condorcet welfare, approval family, Mixed Mallows, n = 11', truncate_bottom=10)"
      ]
    },
    {
      "cell_type": "code",
      "execution_count": null,
      "metadata": {
        "id": "6RZgs2L0W0lL"
      },
      "outputs": [],
      "source": [
        "current_scenario = form_file_suffix(10**4, \"Voters\", 11, \"MixedMallowsTwo\", \"Condorcet\")\n",
        "desired_rules = [\"5BordaSincere\",\n",
        "                 \"5BordaManip\",\n",
        "                 \"BordaSincere\",\n",
        "                 \"BordaManip\",\n",
        "                 \"PluralitySincere\",\n",
        "                 \"PluralityManip\",\n",
        "                 \"HalfBordaSincere\",\n",
        "                 \"HalfBordaManip\",\n",
        "                 \"QuarterBordaSincere\",\n",
        "                 \"QuarterBordaManip\",\n",
        "                 ]\n",
        "visualise(current_scenario, desired_rules, 'Condorcet welfare, Borda family, Mixed Mallows, n = 11', truncate_bottom=10)"
      ]
    },
    {
      "cell_type": "code",
      "execution_count": null,
      "metadata": {
        "id": "C6B_sYplW0lL"
      },
      "outputs": [],
      "source": [
        "current_scenario = form_file_suffix(10**4, \"Voters\", 10, \"MixedMallowsTwo\", \"Condorcet\")\n",
        "desired_rules = [\"NashSincere\",\n",
        "                 \"NashManip\",\n",
        "                 \"Geometric1p2Sincere\",\n",
        "                 \"Geometric1p2Manip\",\n",
        "                 \"5BordaSincere\",\n",
        "                 \"5BordaManip\",\n",
        "                 \"5ApprovalSincere\",\n",
        "                 \"5ApprovalManip\",\n",
        "                 \"CopelandSincere\",\n",
        "                 \"CopelandManip\",\n",
        "                 \"SimpsonSincere\",\n",
        "                 \"SimpsonManip\",]\n",
        "visualise(current_scenario, desired_rules, 'Condorcet welfare, interesting rules, Mixed Mallows, n = 11', truncate_bottom=10)"
      ]
    },
    {
      "cell_type": "markdown",
      "metadata": {
        "id": "KwJnOI_bRvPi"
      },
      "source": [
        "## Fixed m"
      ]
    },
    {
      "cell_type": "markdown",
      "metadata": {
        "id": "bDjztQQURvPj"
      },
      "source": [
        "### Mixed Mallows, Borda"
      ]
    },
    {
      "cell_type": "code",
      "execution_count": null,
      "metadata": {
        "id": "bR80L9HYRvPm"
      },
      "outputs": [],
      "source": [
        "current_scenario = form_file_suffix(10**4, \"Candidates\", 10, \"MixedMallowsTwo\", \"Borda\")\n",
        "desired_rules = [\n",
        "                 \"Geometric0p8Sincere\",\n",
        "                 \"Geometric0p8Manip\",\n",
        "                 \"Geometric0p5Sincere\",\n",
        "                 \"Geometric0p5Manip\",\n",
        "                 \"Geometric0p65Sincere\",\n",
        "                 \"Geometric0p65Manip\",\n",
        "                 \"BordaSincere\",\n",
        "                 \"BordaManip\",\n",
        "                 \"NashSincere\",\n",
        "                 \"NashManip\",]\n",
        "\n",
        "visualise(current_scenario, desired_rules, 'Borda utility, concave rules, Mixed Mallows, m = 10', truncate_top=50)"
      ]
    },
    {
      "cell_type": "code",
      "execution_count": null,
      "metadata": {
        "id": "RzQtn3_TRvPq"
      },
      "outputs": [],
      "source": [
        "current_scenario = form_file_suffix(10**4, \"Candidates\", 10, \"MixedMallowsTwo\", \"Borda\")\n",
        "desired_rules = [\"Geometric1p2Sincere\",\n",
        "                 \"Geometric1p2Manip\",\n",
        "                 \"PluralitySincere\",\n",
        "                 \"PluralityManip\",\n",
        "                 \"Geometric1p5Sincere\",\n",
        "                 \"Geometric1p5Manip\",\n",
        "                 \"Geometric2Sincere\",\n",
        "                 \"Geometric2Manip\",\n",
        "                 \"BordaSincere\",\n",
        "                 \"BordaManip\",]\n",
        "\n",
        "visualise(current_scenario, desired_rules, 'Borda utility, convex rules , Mixed Mallows, m = 10', truncate_top=50)"
      ]
    },
    {
      "cell_type": "code",
      "execution_count": null,
      "metadata": {
        "id": "5UC0Oz3iRvPt"
      },
      "outputs": [],
      "source": [
        "current_scenario = form_file_suffix(10**4, \"Candidates\", 10, \"MixedMallowsTwo\", \"Borda\")\n",
        "desired_rules = [\"5ApprovalSincere\",\n",
        "                 \"5ApprovalManip\",\n",
        "                 \"5BordaSincere\",\n",
        "                 \"5BordaManip\",\n",
        "                 \"BordaSincere\",\n",
        "                 \"BordaManip\",\n",
        "                 \"PluralitySincere\",\n",
        "                 \"PluralityManip\",]\n",
        "visualise(current_scenario, desired_rules, 'Borda utility, abdriged rules, Mixed Mallows, m = 10', truncate_top=50)"
      ]
    },
    {
      "cell_type": "code",
      "execution_count": null,
      "metadata": {
        "id": "Vq99pnMHRvPw"
      },
      "outputs": [],
      "source": [
        "current_scenario = form_file_suffix(10**4, \"Candidates\", 10, \"MixedMallowsTwo\", \"Borda\")\n",
        "desired_rules = [\"Geometric0p8Sincere\",\n",
        "                 \"Geometric0p8Manip\",\n",
        "                 \"Geometric1p2Sincere\",\n",
        "                 \"Geometric1p2Manip\",\n",
        "                 \"BordaSincere\",\n",
        "                 \"BordaManip\",\n",
        "                 \"PluralitySincere\",\n",
        "                 \"PluralityManip\",]\n",
        "visualise(current_scenario, desired_rules, 'Borda utility, interesting rules, Mixed Mallows, m = 10', truncate_top=50)"
      ]
    },
    {
      "cell_type": "markdown",
      "metadata": {
        "id": "UVPwJBJpRvP4"
      },
      "source": [
        "### Mixed Mallows, Rawls"
      ]
    },
    {
      "cell_type": "code",
      "execution_count": null,
      "metadata": {
        "id": "o06hH0v9RvP4"
      },
      "outputs": [],
      "source": [
        "current_scenario = form_file_suffix(10**4, \"Candidates\", 10, \"MixedMallowsTwo\", \"Rawls\")\n",
        "desired_rules = [\n",
        "                 \"Geometric0p8Sincere\",\n",
        "                 \"Geometric0p8Manip\",\n",
        "                 \"Geometric0p5Sincere\",\n",
        "                 \"Geometric0p5Manip\",\n",
        "                 \"Geometric0p65Sincere\",\n",
        "                 \"Geometric0p65Manip\",\n",
        "                 \"BordaSincere\",\n",
        "                 \"BordaManip\",\n",
        "                 \"NashSincere\",\n",
        "                 \"NashManip\",]\n",
        "\n",
        "visualise(current_scenario, desired_rules, 'Rawls utility, concave rules, Mixed Mallows, m = 10', truncate_bottom = 5, truncate_top=50)"
      ]
    },
    {
      "cell_type": "code",
      "execution_count": null,
      "metadata": {
        "id": "pHdyq54RRvP8"
      },
      "outputs": [],
      "source": [
        "current_scenario = form_file_suffix(10**4, \"Candidates\", 10, \"MixedMallowsTwo\", \"Rawls\")\n",
        "desired_rules = [\"Geometric1p2Sincere\",\n",
        "                 \"Geometric1p2Manip\",\n",
        "                 \"PluralitySincere\",\n",
        "                 \"PluralityManip\",\n",
        "                 \"Geometric1p5Sincere\",\n",
        "                 \"Geometric1p5Manip\",\n",
        "                 \"Geometric2Sincere\",\n",
        "                 \"Geometric2Manip\",\n",
        "                 \"BordaSincere\",\n",
        "                 \"BordaManip\",]\n",
        "\n",
        "visualise(current_scenario, desired_rules, 'Rawls utility, convex rules , Mixed Mallows, m = 10', truncate_bottom = 5, truncate_top=50)"
      ]
    },
    {
      "cell_type": "code",
      "execution_count": null,
      "metadata": {
        "id": "OTupsChKRvP_"
      },
      "outputs": [],
      "source": [
        "current_scenario = form_file_suffix(10**4, \"Candidates\", 10, \"MixedMallowsTwo\", \"Rawls\")\n",
        "desired_rules = [\"5ApprovalSincere\",\n",
        "                 \"5ApprovalManip\",\n",
        "                 \"5BordaSincere\",\n",
        "                 \"5BordaManip\",\n",
        "                 \"BordaSincere\",\n",
        "                 \"BordaManip\",\n",
        "                 \"PluralitySincere\",\n",
        "                 \"PluralityManip\",]\n",
        "visualise(current_scenario, desired_rules, 'Rawls utility, abdriged rules, Mixed Mallow, m = 10', truncate_bottom = 5, truncate_top=50)"
      ]
    },
    {
      "cell_type": "code",
      "execution_count": null,
      "metadata": {
        "id": "DgyiPyS6RvQD"
      },
      "outputs": [],
      "source": [
        "current_scenario = form_file_suffix(10**4, \"Candidates\", 10, \"MixedMallowsTwo\", \"Rawls\")\n",
        "desired_rules = [\"Geometric1p2Sincere\",\n",
        "                 \"Geometric1p2Manip\",\n",
        "                 \"Geometric0p8Sincere\",\n",
        "                 \"Geometric0p8Manip\",\n",
        "                 \"BordaSincere\",\n",
        "                 \"BordaManip\",\n",
        "                 \"PluralitySincere\",\n",
        "                 \"PluralityManip\",]\n",
        "visualise(current_scenario, desired_rules, 'Rawls utility, interesting rules, Mixed Mallows, m = 10', truncate_bottom = 5, truncate_top=50)"
      ]
    },
    {
      "cell_type": "markdown",
      "metadata": {
        "id": "lnazJTAjRvQG"
      },
      "source": [
        "### Mixed Mallows, Nash"
      ]
    },
    {
      "cell_type": "code",
      "execution_count": null,
      "metadata": {
        "id": "9mDe1SRbRvQK"
      },
      "outputs": [],
      "source": [
        "current_scenario = form_file_suffix(10**4, \"Candidates\", 10, \"MixedMallowsTwo\", \"Nash\")\n",
        "desired_rules = [\n",
        "                 \"Geometric0p8Sincere\",\n",
        "                 \"Geometric0p8Manip\",\n",
        "                 \"Geometric0p5Sincere\",\n",
        "                 \"Geometric0p5Manip\",\n",
        "                 \"Geometric0p65Sincere\",\n",
        "                 \"Geometric0p65Manip\",\n",
        "                 \"BordaSincere\",\n",
        "                 \"BordaManip\",\n",
        "                 \"NashSincere\",\n",
        "                 \"NashManip\",]\n",
        "\n",
        "visualise(current_scenario, desired_rules, 'Nash utility, concave rules, Mixed Mallows, m = 10', truncate_bottom = 5, truncate_top=50)"
      ]
    },
    {
      "cell_type": "code",
      "execution_count": null,
      "metadata": {
        "id": "RYmln9WYRvQQ"
      },
      "outputs": [],
      "source": [
        "current_scenario = form_file_suffix(10**4, \"Candidates\", 10, \"MixedMallowsTwo\", \"Nash\")\n",
        "desired_rules = [\"Geometric1p2Sincere\",\n",
        "                 \"Geometric1p2Manip\",\n",
        "                 \"PluralitySincere\",\n",
        "                 \"PluralityManip\",\n",
        "                 \"Geometric1p5Sincere\",\n",
        "                 \"Geometric1p5Manip\",\n",
        "                 \"Geometric2Sincere\",\n",
        "                 \"Geometric2Manip\",\n",
        "                 \"BordaSincere\",\n",
        "                 \"BordaManip\",]\n",
        "\n",
        "visualise(current_scenario, desired_rules, 'Nash utility, convex rules , Mixed Mallows, m = 10', truncate_bottom = 5, truncate_top=50)"
      ]
    },
    {
      "cell_type": "code",
      "execution_count": null,
      "metadata": {
        "id": "5Q8t-EL5RvQV"
      },
      "outputs": [],
      "source": [
        "current_scenario = form_file_suffix(10**4, \"Candidates\", 10, \"MixedMallowsTwo\", \"Nash\")\n",
        "desired_rules = [\"5ApprovalSincere\",\n",
        "                 \"5ApprovalManip\",\n",
        "                 \"5BordaSincere\",\n",
        "                 \"5BordaManip\",\n",
        "                 \"BordaSincere\",\n",
        "                 \"BordaManip\",\n",
        "                 \"PluralitySincere\",\n",
        "                 \"PluralityManip\",]\n",
        "visualise(current_scenario, desired_rules, 'Nash utility, abdriged rules, Mixed Mallows, m = 10', truncate_bottom = 5, truncate_top=50)"
      ]
    },
    {
      "cell_type": "code",
      "execution_count": null,
      "metadata": {
        "id": "WvxfcYi8RvQZ"
      },
      "outputs": [],
      "source": [
        "current_scenario = form_file_suffix(10**4, \"Candidates\", 10, \"MixedMallowsTwo\", \"Nash\")\n",
        "desired_rules = [\"Geometric0p8Sincere\",\n",
        "                 \"Geometric0p8Manip\",\n",
        "                 \"Geometric1p2Sincere\",\n",
        "                 \"Geometric1p2Manip\",\n",
        "                 \"BordaSincere\",\n",
        "                 \"BordaManip\",\n",
        "                 \"5ApprovalSincere\",\n",
        "                 \"5ApprovalManip\",]\n",
        "visualise(current_scenario, desired_rules, 'Nash utility, interesting rules, Mixed Mallows, m = 10', truncate_bottom = 5, truncate_top=50)"
      ]
    },
    {
      "cell_type": "markdown",
      "metadata": {
        "id": "9EqkxVINTWMY"
      },
      "source": [
        "# Mallows Sushi"
      ]
    },
    {
      "cell_type": "markdown",
      "metadata": {
        "id": "6-OT8XEoTWNM"
      },
      "source": [
        "## Fixed m"
      ]
    },
    {
      "cell_type": "markdown",
      "metadata": {
        "id": "lzLStOaVTWNR"
      },
      "source": [
        "### Mallows Sushi, Borda"
      ]
    },
    {
      "cell_type": "code",
      "execution_count": null,
      "metadata": {
        "id": "L6uMeA4pTWNS"
      },
      "outputs": [],
      "source": [
        "current_scenario = form_file_suffix(10**4, \"Candidates\", 10, \"MallowsSushi\", \"Borda\")\n",
        "desired_rules = [\n",
        "                 \"Geometric0p8Sincere\",\n",
        "                 \"Geometric0p8Manip\",\n",
        "                 \"GenAntipSincere\",\n",
        "                 \"GenAntipManip\",\n",
        "                 \"Geometric0p5Sincere\",\n",
        "                 \"Geometric0p5Manip\",\n",
        "                 \"Geometric0p65Sincere\",\n",
        "                 \"Geometric0p65Manip\",\n",
        "                 \"BordaSincere\",\n",
        "                 \"BordaManip\",\n",
        "                 \"NashSincere\",\n",
        "                 \"NashManip\",]\n",
        "\n",
        "visualise(current_scenario, desired_rules, 'Borda welfare, concave rules, Mallows Sushi, m = 10')"
      ]
    },
    {
      "cell_type": "code",
      "execution_count": null,
      "metadata": {
        "id": "_MiJW8MeTWNY"
      },
      "outputs": [],
      "source": [
        "current_scenario = form_file_suffix(10**4, \"Candidates\", 10, \"MallowsSushi\", \"Borda\")\n",
        "desired_rules = [\"Geometric1p2Sincere\",\n",
        "                 \"Geometric1p2Manip\",\n",
        "                 \"PluralitySincere\",\n",
        "                 \"PluralityManip\",\n",
        "                 \"GenPlurSincere\",\n",
        "                 \"GenPlurManip\",\n",
        "                 \"Geometric1p5Sincere\",\n",
        "                 \"Geometric1p5Manip\",\n",
        "                 \"Geometric2Sincere\",\n",
        "                 \"Geometric2Manip\",\n",
        "                 \"BordaSincere\",\n",
        "                 \"BordaManip\",]\n",
        "\n",
        "visualise(current_scenario, desired_rules, 'Borda welfare, convex rules , Mallows Sushi, m = 10')"
      ]
    },
    {
      "cell_type": "code",
      "execution_count": null,
      "metadata": {
        "id": "QTr8BSvUTWNc"
      },
      "outputs": [],
      "source": [
        "current_scenario = form_file_suffix(10**4, \"Candidates\", 10, \"MallowsSushi\", \"Borda\")\n",
        "desired_rules = [\"5ApprovalSincere\",\n",
        "                 \"5ApprovalManip\",\n",
        "                 \"5BordaSincere\",\n",
        "                 \"5BordaManip\",\n",
        "                 \"AntipSincere\",\n",
        "                 \"AntipManip\",\n",
        "                 \"BordaSincere\",\n",
        "                 \"BordaManip\",\n",
        "                 \"PluralitySincere\",\n",
        "                 \"PluralityManip\",]\n",
        "visualise(current_scenario, desired_rules, 'Borda welfare, abdriged rules, Mallows Sushi, m = 10')"
      ]
    },
    {
      "cell_type": "code",
      "execution_count": null,
      "metadata": {
        "id": "1ivAUWqWTWNd"
      },
      "outputs": [],
      "source": [
        "current_scenario = form_file_suffix(10**4, \"Candidates\", 10, \"MallowsSushi\", \"Borda\")\n",
        "desired_rules = [\"Geometric0p8Sincere\",\n",
        "                 \"Geometric0p8Manip\",\n",
        "                 \"Geometric1p2Sincere\",\n",
        "                 \"Geometric1p2Manip\",\n",
        "                 \"BordaSincere\",\n",
        "                 \"BordaManip\",\n",
        "                 \"CopelandSincere\",\n",
        "                 \"CopelandManip\",\n",
        "                 \"SimpsonSincere\",\n",
        "                 \"SimpsonManip\",\n",
        "                 \"PluralitySincere\",\n",
        "                 \"PluralityManip\",]\n",
        "visualise(current_scenario, desired_rules, 'Borda welfare, interesting rules, Mallows Sushi, m = 10')"
      ]
    },
    {
      "cell_type": "markdown",
      "metadata": {
        "id": "zPem8o9cTWNh"
      },
      "source": [
        "### Mallows Sushi, Rawls"
      ]
    },
    {
      "cell_type": "code",
      "execution_count": null,
      "metadata": {
        "id": "JvkOTCOUTWNo"
      },
      "outputs": [],
      "source": [
        "current_scenario = form_file_suffix(10**4, \"Candidates\", 10, \"MallowsSushi\", \"Rawls\")\n",
        "desired_rules = [\n",
        "                 \"Geometric0p8Sincere\",\n",
        "                 \"Geometric0p8Manip\",\n",
        "                 \"Geometric0p5Sincere\",\n",
        "                 \"Geometric0p5Manip\",\n",
        "                 \"Geometric0p65Sincere\",\n",
        "                 \"Geometric0p65Manip\",\n",
        "                 \"GenAntipSincere\",\n",
        "                 \"GenAntipManip\",\n",
        "                 \"BordaSincere\",\n",
        "                 \"BordaManip\",\n",
        "                 \"NashSincere\",\n",
        "                 \"NashManip\",]\n",
        "\n",
        "visualise(current_scenario, desired_rules, 'Rawls welfare, concave rules, Mallows Sushi, m = 10')"
      ]
    },
    {
      "cell_type": "code",
      "execution_count": null,
      "metadata": {
        "id": "H4kXSNNRTWNo"
      },
      "outputs": [],
      "source": [
        "current_scenario = form_file_suffix(10**4, \"Candidates\", 10, \"MallowsSushi\", \"Rawls\")\n",
        "desired_rules = [\"Geometric1p2Sincere\",\n",
        "                 \"Geometric1p2Manip\",\n",
        "                 \"PluralitySincere\",\n",
        "                 \"PluralityManip\",\n",
        "                 \"GenPlurSincere\",\n",
        "                 \"GenPlurManip\",\n",
        "                 \"Geometric1p5Sincere\",\n",
        "                 \"Geometric1p5Manip\",\n",
        "                 \"Geometric2Sincere\",\n",
        "                 \"Geometric2Manip\",\n",
        "                 \"BordaSincere\",\n",
        "                 \"BordaManip\",]\n",
        "\n",
        "visualise(current_scenario, desired_rules, 'Rawls welfare, convex rules , Mallows Sushi, m = 10')"
      ]
    },
    {
      "cell_type": "code",
      "execution_count": null,
      "metadata": {
        "id": "FxzSl3q7TWNy"
      },
      "outputs": [],
      "source": [
        "current_scenario = form_file_suffix(10**4, \"Candidates\", 10, \"MallowsSushi\", \"Rawls\")\n",
        "desired_rules = [\"5ApprovalSincere\",\n",
        "                 \"5ApprovalManip\",\n",
        "                 \"5BordaSincere\",\n",
        "                 \"5BordaManip\",\n",
        "                 \"BordaSincere\",\n",
        "                 \"BordaManip\",\n",
        "                 \"AntipSincere\",\n",
        "                 \"AntipManip\",\n",
        "                 \"PluralitySincere\",\n",
        "                 \"PluralityManip\",]\n",
        "visualise(current_scenario, desired_rules, 'Rawls welfare, abdriged rules, Mallows Sushi, m = 10')"
      ]
    },
    {
      "cell_type": "code",
      "execution_count": null,
      "metadata": {
        "id": "D2lSi7rBTWNz"
      },
      "outputs": [],
      "source": [
        "current_scenario = form_file_suffix(10**4, \"Candidates\", 10, \"MallowsSushi\", \"Rawls\")\n",
        "desired_rules = [\n",
        "                 \"Geometric1p2Sincere\",\n",
        "                 \"Geometric1p2Manip\",\n",
        "                 \"GenAntipSincere\",\n",
        "                 \"GenAntipManip\",\n",
        "                 \"NashSincere\",\n",
        "                 \"NashManip\",\n",
        "                 \"SimpsonSincere\",\n",
        "                 \"SimpsonManip\",\n",
        "                 \"BordaSincere\",\n",
        "                 \"BordaManip\",\n",
        "                 \"PluralitySincere\",\n",
        "                 \"PluralityManip\",]\n",
        "visualise(current_scenario, desired_rules, 'Rawls welfare, interesting rules, Mallows Sushi, m = 10')"
      ]
    },
    {
      "cell_type": "markdown",
      "metadata": {
        "id": "0hSzjhgvTWN4"
      },
      "source": [
        "### Mallows Sushi, Nash"
      ]
    },
    {
      "cell_type": "code",
      "execution_count": null,
      "metadata": {
        "id": "YiUZVBtBTWN4"
      },
      "outputs": [],
      "source": [
        "current_scenario = form_file_suffix(10**4, \"Candidates\", 10, \"MallowsSushi\", \"Nash\")\n",
        "desired_rules = [\n",
        "                 \"Geometric0p8Sincere\",\n",
        "                 \"Geometric0p8Manip\",\n",
        "                 \"Geometric0p5Sincere\",\n",
        "                 \"Geometric0p5Manip\",\n",
        "                 \"Geometric0p65Sincere\",\n",
        "                 \"Geometric0p65Manip\",\n",
        "                 \"BordaSincere\",\n",
        "                 \"BordaManip\",\n",
        "                 \"NashSincere\",\n",
        "                 \"NashManip\",]\n",
        "\n",
        "visualise(current_scenario, desired_rules, 'Nash welfare, concave rules, Mallows Sushi, m = 10')"
      ]
    },
    {
      "cell_type": "code",
      "execution_count": null,
      "metadata": {
        "id": "KbM5MBOoTWN5"
      },
      "outputs": [],
      "source": [
        "current_scenario = form_file_suffix(10**4, \"Candidates\", 10, \"MallowsSushi\", \"Nash\")\n",
        "desired_rules = [\"Geometric1p2Sincere\",\n",
        "                 \"Geometric1p2Manip\",\n",
        "                 \"PluralitySincere\",\n",
        "                 \"PluralityManip\",\n",
        "                 \"Geometric1p5Sincere\",\n",
        "                 \"Geometric1p5Manip\",\n",
        "                 \"Geometric2Sincere\",\n",
        "                 \"Geometric2Manip\",\n",
        "                 \"BordaSincere\",\n",
        "                 \"BordaManip\",]\n",
        "\n",
        "visualise(current_scenario, desired_rules, 'Nash welfare, convex rules, Mallows Sushi, m = 10', truncate_top=30)"
      ]
    },
    {
      "cell_type": "code",
      "execution_count": null,
      "metadata": {
        "id": "olkLtvjQTWOA"
      },
      "outputs": [],
      "source": [
        "current_scenario = form_file_suffix(10**4, \"Candidates\", 10, \"MallowsSushi\", \"Nash\")\n",
        "desired_rules = [\"5ApprovalSincere\",\n",
        "                 \"5ApprovalManip\",\n",
        "                 \"5BordaSincere\",\n",
        "                 \"5BordaManip\",\n",
        "                 \"BordaSincere\",\n",
        "                 \"BordaManip\",\n",
        "                 \"PluralitySincere\",\n",
        "                 \"PluralityManip\",]\n",
        "visualise(current_scenario, desired_rules, 'Nash welfare, abdriged rules, Mallows Sushi, m = 10', truncate_top=30)"
      ]
    },
    {
      "cell_type": "code",
      "execution_count": null,
      "metadata": {
        "id": "1ecO8VZuTWOA"
      },
      "outputs": [],
      "source": [
        "current_scenario = form_file_suffix(10**4, \"Candidates\", 10, \"MallowsSushi\", \"Nash\")\n",
        "desired_rules = [\"Geometric0p5Sincere\",\n",
        "                 \"Geometric0p5Manip\",\n",
        "                 \"GenAntipSincere\",\n",
        "                 \"GenAntipManip\",\n",
        "                 \"NashSincere\",\n",
        "                 \"NashManip\",\n",
        "                 \"BordaSincere\",\n",
        "                 \"BordaManip\",\n",
        "                 \"CopelandSincere\",\n",
        "                 \"CopelandManip\",\n",
        "                 \"5ApprovalSincere\",\n",
        "                 \"5ApprovalManip\",]\n",
        "visualise(current_scenario, desired_rules, 'Nash welfare, interesting rules, Mallows Sushi, m = 10')"
      ]
    },
    {
      "cell_type": "markdown",
      "metadata": {
        "id": "jD0u9Pl7pty2"
      },
      "source": [
        "### Mallows Sushi, Condorcet"
      ]
    },
    {
      "cell_type": "code",
      "execution_count": null,
      "metadata": {
        "id": "Gxf1u0Nmpty4"
      },
      "outputs": [],
      "source": [
        "current_scenario = form_file_suffix(10**4, \"Candidates\", 10, \"MallowsSushi\", \"Condorcet\")\n",
        "desired_rules = [\n",
        "                 \"Geometric0p8Sincere\",\n",
        "                 \"Geometric0p8Manip\",\n",
        "                 \"Geometric0p5Sincere\",\n",
        "                 \"Geometric0p5Manip\",\n",
        "                 \"Geometric0p65Sincere\",\n",
        "                 \"Geometric0p65Manip\",\n",
        "                 \"GenAntipSincere\",\n",
        "                 \"GenAntipManip\",\n",
        "                 \"BordaSincere\",\n",
        "                 \"BordaManip\",\n",
        "                 \"NashSincere\",\n",
        "                 \"NashManip\",]\n",
        "\n",
        "visualise(current_scenario, desired_rules, 'Condorcet welfare, concave rules, Mallows Sushi, m = 10')"
      ]
    },
    {
      "cell_type": "code",
      "execution_count": null,
      "metadata": {
        "id": "7Tp3Fwa6pty4"
      },
      "outputs": [],
      "source": [
        "current_scenario = form_file_suffix(10**4, \"Candidates\", 10, \"MallowsSushi\", \"Condorcet\")\n",
        "desired_rules = [\"Geometric1p2Sincere\",\n",
        "                 \"Geometric1p2Manip\",\n",
        "                 \"PluralitySincere\",\n",
        "                 \"PluralityManip\",\n",
        "                 \"GenPlurSincere\",\n",
        "                 \"GenPlurManip\",\n",
        "                 \"Geometric1p5Sincere\",\n",
        "                 \"Geometric1p5Manip\",\n",
        "                 \"Geometric2Sincere\",\n",
        "                 \"Geometric2Manip\",\n",
        "                 \"BordaSincere\",\n",
        "                 \"BordaManip\",]\n",
        "\n",
        "visualise(current_scenario, desired_rules, 'Condorcet welfare, convex rules, Mallows Sushi, m = 10')"
      ]
    },
    {
      "cell_type": "code",
      "execution_count": null,
      "metadata": {
        "id": "0n1vE2Cnpty5"
      },
      "outputs": [],
      "source": [
        "current_scenario = form_file_suffix(10**4, \"Candidates\", 10, \"MallowsSushi\", \"Condorcet\")\n",
        "desired_rules = [\"5ApprovalSincere\",\n",
        "                 \"5ApprovalManip\",\n",
        "                 \"5BordaSincere\",\n",
        "                 \"5BordaManip\",\n",
        "                 \"BordaSincere\",\n",
        "                 \"BordaManip\",\n",
        "                 \"PluralitySincere\",\n",
        "                 \"PluralityManip\",]\n",
        "visualise(current_scenario, desired_rules, 'Condorcet welfare, abdriged rules, Mallows Sushi, m = 10')"
      ]
    },
    {
      "cell_type": "code",
      "execution_count": null,
      "metadata": {
        "id": "RkJ_-FUspty6"
      },
      "outputs": [],
      "source": [
        "current_scenario = form_file_suffix(10**4, \"Candidates\", 10, \"MallowsSushi\", \"Condorcet\")\n",
        "desired_rules = [\"Geometric0p5Sincere\",\n",
        "                 \"Geometric0p5Manip\",\n",
        "                 \"Geometric1p2Sincere\",\n",
        "                 \"Geometric1p2Manip\",\n",
        "                 \"NashSincere\",\n",
        "                 \"NashManip\",\n",
        "                 \"CopelandSincere\",\n",
        "                 \"CopelandManip\",\n",
        "                 \"SimpsonSincere\",\n",
        "                 \"SimpsonManip\",\n",
        "                 \"BordaSincere\",\n",
        "                 \"BordaManip\",\n",
        "                 \"5ApprovalSincere\",\n",
        "                 \"5ApprovalManip\",]\n",
        "visualise(current_scenario, desired_rules, 'Condorcet welfare, interesting rules, Mallows Sushi, m = 10')"
      ]
    },
    {
      "cell_type": "markdown",
      "metadata": {
        "id": "xXwX0AnujZh4"
      },
      "source": [
        "# Skating"
      ]
    },
    {
      "cell_type": "markdown",
      "metadata": {
        "id": "HU9oE65WjVya"
      },
      "source": [
        "## Fixed m"
      ]
    },
    {
      "cell_type": "markdown",
      "metadata": {
        "id": "tJP8CpjMjVyf"
      },
      "source": [
        "### Skating Borda"
      ]
    },
    {
      "cell_type": "code",
      "execution_count": null,
      "metadata": {
        "id": "Pp3kVSzXjVyf"
      },
      "outputs": [],
      "source": [
        "current_scenario = form_file_suffix(10**4, \"Candidates\", 30, \"Skating\", \"Borda\")\n",
        "desired_rules = [\n",
        "                 \"Geometric0p8Sincere\",\n",
        "                 \"Geometric0p8Manip\",\n",
        "                 \"Geometric0p5Sincere\",\n",
        "                 \"Geometric0p5Manip\",\n",
        "                 \"Geometric0p65Sincere\",\n",
        "                 \"Geometric0p65Manip\",\n",
        "                 \"GenAntipSincere\",\n",
        "                 \"GenAntipManip\",\n",
        "                 \"BordaSincere\",\n",
        "                 \"BordaManip\",\n",
        "                 \"NashSincere\",\n",
        "                 \"NashManip\",]\n",
        "\n",
        "visualise(current_scenario, desired_rules, 'Borda welfare, concave rules, skating')"
      ]
    },
    {
      "cell_type": "code",
      "execution_count": null,
      "metadata": {
        "id": "aEFC5QehjVyg"
      },
      "outputs": [],
      "source": [
        "current_scenario = form_file_suffix(10**4, \"Candidates\", 30, \"Skating\", \"Borda\")\n",
        "desired_rules = [\"Geometric1p2Sincere\",\n",
        "                 \"Geometric1p2Manip\",\n",
        "                 \"PluralitySincere\",\n",
        "                 \"PluralityManip\",\n",
        "                 \"Geometric1p5Sincere\",\n",
        "                 \"Geometric1p5Manip\",\n",
        "                 \"Geometric2Sincere\",\n",
        "                 \"Geometric2Manip\",\n",
        "                 \"GenPlurSincere\",\n",
        "                 \"GenPlurManip\",\n",
        "                 \"BordaSincere\",\n",
        "                 \"BordaManip\",]\n",
        "\n",
        "visualise(current_scenario, desired_rules, 'Borda welfare, convex rules , skating')"
      ]
    },
    {
      "cell_type": "code",
      "execution_count": null,
      "metadata": {
        "id": "_gkhIG4DjVyh"
      },
      "outputs": [],
      "source": [
        "current_scenario = form_file_suffix(10**4, \"Candidates\", 30, \"Skating\", \"Borda\")\n",
        "desired_rules = [\"5ApprovalSincere\",\n",
        "                 \"5ApprovalManip\",\n",
        "                 \"PluralitySincere\",\n",
        "                 \"PluralityManip\",\n",
        "                 \"AntipSincere\",\n",
        "                 \"AntipManip\",\n",
        "                 \"HalfApprovalSincere\",\n",
        "                 \"QuarterApprovalSincere\",\n",
        "                 \"HalfApprovalManip\",\n",
        "                 \"QuarterApprovalManip\",\n",
        "                 ]\n",
        "visualise(current_scenario, desired_rules, 'Borda welfare, approval family, skating')"
      ]
    },
    {
      "cell_type": "code",
      "execution_count": null,
      "metadata": {
        "id": "0dW5auw8jVyi"
      },
      "outputs": [],
      "source": [
        "current_scenario = form_file_suffix(10**4, \"Candidates\", 30, \"Skating\", \"Borda\")\n",
        "desired_rules = [\"5BordaSincere\",\n",
        "                 \"5BordaManip\",\n",
        "                 \"BordaSincere\",\n",
        "                 \"BordaManip\",\n",
        "                 \"PluralitySincere\",\n",
        "                 \"PluralityManip\",\n",
        "                 \"HalfBordaSincere\",\n",
        "                 \"HalfBordaManip\",\n",
        "                 \"QuarterBordaSincere\",\n",
        "                 \"QuarterBordaManip\",\n",
        "                 ]\n",
        "visualise(current_scenario, desired_rules, 'Borda welfare, Borda family, skating')"
      ]
    },
    {
      "cell_type": "code",
      "execution_count": null,
      "metadata": {
        "id": "b3GEYcmzjVyj"
      },
      "outputs": [],
      "source": [
        "current_scenario = form_file_suffix(10**4, \"Candidates\", 30, \"Skating\", \"Borda\")\n",
        "desired_rules = [\"Geometric1p2Sincere\",\n",
        "                 \"Geometric1p2Manip\",\n",
        "                 \"PluralitySincere\",\n",
        "                 \"PluralityManip\",\n",
        "                 \"Geometric0p8Sincere\",\n",
        "                 \"Geometric0p8Manip\",\n",
        "                 \"CopelandSincere\",\n",
        "                 \"CopelandManip\",\n",
        "                 \"SimpsonSincere\",\n",
        "                 \"SimpsonManip\",\n",
        "                 \"BordaSincere\",\n",
        "                 \"BordaManip\",]\n",
        "\n",
        "visualise(current_scenario, desired_rules, 'Borda welfare, interesting rules, skating')"
      ]
    },
    {
      "cell_type": "markdown",
      "metadata": {
        "id": "9d_R7WBUjVyl"
      },
      "source": [
        "### Skating Rawls"
      ]
    },
    {
      "cell_type": "code",
      "execution_count": null,
      "metadata": {
        "id": "mtKKyNRmjVym"
      },
      "outputs": [],
      "source": [
        "current_scenario = form_file_suffix(10**4, \"Candidates\", 30, \"Skating\", \"Rawls\")\n",
        "desired_rules = [\n",
        "                 \"Geometric0p8Sincere\",\n",
        "                 \"Geometric0p8Manip\",\n",
        "                 \"Geometric0p5Sincere\",\n",
        "                 \"Geometric0p5Manip\",\n",
        "                 \"Geometric0p65Sincere\",\n",
        "                 \"Geometric0p65Manip\",\n",
        "                 \"GenAntipSincere\",\n",
        "                 \"GenAntipManip\",\n",
        "                 \"BordaSincere\",\n",
        "                 \"BordaManip\",\n",
        "                 \"NashSincere\",\n",
        "                 \"NashManip\",]\n",
        "\n",
        "visualise(current_scenario, desired_rules, 'Rawls utility, concave rules, skating')"
      ]
    },
    {
      "cell_type": "code",
      "execution_count": null,
      "metadata": {
        "id": "SCqArmOyjVyn"
      },
      "outputs": [],
      "source": [
        "current_scenario = form_file_suffix(10**4, \"Candidates\", 30, \"Skating\", \"Rawls\")\n",
        "desired_rules = [\"Geometric1p2Sincere\",\n",
        "                 \"Geometric1p2Manip\",\n",
        "                 \"PluralitySincere\",\n",
        "                 \"PluralityManip\",\n",
        "                 \"Geometric1p5Sincere\",\n",
        "                 \"Geometric1p5Manip\",\n",
        "                 \"Geometric2Sincere\",\n",
        "                 \"Geometric2Manip\",\n",
        "                 \"BordaSincere\",\n",
        "                 \"BordaManip\",]\n",
        "\n",
        "visualise(current_scenario, desired_rules, 'Rawls utility, convex rules, skating')"
      ]
    },
    {
      "cell_type": "code",
      "execution_count": null,
      "metadata": {
        "id": "RDzlJyRhjVyo"
      },
      "outputs": [],
      "source": [
        "current_scenario = form_file_suffix(10**4, \"Candidates\", 30, \"Skating\", \"Rawls\")\n",
        "desired_rules = [\"5ApprovalSincere\",\n",
        "                 \"5ApprovalManip\",\n",
        "                 \"PluralitySincere\",\n",
        "                 \"PluralityManip\",\n",
        "                 \"HalfApprovalSincere\",\n",
        "                 \"HalfApprovalManip\",\n",
        "                 \"QuarterApprovalSincere\",\n",
        "                 \"QuarterApprovalManip\"]\n",
        "visualise(current_scenario, desired_rules, 'Rawls utility, approval family, skating')"
      ]
    },
    {
      "cell_type": "code",
      "execution_count": null,
      "metadata": {
        "id": "aiqc9xBFjVyp"
      },
      "outputs": [],
      "source": [
        "current_scenario = form_file_suffix(10**4, \"Candidates\", 30, \"Skating\", \"Rawls\")\n",
        "desired_rules = [\"5BordaSincere\",\n",
        "                 \"5BordaManip\",\n",
        "                 \"BordaSincere\",\n",
        "                 \"BordaManip\",\n",
        "                 \"PluralitySincere\",\n",
        "                 \"PluralityManip\",\n",
        "                 \"HalfBordaSincere\",\n",
        "                 \"HalfBordaManip\",\n",
        "                 \"QuarterBordaSincere\",\n",
        "                 \"QuarterBordaManip\",\n",
        "                 ]\n",
        "visualise(current_scenario, desired_rules, 'Rawls utility, Borda family, skating')"
      ]
    },
    {
      "cell_type": "code",
      "execution_count": null,
      "metadata": {
        "id": "FUBWxG_wjVyq"
      },
      "outputs": [],
      "source": [
        "current_scenario = form_file_suffix(10**4, \"Candidates\", 30, \"Skating\", \"Rawls\")\n",
        "desired_rules = [\"Geometric1p2Sincere\",\n",
        "                 \"Geometric1p2Manip\",\n",
        "                 \"Geometric0p8Sincere\",\n",
        "                 \"Geometric0p8Manip\",\n",
        "                 \"BordaSincere\",\n",
        "                 \"BordaManip\",\n",
        "                 \"PluralitySincere\",\n",
        "                 \"PluralityManip\",]\n",
        "visualise(current_scenario, desired_rules, 'Rawls utility, interesting rules, skating')"
      ]
    },
    {
      "cell_type": "markdown",
      "metadata": {
        "id": "c7NYktbwjVyq"
      },
      "source": [
        "### Skating Nash"
      ]
    },
    {
      "cell_type": "code",
      "execution_count": null,
      "metadata": {
        "id": "w6XeiBcsjVyr"
      },
      "outputs": [],
      "source": [
        "current_scenario = form_file_suffix(10**4, \"Candidates\", 30, \"Skating\", \"Nash\")\n",
        "desired_rules = [\n",
        "                 \"Geometric0p8Sincere\",\n",
        "                 \"Geometric0p8Manip\",\n",
        "                 \"Geometric0p5Sincere\",\n",
        "                 \"Geometric0p5Manip\",\n",
        "                 \"Geometric0p65Sincere\",\n",
        "                 \"Geometric0p65Manip\",\n",
        "                 \"BordaSincere\",\n",
        "                 \"BordaManip\",\n",
        "                 \"NashSincere\",\n",
        "                 \"NashManip\",]\n",
        "\n",
        "visualise(current_scenario, desired_rules, 'Nash welfare, concave rules, skating')"
      ]
    },
    {
      "cell_type": "code",
      "execution_count": null,
      "metadata": {
        "id": "yrV703HZjVys"
      },
      "outputs": [],
      "source": [
        "current_scenario = form_file_suffix(10**4, \"Candidates\", 30, \"Skating\", \"Nash\")\n",
        "desired_rules = [\"Geometric1p2Sincere\",\n",
        "                 \"Geometric1p2Manip\",\n",
        "                 \"PluralitySincere\",\n",
        "                 \"PluralityManip\",\n",
        "                 \"Geometric1p5Sincere\",\n",
        "                 \"Geometric1p5Manip\",\n",
        "                 \"Geometric2Sincere\",\n",
        "                 \"Geometric2Manip\",\n",
        "                 \"BordaSincere\",\n",
        "                 \"BordaManip\",]\n",
        "\n",
        "visualise(current_scenario, desired_rules, 'Nash welfare, convex rules, skating')"
      ]
    },
    {
      "cell_type": "code",
      "execution_count": null,
      "metadata": {
        "id": "2bSm56FHjVyt"
      },
      "outputs": [],
      "source": [
        "current_scenario = form_file_suffix(10**4, \"Candidates\", 30, \"Skating\", \"Nash\")\n",
        "desired_rules = [\"5ApprovalSincere\",\n",
        "                 \"5ApprovalManip\",\n",
        "                 \"PluralitySincere\",\n",
        "                 \"PluralityManip\",\n",
        "                 \"HalfApprovalSincere\",\n",
        "                 \"HalfApprovalManip\",\n",
        "                 \"QuarterApprovalSincere\",\n",
        "                 \"QuarterApprovalManip\"]\n",
        "visualise(current_scenario, desired_rules, 'Nash welfare, approval family, skating')"
      ]
    },
    {
      "cell_type": "code",
      "execution_count": null,
      "metadata": {
        "id": "NSyQZsSbjVyu"
      },
      "outputs": [],
      "source": [
        "current_scenario = form_file_suffix(10**4, \"Candidates\", 30, \"Skating\", \"Nash\")\n",
        "desired_rules = [\"5BordaSincere\",\n",
        "                 \"5BordaManip\",\n",
        "                 \"BordaSincere\",\n",
        "                 \"BordaManip\",\n",
        "                 \"PluralitySincere\",\n",
        "                 \"PluralityManip\",\n",
        "                 \"HalfBordaSincere\",\n",
        "                 \"HalfBordaManip\",\n",
        "                 \"QuarterBordaSincere\",\n",
        "                 \"QuarterBordaManip\",\n",
        "                 ]\n",
        "visualise(current_scenario, desired_rules, 'Nash welfare, Borda family, skating')"
      ]
    },
    {
      "cell_type": "code",
      "execution_count": null,
      "metadata": {
        "id": "tiI2x-uMjVyu"
      },
      "outputs": [],
      "source": [
        "current_scenario = form_file_suffix(10**4, \"Candidates\", 30, \"Skating\", \"Nash\")\n",
        "desired_rules = [\"Geometric0p8Sincere\",\n",
        "                 \"Geometric0p8Manip\",\n",
        "                 \"Geometric1p2Sincere\",\n",
        "                 \"Geometric1p2Manip\",\n",
        "                 \"BordaSincere\",\n",
        "                 \"BordaManip\",\n",
        "                 \"PluralitySincere\",\n",
        "                 \"PluralityManip\",]\n",
        "visualise(current_scenario, desired_rules, 'Nash welfare, interesting rules, skating')"
      ]
    },
    {
      "cell_type": "markdown",
      "metadata": {
        "id": "3Sby0XDSF7mS"
      },
      "source": [
        "### Skating Condorcet"
      ]
    },
    {
      "cell_type": "code",
      "execution_count": null,
      "metadata": {
        "id": "LEDLdMfiF7mT"
      },
      "outputs": [],
      "source": [
        "current_scenario = form_file_suffix(10**4, \"Candidates\", 30, \"Skating\", \"Condorcet\")\n",
        "desired_rules = [\n",
        "                 \"Geometric0p8Sincere\",\n",
        "                 \"Geometric0p8Manip\",\n",
        "                 \"Geometric0p5Sincere\",\n",
        "                 \"Geometric0p5Manip\",\n",
        "                 \"Geometric0p65Sincere\",\n",
        "                 \"Geometric0p65Manip\",\n",
        "                 \"BordaSincere\",\n",
        "                 \"BordaManip\",\n",
        "                 \"GenAntipSincere\",\n",
        "                 \"GenAntipManip\",\n",
        "                 \"NashSincere\",\n",
        "                 \"NashManip\",]\n",
        "\n",
        "visualise(current_scenario, desired_rules, 'Condorcet welfare, concave rules, skating')"
      ]
    },
    {
      "cell_type": "code",
      "execution_count": null,
      "metadata": {
        "id": "qkh0a3KBF7mT"
      },
      "outputs": [],
      "source": [
        "current_scenario = form_file_suffix(10**4, \"Candidates\", 30, \"Skating\", \"Condorcet\")\n",
        "desired_rules = [\"Geometric1p2Sincere\",\n",
        "                 \"Geometric1p2Manip\",\n",
        "                 \"PluralitySincere\",\n",
        "                 \"PluralityManip\",\n",
        "                 \"Geometric1p5Sincere\",\n",
        "                 \"Geometric1p5Manip\",\n",
        "                 \"Geometric2Sincere\",\n",
        "                 \"Geometric2Manip\",\n",
        "                 \"BordaSincere\",\n",
        "                 \"BordaManip\",]\n",
        "\n",
        "visualise(current_scenario, desired_rules, 'Condorcet welfare, convex rules, skating')"
      ]
    },
    {
      "cell_type": "code",
      "execution_count": null,
      "metadata": {
        "id": "Uc2zWSPQF7mU"
      },
      "outputs": [],
      "source": [
        "current_scenario = form_file_suffix(10**4, \"Candidates\", 30, \"Skating\", \"Condorcet\")\n",
        "desired_rules = [\"5ApprovalSincere\",\n",
        "                 \"5ApprovalManip\",\n",
        "                 \"PluralitySincere\",\n",
        "                 \"PluralityManip\",\n",
        "                 \"HalfApprovalSincere\",\n",
        "                 \"HalfApprovalManip\",\n",
        "                 \"QuarterApprovalSincere\",\n",
        "                 \"QuarterApprovalManip\"]\n",
        "visualise(current_scenario, desired_rules, 'Condorcet welfare, approval family, skating')"
      ]
    },
    {
      "cell_type": "code",
      "execution_count": null,
      "metadata": {
        "id": "AOiS-8GSF7mV"
      },
      "outputs": [],
      "source": [
        "current_scenario = form_file_suffix(10**4, \"Candidates\", 30, \"Skating\", \"Condorcet\")\n",
        "desired_rules = [\"5BordaSincere\",\n",
        "                 \"5BordaManip\",\n",
        "                 \"BordaSincere\",\n",
        "                 \"BordaManip\",\n",
        "                 \"PluralitySincere\",\n",
        "                 \"PluralityManip\",\n",
        "                 \"HalfBordaSincere\",\n",
        "                 \"HalfBordaManip\",\n",
        "                 \"QuarterBordaSincere\",\n",
        "                 \"QuarterBordaManip\",\n",
        "                 ]\n",
        "visualise(current_scenario, desired_rules, 'Condorcet welfare, Borda family, skating')"
      ]
    },
    {
      "cell_type": "code",
      "execution_count": null,
      "metadata": {
        "id": "zMXjhcuZF7mV"
      },
      "outputs": [],
      "source": [
        "current_scenario = form_file_suffix(10**4, \"Candidates\", 30, \"Skating\", \"Condorcet\")\n",
        "desired_rules = [\"Geometric0p8Sincere\",\n",
        "                 \"Geometric0p8Manip\",\n",
        "                 \"Geometric1p2Sincere\",\n",
        "                 \"Geometric1p2Manip\",\n",
        "                 \"BordaSincere\",\n",
        "                 \"BordaManip\",\n",
        "                 \"CopelandSincere\",\n",
        "                 \"CopelandManip\",\n",
        "                 \"SimpsonSincere\",\n",
        "                 \"SimpsonManip\",\n",
        "                 \"PluralitySincere\",\n",
        "                 \"PluralityManip\",]\n",
        "visualise(current_scenario, desired_rules, 'Condorcet utility, interesting rules, skating')"
      ]
    }
  ],
  "metadata": {
    "colab": {
      "collapsed_sections": [
        "9yoKGNZp96ow",
        "d8p_qkug8dG9",
        "u31zujkJFVO3",
        "N1hUNc27nWbD",
        "dRzlQVCknF2V",
        "X3pw_mB4nLUV",
        "uSvNJBp6FiMN",
        "DS5V7eqrIUDL",
        "_RfQUy5LIffe",
        "y6BB2a7eIffe",
        "usgKYkdj5To7",
        "LMaTexHVJ_a8",
        "VpjgiSXN77p-",
        "mnCgZvIC9FHu",
        "uAsLP9Tw99PN",
        "ZA_heqmEKDuO",
        "9quxwE8oKDuR",
        "alPxwniCKDuT",
        "MdduPh73LpzR",
        "1zF2qdkhA61h",
        "9Sado7zGA61j",
        "YeeZLF1AA61k",
        "7Ux9JcnKLu-C",
        "nMPthbufNv62",
        "LIfKNBu8L18F",
        "vQPslHoQL18H",
        "RyLx9_rbL18I",
        "j7FzLcftN1Db",
        "4BUsuVAbOu7y",
        "QqDer30QQoTl",
        "geSm0X4qQoTm",
        "oqqv6DwuQoTn",
        "zaeMlodZTi2P",
        "KCZhm166Ti2X",
        "hS_0-o-cTi2Y",
        "HdmK9W1MTi2Z",
        "KwJnOI_bRvPi"
      ],
      "provenance": [],
      "authorship_tag": "ABX9TyPJ/JsruRI3znk919pvSHiG"
    },
    "kernelspec": {
      "display_name": "Python 3",
      "name": "python3"
    },
    "language_info": {
      "name": "python"
    }
  },
  "nbformat": 4,
  "nbformat_minor": 0
}